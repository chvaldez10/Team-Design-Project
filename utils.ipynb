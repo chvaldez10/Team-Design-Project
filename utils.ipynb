{
 "cells": [
  {
   "cell_type": "markdown",
   "metadata": {},
   "source": [
    "# Video Processing for BT Lab\n",
    "Functions to automate manual tasks such as:\n",
    "- copying deleting\n",
    "- turning frames to videos\n",
    "<br>\n",
    "<br>\n",
    "![UofC logo](./pictures/uofc_logo-black.jpg)"
   ]
  },
  {
   "cell_type": "code",
   "execution_count": 1,
   "metadata": {},
   "outputs": [],
   "source": [
    "#import libraries\n",
    "import os\n",
    "import cv2\n",
    "import time\n",
    "import platform\n",
    "import shutil\n",
    "import json\n",
    "import datetime\n",
    "import numpy as np"
   ]
  },
  {
   "cell_type": "code",
   "execution_count": null,
   "metadata": {},
   "outputs": [],
   "source": [
    "def create_video_from_png(png_folder, output_video_path, fps=30):\n",
    "    png_files = [f for f in os.listdir(png_folder) if f.endswith('.png')]\n",
    "    \n",
    "    if not png_files:\n",
    "        print(f\"No PNG files found in the folder '{png_folder}'.\")\n",
    "        return\n",
    "\n",
    "    png_files.sort()\n",
    "\n",
    "    first_image = cv2.imread(os.path.join(png_folder, png_files[0]))\n",
    "    height, width, _ = first_image.shape\n",
    "\n",
    "    fourcc = cv2.VideoWriter_fourcc(*'mp4v')  \n",
    "    out = cv2.VideoWriter(output_video_path, fourcc, fps, (width, height))\n",
    "\n",
    "    for png_file in png_files:\n",
    "        img_path = os.path.join(png_folder, png_file)\n",
    "        img = cv2.imread(img_path)\n",
    "        out.write(img)\n",
    "\n",
    "    out.release()\n",
    "    cv2.destroyAllWindows()\n",
    "    \n",
    "    print(f\"Video successfully created at '{output_video_path}'.\")"
   ]
  },
  {
   "cell_type": "code",
   "execution_count": null,
   "metadata": {},
   "outputs": [],
   "source": [
    "def move_png(log_file):\n",
    "    with open(log_file, \"r\") as log_data:\n",
    "        video_files = log_data.read().split(\"\\n\")\n",
    "\n",
    "    for video in video_files:\n",
    "        str_list = video.split(\"/\")\n",
    "        folder_name = \"/\".join(str_list[0:-1])\n",
    "        video_filename = str_list[-1]\n",
    "        output_folder = folder_name + \"/\" + \"frames\"\n",
    "\n",
    "        if(video_filename.endswith(\"png\")):\n",
    "            print(f\"moving {video_filename} to {output_folder]}\")\n",
    "\n",
    "            if (not os.path.exists(output_folder)):\n",
    "                os.makedirs(output_folder)\n",
    "\n",
    "            try:\n",
    "                shutil.move(video, output_folder)\n",
    "            except Exception as e:\n",
    "                print(f\"{e}\")\n",
    "            "
   ]
  },
  {
   "cell_type": "code",
   "execution_count": null,
   "metadata": {},
   "outputs": [],
   "source": [
    "log_file = r\"C:\\Users\\chris\\Documents\\Projects Outside of School\\repo\\Video-Processing\\records\\logs\\filename.txt\"\n",
    "move_png(log_file)"
   ]
  },
  {
   "cell_type": "code",
   "execution_count": null,
   "metadata": {},
   "outputs": [],
   "source": [
    "def video_to_frames(video_path, output_folder):\n",
    "    cap = cv2.VideoCapture(video_path)\n",
    "    if not cap.isOpened():\n",
    "        print(\"Error opening video file\")\n",
    "        return\n",
    "\n",
    "    fps = int(cap.get(cv2.CAP_PROP_FPS))\n",
    "    total_frames = int(cap.get(cv2.CAP_PROP_FRAME_COUNT))\n",
    "\n",
    "    os.makedirs(output_folder, exist_ok=True)\n",
    "\n",
    "    frame_number = 0\n",
    "    while True:\n",
    "        ret, frame = cap.read()\n",
    "        if not ret:\n",
    "            break\n",
    "\n",
    "        frame_filename = os.path.join(output_folder, f\"frame_{frame_number:04d}.png\")\n",
    "        cv2.imwrite(frame_filename, frame)\n",
    "\n",
    "        frame_number += 1\n",
    "        print(f\"Processing frame {frame_number}/{total_frames}\")\n",
    "\n",
    "    cap.release()\n",
    "    cv2.destroyAllWindows()\n",
    "\n",
    "    print(\"Video to frames conversion completed successfully.\")\n"
   ]
  },
  {
   "cell_type": "code",
   "execution_count": null,
   "metadata": {},
   "outputs": [],
   "source": [
    "video_path = \"\"\n",
    "output_folder = \"\"\n",
    "video_to_frames(video_path, output_folder)"
   ]
  },
  {
   "cell_type": "code",
   "execution_count": 6,
   "metadata": {},
   "outputs": [],
   "source": [
    "def create_corrupted_png(file_path):\n",
    "    # Create a random numpy array (this will be treated as an image)\n",
    "    image = np.random.randint(0, 256, size=(100, 100, 3), dtype=np.uint8)\n",
    "    \n",
    "    # Write the numpy array to a PNG file\n",
    "    cv2.imwrite(file_path, image)\n",
    "    \n",
    "    # Now, let's manually corrupt the file by overwriting a part of it\n",
    "    with open(file_path, \"rb+\") as file:\n",
    "        file.seek(10)  # Move to an arbitrary position in the file\n",
    "        file.write(b\"corruption\")  # Write some random data to corrupt the file"
   ]
  },
  {
   "cell_type": "code",
   "execution_count": 7,
   "metadata": {},
   "outputs": [],
   "source": [
    "png_file = r\"D:\\chris\\Documents\\Personal\\Personal Projects\\Video-Processing\\frame_0.png\"\n",
    "create_corrupted_png(png_file)"
   ]
  }
 ],
 "metadata": {
  "kernelspec": {
   "display_name": "Python 3.11.4 64-bit",
   "language": "python",
   "name": "python3"
  },
  "language_info": {
   "codemirror_mode": {
    "name": "ipython",
    "version": 3
   },
   "file_extension": ".py",
   "mimetype": "text/x-python",
   "name": "python",
   "nbconvert_exporter": "python",
   "pygments_lexer": "ipython3",
   "version": "3.11.4"
  },
  "orig_nbformat": 4,
  "vscode": {
   "interpreter": {
    "hash": "e7228a7137a92e95012bf2be7e7bd4e027e828c700167ca5a0671652a2d91aff"
   }
  }
 },
 "nbformat": 4,
 "nbformat_minor": 2
}
