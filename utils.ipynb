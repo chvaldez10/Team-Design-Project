{
 "cells": [
  {
   "cell_type": "markdown",
   "metadata": {},
   "source": [
    "# Video Processing for BT Lab\n",
    "Functions to automate manual tasks suchs as:\n",
    "- copying deleting\n",
    "- turning frames to videos\n",
    "<br>\n",
    "<br>\n",
    "![UofC logo](./pictures/uofc_logo-black.jpg)"
   ]
  },
  {
   "cell_type": "code",
   "execution_count": 2,
   "metadata": {},
   "outputs": [],
   "source": [
    "#import libraries\n",
    "import os\n",
    "import cv2\n",
    "import time\n",
    "import platform\n",
    "import shutil"
   ]
  },
  {
   "cell_type": "code",
   "execution_count": 2,
   "metadata": {},
   "outputs": [],
   "source": [
    "def create_video_from_png(png_folder, output_video_path, fps=30):\n",
    "    png_files = [f for f in os.listdir(png_folder) if f.endswith('.png')]\n",
    "    \n",
    "    if not png_files:\n",
    "        print(f\"No PNG files found in the folder '{png_folder}'.\")\n",
    "        return\n",
    "\n",
    "    png_files.sort()\n",
    "\n",
    "    first_image = cv2.imread(os.path.join(png_folder, png_files[0]))\n",
    "    height, width, _ = first_image.shape\n",
    "\n",
    "    fourcc = cv2.VideoWriter_fourcc(*'mp4v')  \n",
    "    out = cv2.VideoWriter(output_video_path, fourcc, fps, (width, height))\n",
    "\n",
    "    for png_file in png_files:\n",
    "        img_path = os.path.join(png_folder, png_file)\n",
    "        img = cv2.imread(img_path)\n",
    "        out.write(img)\n",
    "\n",
    "    out.release()\n",
    "    cv2.destroyAllWindows()\n",
    "    \n",
    "    print(f\"Video successfully created at '{output_video_path}'.\")"
   ]
  },
  {
   "cell_type": "code",
   "execution_count": 4,
   "metadata": {},
   "outputs": [],
   "source": [
    "def get_creation_time(file_path):\n",
    "    if platform.system() == 'Windows':\n",
    "        file_time = os.path.getctime(file_path) # windows\n",
    "    else:\n",
    "        # For other platforms like macOS or Linux, use the stat function\n",
    "        stat = os.stat(file_path) #macOs and linux\n",
    "        file_time = stat.st_ctime\n",
    "\n",
    "    return time.strftime('%Y-%m-%d %H:%M:%S', time.localtime(file_time))"
   ]
  },
  {
   "cell_type": "code",
   "execution_count": null,
   "metadata": {},
   "outputs": [],
   "source": [
    "file_path = r\"E:\\DI_centre_structured\\DI_THERMAL_FLIR\\15\\15_2\\15_2nd_2meters\\15_2nd_hold_blanket_2meters\\15_frames\\2nd_try-12232022094224-0.png\"\n",
    "\n",
    "try:\n",
    "    creation_time = get_creation_time(file_path)\n",
    "    print(f\"File creation time: {creation_time}\")\n",
    "except FileNotFoundError:\n",
    "    print(\"File not found.\")\n",
    "except Exception as e:\n",
    "    print(f\"An error occurred: {e}\")"
   ]
  },
  {
   "cell_type": "code",
   "execution_count": null,
   "metadata": {},
   "outputs": [],
   "source": [
    "def move_png(log_file):\n",
    "    with open(log_file, \"r\") as log_data:\n",
    "        video_files = log_data.read().split(\"\\n\")\n",
    "\n",
    "    for video in video_files:\n",
    "        str_list = video.split(\"/\")\n",
    "        folder_name = \"/\".join(str_list[0:-1])\n",
    "        video_filename = str_list[-1]\n",
    "        output_folder = folder_name + \"/\" + \"frames\"\n",
    "\n",
    "        if(video_filename.endswith(\"png\")):\n",
    "            print(f\"moving {video_filename} to {output_folder]}\")\n",
    "\n",
    "            if (not os.path.exists(output_folder)):\n",
    "                os.makedirs(output_folder)\n",
    "\n",
    "            try:\n",
    "                shutil.move(video, output_folder)\n",
    "            except Exception as e:\n",
    "                print(f\"{e}\")\n",
    "            "
   ]
  },
  {
   "cell_type": "code",
   "execution_count": null,
   "metadata": {},
   "outputs": [],
   "source": [
    "log_file = r\"C:\\Users\\chris\\Documents\\Projects Outside of School\\repo\\Video-Processing\\records\\logs\\filename.txt\"\n",
    "move_png(log_file)"
   ]
  },
  {
   "cell_type": "code",
   "execution_count": null,
   "metadata": {},
   "outputs": [],
   "source": [
    "def video_to_frames(video_path, output_folder):\n",
    "    cap = cv2.VideoCapture(video_path)\n",
    "    if not cap.isOpened():\n",
    "        print(\"Error opening video file\")\n",
    "        return\n",
    "\n",
    "    fps = int(cap.get(cv2.CAP_PROP_FPS))\n",
    "    total_frames = int(cap.get(cv2.CAP_PROP_FRAME_COUNT))\n",
    "\n",
    "    os.makedirs(output_folder, exist_ok=True)\n",
    "\n",
    "    frame_number = 0\n",
    "    while True:\n",
    "        ret, frame = cap.read()\n",
    "        if not ret:\n",
    "            break\n",
    "\n",
    "        frame_filename = os.path.join(output_folder, f\"frame_{frame_number:04d}.png\")\n",
    "        cv2.imwrite(frame_filename, frame)\n",
    "\n",
    "        frame_number += 1\n",
    "        print(f\"Processing frame {frame_number}/{total_frames}\")\n",
    "\n",
    "    cap.release()\n",
    "    cv2.destroyAllWindows()\n",
    "\n",
    "    print(\"Video to frames conversion completed successfully.\")\n"
   ]
  },
  {
   "cell_type": "code",
   "execution_count": null,
   "metadata": {},
   "outputs": [],
   "source": [
    "video_path = \"\"\n",
    "output_folder = \"\"\n",
    "video_to_frames(video_path, output_folder)"
   ]
  }
 ],
 "metadata": {
  "kernelspec": {
   "display_name": "Python 3",
   "language": "python",
   "name": "python3"
  },
  "language_info": {
   "codemirror_mode": {
    "name": "ipython",
    "version": 3
   },
   "file_extension": ".py",
   "mimetype": "text/x-python",
   "name": "python",
   "nbconvert_exporter": "python",
   "pygments_lexer": "ipython3",
   "version": "3.11.4"
  },
  "orig_nbformat": 4
 },
 "nbformat": 4,
 "nbformat_minor": 2
}
