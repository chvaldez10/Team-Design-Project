{
 "cells": [
  {
   "attachments": {},
   "cell_type": "markdown",
   "metadata": {},
   "source": [
    "# Video Processing for BT Lab\n",
    "![UofC logo](./pictures/uofc_logo-black.jpg)"
   ]
  },
  {
   "cell_type": "code",
   "execution_count": 1,
   "metadata": {},
   "outputs": [],
   "source": [
    "#import libraries\n",
    "import os\n",
    "import cv2\n",
    "import json\n",
    "import re"
   ]
  },
  {
   "cell_type": "code",
   "execution_count": 2,
   "metadata": {},
   "outputs": [],
   "source": [
    "# local variables\n",
    "\n",
    "p3225_file_path = {\n",
    "    \"video folder\" : \"DI_CAMERA_P3225\",\n",
    "    \"1st level\" : [\"Final\"],\n",
    "    \"2nd level\" : \"Patient Name\",\n",
    "    \"3rd level\" : [2, 3],\n",
    "    \"4th level\" : { \"B\": \"With Blankets\",\n",
    "                        \"WOB\": \"Without Blankets\"}, \n",
    "    \"5th level\" : {\"H\" : \"Hold Breath\",\n",
    "                    \"R\": \"Relaxed\"} \n",
    "}\n",
    "\n",
    "fur_file_path = {\n",
    "    \"video folder\" : \"DI_THERMAL_FLIR\",\n",
    "    \"1st level\" : [\"\"],\n",
    "    \"2nd level\" : \"Patient Number\",\n",
    "    \"3rd level\" : [2, 3],\n",
    "    \"4th level\" : { \"H\": \"Hold Breath\",\n",
    "                        \"R\": \"Relaxed\"}, \n",
    "    \"5th level\" : { \"B\": \"With Blankets\",\n",
    "                        \"WOB\": \"Without Blankets\"} \n",
    "}\n",
    "\n",
    "root_path = \"E:/Christian/DI_centre_structured\"\n",
    "repo_dir = os.getcwd()"
   ]
  },
  {
   "cell_type": "code",
   "execution_count": 3,
   "metadata": {},
   "outputs": [],
   "source": [
    "def get_video_filenames(patient_path:str, level=0) -> None:\n",
    "    file_paths = []\n",
    "\n",
    "    os.chdir(patient_path)\n",
    "    if level < 4:\n",
    "        for entry in os.scandir(patient_path):\n",
    "            if entry.is_file():\n",
    "                file_paths.append(entry.path)\n",
    "            elif entry.is_dir():\n",
    "                file_paths.extend(get_video_filenames(entry.path, level+1))\n",
    "\n",
    "    return file_paths"
   ]
  },
  {
   "cell_type": "code",
   "execution_count": 4,
   "metadata": {},
   "outputs": [],
   "source": [
    "def get_patient_id(curr_dir:str) -> None:\n",
    "    os.chdir(curr_dir)\n",
    "    # patient_names = [folder_content for folder_content in os.listdir() if not folder_content.endswith(\".mp4\")]\n",
    "    patient_names = [folder_content for folder_content in os.listdir() if os.path.isdir(folder_content)]\n",
    "    return patient_names"
   ]
  },
  {
   "cell_type": "code",
   "execution_count": 5,
   "metadata": {},
   "outputs": [],
   "source": [
    "def filter_filenames(video_filenames:list[str], keyword:str) -> list[str]:\n",
    "    filtered_filenames = []\n",
    "    for filename in video_filenames:\n",
    "        if not re.search(r\"\\b{}\\b\".format(keyword), filename, flags=re.IGNORECASE):\n",
    "            filtered_filenames.append(filename)\n",
    "    return filtered_filenames"
   ]
  },
  {
   "cell_type": "code",
   "execution_count": 6,
   "metadata": {},
   "outputs": [],
   "source": [
    "def save_filenames(root_dir:str, save_dir:str, video_name:str, keywords:list[str], patient_list:list[str]) -> None:\n",
    "    log_file = f\"{save_dir}/{video_name}.log\"\n",
    "    log_file = log_file.replace(\"\\\\\", \"/\")\n",
    "\n",
    "    if os.path.exists(log_file):\n",
    "        os.remove(log_file)\n",
    "\n",
    "    for patient_count, patient_name in enumerate(patient_list):\n",
    "        patient_folder = root_dir + \"/\" + patient_name\n",
    "        all_patient_mp4_files = get_video_filenames(patient_folder)\n",
    "        filtered_filenames = all_patient_mp4_files\n",
    "\n",
    "        for word in keywords:\n",
    "            filtered_filenames = filter_filenames(filtered_filenames, word)\n",
    "\n",
    "        with open(log_file, \"a\") as mp4_data:\n",
    "            for mp4_file in filtered_filenames:\n",
    "                mp4_data.write(f\"{mp4_file}\\n\")\n",
    "\n",
    "        # if patient_count == 1:\n",
    "        #     break"
   ]
  },
  {
   "attachments": {},
   "cell_type": "markdown",
   "metadata": {},
   "source": [
    "## Retrieve all filenames (stage 1.1)\n",
    "\n",
    "Filter out unwanted filenames and save them in log files"
   ]
  },
  {
   "cell_type": "code",
   "execution_count": 7,
   "metadata": {},
   "outputs": [
    {
     "data": {
      "text/plain": [
       "['Arun',\n",
       " 'Daniel',\n",
       " 'Eddy',\n",
       " 'Farooq',\n",
       " 'Frank',\n",
       " 'Frank2',\n",
       " 'Illia',\n",
       " 'Illia - 2',\n",
       " 'Jay',\n",
       " 'John Brunton',\n",
       " 'John McNeil',\n",
       " 'Joseph',\n",
       " 'Karlii',\n",
       " 'Kate',\n",
       " 'Krystyn',\n",
       " 'Melissa',\n",
       " 'Nick',\n",
       " 'Rachael B',\n",
       " 'Riyan',\n",
       " 'Sara']"
      ]
     },
     "execution_count": 7,
     "metadata": {},
     "output_type": "execute_result"
    }
   ],
   "source": [
    "\"\"\" \n",
    "    get filenames for rgb camera\n",
    "\"\"\"\n",
    "\n",
    "video_folder = p3225_file_path[\"video folder\"]\n",
    "all_videos_folder = root_path + \"/\" + video_folder + \"/\" + p3225_file_path[\"1st level\"][0]\n",
    "patient_names = get_patient_id(all_videos_folder)\n",
    "patient_names"
   ]
  },
  {
   "cell_type": "code",
   "execution_count": 8,
   "metadata": {},
   "outputs": [],
   "source": [
    "records_folder = repo_dir + \"/record\"\n",
    "keywords = [\"media_media.amp-.mp4\"]\n",
    "save_filenames(all_videos_folder, records_folder, video_folder, keywords, patient_names)"
   ]
  },
  {
   "cell_type": "code",
   "execution_count": 11,
   "metadata": {},
   "outputs": [
    {
     "data": {
      "text/plain": [
       "['1',\n",
       " '10',\n",
       " '11',\n",
       " '12',\n",
       " '13',\n",
       " '14',\n",
       " '15',\n",
       " '16',\n",
       " '17',\n",
       " '18',\n",
       " '2',\n",
       " '3',\n",
       " '4',\n",
       " '5',\n",
       " '6',\n",
       " '7',\n",
       " '8',\n",
       " '9']"
      ]
     },
     "execution_count": 11,
     "metadata": {},
     "output_type": "execute_result"
    }
   ],
   "source": [
    "\"\"\" \n",
    "    get filenames for thermal camera\n",
    "\"\"\"\n",
    "\n",
    "video_folder = fur_file_path[\"video folder\"]\n",
    "all_videos_folder = root_path + \"/\" + video_folder + \"/\" + fur_file_path[\"1st level\"][0]\n",
    "patient_names = get_patient_id(all_videos_folder)\n",
    "patient_names"
   ]
  },
  {
   "cell_type": "code",
   "execution_count": 12,
   "metadata": {},
   "outputs": [],
   "source": [
    "records_folder = repo_dir + \"/record\"\n",
    "keywords = [\".Bmp\", \".png\"]\n",
    "save_filenames(all_videos_folder, records_folder, video_folder, keywords, patient_names)"
   ]
  },
  {
   "attachments": {},
   "cell_type": "markdown",
   "metadata": {},
   "source": [
    "## Extract information from the exported log files and create containers for the metadata (stage 1.2)"
   ]
  },
  {
   "cell_type": "code",
   "execution_count": 39,
   "metadata": {},
   "outputs": [],
   "source": [
    "def extract_info_from_filepath(filepaths:list[str]) -> list[dict]:\n",
    "    all_videos = []\n",
    "    file_info_from_path = {\n",
    "        0 : \"patient id\",\n",
    "        1 : \"distance\",\n",
    "        2 : \"blanket\",\n",
    "        3 : \"breathing\",\n",
    "        4 : \"filename\"\n",
    "    }\n",
    "    metadata_info = {\n",
    "        5 : \"frames\",\n",
    "        6 : \"video length\",\n",
    "        7 : \"old fps\"\n",
    "    }\n",
    "\n",
    "    splice_stop = 5\n",
    "\n",
    "    for filepath in filepaths:\n",
    "        filepath_no_backslash = filepath.replace(\"\\\\\", \"/\")\n",
    "        filepath_to_list = filepath_no_backslash.split(\"/\")\n",
    "        filepath_to_list = filepath_to_list[-splice_stop:]\n",
    "        patient_info = {tag:filepath_to_list[key] for key, tag in file_info_from_path.items() if key<splice_stop}\n",
    "        patient_info = {**patient_info, **metadata_info}\n",
    "        all_videos.append(patient_info)\n",
    "\n",
    "    return all_videos"
   ]
  },
  {
   "cell_type": "code",
   "execution_count": 21,
   "metadata": {},
   "outputs": [],
   "source": [
    "\"\"\"\n",
    "    Read log files\n",
    "\"\"\"\n",
    "\n",
    "os.chdir(records_folder)\n",
    "log_files = [dir_file for dir_file in os.listdir() if dir_file.endswith(\".log\")]\n",
    "video_files = []\n",
    "\n",
    "for log_file in log_files:\n",
    "    try:\n",
    "        with open(log_file, \"r\") as log_file_data:\n",
    "            log_read = log_file_data.read().split(\"\\n\")\n",
    "            video_files.append(log_read)\n",
    "    except FileNotFoundError as e:\n",
    "        print(type(e))"
   ]
  },
  {
   "cell_type": "code",
   "execution_count": 40,
   "metadata": {},
   "outputs": [
    {
     "data": {
      "text/plain": [
       "[{'patient id': 'Arun',\n",
       "  'distance': '2 Meters',\n",
       "  'blanket': 'With Blankets',\n",
       "  'breathing': 'Hold Breath',\n",
       "  'filename': 'Arun2.mp4',\n",
       "  5: 'frames',\n",
       "  6: 'video length',\n",
       "  7: 'old fps'}]"
      ]
     },
     "execution_count": 40,
     "metadata": {},
     "output_type": "execute_result"
    }
   ],
   "source": [
    "\"\"\"\n",
    "    make dictionary out of filenames\n",
    "\"\"\"\n",
    "test_list = [video_files[0][0]]\n",
    "metadata_rgb = extract_info_from_filepath(test_list)\n",
    "metadata_rgb"
   ]
  },
  {
   "cell_type": "code",
   "execution_count": null,
   "metadata": {},
   "outputs": [],
   "source": []
  }
 ],
 "metadata": {
  "kernelspec": {
   "display_name": "Python 3",
   "language": "python",
   "name": "python3"
  },
  "language_info": {
   "codemirror_mode": {
    "name": "ipython",
    "version": 3
   },
   "file_extension": ".py",
   "mimetype": "text/x-python",
   "name": "python",
   "nbconvert_exporter": "python",
   "pygments_lexer": "ipython3",
   "version": "3.10.9"
  },
  "orig_nbformat": 4
 },
 "nbformat": 4,
 "nbformat_minor": 2
}
