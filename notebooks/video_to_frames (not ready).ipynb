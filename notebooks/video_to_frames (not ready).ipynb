{
 "cells": [
  {
   "attachments": {},
   "cell_type": "markdown",
   "metadata": {},
   "source": [
    "# DI Pre Processing\n",
    "This notebook converts a video into frames. \n",
    "<br>\n",
    "<br>\n",
    "![UofC logo](../assets/images/uofc_logo-black.jpg)"
   ]
  },
  {
   "cell_type": "code",
   "execution_count": 73,
   "metadata": {},
   "outputs": [],
   "source": [
    "#import libraries\n",
    "import os\n",
    "from dotenv import load_dotenv"
   ]
  },
  {
   "cell_type": "code",
   "execution_count": 74,
   "metadata": {},
   "outputs": [],
   "source": [
    "# reload for module caching\n",
    "from importlib import reload\n",
    "import src.reader_utilities\n",
    "reload(src.reader_utilities)\n",
    "import src.video_to_frame_utilities.convert_video_to_frames\n",
    "reload(src.video_to_frame_utilities.convert_video_to_frames)\n",
    "import src.video_to_frame_utilities.video_conversion_config\n",
    "reload(src.video_to_frame_utilities.video_conversion_config)\n",
    "import src.video_to_frame_utilities.frame_rate_config\n",
    "reload(src.video_to_frame_utilities.frame_rate_config)\n",
    "\n",
    "# import custom functions\n",
    "from src.reader_utilities import load_json\n",
    "from src.video_to_frame_utilities.convert_video_to_frames import video_to_frames_driver\n",
    "from src.video_to_frame_utilities.video_conversion_config import VideoConversionConfig\n",
    "from src.video_to_frame_utilities.frame_rate_config import FrameRateConfig"
   ]
  },
  {
   "cell_type": "code",
   "execution_count": 75,
   "metadata": {},
   "outputs": [],
   "source": [
    "records_folder = \"../records\" \n",
    "json_dir = \"../records/JSON/all_data\"\n",
    "curr_dir = os.getcwd()"
   ]
  },
  {
   "cell_type": "code",
   "execution_count": 76,
   "metadata": {},
   "outputs": [],
   "source": [
    "# load root directory\n",
    "dotenv_path = os.path.join(curr_dir, \".env\")\n",
    "load_dotenv(dotenv_path)\n",
    "root_path = os.getenv(\"ROOT_FOLDER\")\n",
    "input(f\"Is this the right directory - {root_path}?\")\n",
    "\n",
    "# load user drive\n",
    "user_drive = os.getenv(\"EXPORT_DRIVE\")"
   ]
  },
  {
   "cell_type": "code",
   "execution_count": 77,
   "metadata": {},
   "outputs": [],
   "source": [
    "# for testing\n",
    "FRAME_LIMIT = 100\n",
    "\n",
    "# limit for storage\n",
    "MINIMUM_FREE_SPACE_GB = 75"
   ]
  },
  {
   "cell_type": "code",
   "execution_count": 78,
   "metadata": {},
   "outputs": [],
   "source": [
    "repo_dir = os.getcwd()\n",
    "all_data = \"../records/JSON/all_data\"\n",
    "schema_dir = \"../records/JSON/schema\""
   ]
  },
  {
   "cell_type": "code",
   "execution_count": 79,
   "metadata": {},
   "outputs": [],
   "source": [
    "\"\"\" global vars \"\"\"\n",
    "\n",
    "RGB_FPS = {\n",
    "    \"5_fps\": 5,\n",
    "    \"10_fps\": 10,\n",
    "    \"20_fps\": 20,\n",
    "}\n",
    "\n",
    "THERMAL_FPS = {\n",
    "}"
   ]
  },
  {
   "attachments": {},
   "cell_type": "markdown",
   "metadata": {},
   "source": [
    "## Run functions"
   ]
  },
  {
   "cell_type": "code",
   "execution_count": 80,
   "metadata": {},
   "outputs": [],
   "source": [
    "\"\"\" load JSON files \"\"\"\n",
    "rgb_metadata = load_json(all_data, \"rgb_metadata.json\")\n",
    "client_schema = load_json(schema_dir, \"client_schema.json\")"
   ]
  },
  {
   "cell_type": "code",
   "execution_count": 81,
   "metadata": {},
   "outputs": [],
   "source": [
    "blanket_statuses = [\"Without Blankets\", \"With Blankets\"]\n",
    "distance_measures =  [\"2 Meters\", \"3 Meters\"]"
   ]
  },
  {
   "cell_type": "code",
   "execution_count": 82,
   "metadata": {},
   "outputs": [],
   "source": [
    "new_fps_string = \"5_fps\"\n",
    "frame_rate_config = FrameRateConfig(new_fps_string, RGB_FPS[new_fps_string])\n"
   ]
  },
  {
   "cell_type": "code",
   "execution_count": 83,
   "metadata": {},
   "outputs": [],
   "source": [
    "video_conversion_config = VideoConversionConfig(\n",
    "    rgb_metadata,\n",
    "    client_schema,\n",
    "    blanket_statuses,\n",
    "    distance_measures,\n",
    "    frame_rate_config,\n",
    "    root_path,\n",
    "    user_drive\n",
    ")"
   ]
  },
  {
   "cell_type": "code",
   "execution_count": 84,
   "metadata": {},
   "outputs": [
    {
     "name": "stdout",
     "output_type": "stream",
     "text": [
      "\n",
      "Adjusting FPS to 5\n",
      "==================================================\n",
      "Metadata for Without Blankets, 2 Meters, Hold Breath:\n",
      "  processing 15_5-WOB-2M-HB: {'frames': 1790.0, 'length': 36.113806000000004, 'old fps': 49.56553180797393, 'local path': '/DI_CAMERA_P3225/Final\\\\Arun\\\\2 Meters\\\\Without Blankets\\\\Hold Breath\\\\short.mp4', 'first name': 'Arun', 'filename': 'short.mp4'}\n",
      "  Picking frames [2, 14, 25, 37, 1]\n",
      "  Set counter: 0, save counter: 0, frame counter: 0\n",
      "\n",
      "--------------------------------------------------\n",
      "Metadata for Without Blankets, 2 Meters, Relaxed:\n",
      "  processing 15_6-WOB-2M-REL: {'frames': 3872.0, 'length': 72.04854, 'old fps': 53.74154701816303, 'local path': '/DI_CAMERA_P3225/Final\\\\Arun\\\\2 Meters\\\\Without Blankets\\\\Relaxed\\\\relax 2meter short.mp4', 'first name': 'Arun', 'filename': 'relax 2meter short.mp4'}\n",
      "  Picking frames [2, 15, 27, 40, 1]\n",
      "  Set counter: 0, save counter: 0, frame counter: 0\n",
      "\n",
      "--------------------------------------------------\n",
      "Metadata for With Blankets, 2 Meters, Hold Breath:\n",
      "  processing 15_1-WB-2M-HB: {'frames': 2146.0, 'length': 73.054497, 'old fps': 29.375330583687408, 'local path': '/DI_CAMERA_P3225/Final\\\\Arun\\\\2 Meters\\\\With Blankets\\\\Hold Breath\\\\Arun2.mp4', 'first name': 'Arun', 'filename': 'Arun2.mp4'}\n",
      "  Picking frames [2, 9, 15, 22, 1]\n",
      "  Set counter: 0, save counter: 0, frame counter: 0\n",
      "\n",
      "--------------------------------------------------\n",
      "  processing 15_2-WB-2M-HB: {'frames': 1138.0, 'length': 38.59782, 'old fps': 29.483530417002825, 'local path': '/DI_CAMERA_P3225/Final\\\\Arun\\\\2 Meters\\\\With Blankets\\\\Hold Breath\\\\Arun2_2.mp4', 'first name': 'Arun', 'filename': 'Arun2_2.mp4'}\n",
      "  Picking frames [2, 9, 15, 22, 1]\n",
      "  Set counter: 0, save counter: 0, frame counter: 0\n",
      "\n",
      "--------------------------------------------------\n",
      "Metadata for With Blankets, 2 Meters, Relaxed:\n",
      "  processing 15_3-WB-2M-REL: {'frames': 143.0, 'length': 7.703174999999999, 'old fps': 18.563774028241603, 'local path': '/DI_CAMERA_P3225/Final\\\\Arun\\\\2 Meters\\\\With Blankets\\\\Relaxed\\\\Arun2.mp4', 'first name': 'Arun', 'filename': 'Arun2.mp4'}\n",
      "  Picking frames [2, 6, 10, 14, 1]\n",
      "  Set counter: 0, save counter: 0, frame counter: 0\n",
      "\n",
      "--------------------------------------------------\n",
      "  processing 15_4-WB-2M-REL: {'frames': 1137.0, 'length': 38.190605, 'old fps': 29.77172003428592, 'local path': '/DI_CAMERA_P3225/Final\\\\Arun\\\\2 Meters\\\\With Blankets\\\\Relaxed\\\\Arun2_2.mp4', 'first name': 'Arun', 'filename': 'Arun2_2.mp4'}\n",
      "  Picking frames [2, 9, 15, 22, 1]\n",
      "  Set counter: 0, save counter: 0, frame counter: 0\n",
      "\n",
      "--------------------------------------------------\n"
     ]
    }
   ],
   "source": [
    "\"\"\" standardize frames to 5 FPS \"\"\"\n",
    "new_fps_string = \"5_fps\"\n",
    "new_fps = RGB_FPS[new_fps_string]\n",
    "print(f\"\\nAdjusting FPS to {new_fps}\\n\" + \"=\"*50)\n",
    "visited_folders = video_to_frames_driver(video_conversion_config)"
   ]
  }
 ],
 "metadata": {
  "kernelspec": {
   "display_name": "Python 3.11.4 64-bit",
   "language": "python",
   "name": "python3"
  },
  "language_info": {
   "codemirror_mode": {
    "name": "ipython",
    "version": 3
   },
   "file_extension": ".py",
   "mimetype": "text/x-python",
   "name": "python",
   "nbconvert_exporter": "python",
   "pygments_lexer": "ipython3",
   "version": "3.11.7"
  },
  "orig_nbformat": 4,
  "vscode": {
   "interpreter": {
    "hash": "e7228a7137a92e95012bf2be7e7bd4e027e828c700167ca5a0671652a2d91aff"
   }
  }
 },
 "nbformat": 4,
 "nbformat_minor": 2
}
