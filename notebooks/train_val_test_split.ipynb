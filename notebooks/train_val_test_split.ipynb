{
 "cells": [
  {
   "attachments": {},
   "cell_type": "markdown",
   "metadata": {},
   "source": [
    "# DI Automated Scripts\n",
    "This notebook splits the dataset into train, validation and test split. \n",
    "<br>\n",
    "<br>\n",
    "![UofC logo](../assets/images/uofc_logo-black.jpg)"
   ]
  },
  {
   "cell_type": "code",
   "execution_count": 2,
   "metadata": {},
   "outputs": [],
   "source": [
    "#import libraries\n",
    "import os\n",
    "import pandas as pd\n",
    "from dotenv import load_dotenv\n",
    "import json\n",
    "import shutil"
   ]
  },
  {
   "cell_type": "code",
   "execution_count": 23,
   "metadata": {},
   "outputs": [],
   "source": [
    "records_folder = \"../records\" \n",
    "json_dir = \"../records/JSON/all_data\"\n",
    "curr_dir = os.getcwd()"
   ]
  },
  {
   "cell_type": "code",
   "execution_count": 24,
   "metadata": {},
   "outputs": [
    {
     "data": {
      "text/plain": [
       "''"
      ]
     },
     "execution_count": 24,
     "metadata": {},
     "output_type": "execute_result"
    }
   ],
   "source": [
    "# load root directory\n",
    "dotenv_path = os.path.join(curr_dir, \".env\")\n",
    "load_dotenv(dotenv_path)\n",
    "root_path = os.getenv(\"ROOT_FOLDER\")\n",
    "input(f\"Is this the right directory - {root_path}?\")"
   ]
  },
  {
   "attachments": {},
   "cell_type": "markdown",
   "metadata": {},
   "source": [
    "## Run functions"
   ]
  },
  {
   "cell_type": "code",
   "execution_count": 25,
   "metadata": {},
   "outputs": [],
   "source": [
    "def download_subset(json_file, download_dir):\n",
    "    \"\"\" Download a subset of the DI dataset and split them into\n",
    "    training, validation, and test.\n",
    "\n",
    "    Args:\n",
    "        json_file (str): Path to the JSON file containing metadata.\n",
    "        download_dir (str): Directory to download data to.\n",
    "\n",
    "    Return:\n",
    "        Mapping of the directories containing the subsections of data.\n",
    "    \"\"\"\n",
    "    with open(json_file, \"r\") as file:\n",
    "        metadata = json.load(file)\n",
    "\n",
    "   # Define paths for train, validation, and test folders\n",
    "    train_dir = os.path.join(download_dir, 'Train')\n",
    "    validation_dir = os.path.join(download_dir, 'Validation')\n",
    "    test_dir = os.path.join(download_dir, 'Test')\n",
    "\n",
    "    # Create folders if they don't exist\n",
    "    for folder in [train_dir, validation_dir, test_dir]:\n",
    "        if not os.path.exists(folder):\n",
    "            os.makedirs(folder)\n",
    "\n",
    "    # Define alias IDs for train, validation, and test\n",
    "    train_ID = [15, 5, 9, 11, 14, 6, 13, 18, 17, 16, 3, 1]\n",
    "    val_ID = [7, 4, 12]\n",
    "    test_ID = [8, 2]\n",
    "\n",
    "   \n",
    "    # Iterate through metadata and copy videos to respective folders based on alias ID\n",
    "    for video_data in metadata:\n",
    "        local_path = video_data.get('local path')\n",
    "        alias_id = int(video_data.get('alias'))\n",
    "        destination_folder = None\n",
    "        if alias_id in train_ID:\n",
    "            destination_folder = train_dir\n",
    "        elif alias_id in val_ID:\n",
    "            destination_folder = validation_dir\n",
    "        elif alias_id in test_ID:\n",
    "            destination_folder = test_dir\n",
    "\n",
    "        if destination_folder:\n",
    "            destination_path = os.path.join(destination_folder, os.path.basename(local_path))\n",
    "            shutil.copy(local_path, destination_path)\n",
    "            print(f\"Copied {local_path} to {destination_folder}\")\n",
    "        else:\n",
    "            print(f\"No destination folder found for video with alias {alias_id}\")\n",
    "\n",
    "  \n",
    "\n",
    "download_dir = './records/DI_subset/'\n",
    "subset_paths = download_subset('rgb_complete.json', download_dir=download_dir)\n"
   ]
  }
 ],
 "metadata": {
  "kernelspec": {
   "display_name": "Python 3.11.4 64-bit",
   "language": "python",
   "name": "python3"
  },
  "language_info": {
   "codemirror_mode": {
    "name": "ipython",
    "version": 3
   },
   "file_extension": ".py",
   "mimetype": "text/x-python",
   "name": "python",
   "nbconvert_exporter": "python",
   "pygments_lexer": "ipython3",
   "version": "3.10.9"
  },
  "orig_nbformat": 4,
  "vscode": {
   "interpreter": {
    "hash": "e7228a7137a92e95012bf2be7e7bd4e027e828c700167ca5a0671652a2d91aff"
   }
  }
 },
 "nbformat": 4,
 "nbformat_minor": 2
}
