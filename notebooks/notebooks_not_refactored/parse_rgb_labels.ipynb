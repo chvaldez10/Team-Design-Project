{
 "cells": [
  {
   "cell_type": "markdown",
   "metadata": {},
   "source": [
    "# Video Processing for BT Lab\n",
    "Notebook to parse JSON\n",
    "<br>\n",
    "<br>\n",
    "![UofC logo](./pictures/uofc_logo-black.jpg)"
   ]
  },
  {
   "cell_type": "code",
   "execution_count": 1,
   "metadata": {},
   "outputs": [],
   "source": [
    "# commong libraries\n",
    "import json\n",
    "import os\n",
    "import re"
   ]
  },
  {
   "cell_type": "code",
   "execution_count": 2,
   "metadata": {},
   "outputs": [],
   "source": [
    "# user defined functions\n",
    "from tools.utils import load_json, export_to_json"
   ]
  },
  {
   "cell_type": "code",
   "execution_count": 3,
   "metadata": {},
   "outputs": [],
   "source": [
    "VIDEO_CHARACTERISTICS = {\n",
    "    \"With Blankets\" : \"WB\",\n",
    "    \"B\" : \"WB\",\n",
    "    \"Without Blankets\" : \"WOB\",\n",
    "    \"WOB\": \"WOB\",\n",
    "    \"3 Meters\" : \"3m\",\n",
    "    \"2 Meters\" : \"2m\",\n",
    "    \"Hold Breath\" : \"HB\",\n",
    "    \"Hold Breathe\" : \"HB\",\n",
    "    \"H\" : \"HB\",\n",
    "    \"Relaxed\" : \"rel\",\n",
    "    \"R\": \"rel\",\n",
    "}\n",
    "\n",
    "# for testing\n",
    "FRAME_LIMIT = 100\n",
    "\n",
    "# labels\n",
    "RELAXED_LABEL = 0\n",
    "HOLD_BREATH_LABEL = 1"
   ]
  },
  {
   "cell_type": "code",
   "execution_count": 4,
   "metadata": {},
   "outputs": [],
   "source": [
    "# local dirs\n",
    "repo_dir = os.getcwd()\n",
    "json_dir = repo_dir + \"/records/JSON\"\n",
    "train_test_list_dir = json_dir + \"/training_test_split\"\n",
    "rgb_labels_filename = \"rgb_labels.json\""
   ]
  },
  {
   "cell_type": "markdown",
   "metadata": {},
   "source": [
    "### Run util functions"
   ]
  },
  {
   "cell_type": "code",
   "execution_count": 5,
   "metadata": {},
   "outputs": [],
   "source": [
    "all_labels = load_json(train_test_list_dir, rgb_labels_filename)\n",
    "all_rgb_frames_path = all_labels[\"frames_path\"]\n",
    "all_rgb_labels = all_labels[\"labels_path\"] # 0 for relaxed, 1 for hb"
   ]
  },
  {
   "cell_type": "code",
   "execution_count": 6,
   "metadata": {},
   "outputs": [],
   "source": [
    "all_lower_paths = [folder.replace(\"upper\", \"lower\") for folder in all_rgb_frames_path]\n",
    "all_upper_paths = all_rgb_frames_path"
   ]
  },
  {
   "cell_type": "code",
   "execution_count": 7,
   "metadata": {},
   "outputs": [],
   "source": [
    "lower_path_zip = zip(all_lower_paths, all_rgb_labels)\n",
    "wob_path_list, blanket_path_list = [], []\n",
    "wob_label_list, blanket_label_list = [], []\n",
    "\n",
    "for zipped_path in lower_path_zip:\n",
    "    blanket_regex = r\"/With Blankets/|/B/\"\n",
    "    wob_blanket_regex = r\"/Without Blankets/|/WOB/\"\n",
    "    \n",
    "    temp_path = zipped_path[0]\n",
    "    temp_label = zipped_path[1]\n",
    "\n",
    "    if re.search(wob_blanket_regex, temp_path, re.IGNORECASE):\n",
    "        wob_path_list.append(temp_path)\n",
    "        wob_label_list.append(temp_label)\n",
    "    elif re.search(blanket_regex, temp_path, re.IGNORECASE):\n",
    "        blanket_path_list.append(temp_path)\n",
    "        blanket_label_list.append(temp_label)\n",
    "    else:\n",
    "        print(\"regex not caught\")"
   ]
  },
  {
   "cell_type": "code",
   "execution_count": 8,
   "metadata": {},
   "outputs": [],
   "source": [
    "blanket_save_data = {}\n",
    "blanket_save_data[\"frames_path\"] = blanket_path_list\n",
    "blanket_save_data[\"labels_path\"] = blanket_label_list"
   ]
  },
  {
   "cell_type": "code",
   "execution_count": null,
   "metadata": {},
   "outputs": [],
   "source": []
  },
  {
   "cell_type": "code",
   "execution_count": 9,
   "metadata": {},
   "outputs": [],
   "source": [
    "wob_blanket_save_data = {}\n",
    "wob_blanket_save_data[\"frames_path\"] = wob_path_list\n",
    "wob_blanket_save_data[\"labels_path\"] = wob_label_list"
   ]
  },
  {
   "cell_type": "code",
   "execution_count": 10,
   "metadata": {},
   "outputs": [],
   "source": [
    "save_rgb_filename_lower_blanket = json_dir + \"/training_test_split/rgb_labels_blanket_lower.json\"\n",
    "export_to_json(save_rgb_filename_lower_blanket, blanket_save_data)"
   ]
  },
  {
   "cell_type": "code",
   "execution_count": 11,
   "metadata": {},
   "outputs": [],
   "source": [
    "save_rgb_filename_lower_wob = json_dir + \"/training_test_split/rgb_labels_wob_lower.json\"\n",
    "export_to_json(save_rgb_filename_lower_wob, wob_blanket_save_data)"
   ]
  }
 ],
 "metadata": {
  "kernelspec": {
   "display_name": "Python 3",
   "language": "python",
   "name": "python3"
  },
  "language_info": {
   "codemirror_mode": {
    "name": "ipython",
    "version": 3
   },
   "file_extension": ".py",
   "mimetype": "text/x-python",
   "name": "python",
   "nbconvert_exporter": "python",
   "pygments_lexer": "ipython3",
   "version": "3.11.4"
  }
 },
 "nbformat": 4,
 "nbformat_minor": 2
}
