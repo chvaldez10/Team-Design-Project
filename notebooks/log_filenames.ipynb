{
 "cells": [
  {
   "attachments": {},
   "cell_type": "markdown",
   "metadata": {},
   "source": [
    "## Get all video filenames 📽️\n",
    "\n",
    "1. Make sure you have your secret sauce ready by updating the `.env` file in the root folder 🤫.\n",
    "<br>\n",
    "<br>\n",
    "![UofC logo](../assets/images/uofc_logo-black.jpg)"
   ]
  },
  {
   "cell_type": "code",
   "execution_count": 45,
   "metadata": {},
   "outputs": [],
   "source": [
    "# import libraries\n",
    "import os\n",
    "import re\n",
    "from dotenv import load_dotenv"
   ]
  },
  {
   "cell_type": "code",
   "execution_count": 46,
   "metadata": {},
   "outputs": [],
   "source": [
    "# reload for module caching\n",
    "from importlib import reload\n",
    "import src.log_utilities\n",
    "reload(src.log_utilities)\n",
    "\n",
    "# import custom functions\n",
    "from src.log_utilities import get_patient_id, log_patient_video_files, display_print"
   ]
  },
  {
   "cell_type": "code",
   "execution_count": 47,
   "metadata": {},
   "outputs": [
    {
     "name": "stdout",
     "output_type": "stream",
     "text": [
      "hi\n"
     ]
    }
   ],
   "source": [
    "display_print()"
   ]
  },
  {
   "cell_type": "code",
   "execution_count": 48,
   "metadata": {},
   "outputs": [],
   "source": [
    "# get file directory\n",
    "curr_dir = os.getcwd()"
   ]
  },
  {
   "cell_type": "code",
   "execution_count": 49,
   "metadata": {},
   "outputs": [
    {
     "data": {
      "text/plain": [
       "''"
      ]
     },
     "execution_count": 49,
     "metadata": {},
     "output_type": "execute_result"
    }
   ],
   "source": [
    "# load root directory\n",
    "dotenv_path = os.path.join(curr_dir, \".env\")\n",
    "load_dotenv(dotenv_path)\n",
    "root_path = os.getenv(\"ROOT_FOLDER\")\n",
    "input(f\"Is this the right directory - {root_path}?\")"
   ]
  },
  {
   "cell_type": "code",
   "execution_count": 50,
   "metadata": {},
   "outputs": [],
   "source": [
    "p3225_file_path = {\n",
    "    \"video folder\" : \"DI_CAMERA_P3225\",\n",
    "    \"1st level\" : [\"Final\"],\n",
    "    \"2nd level\" : \"Patient Name\",\n",
    "    \"3rd level\" : [2, 3],\n",
    "    \"4th level\" : { \"B\": \"With Blankets\",\n",
    "                        \"WOB\": \"Without Blankets\"}, \n",
    "    \"5th level\" : {\"H\" : \"Hold Breath\",\n",
    "                    \"R\": \"Relaxed\"} \n",
    "}\n",
    "\n",
    "fur_file_path = {\n",
    "    \"video folder\" : \"DI_THERMAL_FLIR\",\n",
    "    \"1st level\" : [\"\"],\n",
    "    \"2nd level\" : \"Patient Number\",\n",
    "    \"3rd level\" : [2, 3],\n",
    "    \"4th level\" : { \"H\": \"Hold Breath\",\n",
    "                        \"R\": \"Relaxed\"}, \n",
    "    \"5th level\" : { \"B\": \"With Blankets\",\n",
    "                        \"WOB\": \"Without Blankets\"} \n",
    "}"
   ]
  },
  {
   "attachments": {},
   "cell_type": "markdown",
   "metadata": {},
   "source": [
    "## Run functions"
   ]
  },
  {
   "cell_type": "code",
   "execution_count": 51,
   "metadata": {},
   "outputs": [
    {
     "data": {
      "text/plain": [
       "['Arun']"
      ]
     },
     "execution_count": 51,
     "metadata": {},
     "output_type": "execute_result"
    }
   ],
   "source": [
    "\"\"\" get filenames from folder names \"\"\"\n",
    "\n",
    "video_folder = p3225_file_path[\"video folder\"]\n",
    "all_videos_folder = root_path + \"/\" + video_folder + \"/\" + p3225_file_path[\"1st level\"][0]\n",
    "patient_names = get_patient_id(all_videos_folder)\n",
    "patient_names"
   ]
  },
  {
   "cell_type": "code",
   "execution_count": 52,
   "metadata": {},
   "outputs": [
    {
     "name": "stdout",
     "output_type": "stream",
     "text": [
      "../records/logs/DI_CAMERA_P3225-mp4.log\n"
     ]
    }
   ],
   "source": [
    "\"\"\"save mp4 file paths in log file (rgb)\"\"\"\n",
    "\n",
    "records_folder = \"../records/logs\"\n",
    "log_filename = video_folder + \"-mp4\"\n",
    "keywords = [\"media_media.amp-.mp4\"]\n",
    "search_level = 4\n",
    "log_patient_video_files(all_videos_folder, records_folder, log_filename, keywords, patient_names, search_level)"
   ]
  },
  {
   "cell_type": "code",
   "execution_count": 53,
   "metadata": {},
   "outputs": [],
   "source": [
    "# log_filename"
   ]
  },
  {
   "cell_type": "code",
   "execution_count": 54,
   "metadata": {},
   "outputs": [],
   "source": [
    "# \"save png file paths in log file (rgb)\"\n",
    "\n",
    "# log_filename = video_folder + \"-png\"\n",
    "# keywords = [\"media_media.amp-.mp4\", \".mp4\"]\n",
    "# search_level = 10\n",
    "# save_filenames(all_videos_folder, records_folder, log_filename, keywords, patient_names, search_level)"
   ]
  },
  {
   "cell_type": "code",
   "execution_count": 55,
   "metadata": {},
   "outputs": [],
   "source": [
    "# \"\"\" \n",
    "#     get filenames for thermal camera\n",
    "# \"\"\"\n",
    "\n",
    "# video_folder = fur_file_path[\"video folder\"]\n",
    "# all_videos_folder = root_path + \"/\" + video_folder + \"/\" + fur_file_path[\"1st level\"][0]\n",
    "# patient_names = get_patient_id(all_videos_folder)\n",
    "# patient_names"
   ]
  },
  {
   "cell_type": "code",
   "execution_count": 56,
   "metadata": {},
   "outputs": [],
   "source": [
    "# \"save avi file paths in log file (thermal)\"\n",
    "\n",
    "# records_folder = repo_dir + \"/records/logs\"\n",
    "# # keywords = [\".Bmp\", \".png\"]\n",
    "# log_filename = video_folder + \"-avi\"\n",
    "# keywords = [\".Bmp\"]\n",
    "# search_level = 4\n",
    "# save_filenames(all_videos_folder, records_folder, log_filename, keywords, patient_names, search_level)"
   ]
  },
  {
   "cell_type": "code",
   "execution_count": 57,
   "metadata": {},
   "outputs": [],
   "source": [
    "# \"save avi file paths in log file (thermal)\"\n",
    "\n",
    "# log_filename = video_folder + \"-png\"\n",
    "# keywords = [\".Bmp\", \".avi\"]\n",
    "# search_level = 10\n",
    "# save_filenames(all_videos_folder, records_folder, log_filename, keywords, patient_names, search_level)"
   ]
  }
 ],
 "metadata": {
  "kernelspec": {
   "display_name": "Python 3.11.4 64-bit",
   "language": "python",
   "name": "python3"
  },
  "language_info": {
   "codemirror_mode": {
    "name": "ipython",
    "version": 3
   },
   "file_extension": ".py",
   "mimetype": "text/x-python",
   "name": "python",
   "nbconvert_exporter": "python",
   "pygments_lexer": "ipython3",
   "version": "3.11.7"
  },
  "orig_nbformat": 4,
  "vscode": {
   "interpreter": {
    "hash": "e7228a7137a92e95012bf2be7e7bd4e027e828c700167ca5a0671652a2d91aff"
   }
  }
 },
 "nbformat": 4,
 "nbformat_minor": 2
}
