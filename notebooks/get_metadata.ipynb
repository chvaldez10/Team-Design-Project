{
 "cells": [
  {
   "attachments": {},
   "cell_type": "markdown",
   "metadata": {},
   "source": [
    "# DI Automated Scripts\n",
    "This notebook extracts metadata from video files \n",
    "<br>\n",
    "<br>\n",
    "![UofC logo](../assets/images/uofc_logo-black.jpg)"
   ]
  },
  {
   "cell_type": "code",
   "execution_count": 1,
   "metadata": {},
   "outputs": [
    {
     "name": "stderr",
     "output_type": "stream",
     "text": [
      "C:\\Users\\chris\\AppData\\Local\\Temp\\ipykernel_28760\\1769867177.py:3: DeprecationWarning: \n",
      "Pyarrow will become a required dependency of pandas in the next major release of pandas (pandas 3.0),\n",
      "(to allow more performant data types, such as the Arrow string type, and better interoperability with other libraries)\n",
      "but was not found to be installed on your system.\n",
      "If this would cause problems for you,\n",
      "please provide us feedback at https://github.com/pandas-dev/pandas/issues/54466\n",
      "        \n",
      "  import pandas as pd\n"
     ]
    }
   ],
   "source": [
    "#import libraries\n",
    "import os\n",
    "import pandas as pd\n",
    "from dotenv import load_dotenv"
   ]
  },
  {
   "cell_type": "code",
   "execution_count": 2,
   "metadata": {},
   "outputs": [],
   "source": [
    "# reload for module caching\n",
    "from importlib import reload\n",
    "import src.video_utilities\n",
    "reload(src.video_utilities)\n",
    "import src.id_utilities\n",
    "reload(src.id_utilities)\n",
    "import src.reader_utilities\n",
    "reload(src.reader_utilities)\n",
    "import src.export_utilities\n",
    "reload(src.export_utilities)\n",
    "import src.json_utilities\n",
    "reload(src.json_utilities)\n",
    "\n",
    "# import custom functions\n",
    "from src.video_utilities import add_video_properties\n",
    "from src.id_utilities import add_json_index\n",
    "from src.reader_utilities import load_json\n",
    "from src.export_utilities import export_to_json, export_to_excel\n",
    "from src.json_utilities import restructure_metadata"
   ]
  },
  {
   "cell_type": "code",
   "execution_count": 3,
   "metadata": {},
   "outputs": [],
   "source": [
    "records_folder = \"../records\" \n",
    "json_dir = \"../records/JSON/all_data\"\n",
    "curr_dir = os.getcwd()"
   ]
  },
  {
   "cell_type": "code",
   "execution_count": 4,
   "metadata": {},
   "outputs": [
    {
     "data": {
      "text/plain": [
       "''"
      ]
     },
     "execution_count": 4,
     "metadata": {},
     "output_type": "execute_result"
    }
   ],
   "source": [
    "# load root directory\n",
    "dotenv_path = os.path.join(curr_dir, \".env\")\n",
    "load_dotenv(dotenv_path)\n",
    "root_path = os.getenv(\"ROOT_FOLDER\")\n",
    "input(f\"Is this the right directory - {root_path}?\")"
   ]
  },
  {
   "attachments": {},
   "cell_type": "markdown",
   "metadata": {},
   "source": [
    "## Run functions"
   ]
  },
  {
   "cell_type": "code",
   "execution_count": 5,
   "metadata": {},
   "outputs": [],
   "source": [
    "\"\"\" load JSON files \"\"\"\n",
    "metadata_rgb = load_json(json_dir, \"rgb.json\")"
   ]
  },
  {
   "cell_type": "code",
   "execution_count": 6,
   "metadata": {},
   "outputs": [
    {
     "name": "stdout",
     "output_type": "stream",
     "text": [
      "ZeroDivisionError occurred while processing E:/DI_centre_structuredD:/DI_centre_structured/DI_THERMAL_FLIR//1\\2 meters\\H\\WOB\\frames_1_H_WOB_2m_2_lower_bound\\1_2-2m-WOB-HB_0.png: float division by zero\n"
     ]
    },
    {
     "ename": "KeyError",
     "evalue": "'ID'",
     "output_type": "error",
     "traceback": [
      "\u001b[1;31m---------------------------------------------------------------------------\u001b[0m",
      "\u001b[1;31mTypeError\u001b[0m                                 Traceback (most recent call last)",
      "File \u001b[1;32md:\\chris\\Documents\\Personal\\Personal Projects\\DI\\DI-Automated-Scripts\\notebooks\\src\\video_utilities.py:93\u001b[0m, in \u001b[0;36madd_video_properties\u001b[1;34m(root_path, metadata, camera)\u001b[0m\n\u001b[0;32m     91\u001b[0m     \u001b[38;5;28;01mraise\u001b[39;00m \u001b[38;5;167;01mValueError\u001b[39;00m(\u001b[38;5;124mf\u001b[39m\u001b[38;5;124m\"\u001b[39m\u001b[38;5;124mMissing \u001b[39m\u001b[38;5;124m'\u001b[39m\u001b[38;5;124mlocal path\u001b[39m\u001b[38;5;124m'\u001b[39m\u001b[38;5;124m for patient ID \u001b[39m\u001b[38;5;132;01m{\u001b[39;00mpatient_info[\u001b[38;5;124m'\u001b[39m\u001b[38;5;124mID\u001b[39m\u001b[38;5;124m'\u001b[39m]\u001b[38;5;132;01m}\u001b[39;00m\u001b[38;5;124m\"\u001b[39m)\n\u001b[1;32m---> 93\u001b[0m frames, fps, length_in_seconds \u001b[38;5;241m=\u001b[39m get_video_properties(video_path)\n\u001b[0;32m     94\u001b[0m alias \u001b[38;5;241m=\u001b[39m get_alias(patient_info, camera)\n",
      "\u001b[1;31mTypeError\u001b[0m: cannot unpack non-iterable NoneType object",
      "\nDuring handling of the above exception, another exception occurred:\n",
      "\u001b[1;31mKeyError\u001b[0m                                  Traceback (most recent call last)",
      "Cell \u001b[1;32mIn[6], line 3\u001b[0m\n\u001b[0;32m      1\u001b[0m \u001b[38;5;124;03m\"\"\" extract and export metadata from video (rgb) \"\"\"\u001b[39;00m\n\u001b[0;32m      2\u001b[0m json_rgb_filename \u001b[38;5;241m=\u001b[39m json_dir \u001b[38;5;241m+\u001b[39m \u001b[38;5;124m\"\u001b[39m\u001b[38;5;124m/rgb_complete.json\u001b[39m\u001b[38;5;124m\"\u001b[39m\n\u001b[1;32m----> 3\u001b[0m complete_metadata_rgb \u001b[38;5;241m=\u001b[39m \u001b[43madd_video_properties\u001b[49m\u001b[43m(\u001b[49m\u001b[43mroot_path\u001b[49m\u001b[43m,\u001b[49m\u001b[43m \u001b[49m\u001b[43mmetadata_rgb\u001b[49m\u001b[43m,\u001b[49m\u001b[43m \u001b[49m\u001b[38;5;124;43m\"\u001b[39;49m\u001b[38;5;124;43mrgb\u001b[39;49m\u001b[38;5;124;43m\"\u001b[39;49m\u001b[43m)\u001b[49m\n\u001b[0;32m      4\u001b[0m export_to_json(complete_metadata_rgb, json_rgb_filename)\n",
      "File \u001b[1;32md:\\chris\\Documents\\Personal\\Personal Projects\\DI\\DI-Automated-Scripts\\notebooks\\src\\video_utilities.py:106\u001b[0m, in \u001b[0;36madd_video_properties\u001b[1;34m(root_path, metadata, camera)\u001b[0m\n\u001b[0;32m    103\u001b[0m         enriched_metadata\u001b[38;5;241m.\u001b[39mappend(patient_info)\n\u001b[0;32m    105\u001b[0m     \u001b[38;5;28;01mexcept\u001b[39;00m \u001b[38;5;167;01mException\u001b[39;00m \u001b[38;5;28;01mas\u001b[39;00m e:\n\u001b[1;32m--> 106\u001b[0m         \u001b[38;5;28mprint\u001b[39m(\u001b[38;5;124mf\u001b[39m\u001b[38;5;124m\"\u001b[39m\u001b[38;5;124mError processing patient ID \u001b[39m\u001b[38;5;132;01m{\u001b[39;00m\u001b[43mpatient_info\u001b[49m\u001b[43m[\u001b[49m\u001b[38;5;124;43m'\u001b[39;49m\u001b[38;5;124;43mID\u001b[39;49m\u001b[38;5;124;43m'\u001b[39;49m\u001b[43m]\u001b[49m\u001b[38;5;132;01m}\u001b[39;00m\u001b[38;5;124m: \u001b[39m\u001b[38;5;132;01m{\u001b[39;00me\u001b[38;5;132;01m}\u001b[39;00m\u001b[38;5;124m\"\u001b[39m)\n\u001b[0;32m    108\u001b[0m \u001b[38;5;28;01mreturn\u001b[39;00m enriched_metadata\n",
      "\u001b[1;31mKeyError\u001b[0m: 'ID'"
     ]
    }
   ],
   "source": [
    "\"\"\" extract and export metadata from video (rgb) \"\"\"\n",
    "json_rgb_filename = json_dir + \"/rgb_complete.json\"\n",
    "complete_metadata_rgb = add_video_properties(root_path, metadata_rgb, \"rgb\")\n",
    "export_to_json(complete_metadata_rgb, json_rgb_filename)"
   ]
  },
  {
   "cell_type": "code",
   "execution_count": null,
   "metadata": {},
   "outputs": [
    {
     "name": "stdout",
     "output_type": "stream",
     "text": [
      "Data successfully exported to ../records/JSON/all_data/rgb_metadata.json\n"
     ]
    }
   ],
   "source": [
    "\"\"\" restructure metadata\"\"\"\n",
    "restructured_complete_metadata_rgb = restructure_metadata(complete_metadata_rgb)\n",
    "json_rgb_filename = json_dir + \"/rgb_metadata.json\"\n",
    "export_to_json(restructured_complete_metadata_rgb, json_rgb_filename)"
   ]
  },
  {
   "cell_type": "code",
   "execution_count": null,
   "metadata": {},
   "outputs": [
    {
     "name": "stdout",
     "output_type": "stream",
     "text": [
      "Data successfully exported to ../records/xlsx/rgb.xlsx\n"
     ]
    }
   ],
   "source": [
    "\"\"\" patient info to pandas DataFrame (rgb)\"\"\"\n",
    "rgb_xlsx = \"../records/xlsx/rgb.xlsx\"\n",
    "complete_metadata_rgb_with_index = add_json_index(complete_metadata_rgb)\n",
    "rgb_df = export_to_excel(complete_metadata_rgb_with_index, rgb_xlsx)"
   ]
  },
  {
   "cell_type": "code",
   "execution_count": null,
   "metadata": {},
   "outputs": [
    {
     "data": {
      "text/html": [
       "<div>\n",
       "<style scoped>\n",
       "    .dataframe tbody tr th:only-of-type {\n",
       "        vertical-align: middle;\n",
       "    }\n",
       "\n",
       "    .dataframe tbody tr th {\n",
       "        vertical-align: top;\n",
       "    }\n",
       "\n",
       "    .dataframe thead th {\n",
       "        text-align: right;\n",
       "    }\n",
       "</style>\n",
       "<table border=\"1\" class=\"dataframe\">\n",
       "  <thead>\n",
       "    <tr style=\"text-align: right;\">\n",
       "      <th></th>\n",
       "      <th>frames</th>\n",
       "      <th>length</th>\n",
       "      <th>old fps</th>\n",
       "      <th>alias</th>\n",
       "    </tr>\n",
       "  </thead>\n",
       "  <tbody>\n",
       "    <tr>\n",
       "      <th>count</th>\n",
       "      <td>6.000000</td>\n",
       "      <td>6.000000</td>\n",
       "      <td>6.000000</td>\n",
       "      <td>6.0</td>\n",
       "    </tr>\n",
       "    <tr>\n",
       "      <th>mean</th>\n",
       "      <td>1704.333333</td>\n",
       "      <td>44.284740</td>\n",
       "      <td>35.083572</td>\n",
       "      <td>15.0</td>\n",
       "    </tr>\n",
       "    <tr>\n",
       "      <th>std</th>\n",
       "      <td>1263.451569</td>\n",
       "      <td>24.791055</td>\n",
       "      <td>13.586104</td>\n",
       "      <td>0.0</td>\n",
       "    </tr>\n",
       "    <tr>\n",
       "      <th>min</th>\n",
       "      <td>143.000000</td>\n",
       "      <td>7.703175</td>\n",
       "      <td>18.563774</td>\n",
       "      <td>15.0</td>\n",
       "    </tr>\n",
       "    <tr>\n",
       "      <th>25%</th>\n",
       "      <td>1137.250000</td>\n",
       "      <td>36.633006</td>\n",
       "      <td>29.402381</td>\n",
       "      <td>15.0</td>\n",
       "    </tr>\n",
       "    <tr>\n",
       "      <th>50%</th>\n",
       "      <td>1464.000000</td>\n",
       "      <td>38.394212</td>\n",
       "      <td>29.627625</td>\n",
       "      <td>15.0</td>\n",
       "    </tr>\n",
       "    <tr>\n",
       "      <th>75%</th>\n",
       "      <td>2057.000000</td>\n",
       "      <td>63.685860</td>\n",
       "      <td>44.617079</td>\n",
       "      <td>15.0</td>\n",
       "    </tr>\n",
       "    <tr>\n",
       "      <th>max</th>\n",
       "      <td>3872.000000</td>\n",
       "      <td>73.054497</td>\n",
       "      <td>53.741547</td>\n",
       "      <td>15.0</td>\n",
       "    </tr>\n",
       "  </tbody>\n",
       "</table>\n",
       "</div>"
      ],
      "text/plain": [
       "            frames     length    old fps  alias\n",
       "count     6.000000   6.000000   6.000000    6.0\n",
       "mean   1704.333333  44.284740  35.083572   15.0\n",
       "std    1263.451569  24.791055  13.586104    0.0\n",
       "min     143.000000   7.703175  18.563774   15.0\n",
       "25%    1137.250000  36.633006  29.402381   15.0\n",
       "50%    1464.000000  38.394212  29.627625   15.0\n",
       "75%    2057.000000  63.685860  44.617079   15.0\n",
       "max    3872.000000  73.054497  53.741547   15.0"
      ]
     },
     "execution_count": 42,
     "metadata": {},
     "output_type": "execute_result"
    }
   ],
   "source": [
    "\"\"\" read exported excel (rgb) \"\"\"\n",
    "new_rgb_df = pd.read_excel(rgb_xlsx)\n",
    "new_rgb_df.describe()"
   ]
  }
 ],
 "metadata": {
  "kernelspec": {
   "display_name": "Python 3.11.4 64-bit",
   "language": "python",
   "name": "python3"
  },
  "language_info": {
   "codemirror_mode": {
    "name": "ipython",
    "version": 3
   },
   "file_extension": ".py",
   "mimetype": "text/x-python",
   "name": "python",
   "nbconvert_exporter": "python",
   "pygments_lexer": "ipython3",
   "version": "3.11.7"
  },
  "orig_nbformat": 4,
  "vscode": {
   "interpreter": {
    "hash": "e7228a7137a92e95012bf2be7e7bd4e027e828c700167ca5a0671652a2d91aff"
   }
  }
 },
 "nbformat": 4,
 "nbformat_minor": 2
}
