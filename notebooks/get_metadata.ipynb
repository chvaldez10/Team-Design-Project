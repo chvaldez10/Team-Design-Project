{
 "cells": [
  {
   "attachments": {},
   "cell_type": "markdown",
   "metadata": {},
   "source": [
    "# DI Automated Scripts\n",
    "This notebook extracts metadata from video files \n",
    "<br>\n",
    "<br>\n",
    "![UofC logo](../assets/images/uofc_logo-black.jpg)"
   ]
  },
  {
   "cell_type": "code",
   "execution_count": 1,
   "metadata": {},
   "outputs": [],
   "source": [
    "#import libraries\n",
    "import os\n",
    "import pandas as pd\n",
    "from dotenv import load_dotenv"
   ]
  },
  {
   "cell_type": "code",
   "execution_count": 2,
   "metadata": {},
   "outputs": [],
   "source": [
    "# reload for module caching\n",
    "from importlib import reload\n",
    "import src.video_utilities\n",
    "reload(src.video_utilities)\n",
    "import src.id_utilities\n",
    "reload(src.id_utilities)\n",
    "import src.reader_utilities\n",
    "reload(src.reader_utilities)\n",
    "import src.export_utilities\n",
    "reload(src.export_utilities)\n",
    "import src.json_utilities\n",
    "reload(src.json_utilities)\n",
    "\n",
    "# import custom functions\n",
    "from src.video_utilities import add_video_properties\n",
    "from src.id_utilities import add_json_index\n",
    "from src.reader_utilities import load_json\n",
    "from src.export_utilities import export_to_json, export_to_excel\n",
    "from src.json_utilities import restructure_metadata"
   ]
  },
  {
   "cell_type": "code",
   "execution_count": 3,
   "metadata": {},
   "outputs": [],
   "source": [
    "records_folder = \"../records\" \n",
    "json_dir = \"../records/JSON/all_data\"\n",
    "curr_dir = os.getcwd()"
   ]
  },
  {
   "cell_type": "code",
   "execution_count": 4,
   "metadata": {},
   "outputs": [
    {
     "data": {
      "text/plain": [
       "''"
      ]
     },
     "execution_count": 4,
     "metadata": {},
     "output_type": "execute_result"
    }
   ],
   "source": [
    "# load root directory\n",
    "dotenv_path = os.path.join(curr_dir, \".env\")\n",
    "load_dotenv(dotenv_path)\n",
    "root_path = os.getenv(\"ROOT_FOLDER\")\n",
    "input(f\"Is this the right directory - {root_path}?\")"
   ]
  },
  {
   "attachments": {},
   "cell_type": "markdown",
   "metadata": {},
   "source": [
    "## Run functions"
   ]
  },
  {
   "cell_type": "code",
   "execution_count": 5,
   "metadata": {},
   "outputs": [],
   "source": [
    "\"\"\" load JSON files \"\"\"\n",
    "metadata_rgb = load_json(json_dir, \"rgb.json\")"
   ]
  },
  {
   "cell_type": "code",
   "execution_count": 6,
   "metadata": {},
   "outputs": [
    {
     "name": "stdout",
     "output_type": "stream",
     "text": [
      "Data successfully exported to ../records/JSON/all_data/rgb_complete.json\n"
     ]
    }
   ],
   "source": [
    "\"\"\" extract and export metadata from video (rgb) \"\"\"\n",
    "json_rgb_filename = json_dir + \"/rgb_complete.json\"\n",
    "complete_metadata_rgb = add_video_properties(root_path, metadata_rgb, \"rgb\")\n",
    "export_to_json(complete_metadata_rgb, json_rgb_filename)"
   ]
  },
  {
   "cell_type": "code",
   "execution_count": 7,
   "metadata": {},
   "outputs": [
    {
     "name": "stdout",
     "output_type": "stream",
     "text": [
      "Data successfully exported to ../records/JSON/all_data/rgb_metadata.json\n"
     ]
    }
   ],
   "source": [
    "\"\"\" restructure metadata\"\"\"\n",
    "restructured_complete_metadata_rgb = restructure_metadata(complete_metadata_rgb)\n",
    "json_rgb_filename = json_dir + \"/rgb_metadata.json\"\n",
    "export_to_json(restructured_complete_metadata_rgb, json_rgb_filename)"
   ]
  },
  {
   "cell_type": "code",
   "execution_count": 8,
   "metadata": {},
   "outputs": [
    {
     "name": "stdout",
     "output_type": "stream",
     "text": [
      "Data successfully exported to ../records/xlsx/rgb.xlsx\n"
     ]
    }
   ],
   "source": [
    "\"\"\" patient info to pandas DataFrame (rgb)\"\"\"\n",
    "rgb_xlsx = \"../records/xlsx/rgb.xlsx\"\n",
    "complete_metadata_rgb_with_index = add_json_index(complete_metadata_rgb)\n",
    "rgb_df = export_to_excel(complete_metadata_rgb_with_index, rgb_xlsx)"
   ]
  },
  {
   "cell_type": "code",
   "execution_count": 9,
   "metadata": {},
   "outputs": [
    {
     "data": {
      "text/html": [
       "<div>\n",
       "<style scoped>\n",
       "    .dataframe tbody tr th:only-of-type {\n",
       "        vertical-align: middle;\n",
       "    }\n",
       "\n",
       "    .dataframe tbody tr th {\n",
       "        vertical-align: top;\n",
       "    }\n",
       "\n",
       "    .dataframe thead th {\n",
       "        text-align: right;\n",
       "    }\n",
       "</style>\n",
       "<table border=\"1\" class=\"dataframe\">\n",
       "  <thead>\n",
       "    <tr style=\"text-align: right;\">\n",
       "      <th></th>\n",
       "      <th>frames</th>\n",
       "      <th>length</th>\n",
       "      <th>old fps</th>\n",
       "      <th>alias</th>\n",
       "    </tr>\n",
       "  </thead>\n",
       "  <tbody>\n",
       "    <tr>\n",
       "      <th>count</th>\n",
       "      <td>137.000000</td>\n",
       "      <td>137.000000</td>\n",
       "      <td>137.000000</td>\n",
       "      <td>137.000000</td>\n",
       "    </tr>\n",
       "    <tr>\n",
       "      <th>mean</th>\n",
       "      <td>1833.284672</td>\n",
       "      <td>37.508788</td>\n",
       "      <td>49.660760</td>\n",
       "      <td>8.751825</td>\n",
       "    </tr>\n",
       "    <tr>\n",
       "      <th>std</th>\n",
       "      <td>902.684933</td>\n",
       "      <td>18.801801</td>\n",
       "      <td>7.451798</td>\n",
       "      <td>4.511066</td>\n",
       "    </tr>\n",
       "    <tr>\n",
       "      <th>min</th>\n",
       "      <td>143.000000</td>\n",
       "      <td>4.113682</td>\n",
       "      <td>18.563774</td>\n",
       "      <td>1.000000</td>\n",
       "    </tr>\n",
       "    <tr>\n",
       "      <th>25%</th>\n",
       "      <td>1398.000000</td>\n",
       "      <td>26.896963</td>\n",
       "      <td>44.783596</td>\n",
       "      <td>5.000000</td>\n",
       "    </tr>\n",
       "    <tr>\n",
       "      <th>50%</th>\n",
       "      <td>1555.000000</td>\n",
       "      <td>32.738973</td>\n",
       "      <td>50.544559</td>\n",
       "      <td>8.000000</td>\n",
       "    </tr>\n",
       "    <tr>\n",
       "      <th>75%</th>\n",
       "      <td>2229.000000</td>\n",
       "      <td>46.704064</td>\n",
       "      <td>54.651671</td>\n",
       "      <td>13.000000</td>\n",
       "    </tr>\n",
       "    <tr>\n",
       "      <th>max</th>\n",
       "      <td>8111.000000</td>\n",
       "      <td>161.407619</td>\n",
       "      <td>60.460675</td>\n",
       "      <td>17.000000</td>\n",
       "    </tr>\n",
       "  </tbody>\n",
       "</table>\n",
       "</div>"
      ],
      "text/plain": [
       "            frames      length     old fps       alias\n",
       "count   137.000000  137.000000  137.000000  137.000000\n",
       "mean   1833.284672   37.508788   49.660760    8.751825\n",
       "std     902.684933   18.801801    7.451798    4.511066\n",
       "min     143.000000    4.113682   18.563774    1.000000\n",
       "25%    1398.000000   26.896963   44.783596    5.000000\n",
       "50%    1555.000000   32.738973   50.544559    8.000000\n",
       "75%    2229.000000   46.704064   54.651671   13.000000\n",
       "max    8111.000000  161.407619   60.460675   17.000000"
      ]
     },
     "execution_count": 9,
     "metadata": {},
     "output_type": "execute_result"
    }
   ],
   "source": [
    "\"\"\" read exported excel (rgb) \"\"\"\n",
    "new_rgb_df = pd.read_excel(rgb_xlsx)\n",
    "new_rgb_df.describe()"
   ]
  }
 ],
 "metadata": {
  "kernelspec": {
   "display_name": "Python 3.11.4 64-bit",
   "language": "python",
   "name": "python3"
  },
  "language_info": {
   "codemirror_mode": {
    "name": "ipython",
    "version": 3
   },
   "file_extension": ".py",
   "mimetype": "text/x-python",
   "name": "python",
   "nbconvert_exporter": "python",
   "pygments_lexer": "ipython3",
   "version": "3.11.5"
  },
  "orig_nbformat": 4,
  "vscode": {
   "interpreter": {
    "hash": "e7228a7137a92e95012bf2be7e7bd4e027e828c700167ca5a0671652a2d91aff"
   }
  }
 },
 "nbformat": 4,
 "nbformat_minor": 2
}
