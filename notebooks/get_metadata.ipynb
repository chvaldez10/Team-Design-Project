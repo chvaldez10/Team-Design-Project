{
 "cells": [
  {
   "attachments": {},
   "cell_type": "markdown",
   "metadata": {},
   "source": [
    "# DI Automated Scripts\n",
    "This notebook extracts metadata from video files \n",
    "<br>\n",
    "<br>\n",
    "![UofC logo](../assets/images/uofc_logo-black.jpg)"
   ]
  },
  {
   "cell_type": "code",
   "execution_count": 76,
   "metadata": {},
   "outputs": [],
   "source": [
    "#import libraries\n",
    "import os\n",
    "import pandas as pd\n",
    "from dotenv import load_dotenv"
   ]
  },
  {
   "cell_type": "code",
   "execution_count": 87,
   "metadata": {},
   "outputs": [],
   "source": [
    "# reload for module caching\n",
    "from importlib import reload\n",
    "import src.video_utilities\n",
    "reload(src.video_utilities)\n",
    "import src.id_utilities\n",
    "reload(src.id_utilities)\n",
    "import src.reader_utilities\n",
    "reload(src.reader_utilities)\n",
    "import src.export_utilities\n",
    "reload(src.export_utilities)\n",
    "import src.json_utilities\n",
    "reload(src.json_utilities)\n",
    "\n",
    "# import custom functions\n",
    "from src.video_utilities import add_video_properties\n",
    "from src.id_utilities import add_json_index\n",
    "from src.reader_utilities import load_json\n",
    "from src.export_utilities import export_to_json, export_to_excel\n",
    "from src.json_utilities import restructure_metadata"
   ]
  },
  {
   "cell_type": "code",
   "execution_count": 78,
   "metadata": {},
   "outputs": [],
   "source": [
    "records_folder = \"../records\" \n",
    "json_dir = \"../records/JSON/all_data\"\n",
    "curr_dir = os.getcwd()"
   ]
  },
  {
   "cell_type": "code",
   "execution_count": 79,
   "metadata": {},
   "outputs": [
    {
     "data": {
      "text/plain": [
       "''"
      ]
     },
     "execution_count": 79,
     "metadata": {},
     "output_type": "execute_result"
    }
   ],
   "source": [
    "# load root directory\n",
    "dotenv_path = os.path.join(curr_dir, \".env\")\n",
    "load_dotenv(dotenv_path)\n",
    "root_path = os.getenv(\"ROOT_FOLDER\")\n",
    "input(f\"Is this the right directory - {root_path}?\")"
   ]
  },
  {
   "attachments": {},
   "cell_type": "markdown",
   "metadata": {},
   "source": [
    "## Run functions"
   ]
  },
  {
   "cell_type": "code",
   "execution_count": 80,
   "metadata": {},
   "outputs": [],
   "source": [
    "\"\"\" load JSON files \"\"\"\n",
    "metadata_rgb = load_json(json_dir, \"rgb.json\")"
   ]
  },
  {
   "cell_type": "code",
   "execution_count": 81,
   "metadata": {},
   "outputs": [
    {
     "name": "stdout",
     "output_type": "stream",
     "text": [
      "Data successfully exported to ../records/JSON/all_data/rgb_complete.json\n"
     ]
    }
   ],
   "source": [
    "\"\"\" extract and export metadata from video (rgb) \"\"\"\n",
    "json_rgb_filename = json_dir + \"/rgb_complete.json\"\n",
    "complete_metadata_rgb = add_video_properties(root_path, metadata_rgb, \"rgb\")\n",
    "export_to_json(complete_metadata_rgb, json_rgb_filename)"
   ]
  },
  {
   "cell_type": "code",
   "execution_count": 88,
   "metadata": {},
   "outputs": [
    {
     "name": "stdout",
     "output_type": "stream",
     "text": [
      "Data successfully exported to ../records/JSON/all_data/rgb_metadata.json\n"
     ]
    }
   ],
   "source": [
    "\"\"\" restructure metadata\"\"\"\n",
    "restructured_complete_metadata_rgb = restructure_metadata(complete_metadata_rgb)\n",
    "json_rgb_filename = json_dir + \"/rgb_metadata.json\"\n",
    "export_to_json(restructured_complete_metadata_rgb, json_rgb_filename)"
   ]
  },
  {
   "cell_type": "code",
   "execution_count": 89,
   "metadata": {},
   "outputs": [
    {
     "name": "stdout",
     "output_type": "stream",
     "text": [
      "Data successfully exported to ../records/xlsx/rgb.xlsx\n"
     ]
    }
   ],
   "source": [
    "\"\"\" patient info to pandas DataFrame (rgb)\"\"\"\n",
    "rgb_xlsx = \"../records/xlsx/rgb.xlsx\"\n",
    "complete_metadata_rgb_with_index = add_json_index(complete_metadata_rgb)\n",
    "rgb_df = export_to_excel(complete_metadata_rgb_with_index, rgb_xlsx)"
   ]
  },
  {
   "cell_type": "code",
   "execution_count": 84,
   "metadata": {},
   "outputs": [
    {
     "data": {
      "text/html": [
       "<div>\n",
       "<style scoped>\n",
       "    .dataframe tbody tr th:only-of-type {\n",
       "        vertical-align: middle;\n",
       "    }\n",
       "\n",
       "    .dataframe tbody tr th {\n",
       "        vertical-align: top;\n",
       "    }\n",
       "\n",
       "    .dataframe thead th {\n",
       "        text-align: right;\n",
       "    }\n",
       "</style>\n",
       "<table border=\"1\" class=\"dataframe\">\n",
       "  <thead>\n",
       "    <tr style=\"text-align: right;\">\n",
       "      <th></th>\n",
       "      <th>frames</th>\n",
       "      <th>length</th>\n",
       "      <th>old fps</th>\n",
       "      <th>alias</th>\n",
       "    </tr>\n",
       "  </thead>\n",
       "  <tbody>\n",
       "    <tr>\n",
       "      <th>count</th>\n",
       "      <td>14.000000</td>\n",
       "      <td>14.000000</td>\n",
       "      <td>14.000000</td>\n",
       "      <td>14.000000</td>\n",
       "    </tr>\n",
       "    <tr>\n",
       "      <th>mean</th>\n",
       "      <td>1888.785714</td>\n",
       "      <td>43.313254</td>\n",
       "      <td>42.705712</td>\n",
       "      <td>9.285714</td>\n",
       "    </tr>\n",
       "    <tr>\n",
       "      <th>std</th>\n",
       "      <td>991.758204</td>\n",
       "      <td>20.253359</td>\n",
       "      <td>11.644998</td>\n",
       "      <td>5.135526</td>\n",
       "    </tr>\n",
       "    <tr>\n",
       "      <th>min</th>\n",
       "      <td>143.000000</td>\n",
       "      <td>7.703175</td>\n",
       "      <td>18.563774</td>\n",
       "      <td>5.000000</td>\n",
       "    </tr>\n",
       "    <tr>\n",
       "      <th>25%</th>\n",
       "      <td>1210.750000</td>\n",
       "      <td>27.068915</td>\n",
       "      <td>32.779204</td>\n",
       "      <td>5.000000</td>\n",
       "    </tr>\n",
       "    <tr>\n",
       "      <th>50%</th>\n",
       "      <td>1598.000000</td>\n",
       "      <td>38.394212</td>\n",
       "      <td>44.391869</td>\n",
       "      <td>5.000000</td>\n",
       "    </tr>\n",
       "    <tr>\n",
       "      <th>75%</th>\n",
       "      <td>2581.000000</td>\n",
       "      <td>61.450182</td>\n",
       "      <td>52.517738</td>\n",
       "      <td>15.000000</td>\n",
       "    </tr>\n",
       "    <tr>\n",
       "      <th>max</th>\n",
       "      <td>3872.000000</td>\n",
       "      <td>73.054497</td>\n",
       "      <td>55.647243</td>\n",
       "      <td>15.000000</td>\n",
       "    </tr>\n",
       "  </tbody>\n",
       "</table>\n",
       "</div>"
      ],
      "text/plain": [
       "            frames     length    old fps      alias\n",
       "count    14.000000  14.000000  14.000000  14.000000\n",
       "mean   1888.785714  43.313254  42.705712   9.285714\n",
       "std     991.758204  20.253359  11.644998   5.135526\n",
       "min     143.000000   7.703175  18.563774   5.000000\n",
       "25%    1210.750000  27.068915  32.779204   5.000000\n",
       "50%    1598.000000  38.394212  44.391869   5.000000\n",
       "75%    2581.000000  61.450182  52.517738  15.000000\n",
       "max    3872.000000  73.054497  55.647243  15.000000"
      ]
     },
     "execution_count": 84,
     "metadata": {},
     "output_type": "execute_result"
    }
   ],
   "source": [
    "\"\"\" read exported excel (rgb) \"\"\"\n",
    "new_rgb_df = pd.read_excel(rgb_xlsx)\n",
    "new_rgb_df.describe()"
   ]
  }
 ],
 "metadata": {
  "kernelspec": {
   "display_name": "Python 3.11.4 64-bit",
   "language": "python",
   "name": "python3"
  },
  "language_info": {
   "codemirror_mode": {
    "name": "ipython",
    "version": 3
   },
   "file_extension": ".py",
   "mimetype": "text/x-python",
   "name": "python",
   "nbconvert_exporter": "python",
   "pygments_lexer": "ipython3",
   "version": "3.10.9"
  },
  "orig_nbformat": 4,
  "vscode": {
   "interpreter": {
    "hash": "e7228a7137a92e95012bf2be7e7bd4e027e828c700167ca5a0671652a2d91aff"
   }
  }
 },
 "nbformat": 4,
 "nbformat_minor": 2
}
