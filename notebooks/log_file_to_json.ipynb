{
 "cells": [
  {
   "attachments": {},
   "cell_type": "markdown",
   "metadata": {},
   "source": [
    "# DI Pre Processing\n",
    "This reads all the log files and refactors them to json format\n",
    "<br>\n",
    "<br>\n",
    "![UofC logo](../assets/images/uofc_logo-black.jpg)"
   ]
  },
  {
   "cell_type": "code",
   "execution_count": 44,
   "metadata": {},
   "outputs": [],
   "source": [
    "#import libraries\n",
    "import os\n",
    "import json\n",
    "import traceback"
   ]
  },
  {
   "cell_type": "code",
   "execution_count": 45,
   "metadata": {},
   "outputs": [],
   "source": [
    "# reload for module caching\n",
    "from importlib import reload\n",
    "import src.log_to_json_utilities\n",
    "reload(src.log_to_json_utilities)\n",
    "\n",
    "# import custom functions\n",
    "from src.log_to_json_utilities import extract_info_from_filepath\n",
    "from src.reader_utilities import parse_line_by_line\n",
    "from src.export_utilities import write_filtered_filenames_to_log"
   ]
  },
  {
   "cell_type": "code",
   "execution_count": 46,
   "metadata": {},
   "outputs": [],
   "source": [
    "\"\"\"\n",
    "    Switch dictionary values to keep order consistent\n",
    "\"\"\"\n",
    "\n",
    "def switch_dictionary_values(key1:str, key2:str, patient_information:dict) -> None:\n",
    "    new_list = []\n",
    "    for patient in patient_information:\n",
    "        saved_val = patient[key1]\n",
    "        patient[key1] = patient[key2]\n",
    "        patient[key2] = saved_val\n",
    "        new_list.append(patient)"
   ]
  },
  {
   "cell_type": "code",
   "execution_count": 47,
   "metadata": {},
   "outputs": [],
   "source": [
    "def export_to_json(patients:list[dict], filename:str) -> None:\n",
    "    json_to_export = {}\n",
    "    \n",
    "    for patient_id, patient_info in enumerate(patients):\n",
    "        json_to_export[patient_id] = patient_info\n",
    "    \n",
    "    export_to_json = json.dumps(json_to_export, indent=2)\n",
    "    \n",
    "    with open(filename, \"w\") as json_data:\n",
    "        json_data.write(export_to_json)"
   ]
  },
  {
   "attachments": {},
   "cell_type": "markdown",
   "metadata": {},
   "source": [
    "## Run files"
   ]
  },
  {
   "cell_type": "code",
   "execution_count": 48,
   "metadata": {},
   "outputs": [],
   "source": [
    "records_folder = \"../records\" "
   ]
  },
  {
   "cell_type": "code",
   "execution_count": 49,
   "metadata": {},
   "outputs": [
    {
     "data": {
      "text/plain": [
       "['../records/logs/DI_THERMAL_FLIR-avi.log',\n",
       " '../records/logs/DI_THERMAL_FLIR-png.log',\n",
       " '../records/logs/DI_CAMERA_P3225-png.log',\n",
       " '../records/logs/DI_CAMERA_P3225-mp4.log']"
      ]
     },
     "execution_count": 49,
     "metadata": {},
     "output_type": "execute_result"
    }
   ],
   "source": [
    "\"\"\"\n",
    "    Read log files\n",
    "\"\"\"\n",
    "\n",
    "logs_folder = records_folder + \"/logs\"\n",
    "\n",
    "# get list of log files\n",
    "log_files = [os.path.join(logs_folder, file) for file in os.listdir(logs_folder) if file.endswith(\".log\")]\n",
    "log_files"
   ]
  },
  {
   "cell_type": "code",
   "execution_count": 50,
   "metadata": {},
   "outputs": [],
   "source": [
    "video_files = parse_line_by_line(log_files[3])"
   ]
  },
  {
   "cell_type": "code",
   "execution_count": 51,
   "metadata": {},
   "outputs": [
    {
     "data": {
      "text/plain": [
       "['/Users/spicyrice/Documents/Personal Projects/DI/DI_centre_structured/DI_CAMERA_P3225/Final/Arun/2 Meters/Without Blankets/Hold Breath/short.mp4',\n",
       " '/Users/spicyrice/Documents/Personal Projects/DI/DI_centre_structured/DI_CAMERA_P3225/Final/Arun/2 Meters/Without Blankets/Relaxed/relax 2meter short.mp4',\n",
       " '/Users/spicyrice/Documents/Personal Projects/DI/DI_centre_structured/DI_CAMERA_P3225/Final/Arun/2 Meters/.DS_Store',\n",
       " '/Users/spicyrice/Documents/Personal Projects/DI/DI_centre_structured/DI_CAMERA_P3225/Final/Arun/2 Meters/With Blankets/.DS_Store',\n",
       " '/Users/spicyrice/Documents/Personal Projects/DI/DI_centre_structured/DI_CAMERA_P3225/Final/Arun/2 Meters/With Blankets/Hold Breath/Arun2_2.mp4',\n",
       " '/Users/spicyrice/Documents/Personal Projects/DI/DI_centre_structured/DI_CAMERA_P3225/Final/Arun/2 Meters/With Blankets/Hold Breath/Arun2.mp4',\n",
       " '/Users/spicyrice/Documents/Personal Projects/DI/DI_centre_structured/DI_CAMERA_P3225/Final/Arun/2 Meters/With Blankets/Relaxed/Arun2_2.mp4',\n",
       " '/Users/spicyrice/Documents/Personal Projects/DI/DI_centre_structured/DI_CAMERA_P3225/Final/Arun/2 Meters/With Blankets/Relaxed/Arun2.mp4',\n",
       " '/Users/spicyrice/Documents/Personal Projects/DI/DI_centre_structured/DI_CAMERA_P3225/Final/Arun/.DS_Store']"
      ]
     },
     "execution_count": 51,
     "metadata": {},
     "output_type": "execute_result"
    }
   ],
   "source": [
    "video_files"
   ]
  },
  {
   "cell_type": "code",
   "execution_count": 52,
   "metadata": {},
   "outputs": [],
   "source": [
    "\"\"\"\n",
    "    make dictionary out of filenames (rgb)\n",
    "\"\"\"\n",
    "metadata_rgb = extract_info_from_filepath(video_files)"
   ]
  },
  {
   "cell_type": "code",
   "execution_count": 53,
   "metadata": {},
   "outputs": [
    {
     "data": {
      "text/plain": [
       "[{'frames': None,\n",
       "  'length': None,\n",
       "  'old fps': None,\n",
       "  'alias': None,\n",
       "  'local path': '/Users/spicyrice/Documents/Personal Projects/DI/DI_centre_structured/DI_CAMERA_P3225/Final/Arun/2 Meters/Without Blankets/Hold Breath/short.mp4',\n",
       "  'ID': 'Arun',\n",
       "  'distance': '2 Meters',\n",
       "  'blanket': 'Without Blankets',\n",
       "  'breathing': 'Hold Breath',\n",
       "  'filename': 'short.mp4'},\n",
       " {'frames': None,\n",
       "  'length': None,\n",
       "  'old fps': None,\n",
       "  'alias': None,\n",
       "  'local path': '/Users/spicyrice/Documents/Personal Projects/DI/DI_centre_structured/DI_CAMERA_P3225/Final/Arun/2 Meters/Without Blankets/Relaxed/relax 2meter short.mp4',\n",
       "  'ID': 'Arun',\n",
       "  'distance': '2 Meters',\n",
       "  'blanket': 'Without Blankets',\n",
       "  'breathing': 'Relaxed',\n",
       "  'filename': 'relax 2meter short.mp4'},\n",
       " {'frames': None,\n",
       "  'length': None,\n",
       "  'old fps': None,\n",
       "  'alias': None,\n",
       "  'local path': '/Users/spicyrice/Documents/Personal Projects/DI/DI_centre_structured/DI_CAMERA_P3225/Final/Arun/2 Meters/.DS_Store',\n",
       "  'ID': 'DI_CAMERA_P3225',\n",
       "  'distance': 'Final',\n",
       "  'blanket': 'Arun',\n",
       "  'breathing': '2 Meters',\n",
       "  'filename': '.DS_Store'},\n",
       " {'frames': None,\n",
       "  'length': None,\n",
       "  'old fps': None,\n",
       "  'alias': None,\n",
       "  'local path': '/Users/spicyrice/Documents/Personal Projects/DI/DI_centre_structured/DI_CAMERA_P3225/Final/Arun/2 Meters/With Blankets/.DS_Store',\n",
       "  'ID': 'Final',\n",
       "  'distance': 'Arun',\n",
       "  'blanket': '2 Meters',\n",
       "  'breathing': 'With Blankets',\n",
       "  'filename': '.DS_Store'},\n",
       " {'frames': None,\n",
       "  'length': None,\n",
       "  'old fps': None,\n",
       "  'alias': None,\n",
       "  'local path': '/Users/spicyrice/Documents/Personal Projects/DI/DI_centre_structured/DI_CAMERA_P3225/Final/Arun/2 Meters/With Blankets/Hold Breath/Arun2_2.mp4',\n",
       "  'ID': 'Arun',\n",
       "  'distance': '2 Meters',\n",
       "  'blanket': 'With Blankets',\n",
       "  'breathing': 'Hold Breath',\n",
       "  'filename': 'Arun2_2.mp4'},\n",
       " {'frames': None,\n",
       "  'length': None,\n",
       "  'old fps': None,\n",
       "  'alias': None,\n",
       "  'local path': '/Users/spicyrice/Documents/Personal Projects/DI/DI_centre_structured/DI_CAMERA_P3225/Final/Arun/2 Meters/With Blankets/Hold Breath/Arun2.mp4',\n",
       "  'ID': 'Arun',\n",
       "  'distance': '2 Meters',\n",
       "  'blanket': 'With Blankets',\n",
       "  'breathing': 'Hold Breath',\n",
       "  'filename': 'Arun2.mp4'},\n",
       " {'frames': None,\n",
       "  'length': None,\n",
       "  'old fps': None,\n",
       "  'alias': None,\n",
       "  'local path': '/Users/spicyrice/Documents/Personal Projects/DI/DI_centre_structured/DI_CAMERA_P3225/Final/Arun/2 Meters/With Blankets/Relaxed/Arun2_2.mp4',\n",
       "  'ID': 'Arun',\n",
       "  'distance': '2 Meters',\n",
       "  'blanket': 'With Blankets',\n",
       "  'breathing': 'Relaxed',\n",
       "  'filename': 'Arun2_2.mp4'},\n",
       " {'frames': None,\n",
       "  'length': None,\n",
       "  'old fps': None,\n",
       "  'alias': None,\n",
       "  'local path': '/Users/spicyrice/Documents/Personal Projects/DI/DI_centre_structured/DI_CAMERA_P3225/Final/Arun/2 Meters/With Blankets/Relaxed/Arun2.mp4',\n",
       "  'ID': 'Arun',\n",
       "  'distance': '2 Meters',\n",
       "  'blanket': 'With Blankets',\n",
       "  'breathing': 'Relaxed',\n",
       "  'filename': 'Arun2.mp4'},\n",
       " {'frames': None,\n",
       "  'length': None,\n",
       "  'old fps': None,\n",
       "  'alias': None,\n",
       "  'local path': '/Users/spicyrice/Documents/Personal Projects/DI/DI_centre_structured/DI_CAMERA_P3225/Final/Arun/.DS_Store',\n",
       "  'ID': 'DI_centre_structured',\n",
       "  'distance': 'DI_CAMERA_P3225',\n",
       "  'blanket': 'Final',\n",
       "  'breathing': 'Arun',\n",
       "  'filename': '.DS_Store'}]"
      ]
     },
     "execution_count": 53,
     "metadata": {},
     "output_type": "execute_result"
    }
   ],
   "source": [
    "metadata_rgb"
   ]
  },
  {
   "cell_type": "code",
   "execution_count": 54,
   "metadata": {},
   "outputs": [],
   "source": [
    "\"\"\"\n",
    "    export to JSON (rgb)\n",
    "\"\"\"\n",
    "export_rgb_metadata = records_folder + \"/JSON/rgb.json\"\n",
    "export_to_json(metadata_rgb, export_rgb_metadata)"
   ]
  }
 ],
 "metadata": {
  "kernelspec": {
   "display_name": "Python 3.11.4 64-bit",
   "language": "python",
   "name": "python3"
  },
  "language_info": {
   "codemirror_mode": {
    "name": "ipython",
    "version": 3
   },
   "file_extension": ".py",
   "mimetype": "text/x-python",
   "name": "python",
   "nbconvert_exporter": "python",
   "pygments_lexer": "ipython3",
   "version": "3.11.7"
  },
  "orig_nbformat": 4,
  "vscode": {
   "interpreter": {
    "hash": "e7228a7137a92e95012bf2be7e7bd4e027e828c700167ca5a0671652a2d91aff"
   }
  }
 },
 "nbformat": 4,
 "nbformat_minor": 2
}
