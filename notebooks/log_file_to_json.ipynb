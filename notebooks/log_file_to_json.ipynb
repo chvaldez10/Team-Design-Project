{
 "cells": [
  {
   "attachments": {},
   "cell_type": "markdown",
   "metadata": {},
   "source": [
    "# DI Automated Scripts\n",
    "This reads all the log files and refactors them to json format\n",
    "<br>\n",
    "<br>\n",
    "![UofC logo](../assets/images/uofc_logo-black.jpg)"
   ]
  },
  {
   "cell_type": "code",
   "execution_count": 19,
   "metadata": {},
   "outputs": [],
   "source": [
    "#import libraries\n",
    "import os\n",
    "from dotenv import load_dotenv"
   ]
  },
  {
   "cell_type": "code",
   "execution_count": 20,
   "metadata": {},
   "outputs": [],
   "source": [
    "# reload for module caching\n",
    "from importlib import reload\n",
    "import src.log_to_json_utilities\n",
    "reload(src.log_to_json_utilities)\n",
    "import src.export_utilities\n",
    "reload(src.export_utilities)\n",
    "import src.json_utilities\n",
    "reload(src.export_utilities)\n",
    "\n",
    "# import custom functions\n",
    "from src.log_to_json_utilities import extract_info_from_filepath\n",
    "from src.reader_utilities import parse_line_by_line\n",
    "from src.export_utilities import export_to_json\n",
    "from src.json_utilities import switch_dictionary_values"
   ]
  },
  {
   "cell_type": "code",
   "execution_count": 21,
   "metadata": {},
   "outputs": [],
   "source": [
    "records_folder = \"../records\" \n",
    "curr_dir = os.getcwd()"
   ]
  },
  {
   "cell_type": "code",
   "execution_count": 22,
   "metadata": {},
   "outputs": [
    {
     "data": {
      "text/plain": [
       "''"
      ]
     },
     "execution_count": 22,
     "metadata": {},
     "output_type": "execute_result"
    }
   ],
   "source": [
    "# load root directory\n",
    "dotenv_path = os.path.join(curr_dir, \".env\")\n",
    "load_dotenv(dotenv_path)\n",
    "root_path = os.getenv(\"ROOT_FOLDER\")\n",
    "input(f\"Is this the right directory - {root_path}?\")"
   ]
  },
  {
   "attachments": {},
   "cell_type": "markdown",
   "metadata": {},
   "source": [
    "## Run files"
   ]
  },
  {
   "cell_type": "code",
   "execution_count": 23,
   "metadata": {},
   "outputs": [],
   "source": [
    "\"\"\" Read log files \"\"\"\n",
    "\n",
    "logs_folder = records_folder + \"/logs\"\n",
    "\n",
    "# get list of log files\n",
    "log_files = [os.path.join(logs_folder, file) for file in os.listdir(logs_folder) if file.endswith(\".log\")]"
   ]
  },
  {
   "cell_type": "code",
   "execution_count": 24,
   "metadata": {},
   "outputs": [],
   "source": [
    "video_files = parse_line_by_line(log_files[3])"
   ]
  },
  {
   "cell_type": "code",
   "execution_count": 25,
   "metadata": {},
   "outputs": [],
   "source": [
    "\"\"\"\n",
    "    make dictionary out of filenames (rgb)\n",
    "\"\"\"\n",
    "metadata_rgb = extract_info_from_filepath(video_files)"
   ]
  },
  {
   "cell_type": "code",
   "execution_count": 26,
   "metadata": {},
   "outputs": [
    {
     "name": "stdout",
     "output_type": "stream",
     "text": [
      "Data successfully exported to ../records/JSON/all_data/rgb.json\n"
     ]
    }
   ],
   "source": [
    "\"\"\"\n",
    "    export to JSON (rgb)\n",
    "\"\"\"\n",
    "export_rgb_metadata = records_folder + \"/JSON/all_data/rgb.json\"\n",
    "export_to_json(metadata_rgb, export_rgb_metadata)"
   ]
  }
 ],
 "metadata": {
  "kernelspec": {
   "display_name": "Python 3.11.4 64-bit",
   "language": "python",
   "name": "python3"
  },
  "language_info": {
   "codemirror_mode": {
    "name": "ipython",
    "version": 3
   },
   "file_extension": ".py",
   "mimetype": "text/x-python",
   "name": "python",
   "nbconvert_exporter": "python",
   "pygments_lexer": "ipython3",
   "version": "3.11.7"
  },
  "orig_nbformat": 4,
  "vscode": {
   "interpreter": {
    "hash": "e7228a7137a92e95012bf2be7e7bd4e027e828c700167ca5a0671652a2d91aff"
   }
  }
 },
 "nbformat": 4,
 "nbformat_minor": 2
}
