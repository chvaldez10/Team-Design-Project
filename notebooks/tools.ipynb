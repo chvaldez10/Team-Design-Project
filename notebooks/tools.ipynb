{
 "cells": [
  {
   "cell_type": "markdown",
   "metadata": {},
   "source": [
    "## Call util functions ⚒️\n",
    "![UofC logo](../assets/images/uofc_logo-black.jpg)"
   ]
  },
  {
   "cell_type": "code",
   "execution_count": 57,
   "metadata": {},
   "outputs": [],
   "source": [
    "# import libraries\n",
    "import os\n",
    "from dotenv import load_dotenv"
   ]
  },
  {
   "cell_type": "code",
   "execution_count": 58,
   "metadata": {},
   "outputs": [],
   "source": [
    "from importlib import reload\n",
    "import src.video_utilities\n",
    "reload(src.video_utilities)\n",
    "import src.reader_utilities\n",
    "reload(src.reader_utilities)\n",
    "import src.folder_utilities\n",
    "reload(src.folder_utilities)\n",
    "\n",
    "# udf\n",
    "from src.video_utilities import create_video_from_png\n",
    "from src.reader_utilities import load_json\n",
    "from src.folder_utilities import create_folders_from_schema"
   ]
  },
  {
   "cell_type": "code",
   "execution_count": 59,
   "metadata": {},
   "outputs": [],
   "source": [
    "json_dir = \"../records/JSON/\"\n",
    "schema_dir = json_dir + \"/schema\"\n",
    "curr_dir = os.getcwd()"
   ]
  },
  {
   "cell_type": "code",
   "execution_count": 60,
   "metadata": {},
   "outputs": [],
   "source": [
    "# load root directory\n",
    "dotenv_path = os.path.join(curr_dir, \".env\")\n",
    "load_dotenv(dotenv_path)\n",
    "root_path = os.getenv(\"ROOT_FOLDER\")\n",
    "input(f\"Is this the right directory - {root_path}?\")\n",
    "\n",
    "# load export path\n",
    "export_path = os.getenv(\"EXPORT_PATH_LOCAL\")"
   ]
  },
  {
   "cell_type": "code",
   "execution_count": 61,
   "metadata": {},
   "outputs": [
    {
     "data": {
      "text/plain": [
       "{'Without Blankets': {'2 Meters': {'Hold Breath': {}, 'Relaxed': {}},\n",
       "  '3 Meters': {'Hold Breath': {}, 'Relaxed': {}}},\n",
       " 'With Blankets': {'2 Meters': {'Hold Breath': {}, 'Relaxed': {}},\n",
       "  '3 Meters': {'Hold Breath': {}, 'Relaxed': {}}}}"
      ]
     },
     "execution_count": 61,
     "metadata": {},
     "output_type": "execute_result"
    }
   ],
   "source": [
    "client_schema = load_json(schema_dir, \"client_schema.json\")\n",
    "client_schema"
   ]
  },
  {
   "cell_type": "markdown",
   "metadata": {},
   "source": [
    "### Run functions"
   ]
  },
  {
   "cell_type": "code",
   "execution_count": 62,
   "metadata": {},
   "outputs": [
    {
     "data": {
      "text/plain": [
       "' Generate video from standardized frames '"
      ]
     },
     "execution_count": 62,
     "metadata": {},
     "output_type": "execute_result"
    }
   ],
   "source": [
    "\"\"\" Generate video from standardized frames \"\"\"\n",
    "# png_folder = \"\"\n",
    "# output_video_path = png_folder + \"/vid.mp4\"\n",
    "# create_video_from_png(png_folder, output_video_path)"
   ]
  },
  {
   "cell_type": "code",
   "execution_count": 63,
   "metadata": {},
   "outputs": [
    {
     "data": {
      "text/plain": [
       "WindowsPath('E:/rgb')"
      ]
     },
     "execution_count": 63,
     "metadata": {},
     "output_type": "execute_result"
    }
   ],
   "source": [
    "from pathlib import Path\n",
    "Path(export_path)"
   ]
  },
  {
   "cell_type": "code",
   "execution_count": 64,
   "metadata": {},
   "outputs": [
    {
     "name": "stdout",
     "output_type": "stream",
     "text": [
      "E:\\rgb\\Without Blankets\\2 Meters\\Hold Breath\n",
      "Created E:\\rgb\\Without Blankets\\2 Meters\\Hold Breath\n",
      "E:\\rgb\\Without Blankets\\2 Meters\\Relaxed\n",
      "Created E:\\rgb\\Without Blankets\\2 Meters\\Relaxed\n",
      "E:\\rgb\\Without Blankets\\3 Meters\\Hold Breath\n",
      "Created E:\\rgb\\Without Blankets\\3 Meters\\Hold Breath\n",
      "E:\\rgb\\Without Blankets\\3 Meters\\Relaxed\n",
      "Created E:\\rgb\\Without Blankets\\3 Meters\\Relaxed\n",
      "E:\\rgb\\With Blankets\\2 Meters\\Hold Breath\n",
      "Created E:\\rgb\\With Blankets\\2 Meters\\Hold Breath\n",
      "E:\\rgb\\With Blankets\\2 Meters\\Relaxed\n",
      "Created E:\\rgb\\With Blankets\\2 Meters\\Relaxed\n",
      "E:\\rgb\\With Blankets\\3 Meters\\Hold Breath\n",
      "Created E:\\rgb\\With Blankets\\3 Meters\\Hold Breath\n",
      "E:\\rgb\\With Blankets\\3 Meters\\Relaxed\n",
      "Created E:\\rgb\\With Blankets\\3 Meters\\Relaxed\n"
     ]
    }
   ],
   "source": [
    "create_folders_from_schema(client_schema, export_path)"
   ]
  }
 ],
 "metadata": {
  "kernelspec": {
   "display_name": "Python 3.11.4 64-bit",
   "language": "python",
   "name": "python3"
  },
  "language_info": {
   "codemirror_mode": {
    "name": "ipython",
    "version": 3
   },
   "file_extension": ".py",
   "mimetype": "text/x-python",
   "name": "python",
   "nbconvert_exporter": "python",
   "pygments_lexer": "ipython3",
   "version": "3.11.7"
  },
  "orig_nbformat": 4,
  "vscode": {
   "interpreter": {
    "hash": "e7228a7137a92e95012bf2be7e7bd4e027e828c700167ca5a0671652a2d91aff"
   }
  }
 },
 "nbformat": 4,
 "nbformat_minor": 2
}
