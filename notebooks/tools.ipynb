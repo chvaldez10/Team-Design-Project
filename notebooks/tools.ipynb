{
 "cells": [
  {
   "cell_type": "markdown",
   "metadata": {},
   "source": [
    "## Call util functions ⚒️\n",
    "![UofC logo](../assets/images/uofc_logo-black.jpg)"
   ]
  },
  {
   "cell_type": "code",
   "execution_count": 1,
   "metadata": {},
   "outputs": [],
   "source": [
    "# import libraries\n",
    "import os\n",
    "from dotenv import load_dotenv"
   ]
  },
  {
   "cell_type": "code",
   "execution_count": 2,
   "metadata": {},
   "outputs": [],
   "source": [
    "from importlib import reload\n",
    "import src.video_utilities\n",
    "reload(src.video_utilities)\n",
    "import src.reader_utilities\n",
    "reload(src.reader_utilities)\n",
    "\n",
    "# udf\n",
    "from src.video_utilities import create_video_from_png\n",
    "from src.reader_utilities import load_json"
   ]
  },
  {
   "cell_type": "code",
   "execution_count": 3,
   "metadata": {},
   "outputs": [],
   "source": [
    "json_dir = \"../records/JSON/\"\n",
    "schema_dir = json_dir + \"/schema\"\n",
    "curr_dir = os.getcwd()"
   ]
  },
  {
   "cell_type": "code",
   "execution_count": 4,
   "metadata": {},
   "outputs": [
    {
     "data": {
      "text/plain": [
       "''"
      ]
     },
     "execution_count": 4,
     "metadata": {},
     "output_type": "execute_result"
    }
   ],
   "source": [
    "# load root directory\n",
    "dotenv_path = os.path.join(curr_dir, \".env\")\n",
    "load_dotenv(dotenv_path)\n",
    "root_path = os.getenv(\"ROOT_FOLDER\")\n",
    "input(f\"Is this the right directory - {root_path}?\")"
   ]
  },
  {
   "cell_type": "markdown",
   "metadata": {},
   "source": [
    "### Run functions"
   ]
  },
  {
   "cell_type": "code",
   "execution_count": 3,
   "metadata": {},
   "outputs": [
    {
     "name": "stdout",
     "output_type": "stream",
     "text": [
      "Video successfully created at 'D:/DI_centre_structured/DI_CAMERA_P3225/Final/Arun/2 Meters/With Blankets/Relaxed/frames_Arun2_2_lower_bound-cropped/vid.mp4'.\n"
     ]
    }
   ],
   "source": [
    "\"\"\" Generate video from standardized frames \"\"\"\n",
    "# png_folder = \"\"\n",
    "# output_video_path = png_folder + \"/vid.mp4\"\n",
    "# create_video_from_png(png_folder, output_video_path)"
   ]
  },
  {
   "cell_type": "code",
   "execution_count": null,
   "metadata": {},
   "outputs": [],
   "source": []
  }
 ],
 "metadata": {
  "kernelspec": {
   "display_name": "Python 3.11.4 64-bit",
   "language": "python",
   "name": "python3"
  },
  "language_info": {
   "codemirror_mode": {
    "name": "ipython",
    "version": 3
   },
   "file_extension": ".py",
   "mimetype": "text/x-python",
   "name": "python",
   "nbconvert_exporter": "python",
   "pygments_lexer": "ipython3",
   "version": "3.1.0"
  },
  "orig_nbformat": 4,
  "vscode": {
   "interpreter": {
    "hash": "e7228a7137a92e95012bf2be7e7bd4e027e828c700167ca5a0671652a2d91aff"
   }
  }
 },
 "nbformat": 4,
 "nbformat_minor": 2
}
