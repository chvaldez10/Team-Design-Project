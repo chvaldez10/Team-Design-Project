{
 "cells": [
  {
   "cell_type": "markdown",
   "metadata": {},
   "source": [
    "# Video Processing for BT Lab\n",
    "Corrects png files\n",
    "<br>\n",
    "<br>\n",
    "Notes:\n",
    "1) looking for a specific path \n",
    "2) need to enter drive name\n",
    "<br>\n",
    "<br>\n",
    "![UofC logo](./pictures/uofc_logo-black.jpg)"
   ]
  },
  {
   "cell_type": "code",
   "execution_count": 1,
   "metadata": {},
   "outputs": [],
   "source": [
    "# import libraries\n",
    "import os\n",
    "import re\n",
    "import datetime\n",
    "import platform\n",
    "import time"
   ]
  },
  {
   "cell_type": "code",
   "execution_count": 2,
   "metadata": {},
   "outputs": [],
   "source": [
    "# declare basic filepaths\n",
    "repo_dir = os.getcwd()\n",
    "log_dir = repo_dir + \"/records/logs\""
   ]
  },
  {
   "cell_type": "code",
   "execution_count": 3,
   "metadata": {},
   "outputs": [],
   "source": [
    "# given a list of filepaths, create a list of unique directories\n",
    "\n",
    "def find_png_dir_from_log_file(log_file:str):\n",
    "    png_directories = []\n",
    "    \n",
    "    with open(log_file, \"r\") as log_data:\n",
    "        log_files = log_data.read().split(\"\\n\")\n",
    "    \n",
    "    for log_file in log_files:\n",
    "        log_file_temp = log_file.replace(\"\\\\\", \"/\")\n",
    "        log_file_split = log_file_temp.split(\"/\")\n",
    "        \n",
    "        if \"\" in log_file_split:\n",
    "            log_file_split.remove(\"\")\n",
    "\n",
    "        video_folder = \"/\".join(log_file_split[:-1])\n",
    "\n",
    "        if video_folder not in png_directories:\n",
    "            png_directories.append(video_folder)\n",
    "\n",
    "    return png_directories"
   ]
  },
  {
   "cell_type": "code",
   "execution_count": 4,
   "metadata": {},
   "outputs": [],
   "source": [
    "# write to txt file\n",
    "\n",
    "def save_folder(list_of_paths:list, log_filename:str) -> None:\n",
    "    if os.path.exists(log_filename):\n",
    "        os.remove(log_filename)\n",
    "    \n",
    "    with open(log_filename, \"a\") as log_data:\n",
    "        for folder in list_of_paths:\n",
    "            log_data.write(f\"{folder}\\n\")"
   ]
  },
  {
   "cell_type": "code",
   "execution_count": 5,
   "metadata": {},
   "outputs": [],
   "source": [
    "\"\"\" gets the delta time of images based on creation time \"\"\"\n",
    "\n",
    "def get_file_creation_time(filepath):\n",
    "    ctime = os.path.getctime(filepath)\n",
    "    return datetime.datetime.fromtimestamp(ctime)\n",
    "\n",
    "def get_min_max_times(filepaths):\n",
    "    creation_times = [get_file_creation_time(fp) for fp in filepaths]\n",
    "    return min(creation_times), max(creation_times)\n",
    "\n",
    "def get_delta_time(png_files: list[str]):\n",
    "    min_time, max_time = get_min_max_times(png_files)\n",
    "    delta_time = (max_time - min_time).total_seconds()\n",
    "    return delta_time\n"
   ]
  },
  {
   "cell_type": "code",
   "execution_count": 6,
   "metadata": {},
   "outputs": [],
   "source": [
    "def extract_info_from_file_path(filepaths: list[str]):\n",
    "    all_videos = []\n",
    "    file_info_from_path = {\n",
    "        0 : \"ID\",\n",
    "        1 : \"distance\",\n",
    "        2 : \"blanket\",\n",
    "        3 : \"breathing\",\n",
    "        4 : \"filename\"\n",
    "    }\n",
    "\n",
    "    video_info = {\n",
    "        \"frames\" : None,\n",
    "        \"length\" : None,\n",
    "        \"old fps\" : None,\n",
    "        \"alias\": None,\n",
    "        \"local path\" : None,\n",
    "    }\n",
    "\n",
    "    splice_stop = 5\n",
    "\n",
    "    for filepath in filepaths:\n",
    "        try:\n",
    "            filepath_to_list = filepath.split(\"/\")\n",
    "\n",
    "            # extract info from filepath\n",
    "            filepath_to_list = filepath_to_list[-splice_stop:]\n",
    "            patient_info = {tag:filepath_to_list[key] for key, tag in file_info_from_path.items() if key<splice_stop}\n",
    "            \n",
    "            # combine information from filepath and default parameters\n",
    "            patient_full_info = {**patient_info, **video_info}\n",
    "            patient_full_info[\"local path\"] = filepath\n",
    "\n",
    "            all_videos.append(patient_full_info) # save to list\n",
    "        except Exception as e:\n",
    "            print(f\"{type(e)} from {filepath}\")\n",
    "\n",
    "        break\n",
    "\n",
    "    return all_videos"
   ]
  },
  {
   "cell_type": "markdown",
   "metadata": {},
   "source": [
    "## Retrieve all videos (stage 3.2)\n",
    "\n",
    "Correct png files"
   ]
  },
  {
   "cell_type": "code",
   "execution_count": 7,
   "metadata": {},
   "outputs": [],
   "source": [
    "\"get png folders (rgb)\"\n",
    "log_filename = log_dir +\"/DI_CAMERA_P3225-png.log\"\n",
    "logfile_rgb_save = log_dir + \"/all_png/rgb_folders-png.log\"\n",
    "rgb_png_folders = find_png_dir_from_log_file(log_filename)\n",
    "save_folder(rgb_png_folders, logfile_rgb_save)"
   ]
  },
  {
   "cell_type": "code",
   "execution_count": 8,
   "metadata": {},
   "outputs": [],
   "source": [
    "\"get png folders (thermal)\"\n",
    "log_filename = log_dir +\"/DI_THERMAL_FLIR-png.log\"\n",
    "logfile_thermal_save = log_dir + \"/all_png/thermal_folders-png.log\"\n",
    "thermal_png_folders = find_png_dir_from_log_file(log_filename)\n",
    "save_folder(thermal_png_folders, logfile_thermal_save)"
   ]
  },
  {
   "cell_type": "code",
   "execution_count": 9,
   "metadata": {},
   "outputs": [
    {
     "data": {
      "text/plain": [
       "['E:/Christian/DI_centre_structured/DI_THERMAL_FLIR/15/15_1/2 meters/WB/H/frames',\n",
       " 'E:/Christian/DI_centre_structured/DI_THERMAL_FLIR/15/15_2/2 Meters/WB/H/frames',\n",
       " 'E:/Christian/DI_centre_structured/DI_THERMAL_FLIR/15/15_2/2 Meters/WB/R/frames',\n",
       " '']"
      ]
     },
     "execution_count": 9,
     "metadata": {},
     "output_type": "execute_result"
    }
   ],
   "source": [
    "thermal_png_folders"
   ]
  },
  {
   "cell_type": "code",
   "execution_count": 10,
   "metadata": {},
   "outputs": [
    {
     "data": {
      "text/plain": [
       "{'ID': '15_1',\n",
       " 'distance': '2 meters',\n",
       " 'blanket': 'WB',\n",
       " 'breathing': 'H',\n",
       " 'filename': 'frames',\n",
       " 'frames': None,\n",
       " 'length': None,\n",
       " 'old fps': None,\n",
       " 'alias': None,\n",
       " 'local path': 'E:/Christian/DI_centre_structured/DI_THERMAL_FLIR/15/15_1/2 meters/WB/H/frames'}"
      ]
     },
     "execution_count": 10,
     "metadata": {},
     "output_type": "execute_result"
    }
   ],
   "source": [
    "\"\"\" extract info from file path \"\"\"\n",
    "\n",
    "metadata_thermal = extract_info_from_file_path(thermal_png_folders)\n",
    "metadata_thermal[0]"
   ]
  },
  {
   "cell_type": "code",
   "execution_count": 11,
   "metadata": {},
   "outputs": [
    {
     "data": {
      "text/plain": [
       "' extract info from file path '"
      ]
     },
     "execution_count": 11,
     "metadata": {},
     "output_type": "execute_result"
    }
   ],
   "source": [
    "\"\"\" extract info from file path \"\"\"\n",
    "\n",
    "# test_path = \"\"\n",
    "# os.chdir(test_path)\n",
    "# png_files = [png_file for png_file in os.listdir(test_path) if png_file.endswith(\".png\")]\n",
    "# num_of_files = len(png_files)\n",
    "# delta_time = get_delta_time(png_files)\n",
    "# old_fps = num_of_files/delta_time"
   ]
  }
 ],
 "metadata": {
  "kernelspec": {
   "display_name": "Python 3.11.4 64-bit",
   "language": "python",
   "name": "python3"
  },
  "language_info": {
   "codemirror_mode": {
    "name": "ipython",
    "version": 3
   },
   "file_extension": ".py",
   "mimetype": "text/x-python",
   "name": "python",
   "nbconvert_exporter": "python",
   "pygments_lexer": "ipython3",
   "version": "3.10.9"
  },
  "orig_nbformat": 4,
  "vscode": {
   "interpreter": {
    "hash": "e7228a7137a92e95012bf2be7e7bd4e027e828c700167ca5a0671652a2d91aff"
   }
  }
 },
 "nbformat": 4,
 "nbformat_minor": 2
}
