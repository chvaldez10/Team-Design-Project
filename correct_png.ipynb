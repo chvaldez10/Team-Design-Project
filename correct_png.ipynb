{
 "cells": [
  {
   "cell_type": "markdown",
   "metadata": {},
   "source": [
    "# Video Processing for BT Lab\n",
    "Corrects png files\n",
    "<br>\n",
    "<br>\n",
    "Notes:\n",
    "1) looking for a specific path \n",
    "2) need to enter drive name\n",
    "<br>\n",
    "<br>\n",
    "![UofC logo](./pictures/uofc_logo-black.jpg)"
   ]
  },
  {
   "cell_type": "code",
   "execution_count": 1,
   "metadata": {},
   "outputs": [],
   "source": [
    "# import libraries\n",
    "import os\n",
    "import re"
   ]
  },
  {
   "cell_type": "code",
   "execution_count": 2,
   "metadata": {},
   "outputs": [],
   "source": [
    "repo_dir = os.getcwd()\n",
    "log_dir = repo_dir + \"/records/logs\""
   ]
  },
  {
   "cell_type": "code",
   "execution_count": 3,
   "metadata": {},
   "outputs": [],
   "source": [
    "def find_png_dir_from_log_file(log_file:str):\n",
    "    png_directories = []\n",
    "    \n",
    "    with open(log_file, \"r\") as log_data:\n",
    "        log_files = log_data.read().split(\"\\n\")\n",
    "    \n",
    "    for log_file in log_files:\n",
    "        log_file_temp = log_file.replace(\"\\\\\", \"/\")\n",
    "        log_file_split = log_file_temp.split(\"/\")\n",
    "        \n",
    "        if \"\" in log_file_split:\n",
    "            log_file_split.remove(\"\")\n",
    "\n",
    "        video_folder = \"/\".join(log_file_split[:-1])\n",
    "\n",
    "        if video_folder not in png_directories:\n",
    "            png_directories.append(video_folder)\n",
    "\n",
    "    return png_directories"
   ]
  },
  {
   "cell_type": "code",
   "execution_count": null,
   "metadata": {},
   "outputs": [],
   "source": [
    "def save_folder(list_of_paths:list, log_filename) -> None:\n",
    "    if os.path.exists(log_filename):\n",
    "        os.remove(log_filename)\n",
    "    \n",
    "    with open(log_filename, \"a\") as log_data:\n",
    "        for folder in list_of_paths:\n",
    "            log_data.write(f\"{folder}\\n\")"
   ]
  },
  {
   "cell_type": "markdown",
   "metadata": {},
   "source": [
    "## Retrieve all videos (stage 3.2)\n",
    "\n",
    "Correct png files"
   ]
  },
  {
   "cell_type": "code",
   "execution_count": 4,
   "metadata": {},
   "outputs": [
    {
     "name": "stdout",
     "output_type": "stream",
     "text": [
      "C:/Christian/DI_centre_structured/DI_CAMERA_P3225/Final/Arun/2 Meters/With Blankets/Relaxed/frames_Arun2_lower_bound\n",
      "\n"
     ]
    }
   ],
   "source": [
    "\"get png folders (rgb)\"\n",
    "log_filename = log_dir +\"/DI_CAMERA_P3225-png.log\"\n",
    "logfile_save = log_dir + \"/rgb_folders-png.log\"\n",
    "rgb_png_folders = find_png_dir_from_log_file(log_filename)\n"
   ]
  },
  {
   "cell_type": "code",
   "execution_count": 5,
   "metadata": {},
   "outputs": [
    {
     "name": "stdout",
     "output_type": "stream",
     "text": [
      "C:/Christian/DI_centre_structured/DI_THERMAL_FLIR/15/15_1/2 meters/H/15_holding_blanket_2meters/frames\n",
      "C:/Christian/DI_centre_structured/DI_THERMAL_FLIR/15/15_2/15_2nd_2meters/15_2nd_hold_blanket_2meters/frames/frames\n",
      "C:/Christian/DI_centre_structured/DI_THERMAL_FLIR/15/15_2/15_2nd_2meters/15_2nd_relaxed_blanket_2meters/frames/frames\n",
      "C:/Christian/DI_centre_structured/DI_THERMAL_FLIR/15/15_2/15_2nd_3meters/blanket/holding/frames\n",
      "C:/Christian/DI_centre_structured/DI_THERMAL_FLIR/15/15_2/15_2nd_3meters/blanket/relaxed/frames\n",
      "C:/Christian/DI_centre_structured/DI_THERMAL_FLIR/15/15_2/15_2nd_3meters/without/holding/frames\n",
      "C:/Christian/DI_centre_structured/DI_THERMAL_FLIR/15/15_2/15_2nd_3meters/without/relaxed/frames\n",
      "\n"
     ]
    }
   ],
   "source": [
    "\"get png folders (thermal)\"\n",
    "log_filename = log_dir +\"/DI_THERMAL_FLIR-png.log\"\n",
    "thermal_png_folders = find_png_dir_from_log_file(log_filename)\n",
    "\n",
    "for folder in thermal_png_folders:\n",
    "    print(folder)"
   ]
  }
 ],
 "metadata": {
  "kernelspec": {
   "display_name": "bt-lab",
   "language": "python",
   "name": "python3"
  },
  "language_info": {
   "codemirror_mode": {
    "name": "ipython",
    "version": 3
   },
   "file_extension": ".py",
   "mimetype": "text/x-python",
   "name": "python",
   "nbconvert_exporter": "python",
   "pygments_lexer": "ipython3",
   "version": "3.11.4"
  },
  "orig_nbformat": 4
 },
 "nbformat": 4,
 "nbformat_minor": 2
}
