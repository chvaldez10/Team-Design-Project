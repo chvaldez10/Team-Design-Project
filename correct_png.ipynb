{
 "cells": [
  {
   "cell_type": "markdown",
   "metadata": {},
   "source": [
    "# DI Pre Processing\n",
    "Corrects png files and store them in a new folder\n",
    "<br>\n",
    "<br>\n",
    "Usage: \n",
    "1) Run notebook\n",
    "2) Enter drive where video files are stored \n",
    "<br>\n",
    "<br>\n",
    "\n",
    "Notes:\n",
    "1) Needs JSON files that contains metadata\n",
    "2) Update root directory\n",
    "<br>\n",
    "<br>\n",
    "![UofC logo](./pictures/uofc_logo-black.jpg)"
   ]
  },
  {
   "cell_type": "code",
   "execution_count": 1,
   "metadata": {},
   "outputs": [],
   "source": [
    "#import libraries\n",
    "import os\n",
    "import cv2\n",
    "import json\n",
    "import pandas as pd\n",
    "import numpy as np\n",
    "from timeit import default_timer as timer\n",
    "import psutil\n",
    "import traceback\n",
    "import glob\n",
    "import shutil"
   ]
  },
  {
   "cell_type": "code",
   "execution_count": 2,
   "metadata": {},
   "outputs": [
    {
     "data": {
      "text/plain": [
       "''"
      ]
     },
     "execution_count": 2,
     "metadata": {},
     "output_type": "execute_result"
    }
   ],
   "source": [
    "# make sure to update path\n",
    "user_drive = input(\"Enter user drive: \").upper()\n",
    "video_path = f\"{user_drive}:/Christian/DI_centre_structured\"\n",
    "input(f\"Is this the right directory - {video_path}?\")"
   ]
  },
  {
   "cell_type": "code",
   "execution_count": 3,
   "metadata": {},
   "outputs": [],
   "source": [
    "VIDEO_CHARACTERISTICS = {\n",
    "    \"With Blankets\" : \"WB\",\n",
    "    \"B\" : \"WB\",\n",
    "    \"WB\": \"WB\",\n",
    "    \"Without Blankets\" : \"WOB\",\n",
    "    \"WOB\": \"WOB\",\n",
    "    \"3 Meters\" : \"3m\",\n",
    "    \"2 Meters\" : \"2m\",\n",
    "    \"Hold Breath\" : \"HB\",\n",
    "    \"Hold Breathe\" : \"HB\",\n",
    "    \"H\" : \"HB\",\n",
    "    \"Relaxed\" : \"rel\",\n",
    "    \"R\": \"rel\",\n",
    "}"
   ]
  },
  {
   "cell_type": "code",
   "execution_count": 4,
   "metadata": {},
   "outputs": [],
   "source": [
    "repo_dir = os.getcwd()\n",
    "json_dir = repo_dir + \"/records/JSON\"\n",
    "log_dir = repo_dir + \"/records/logs\""
   ]
  },
  {
   "cell_type": "code",
   "execution_count": 5,
   "metadata": {},
   "outputs": [],
   "source": [
    "\"\"\" creates unique id for each scenario \"\"\"\n",
    "\n",
    "def get_id(patient_data: dict, video_count:int) -> str:\n",
    "    alias = patient_data[\"alias\"]\n",
    "    blanket = VIDEO_CHARACTERISTICS.get(patient_data[\"blanket\"], \"?\")\n",
    "    distance = VIDEO_CHARACTERISTICS.get(patient_data[\"distance\"].title(), \"?\")\n",
    "    breathing = VIDEO_CHARACTERISTICS.get(patient_data[\"breathing\"], \"?\")\n",
    "    id = alias + \"-\" + distance + \"-\" + blanket + \"-\" + breathing\n",
    "    id = f\"{alias}_{video_count}-{distance}-{blanket}-{breathing}\"\n",
    "    return id"
   ]
  },
  {
   "cell_type": "code",
   "execution_count": 6,
   "metadata": {},
   "outputs": [],
   "source": [
    "\"\"\" creates folder for exported frames if it does not exist \"\"\"\n",
    "\n",
    "def set_folder(save_folder:str) -> None:\n",
    "    if not os.path.isdir(save_folder):\n",
    "        os.mkdir(save_folder)\n",
    "    else:\n",
    "        for files in os.listdir(save_folder):\n",
    "            os.remove(os.path.join(save_folder, files))"
   ]
  },
  {
   "cell_type": "code",
   "execution_count": 7,
   "metadata": {},
   "outputs": [],
   "source": [
    "class NotEnoughFreeSpace(Exception):\n",
    "    pass"
   ]
  },
  {
   "cell_type": "code",
   "execution_count": 8,
   "metadata": {},
   "outputs": [],
   "source": [
    "\"\"\" gets drives storage \"\"\"\n",
    "\n",
    "def get_drive_storage(user_drive:str):\n",
    "    try:\n",
    "        drive_usage = psutil.disk_usage(user_drive + \":\\\\\")\n",
    "        \n",
    "        # Convert bytes to GB\n",
    "        total_space = drive_usage.total / (1024**3)\n",
    "        used_space = drive_usage.used / (1024**3)\n",
    "        free_space = drive_usage.free / (1024**3)\n",
    "        \n",
    "        return {\n",
    "            'drive_letter': user_drive,\n",
    "            'total_space_GB': total_space,\n",
    "            'used_space_GB': used_space,\n",
    "            'free_space_GB': free_space,\n",
    "        }\n",
    "    except FileNotFoundError:\n",
    "        return f\"Drive {user_drive} not found.\"\n",
    "\n",
    "def check_drive_usage(user_drive:str):\n",
    "    minimum_space = 75\n",
    "    drive_info = get_drive_storage(user_drive)\n",
    "\n",
    "    if drive_info[\"free_space_GB\"] < minimum_space:\n",
    "        raise NotEnoughFreeSpace(f\"Not enough free space on Drive {user_drive}. Minimum {minimum_space} GB required.\")    "
   ]
  },
  {
   "cell_type": "code",
   "execution_count": 9,
   "metadata": {},
   "outputs": [],
   "source": [
    "\"\"\" re samples number of frames \"\"\"\n",
    "\n",
    "def up_sample(old_fps: int, new_fps: int, start:int) -> list[int]:\n",
    "    frames_arr = np.arange(start, old_fps, dtype=int)\n",
    "    frames_interp = np.linspace(start, old_fps-1, new_fps)\n",
    "    nearest_indices = np.round(frames_interp).astype(int)\n",
    "    up_sampled_list = np.take(frames_arr, nearest_indices, mode='wrap')\n",
    "\n",
    "    return up_sampled_list.tolist()"
   ]
  },
  {
   "cell_type": "code",
   "execution_count": 10,
   "metadata": {},
   "outputs": [],
   "source": [
    "\"\"\" checks each png for corruption \"\"\"\n",
    "\n",
    "def is_png_corrupted(file_path):\n",
    "    try:\n",
    "        image = cv2.imread(file_path, cv2.IMREAD_UNCHANGED)\n",
    "        if image is None:\n",
    "            return True\n",
    "        return False\n",
    "    except Exception:\n",
    "        return True\n",
    "\n",
    "def check_for_corrupted_png_files(folder_path):\n",
    "    corrupted_files = []\n",
    "    for root, _, files in os.walk(folder_path):\n",
    "        for file in files:\n",
    "            if file.lower().endswith(\".png\"):\n",
    "                file_path = os.path.join(root, file)\n",
    "                if is_png_corrupted(file_path):\n",
    "                    corrupted_files.append(file_path)\n",
    "    \n",
    "    if len(corrupted_files) != 0:\n",
    "        print(\"Corrupted PNG files found:\")\n",
    "        for file_path in corrupted_files:\n",
    "            print(file_path)           \n",
    "    \n",
    "    return corrupted_files"
   ]
  },
  {
   "cell_type": "code",
   "execution_count": 11,
   "metadata": {},
   "outputs": [],
   "source": [
    "\"\"\" gets folder paths \"\"\"\n",
    "def get_frames_path(local_path: str, level:str) -> list[\"str\"]:\n",
    "    fixed_path = local_path.replace(\"\\\\\", \"/\")\n",
    "    fixed_path_split = fixed_path.split(\"/\")\n",
    "    video_folder = \"/\".join(fixed_path_split[:-1])\n",
    "    video_filename = fixed_path_split[-1].split(\".\")[0]\n",
    "    folder_path = video_folder + f\"/frames_{video_filename}_{level}\"\n",
    "    return [folder_path, video_folder]"
   ]
  },
  {
   "cell_type": "code",
   "execution_count": 12,
   "metadata": {},
   "outputs": [],
   "source": [
    "def run_correct_png(video_path:str , save_folder:str, frame_frequency: dict, new_fps:int, patient_id:str, patient_info:dict) -> list[\"str\"]:\n",
    "    # metadata\n",
    "    vid_fps = int(patient_info[\"old fps\"])\n",
    "    num_of_frames = patient_info[\"frames\"]\n",
    "    max_set = num_of_frames // vid_fps\n",
    "    png_files = glob.glob(f\"{video_path}/*\")\n",
    "    print(video_path)\n",
    "    sorted_paths = sorted(png_files, key=lambda x: int(x.split('-')[-1].split('.png')[0]))\n",
    "\n",
    "    # counters\n",
    "    pick_counter, save_counter, set_counter, true_frames = [0, 0, 0, 0]\n",
    "    list_of_frames = [frame for frame, frequency in frame_frequency.items()]\n",
    "    expected_frames = new_fps*max_set\n",
    "\n",
    "    # make folder if it doesn't exist\n",
    "    set_folder(save_folder)\n",
    "\n",
    "    print(f\"\\nSaving frames to: {save_folder}\\nPicking frames: {list_of_frames} per set\\nExpected number of frames: {expected_frames} ({new_fps}FPS * {max_set}s).\")\n",
    "\n",
    "    while set_counter < max_set:\n",
    "        if pick_counter in list_of_frames:\n",
    "            num_of_save = frame_frequency.get(pick_counter)\n",
    "            frame_name = f\"{patient_id}_{save_counter}.png\"\n",
    "            frame_path = os.path.join(save_folder, frame_name)\n",
    "            \n",
    "            for _ in range(num_of_save):\n",
    "                shutil.copy2(sorted_paths[true_frames], frame_path)\n",
    "                save_counter += 1\n",
    "\n",
    "        # update counters\n",
    "        pick_counter += 1\n",
    "        true_frames += 1\n",
    "        if (pick_counter == vid_fps):\n",
    "            set_counter += 1\n",
    "            pick_counter = 0\n",
    "\n",
    "    if save_counter != expected_frames:\n",
    "        raise ValueError(f\"Expected {expected_frames} frames, but got {save_counter} frames\")\n",
    "    \n",
    "    return [set_counter, save_counter, true_frames]"
   ]
  },
  {
   "cell_type": "code",
   "execution_count": 13,
   "metadata": {},
   "outputs": [],
   "source": [
    "\"\"\" driver code for re sampling png files \"\"\"\n",
    "def correct_png(all_patients:list, level: str, new_fps:int, user_drive:str) -> list[str]:\n",
    "    visited_folders = {}  \n",
    "    video_folder_list = []\n",
    "\n",
    "    for patient_idx, patient_info in enumerate(all_patients):\n",
    "        try:\n",
    "            video_path = patient_info[\"local path\"]\n",
    "            old_fps = int(patient_info[\"old fps\"])\n",
    "            \n",
    "            frames_folder, video_folder = get_frames_path(video_path, level)\n",
    "            video_folder_list.append(frames_folder)\n",
    "            visited_folders[video_folder] = visited_folders.get(video_folder, 0) + 1\n",
    "            video_count = visited_folders[video_folder]\n",
    "\n",
    "            frames_to_pick = up_sample(old_fps, new_fps, 1)\n",
    "            frames_idx = pd.Index(frames_to_pick, name=\"frames\")\n",
    "            frame_frequency = frames_idx.value_counts()\n",
    "\n",
    "            if len(frames_to_pick) != new_fps:\n",
    "                raise ValueError(\"Number of frames to pick is not equal to new fps\")\n",
    "\n",
    "            # get id\n",
    "            patient_id = get_id(patient_info, video_count)\n",
    "\n",
    "            set_counter, save_counter, true_frames = run_correct_png(video_path, frames_folder, frame_frequency, new_fps, patient_id, patient_info)\n",
    "\n",
    "            print(f\"\\nSet counter: {set_counter}, save counter: {save_counter}, frame counter: {true_frames}\\n\\n\"+ \"-\"*50)\n",
    "\n",
    "            # check if folder has any corrupted files\n",
    "            corrupted_files = check_for_corrupted_png_files(frames_folder)\n",
    "\n",
    "            # exit if drive storage has less than 50 GB\n",
    "            check_drive_usage(user_drive)\n",
    "            \n",
    "        except Exception as e:\n",
    "            traceback.print_exc()\n",
    "            print(f'''{type(e)}: {e} for video {patient_info[\"filename\"]}''')\n",
    "\n",
    "        break\n",
    "        \n",
    "    return video_folder_list"
   ]
  },
  {
   "cell_type": "code",
   "execution_count": 14,
   "metadata": {},
   "outputs": [],
   "source": [
    "\"\"\" reads JSON file \"\"\"\n",
    "def load_json(json_dir:str, filename:str) -> list[dict]:\n",
    "    full_path = json_dir + \"/\" + filename\n",
    "\n",
    "    with open(full_path, \"r\") as json_data:\n",
    "        data = json.load(json_data)\n",
    "\n",
    "    return(data)"
   ]
  },
  {
   "cell_type": "code",
   "execution_count": 15,
   "metadata": {},
   "outputs": [],
   "source": [
    "def save_folder(list_of_paths:list, log_filename:str) -> None:\n",
    "    if os.path.exists(log_filename):\n",
    "        os.remove(log_filename)\n",
    "    \n",
    "    with open(log_filename, \"a\") as log_data:\n",
    "        for folder in list_of_paths:\n",
    "            log_data.write(f\"{folder}\\n\")"
   ]
  },
  {
   "cell_type": "markdown",
   "metadata": {},
   "source": [
    "## Video to frames (stage 4.3)\n",
    "Based on the desired fps, pick certain frames"
   ]
  },
  {
   "cell_type": "code",
   "execution_count": 16,
   "metadata": {},
   "outputs": [],
   "source": [
    "\"\"\" local vars\"\"\"\n",
    "\n",
    "thermal_fps = {\n",
    "    \"lower_bound\": 5,\n",
    "    \"upper_bound\": 10\n",
    "}"
   ]
  },
  {
   "cell_type": "code",
   "execution_count": 17,
   "metadata": {},
   "outputs": [],
   "source": [
    "\"\"\" load JSON files \"\"\"\n",
    "\n",
    "metadata_thermal = load_json(json_dir, \"/thermal_png_complete.json\")"
   ]
  },
  {
   "cell_type": "code",
   "execution_count": 18,
   "metadata": {},
   "outputs": [],
   "source": [
    "\"\"\" log files to store exported frames \"\"\"\n",
    "\n",
    "thermal_logfile_prefix = log_dir + \"/exported/thermal-exported\""
   ]
  },
  {
   "cell_type": "code",
   "execution_count": 19,
   "metadata": {},
   "outputs": [
    {
     "name": "stdout",
     "output_type": "stream",
     "text": [
      "\n",
      "Adjusting FPS to 5\n",
      "==================================================\n",
      "E:/Christian/DI_centre_structured/DI_THERMAL_FLIR/15/15_1/2 meters/WB/H/frames\n",
      "\n",
      "Saving frames to: E:/Christian/DI_centre_structured/DI_THERMAL_FLIR/15/15_1/2 meters/WB/H/frames_frames_lower_bound\n",
      "Picking frames: [2, 3, 5, 6, 1] per set\n",
      "Expected number of frames: 1310 (5FPS * 262s).\n",
      "\n",
      "Set counter: 262, save counter: 1310, frame counter: 1834\n",
      "\n",
      "--------------------------------------------------\n"
     ]
    }
   ],
   "source": [
    "\"\"\" corrects png frames \"\"\"\n",
    "\n",
    "for level, new_fps in thermal_fps.items():\n",
    "    print(f\"\\nAdjusting FPS to {new_fps}\\n\" + \"=\"*50)\n",
    "    thermal_logfile = thermal_logfile_prefix + \"-\" + level + \"-2.log\"\n",
    "    visited_folders = correct_png(metadata_thermal, level, new_fps, user_drive)\n",
    "    break"
   ]
  }
 ],
 "metadata": {
  "kernelspec": {
   "display_name": "bt-lab",
   "language": "python",
   "name": "python3"
  },
  "language_info": {
   "codemirror_mode": {
    "name": "ipython",
    "version": 3
   },
   "file_extension": ".py",
   "mimetype": "text/x-python",
   "name": "python",
   "nbconvert_exporter": "python",
   "pygments_lexer": "ipython3",
   "version": "3.10.9"
  },
  "orig_nbformat": 4
 },
 "nbformat": 4,
 "nbformat_minor": 2
}
