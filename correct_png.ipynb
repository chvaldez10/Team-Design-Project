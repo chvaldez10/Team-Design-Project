{
 "cells": [
  {
   "cell_type": "markdown",
   "metadata": {},
   "source": [
    "# DI Pre Processing\n",
    "Corrects png files and store them in a new folder\n",
    "<br>\n",
    "<br>\n",
    "Usage: \n",
    "1) Run notebook\n",
    "2) Enter drive where video files are stored \n",
    "<br>\n",
    "<br>\n",
    "\n",
    "Notes:\n",
    "1) Needs JSON files that contains metadata\n",
    "2) Update root directory\n",
    "<br>\n",
    "<br>\n",
    "![UofC logo](./pictures/uofc_logo-black.jpg)"
   ]
  },
  {
   "cell_type": "code",
   "execution_count": 19,
   "metadata": {},
   "outputs": [],
   "source": [
    "#import libraries\n",
    "import os\n",
    "import cv2\n",
    "import json\n",
    "import pandas as pd\n",
    "import numpy as np\n",
    "from timeit import default_timer as timer\n",
    "import psutil\n",
    "import traceback"
   ]
  },
  {
   "cell_type": "code",
   "execution_count": 20,
   "metadata": {},
   "outputs": [
    {
     "data": {
      "text/plain": [
       "''"
      ]
     },
     "execution_count": 20,
     "metadata": {},
     "output_type": "execute_result"
    }
   ],
   "source": [
    "# make sure to update path\n",
    "user_drive = input(\"Enter user drive: \").upper()\n",
    "video_path = f\"{user_drive}:/Christian/DI_centre_structured\"\n",
    "input(f\"Is this the right directory - {video_path}?\")"
   ]
  },
  {
   "cell_type": "code",
   "execution_count": 21,
   "metadata": {},
   "outputs": [],
   "source": [
    "VIDEO_CHARACTERISTICS = {\n",
    "    \"With Blankets\" : \"WB\",\n",
    "    \"B\" : \"WB\",\n",
    "    \"WB\": \"WB\",\n",
    "    \"Without Blankets\" : \"WOB\",\n",
    "    \"WOB\": \"WOB\",\n",
    "    \"3 Meters\" : \"3m\",\n",
    "    \"2 Meters\" : \"2m\",\n",
    "    \"Hold Breath\" : \"HB\",\n",
    "    \"Hold Breathe\" : \"HB\",\n",
    "    \"H\" : \"HB\",\n",
    "    \"Relaxed\" : \"rel\",\n",
    "    \"R\": \"rel\",\n",
    "}"
   ]
  },
  {
   "cell_type": "code",
   "execution_count": 22,
   "metadata": {},
   "outputs": [],
   "source": [
    "repo_dir = os.getcwd()\n",
    "json_dir = repo_dir + \"/records/JSON\"\n",
    "log_dir = repo_dir + \"/records/logs\""
   ]
  },
  {
   "cell_type": "code",
   "execution_count": 23,
   "metadata": {},
   "outputs": [],
   "source": [
    "\"\"\" creates unique id for each scenario \"\"\"\n",
    "\n",
    "def get_id(patient_data: dict, video_count:int) -> str:\n",
    "    alias = patient_data[\"alias\"]\n",
    "    blanket = VIDEO_CHARACTERISTICS.get(patient_data[\"blanket\"], \"?\")\n",
    "    distance = VIDEO_CHARACTERISTICS.get(patient_data[\"distance\"].title(), \"?\")\n",
    "    breathing = VIDEO_CHARACTERISTICS.get(patient_data[\"breathing\"], \"?\")\n",
    "    id = alias + \"-\" + distance + \"-\" + blanket + \"-\" + breathing\n",
    "    id = f\"{alias}_{video_count}-{distance}-{blanket}-{breathing}\"\n",
    "    return id"
   ]
  },
  {
   "cell_type": "code",
   "execution_count": 24,
   "metadata": {},
   "outputs": [],
   "source": [
    "\"\"\" creates folder for exported frames if it does not exist \"\"\"\n",
    "\n",
    "def set_folder(save_folder:str) -> None:\n",
    "    if not os.path.isdir(save_folder):\n",
    "        os.mkdir(save_folder)\n",
    "    else:\n",
    "        for files in os.listdir(save_folder):\n",
    "            os.remove(os.path.join(save_folder, files))"
   ]
  },
  {
   "cell_type": "code",
   "execution_count": 25,
   "metadata": {},
   "outputs": [],
   "source": [
    "class NotEnoughFreeSpace(Exception):\n",
    "    pass"
   ]
  },
  {
   "cell_type": "code",
   "execution_count": 26,
   "metadata": {},
   "outputs": [],
   "source": [
    "\"\"\" gets drives storage \"\"\"\n",
    "\n",
    "def get_drive_storage(user_drive:str):\n",
    "    try:\n",
    "        drive_usage = psutil.disk_usage(user_drive + \":\\\\\")\n",
    "        \n",
    "        # Convert bytes to GB\n",
    "        total_space = drive_usage.total / (1024**3)\n",
    "        used_space = drive_usage.used / (1024**3)\n",
    "        free_space = drive_usage.free / (1024**3)\n",
    "        \n",
    "        return {\n",
    "            'drive_letter': user_drive,\n",
    "            'total_space_GB': total_space,\n",
    "            'used_space_GB': used_space,\n",
    "            'free_space_GB': free_space,\n",
    "        }\n",
    "    except FileNotFoundError:\n",
    "        return f\"Drive {user_drive} not found.\"\n",
    "\n",
    "def check_drive_usage(user_drive:str):\n",
    "    minimum_space = 75\n",
    "    drive_info = get_drive_storage(user_drive)\n",
    "\n",
    "    if drive_info[\"free_space_GB\"] < minimum_space:\n",
    "        raise NotEnoughFreeSpace(f\"Not enough free space on Drive {user_drive}. Minimum {minimum_space} GB required.\")    "
   ]
  },
  {
   "cell_type": "code",
   "execution_count": 27,
   "metadata": {},
   "outputs": [],
   "source": [
    "\"\"\" re samples number of frames \"\"\"\n",
    "\n",
    "def up_sample(old_fps: int, new_fps: int, start:int) -> list[int]:\n",
    "    frames_arr = np.arange(start, old_fps, dtype=int)\n",
    "    frames_interp = np.linspace(start, old_fps-1, new_fps)\n",
    "    nearest_indices = np.round(frames_interp).astype(int)\n",
    "    up_sampled_list = np.take(frames_arr, nearest_indices, mode='wrap')\n",
    "\n",
    "    return up_sampled_list.tolist()"
   ]
  },
  {
   "cell_type": "code",
   "execution_count": 28,
   "metadata": {},
   "outputs": [],
   "source": [
    "\"\"\" checks each png for corruption \"\"\"\n",
    "\n",
    "def is_png_corrupted(file_path):\n",
    "    try:\n",
    "        image = cv2.imread(file_path, cv2.IMREAD_UNCHANGED)\n",
    "        if image is None:\n",
    "            return True\n",
    "        return False\n",
    "    except Exception:\n",
    "        return True\n",
    "\n",
    "def check_for_corrupted_png_files(folder_path):\n",
    "    corrupted_files = []\n",
    "    for root, _, files in os.walk(folder_path):\n",
    "        for file in files:\n",
    "            if file.lower().endswith(\".png\"):\n",
    "                file_path = os.path.join(root, file)\n",
    "                if is_png_corrupted(file_path):\n",
    "                    corrupted_files.append(file_path)\n",
    "    \n",
    "    if len(corrupted_files) != 0:\n",
    "        print(\"Corrupted PNG files found:\")\n",
    "        for file_path in corrupted_files:\n",
    "            print(file_path)           \n",
    "    \n",
    "    return corrupted_files"
   ]
  },
  {
   "cell_type": "code",
   "execution_count": 29,
   "metadata": {},
   "outputs": [],
   "source": [
    "\"\"\" gets folder paths \"\"\"\n",
    "def get_frames_path(local_path: str, level:str) -> list[\"str\"]:\n",
    "    fixed_path = local_path.replace(\"\\\\\", \"/\")\n",
    "    fixed_path_split = fixed_path.split(\"/\")\n",
    "    video_folder = \"/\".join(fixed_path_split[:-1])\n",
    "    video_filename = fixed_path_split[-1].split(\".\")[0]\n",
    "    folder_path = video_folder + f\"/frames_{video_filename}_{level}\"\n",
    "    return [folder_path, video_folder]"
   ]
  },
  {
   "cell_type": "code",
   "execution_count": null,
   "metadata": {},
   "outputs": [],
   "source": [
    "def run_correct_png(all_patients:dict, level: str, new_fps:int, user_drive:str) -> list[str]:\n",
    "    pass"
   ]
  },
  {
   "cell_type": "code",
   "execution_count": 30,
   "metadata": {},
   "outputs": [],
   "source": [
    "\"\"\" driver code for re sampling png files \"\"\"\n",
    "def correct_png(all_patients:list, level: str, new_fps:int, user_drive:str) -> list[str]:\n",
    "    visited_folders = {}  \n",
    "    video_folder_list = []\n",
    "\n",
    "    for patient_idx, patient_info in enumerate(all_patients):\n",
    "        try:\n",
    "            video_path = patient_info[\"local path\"]\n",
    "            old_fps = int(patient_info[\"old fps\"])\n",
    "            \n",
    "            frames_folder, video_folder = get_frames_path(video_path, level)\n",
    "            video_folder_list.append(frames_folder)\n",
    "            visited_folders[video_folder] = visited_folders.get(video_folder, 0) + 1\n",
    "            video_count = visited_folders[video_folder]\n",
    "\n",
    "            frames_to_pick = up_sample(old_fps, new_fps, 1)\n",
    "            frames_idx = pd.Index(frames_to_pick, name=\"frames\")\n",
    "            frame_frequency = frames_idx.value_counts()\n",
    "\n",
    "            if len(frames_to_pick) != new_fps:\n",
    "                raise ValueError(\"Number of frames to pick is not equal to new fps\")\n",
    "\n",
    "            # get id\n",
    "            patient_id = get_id(patient_info, video_count)\n",
    "\n",
    "            print(video_path, frames_folder, new_fps, patient_id)\n",
    "            print(frame_frequency)\n",
    "            \n",
    "        except Exception as e:\n",
    "            traceback.print_exc()\n",
    "            print(f'''{type(e)}: {e} for video {patient_info[\"filename\"]}''')\n",
    "        \n",
    "        break\n",
    "    \n",
    "    return video_folder_list"
   ]
  },
  {
   "cell_type": "code",
   "execution_count": 31,
   "metadata": {},
   "outputs": [],
   "source": [
    "\"\"\" reads JSON file \"\"\"\n",
    "def load_json(json_dir:str, filename:str) -> list[dict]:\n",
    "    full_path = json_dir + \"/\" + filename\n",
    "\n",
    "    with open(full_path, \"r\") as json_data:\n",
    "        data = json.load(json_data)\n",
    "\n",
    "    return(data)"
   ]
  },
  {
   "cell_type": "code",
   "execution_count": 32,
   "metadata": {},
   "outputs": [],
   "source": [
    "def save_folder(list_of_paths:list, log_filename:str) -> None:\n",
    "    if os.path.exists(log_filename):\n",
    "        os.remove(log_filename)\n",
    "    \n",
    "    with open(log_filename, \"a\") as log_data:\n",
    "        for folder in list_of_paths:\n",
    "            log_data.write(f\"{folder}\\n\")"
   ]
  },
  {
   "cell_type": "markdown",
   "metadata": {},
   "source": [
    "## Video to frames (stage 4.3)\n",
    "Based on the desired fps, pick certain frames"
   ]
  },
  {
   "cell_type": "code",
   "execution_count": 33,
   "metadata": {},
   "outputs": [],
   "source": [
    "\"\"\" local vars\"\"\"\n",
    "\n",
    "thermal_fps = {\n",
    "    \"lower_bound\": 5,\n",
    "    \"upper_bound\": 10\n",
    "}"
   ]
  },
  {
   "cell_type": "code",
   "execution_count": 34,
   "metadata": {},
   "outputs": [],
   "source": [
    "\"\"\" load JSON files \"\"\"\n",
    "\n",
    "metadata_thermal = load_json(json_dir, \"/thermal_png_complete.json\")"
   ]
  },
  {
   "cell_type": "code",
   "execution_count": 35,
   "metadata": {},
   "outputs": [],
   "source": [
    "\"\"\" log files to store exported frames \"\"\"\n",
    "\n",
    "thermal_logfile_prefix = log_dir + \"/exported/thermal-exported\""
   ]
  },
  {
   "cell_type": "code",
   "execution_count": 36,
   "metadata": {},
   "outputs": [
    {
     "name": "stdout",
     "output_type": "stream",
     "text": [
      "\n",
      "Adjusting FPS to 5\n",
      "==================================================\n",
      "E:/Christian/DI_centre_structured/DI_THERMAL_FLIR/15/15_1/2 meters/WB/H/frames E:/Christian/DI_centre_structured/DI_THERMAL_FLIR/15/15_1/2 meters/WB/H/frames_frames_lower_bound 5 15_1_1-2m-WB-HB\n",
      "frames\n",
      "2    1\n",
      "3    1\n",
      "5    1\n",
      "6    1\n",
      "1    1\n",
      "Name: count, dtype: int64\n",
      "\n",
      "Adjusting FPS to 10\n",
      "==================================================\n",
      "E:/Christian/DI_centre_structured/DI_THERMAL_FLIR/15/15_1/2 meters/WB/H/frames E:/Christian/DI_centre_structured/DI_THERMAL_FLIR/15/15_1/2 meters/WB/H/frames_frames_upper_bound 10 15_1_1-2m-WB-HB\n",
      "frames\n",
      "3    2\n",
      "4    2\n",
      "5    2\n",
      "6    2\n",
      "2    1\n",
      "1    1\n",
      "Name: count, dtype: int64\n"
     ]
    }
   ],
   "source": [
    "\"\"\" corrects png frames \"\"\"\n",
    "\n",
    "for level, new_fps in thermal_fps.items():\n",
    "    print(f\"\\nAdjusting FPS to {new_fps}\\n\" + \"=\"*50)\n",
    "    thermal_logfile = thermal_logfile_prefix + \"-\" + level + \"-2.log\"\n",
    "    visited_folders = correct_png(metadata_thermal, level, new_fps, user_drive)"
   ]
  }
 ],
 "metadata": {
  "kernelspec": {
   "display_name": "bt-lab",
   "language": "python",
   "name": "python3"
  },
  "language_info": {
   "codemirror_mode": {
    "name": "ipython",
    "version": 3
   },
   "file_extension": ".py",
   "mimetype": "text/x-python",
   "name": "python",
   "nbconvert_exporter": "python",
   "pygments_lexer": "ipython3",
   "version": "3.10.9"
  },
  "orig_nbformat": 4
 },
 "nbformat": 4,
 "nbformat_minor": 2
}
