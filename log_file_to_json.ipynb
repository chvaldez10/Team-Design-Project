{
 "cells": [
  {
   "attachments": {},
   "cell_type": "markdown",
   "metadata": {},
   "source": [
    "# Video Processing for BT Lab\n",
    "This reads all the log files and refactores them to json format\n",
    "<br>\n",
    "<br>\n",
    "![UofC logo](./pictures/uofc_logo-black.jpg)"
   ]
  },
  {
   "cell_type": "code",
   "execution_count": null,
   "metadata": {},
   "outputs": [],
   "source": [
    "#import libraries\n",
    "import os\n",
    "import json"
   ]
  },
  {
   "cell_type": "code",
   "execution_count": null,
   "metadata": {},
   "outputs": [],
   "source": [
    "repo_dir = os.getcwd()"
   ]
  },
  {
   "cell_type": "code",
   "execution_count": null,
   "metadata": {},
   "outputs": [],
   "source": [
    "def extract_info_from_filepath(filepaths:list[str]) -> list[dict]:\n",
    "    all_videos = []\n",
    "    file_info_from_path = {\n",
    "        0 : \"ID\",\n",
    "        1 : \"distance\",\n",
    "        2 : \"blanket\",\n",
    "        3 : \"breathing\",\n",
    "        4 : \"filename\"\n",
    "    }\n",
    "\n",
    "    video_info = {\n",
    "        \"frames\" : None,\n",
    "        \"length\" : None,\n",
    "        \"old fps\" : None,\n",
    "        \"local path\" : None,\n",
    "    }\n",
    "\n",
    "    splice_stop = 5\n",
    "\n",
    "    for filepath in filepaths:\n",
    "        try:\n",
    "            filepath_no_backslash = filepath.replace(\"\\\\\", \"/\")\n",
    "            filepath_to_list = filepath_no_backslash.split(\"/\")\n",
    "            filepath_to_list = filepath_to_list[-splice_stop:]\n",
    "            patient_info = {tag:filepath_to_list[key] for key, tag in file_info_from_path.items() if key<splice_stop}\n",
    "            patient_full_info = {**patient_info, **video_info}\n",
    "            patient_full_info[\"local path\"] = filepath\n",
    "            all_videos.append(patient_full_info)\n",
    "        except Exception as e:\n",
    "            print(f\"{type(e)} from {filepath}\")\n",
    "\n",
    "    return all_videos"
   ]
  },
  {
   "cell_type": "code",
   "execution_count": null,
   "metadata": {},
   "outputs": [],
   "source": [
    "def read_log_files(log_directory:str) -> list[str]:\n",
    "    try:\n",
    "        os.chdir(log_directory)\n",
    "    except Exception as e:\n",
    "        print(type(e))\n",
    "        return video_files\n",
    "\n",
    "    log_files = [dir_file for dir_file in os.listdir() if dir_file.endswith(\".log\")]\n",
    "    video_files = []\n",
    "\n",
    "    for log_file in log_files:\n",
    "        try:\n",
    "            with open(log_file, \"r\") as log_file_data:\n",
    "                log_read = log_file_data.read().split(\"\\n\")\n",
    "                video_files.append(log_read)\n",
    "        except FileNotFoundError as e:\n",
    "            print(type(e))\n",
    "\n",
    "    return video_files"
   ]
  },
  {
   "cell_type": "code",
   "execution_count": null,
   "metadata": {},
   "outputs": [],
   "source": [
    "def switch_dictionary_values(key1:str, key2:str, patient_information:dict) -> None:\n",
    "    new_list = []\n",
    "    for patient in patient_information:\n",
    "        saved_val = patient[key1]\n",
    "        patient[key1] = patient[key2]\n",
    "        patient[key2] = saved_val\n",
    "        new_list.append(patient)\n"
   ]
  },
  {
   "cell_type": "code",
   "execution_count": null,
   "metadata": {},
   "outputs": [],
   "source": [
    "def export_to_json(patients:list[dict], filename:str) -> None:\n",
    "    json_to_export = {}\n",
    "    \n",
    "    for patient_id, patient_info in enumerate(patients):\n",
    "        json_to_export[patient_id] = patient_info\n",
    "    \n",
    "    export_to_json = json.dumps(json_to_export, indent=2)\n",
    "    \n",
    "    with open(filename, \"w\") as json_data:\n",
    "        json_data.write(export_to_json)"
   ]
  },
  {
   "attachments": {},
   "cell_type": "markdown",
   "metadata": {},
   "source": [
    "## Extract information from the exported log files and export to JSON files (stage 1.2)"
   ]
  },
  {
   "cell_type": "code",
   "execution_count": null,
   "metadata": {},
   "outputs": [],
   "source": [
    "records_folder = repo_dir + \"/records\" "
   ]
  },
  {
   "cell_type": "code",
   "execution_count": null,
   "metadata": {},
   "outputs": [],
   "source": [
    "\"\"\"\n",
    "    Read log files\n",
    "\"\"\"\n",
    "\n",
    "logs_folder = records_folder + \"/logs\"\n",
    "video_files = read_log_files(logs_folder)"
   ]
  },
  {
   "cell_type": "code",
   "execution_count": null,
   "metadata": {},
   "outputs": [],
   "source": [
    "\"\"\"\n",
    "    make dictionary out of filenames (rgb)\n",
    "\"\"\"\n",
    "metadata_rgb = extract_info_from_filepath(video_files[0])"
   ]
  },
  {
   "cell_type": "code",
   "execution_count": null,
   "metadata": {},
   "outputs": [],
   "source": [
    "\"\"\"\n",
    "    make dictionary out of filenames(thermal)\n",
    "\"\"\"\n",
    "metadata_thermal = extract_info_from_filepath(video_files[1])\n",
    "metadata_thermal_flipped = switch_dictionary_values(\"blanket\", \"breathing\", metadata_thermal)"
   ]
  },
  {
   "cell_type": "code",
   "execution_count": null,
   "metadata": {},
   "outputs": [],
   "source": [
    "\"\"\"\n",
    "    export to JSON (rgb)\n",
    "\"\"\"\n",
    "export_dir = records_folder + \"/JSON/rgb.json\"\n",
    "export_to_json(metadata_rgb, export_dir)"
   ]
  },
  {
   "cell_type": "code",
   "execution_count": null,
   "metadata": {},
   "outputs": [],
   "source": [
    "\"\"\"\n",
    "    export to JSON (thermal)\n",
    "\"\"\"\n",
    "export_dir = records_folder + \"/JSON/thermal.json\"\n",
    "export_to_json(metadata_thermal, export_dir)"
   ]
  }
 ],
 "metadata": {
  "kernelspec": {
   "display_name": "Python 3.11.4 64-bit",
   "language": "python",
   "name": "python3"
  },
  "language_info": {
   "codemirror_mode": {
    "name": "ipython",
    "version": 3
   },
   "file_extension": ".py",
   "mimetype": "text/x-python",
   "name": "python",
   "nbconvert_exporter": "python",
   "pygments_lexer": "ipython3",
   "version": "3.11.4"
  },
  "orig_nbformat": 4,
  "vscode": {
   "interpreter": {
    "hash": "e7228a7137a92e95012bf2be7e7bd4e027e828c700167ca5a0671652a2d91aff"
   }
  }
 },
 "nbformat": 4,
 "nbformat_minor": 2
}
