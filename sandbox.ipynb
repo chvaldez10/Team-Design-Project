{
 "cells": [
  {
   "attachments": {},
   "cell_type": "markdown",
   "metadata": {},
   "source": [
    "# Video Processing for BT Lab\n",
    "This notebook to test risky code fragments\n",
    "<br>\n",
    "<br>\n",
    "![UofC logo](./pictures/uofc_logo-black.jpg)"
   ]
  },
  {
   "cell_type": "code",
   "execution_count": null,
   "metadata": {},
   "outputs": [],
   "source": [
    "#import libraries\n",
    "import os\n",
    "import cv2\n",
    "import json\n",
    "import re\n",
    "import datetime\n",
    "import time\n",
    "import platform\n",
    "import numpy as np\n",
    "import pandas as pd\n",
    "import shutil"
   ]
  },
  {
   "cell_type": "code",
   "execution_count": null,
   "metadata": {},
   "outputs": [],
   "source": [
    "def get_video_duration(video_path):\n",
    "    # Open the video file\n",
    "    video_capture = cv2.VideoCapture(video_path)\n",
    "\n",
    "    # Get the total number of frames in the video\n",
    "    total_frames = video_capture.get(cv2.CAP_PROP_FRAME_COUNT)\n",
    "\n",
    "    # Get the frames per second (fps) of the video\n",
    "    fps = video_capture.get(cv2.CAP_PROP_FPS)\n",
    "\n",
    "    # Calculate the duration in seconds\n",
    "    duration_seconds = round(total_frames / fps)\n",
    "\n",
    "    # Convert the duration to a human-readable format (HH:MM:SS)\n",
    "    video_time = datetime.timedelta(seconds=duration_seconds)\n",
    "\n",
    "    # Close the video capture object\n",
    "    video_capture.release()\n",
    "\n",
    "    return f\"duration in seconds: {duration_seconds}, video time: {video_time}\"\n"
   ]
  },
  {
   "cell_type": "code",
   "execution_count": null,
   "metadata": {},
   "outputs": [],
   "source": [
    "def count_frames(video_path):\n",
    "    video = cv2.VideoCapture(video_path)\n",
    "    success, frame = video.read()\n",
    "    frame_count = 0\n",
    "\n",
    "    while success:\n",
    "        success, frame = video.read()\n",
    "        \n",
    "        if not success:\n",
    "            break\n",
    "\n",
    "        timestamp_ms = video.get(cv2.CAP_PROP_POS_MSEC)\n",
    "        timestamp_sec = timestamp_ms / 1000.0\n",
    "        print(\"time: \", timestamp_sec, \"frame: \", frame_count)\n",
    "        print(success, frame)\n",
    "        frame_count += 1\n",
    "\n",
    "    print(\"Manual Frame Count: \", frame_count)\n",
    "    video.release()"
   ]
  },
  {
   "cell_type": "code",
   "execution_count": null,
   "metadata": {},
   "outputs": [],
   "source": [
    "def re_sample(old_fps: int, new_fps: int) -> list[int]:\n",
    "    frames_arr = np.arange(0, old_fps, dtype=int)\n",
    "    frames_interp = np.linspace(0, old_fps - 1, new_fps)\n",
    "    nearest_indices = np.round(frames_interp).astype(int)\n",
    "    up_sampled_list = np.take(frames_arr, nearest_indices, mode='wrap')\n",
    "\n",
    "    return up_sampled_list.tolist()"
   ]
  },
  {
   "cell_type": "code",
   "execution_count": null,
   "metadata": {},
   "outputs": [],
   "source": [
    "def create_video_from_png(png_folder, output_video_path, fps=30):\n",
    "    png_files = [f for f in os.listdir(png_folder) if f.endswith('.png')]\n",
    "    \n",
    "    if not png_files:\n",
    "        print(f\"No PNG files found in the folder '{png_folder}'.\")\n",
    "        return\n",
    "\n",
    "    png_files.sort()\n",
    "\n",
    "    first_image = cv2.imread(os.path.join(png_folder, png_files[0]))\n",
    "    height, width, _ = first_image.shape\n",
    "\n",
    "    fourcc = cv2.VideoWriter_fourcc(*'mp4v')  # Use 'XVID' for AVI format on Windows\n",
    "    out = cv2.VideoWriter(output_video_path, fourcc, fps, (width, height))\n",
    "\n",
    "    for png_file in png_files:\n",
    "        img_path = os.path.join(png_folder, png_file)\n",
    "        img = cv2.imread(img_path)\n",
    "        out.write(img)\n",
    "\n",
    "    out.release()\n",
    "    cv2.destroyAllWindows()\n",
    "    \n",
    "    print(f\"Video successfully created at '{output_video_path}'.\")"
   ]
  },
  {
   "cell_type": "code",
   "execution_count": null,
   "metadata": {},
   "outputs": [],
   "source": [
    "def get_creation_time(file_path):\n",
    "    if platform.system() == 'Windows':\n",
    "        # For Windows, use the GetFileTime function\n",
    "        file_time = os.path.getctime(file_path)\n",
    "    else:\n",
    "        # For other platforms like macOS or Linux, use the stat function\n",
    "        stat = os.stat(file_path)\n",
    "        file_time = stat.st_ctime\n",
    "\n",
    "    return time.strftime('%Y-%m-%d %H:%M:%S', time.localtime(file_time))"
   ]
  },
  {
   "cell_type": "code",
   "execution_count": null,
   "metadata": {},
   "outputs": [],
   "source": [
    "def move_png(log_file):\n",
    "    with open(log_file, \"r\") as log_data:\n",
    "        video_files = log_data.read().split(\"\\n\")\n",
    "    print(video_files[0])\n",
    "\n",
    "    for video in video_files:\n",
    "        str_list = video.split(\"/\")\n",
    "        folder_name = \"/\".join(str_list[0:-1])\n",
    "        video_filename = str_list[-1]\n",
    "        output_folder = folder_name + \"/\" + \"frames\"\n",
    "\n",
    "        if(video_filename.endswith(\"png\")):\n",
    "            print(folder_name, video_filename)\n",
    "\n",
    "            if (not os.path.exists(output_folder)):\n",
    "                os.makedirs(output_folder)\n",
    "\n",
    "            try:\n",
    "                shutil.move(video, output_folder)\n",
    "            except Exception as e:\n",
    "                print(f\"{e}\")\n",
    "            "
   ]
  },
  {
   "cell_type": "code",
   "execution_count": null,
   "metadata": {},
   "outputs": [],
   "source": [
    "log_file = r\"C:\\Users\\chris\\Documents\\Projects Outside of School\\repo\\Video-Processing\\records\\logs\\filenames.log\"\n",
    "move_png(log_file)"
   ]
  },
  {
   "cell_type": "code",
   "execution_count": null,
   "metadata": {},
   "outputs": [],
   "source": [
    "# Example usage:\n",
    "png_folder_path = r\"E:\\DI_centre_structured\\DI_THERMAL_FLIR\\15\\15_2\\15_2nd_2meters\\15_2nd_hold_blanket_2meters\\15_frames\"\n",
    "output_video_path = r\"E:\\DI_centre_structured\\DI_THERMAL_FLIR\\15\\15_2\\15_2nd_2meters\\15_2nd_hold_blanket_2meters\\output_video.mp4\"\n",
    "create_video_from_png(png_folder_path, output_video_path)"
   ]
  },
  {
   "cell_type": "code",
   "execution_count": null,
   "metadata": {},
   "outputs": [],
   "source": [
    "file_path = r\"E:\\DI_centre_structured\\DI_THERMAL_FLIR\\15\\15_2\\15_2nd_2meters\\15_2nd_hold_blanket_2meters\\15_frames\\2nd_try-12232022094224-0.png\"\n",
    "\n",
    "try:\n",
    "    creation_time = get_creation_time(file_path)\n",
    "    print(f\"File creation time: {creation_time}\")\n",
    "except FileNotFoundError:\n",
    "    print(\"File not found.\")\n",
    "except Exception as e:\n",
    "    print(f\"An error occurred: {e}\")"
   ]
  },
  {
   "cell_type": "code",
   "execution_count": null,
   "metadata": {},
   "outputs": [],
   "source": [
    "file_path = r\"E:\\DI_centre_structured\\DI_THERMAL_FLIR\\15\\15_2\\15_2nd_2meters\\15_2nd_hold_blanket_2meters\\15_frames\\2nd_try-12232022094334-2113.png\"\n",
    "\n",
    "try:\n",
    "    creation_time = get_creation_time(file_path)\n",
    "    print(f\"File creation time: {creation_time}\")\n",
    "except FileNotFoundError:\n",
    "    print(\"File not found.\")\n",
    "except Exception as e:\n",
    "    print(f\"An error occurred: {e}\")"
   ]
  }
 ],
 "metadata": {
  "kernelspec": {
   "display_name": "Python 3",
   "language": "python",
   "name": "python3"
  },
  "language_info": {
   "codemirror_mode": {
    "name": "ipython",
    "version": 3
   },
   "file_extension": ".py",
   "mimetype": "text/x-python",
   "name": "python",
   "nbconvert_exporter": "python",
   "pygments_lexer": "ipython3",
   "version": "3.11.4"
  },
  "orig_nbformat": 4
 },
 "nbformat": 4,
 "nbformat_minor": 2
}
