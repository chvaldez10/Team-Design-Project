{
 "cells": [
  {
   "attachments": {},
   "cell_type": "markdown",
   "metadata": {},
   "source": [
    "# Video Processing for BT Lab\n",
    "This notebook to test risky code fragments\n",
    "<br>\n",
    "<br>\n",
    "![UofC logo](./pictures/uofc_logo-black.jpg)"
   ]
  },
  {
   "cell_type": "code",
   "execution_count": 64,
   "metadata": {},
   "outputs": [],
   "source": [
    "#import libraries\n",
    "import os\n",
    "import cv2\n",
    "import json\n",
    "import re\n",
    "import datetime\n",
    "import time\n",
    "import numpy as np\n",
    "import pandas as pd"
   ]
  },
  {
   "cell_type": "code",
   "execution_count": null,
   "metadata": {},
   "outputs": [],
   "source": [
    "def get_video_duration(video_path):\n",
    "    # Open the video file\n",
    "    video_capture = cv2.VideoCapture(video_path)\n",
    "\n",
    "    # Get the total number of frames in the video\n",
    "    total_frames = video_capture.get(cv2.CAP_PROP_FRAME_COUNT)\n",
    "\n",
    "    # Get the frames per second (fps) of the video\n",
    "    fps = video_capture.get(cv2.CAP_PROP_FPS)\n",
    "\n",
    "    # Calculate the duration in seconds\n",
    "    duration_seconds = round(total_frames / fps)\n",
    "\n",
    "    # Convert the duration to a human-readable format (HH:MM:SS)\n",
    "    video_time = datetime.timedelta(seconds=duration_seconds)\n",
    "\n",
    "    # Close the video capture object\n",
    "    video_capture.release()\n",
    "\n",
    "    return f\"duration in seconds: {duration_seconds}, video time: {video_time}\"\n"
   ]
  },
  {
   "cell_type": "code",
   "execution_count": null,
   "metadata": {},
   "outputs": [],
   "source": [
    "def count_frames(video_path):\n",
    "    video = cv2.VideoCapture(video_path)\n",
    "    success, frame = video.read()\n",
    "    frame_count = 0\n",
    "\n",
    "    while success:\n",
    "        success, frame = video.read()\n",
    "        \n",
    "        if not success:\n",
    "            break\n",
    "\n",
    "        timestamp_ms = video.get(cv2.CAP_PROP_POS_MSEC)\n",
    "        timestamp_sec = timestamp_ms / 1000.0\n",
    "        print(\"time: \", timestamp_sec, \"frame: \", frame_count)\n",
    "        print(success, frame)\n",
    "        frame_count += 1\n",
    "\n",
    "    print(\"Manual Frame Count: \", frame_count)\n",
    "    video.release()"
   ]
  },
  {
   "cell_type": "code",
   "execution_count": 56,
   "metadata": {},
   "outputs": [],
   "source": [
    "def re_sample(old_fps: int, new_fps: int) -> list[int]:\n",
    "    frames_arr = np.arange(0, old_fps, dtype=int)\n",
    "    frames_interp = np.linspace(0, old_fps - 1, new_fps)\n",
    "    nearest_indices = np.round(frames_interp).astype(int)\n",
    "    up_sampled_list = np.take(frames_arr, nearest_indices, mode='wrap')\n",
    "\n",
    "    return up_sampled_list.tolist()"
   ]
  }
 ],
 "metadata": {
  "kernelspec": {
   "display_name": "Python 3",
   "language": "python",
   "name": "python3"
  },
  "language_info": {
   "codemirror_mode": {
    "name": "ipython",
    "version": 3
   },
   "file_extension": ".py",
   "mimetype": "text/x-python",
   "name": "python",
   "nbconvert_exporter": "python",
   "pygments_lexer": "ipython3",
   "version": "3.10.9"
  },
  "orig_nbformat": 4
 },
 "nbformat": 4,
 "nbformat_minor": 2
}
