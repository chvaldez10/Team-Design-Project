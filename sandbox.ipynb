{
 "cells": [
  {
   "attachments": {},
   "cell_type": "markdown",
   "metadata": {},
   "source": [
    "# Video Processing for BT Lab\n",
    "This notebook to test code fragments\n",
    "<br>\n",
    "<br>\n",
    "![UofC logo](./pictures/uofc_logo-black.jpg)"
   ]
  },
  {
   "cell_type": "code",
   "execution_count": 3,
   "metadata": {},
   "outputs": [
    {
     "name": "stderr",
     "output_type": "stream",
     "text": [
      "C:\\Users\\chris\\AppData\\Local\\Temp\\ipykernel_26956\\2773291406.py:14: DeprecationWarning: 'imghdr' is deprecated and slated for removal in Python 3.13\n",
      "  import imghdr\n"
     ]
    }
   ],
   "source": [
    "#import libraries\n",
    "import os\n",
    "import cv2\n",
    "import json\n",
    "import re\n",
    "import datetime\n",
    "import time\n",
    "import platform\n",
    "import numpy as np\n",
    "import pandas as pd\n",
    "import shutil\n",
    "import glob\n",
    "import io\n",
    "import imghdr\n",
    "from PIL import Image"
   ]
  },
  {
   "cell_type": "code",
   "execution_count": 14,
   "metadata": {},
   "outputs": [
    {
     "name": "stdout",
     "output_type": "stream",
     "text": [
      "Corrupted PNG files found:\n",
      "C:/Christian/DI_centre_structured/DI_CAMERA_P3225/Final/Arun/2 Meters/With Blankets/Hold Breath/frames_Arun2_lower_bound\\frame_6969.png\n"
     ]
    }
   ],
   "source": [
    "import os\n",
    "import cv2\n",
    "\n",
    "def is_png_corrupted(file_path):\n",
    "    try:\n",
    "        image = cv2.imread(file_path, cv2.IMREAD_UNCHANGED)\n",
    "        if image is None:\n",
    "            return True\n",
    "        return False\n",
    "    except Exception:\n",
    "        return True\n",
    "\n",
    "def check_for_corrupted_png_files(folder_path):\n",
    "    corrupted_files = []\n",
    "    for root, _, files in os.walk(folder_path):\n",
    "        for file in files:\n",
    "            if file.lower().endswith(\".png\"):\n",
    "                file_path = os.path.join(root, file)\n",
    "                if is_png_corrupted(file_path):\n",
    "                    corrupted_files.append(file_path)\n",
    "\n",
    "    return corrupted_files\n",
    "\n",
    "if __name__ == \"__main__\":\n",
    "    folder_path = 'C:/Christian/DI_centre_structured/DI_CAMERA_P3225/Final/Arun/2 Meters/With Blankets/Hold Breath/frames_Arun2_lower_bound'  # Replace with the actual folder path containing PNG files\n",
    "    corrupted_files = check_for_corrupted_png_files(folder_path)\n",
    "    \n",
    "    if len(corrupted_files) == 0:\n",
    "        print(\"No corrupted PNG files found.\")\n",
    "    else:\n",
    "        print(\"Corrupted PNG files found:\")\n",
    "        for file_path in corrupted_files:\n",
    "            print(file_path)"
   ]
  },
  {
   "cell_type": "code",
   "execution_count": 10,
   "metadata": {},
   "outputs": [
    {
     "name": "stdout",
     "output_type": "stream",
     "text": [
      "[[[127 127 127]\n",
      "  [122 122 122]\n",
      "  [127 127 127]\n",
      "  ...\n",
      "  [122 122 120]\n",
      "  [135 135 133]\n",
      "  [142 142 140]]\n",
      "\n",
      " [[128 128 128]\n",
      "  [125 125 125]\n",
      "  [128 128 128]\n",
      "  ...\n",
      "  [121 121 119]\n",
      "  [123 123 121]\n",
      "  [125 125 123]]\n",
      "\n",
      " [[129 129 129]\n",
      "  [132 132 132]\n",
      "  [129 129 129]\n",
      "  ...\n",
      "  [123 123 121]\n",
      "  [121 121 119]\n",
      "  [120 120 118]]\n",
      "\n",
      " ...\n",
      "\n",
      " [[128 128 128]\n",
      "  [129 129 129]\n",
      "  [123 123 123]\n",
      "  ...\n",
      "  [126 126 126]\n",
      "  [126 126 126]\n",
      "  [126 126 126]]\n",
      "\n",
      " [[136 136 136]\n",
      "  [129 129 129]\n",
      "  [123 123 123]\n",
      "  ...\n",
      "  [126 126 126]\n",
      "  [126 126 126]\n",
      "  [126 126 126]]\n",
      "\n",
      " [[140 140 140]\n",
      "  [129 129 129]\n",
      "  [123 123 123]\n",
      "  ...\n",
      "  [126 126 126]\n",
      "  [126 126 126]\n",
      "  [126 126 126]]]\n"
     ]
    }
   ],
   "source": [
    "png_file = r\"C:\\Users\\chris\\Documents\\Projects Outside of School\\repo\\Video-Processing\\frame_6969.png\"\n",
    "png_file2 = r\"C:\\Christian\\DI_centre_structured\\DI_CAMERA_P3225\\Final\\Arun\\2 Meters\\With Blankets\\Hold Breath\\frames_Arun2_lower_bound\\frame_0.png\"\n",
    "\n",
    "image = cv2.imread(png_file2, cv2.IMREAD_UNCHANGED)\n",
    "print(image)"
   ]
  },
  {
   "cell_type": "code",
   "execution_count": 12,
   "metadata": {},
   "outputs": [],
   "source": [
    "def create_corrupted_png(file_path):\n",
    "    # Create a random numpy array (this will be treated as an image)\n",
    "    image = np.random.randint(0, 256, size=(100, 100, 3), dtype=np.uint8)\n",
    "    \n",
    "    # Write the numpy array to a PNG file\n",
    "    cv2.imwrite(file_path, image)\n",
    "    \n",
    "    # Now, let's manually corrupt the file by overwriting a part of it\n",
    "    with open(file_path, \"rb+\") as file:\n",
    "        file.seek(10)  # Move to an arbitrary position in the file\n",
    "        file.write(b\"corruption\")  # Write some random data to corrupt the file"
   ]
  },
  {
   "cell_type": "code",
   "execution_count": 13,
   "metadata": {},
   "outputs": [],
   "source": [
    "png_file = \"C:/Users/chris/Documents/Projects Outside of School/repo/Video-Processing/frame_0.png\"\n",
    "create_corrupted_png(png_file)"
   ]
  }
 ],
 "metadata": {
  "kernelspec": {
   "display_name": "Python 3.11.4 64-bit",
   "language": "python",
   "name": "python3"
  },
  "language_info": {
   "codemirror_mode": {
    "name": "ipython",
    "version": 3
   },
   "file_extension": ".py",
   "mimetype": "text/x-python",
   "name": "python",
   "nbconvert_exporter": "python",
   "pygments_lexer": "ipython3",
   "version": "3.11.4"
  },
  "orig_nbformat": 4,
  "vscode": {
   "interpreter": {
    "hash": "e7228a7137a92e95012bf2be7e7bd4e027e828c700167ca5a0671652a2d91aff"
   }
  }
 },
 "nbformat": 4,
 "nbformat_minor": 2
}
