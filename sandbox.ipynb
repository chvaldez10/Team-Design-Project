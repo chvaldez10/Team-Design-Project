{
 "cells": [
  {
   "attachments": {},
   "cell_type": "markdown",
   "metadata": {},
   "source": [
    "# Video Processing for BT Lab\n",
    "This notebook to test code fragments\n",
    "<br>\n",
    "<br>\n",
    "![UofC logo](./pictures/uofc_logo-black.jpg)"
   ]
  },
  {
   "cell_type": "code",
   "execution_count": 1,
   "metadata": {},
   "outputs": [],
   "source": [
    "#import libraries\n",
    "import os\n",
    "import cv2\n",
    "import json\n",
    "import re\n",
    "import datetime\n",
    "import time\n",
    "import platform\n",
    "import numpy as np\n",
    "import pandas as pd\n",
    "import shutil"
   ]
  },
  {
   "cell_type": "code",
   "execution_count": 2,
   "metadata": {},
   "outputs": [
    {
     "name": "stdout",
     "output_type": "stream",
     "text": [
      "Drive Information:\n",
      "Drive Letter: C\n",
      "Total Space: 457.8987464904785 GB\n",
      "Used Space: 155.39380645751953 GB\n",
      "Free Space: 302.504940032959 GB\n"
     ]
    }
   ],
   "source": [
    "import psutil\n",
    "\n",
    "def get_drive_storage(drive_letter):\n",
    "    try:\n",
    "        drive_usage = psutil.disk_usage(drive_letter + \":\\\\\")\n",
    "        total_space = drive_usage.total / (1024**3)  # Convert bytes to GB\n",
    "        used_space = drive_usage.used / (1024**3)\n",
    "        free_space = drive_usage.free / (1024**3)\n",
    "        \n",
    "        return {\n",
    "            'drive_letter': drive_letter,\n",
    "            'total_space_GB': total_space,\n",
    "            'used_space_GB': used_space,\n",
    "            'free_space_GB': free_space,\n",
    "        }\n",
    "    except FileNotFoundError:\n",
    "        return f\"Drive {drive_letter} not found.\"\n",
    "\n",
    "if __name__ == \"__main__\":\n",
    "    drive_letter = input(\"Enter the drive letter (e.g., C, D, E): \").upper()\n",
    "    drive_info = get_drive_storage(drive_letter)\n",
    "    \n",
    "    if isinstance(drive_info, str):\n",
    "        print(drive_info)\n",
    "    else:\n",
    "        print(\"Drive Information:\")\n",
    "        print(f\"Drive Letter: {drive_info['drive_letter']}\")\n",
    "        print(f\"Total Space: {drive_info['total_space_GB']} GB\")\n",
    "        print(f\"Used Space: {drive_info['used_space_GB']} GB\")\n",
    "        print(f\"Free Space: {drive_info['free_space_GB']} GB\")\n"
   ]
  },
  {
   "cell_type": "code",
   "execution_count": 5,
   "metadata": {},
   "outputs": [
    {
     "name": "stdout",
     "output_type": "stream",
     "text": [
      "<class 'float'>\n",
      "here\n"
     ]
    }
   ],
   "source": [
    "print(type(drive_info['free_space_GB']))\n",
    "\n",
    "if drive_info[\"free_space_GB\"] < 350:\n",
    "    print(\"here\")\n",
    "    assert(\"Drive storage is too small\")"
   ]
  },
  {
   "cell_type": "code",
   "execution_count": 7,
   "metadata": {},
   "outputs": [],
   "source": [
    "class NotEnoughFreeSpace(Exception):\n",
    "    pass"
   ]
  },
  {
   "cell_type": "code",
   "execution_count": 8,
   "metadata": {},
   "outputs": [
    {
     "name": "stdout",
     "output_type": "stream",
     "text": [
      "here\n",
      "type: Not enough free space on Drive C. Minimum 350 GB required.\n"
     ]
    }
   ],
   "source": [
    "try:\n",
    "    if drive_info[\"free_space_GB\"] < 350:\n",
    "        print(\"here\")\n",
    "        raise NotEnoughFreeSpace(f\"Not enough free space on Drive {drive_letter}. Minimum 350 GB required.\")\n",
    "except Exception as e:\n",
    "    print(f\"type: {e}\")"
   ]
  }
 ],
 "metadata": {
  "kernelspec": {
   "display_name": "Python 3",
   "language": "python",
   "name": "python3"
  },
  "language_info": {
   "codemirror_mode": {
    "name": "ipython",
    "version": 3
   },
   "file_extension": ".py",
   "mimetype": "text/x-python",
   "name": "python",
   "nbconvert_exporter": "python",
   "pygments_lexer": "ipython3",
   "version": "3.11.4"
  },
  "orig_nbformat": 4
 },
 "nbformat": 4,
 "nbformat_minor": 2
}
