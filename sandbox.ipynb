{
 "cells": [
  {
   "attachments": {},
   "cell_type": "markdown",
   "metadata": {},
   "source": [
    "# Video Processing for BT Lab\n",
    "This notebook to test risky code fragments\n",
    "<br>\n",
    "<br>\n",
    "![UofC logo](./pictures/uofc_logo-black.jpg)"
   ]
  },
  {
   "cell_type": "code",
   "execution_count": 1,
   "metadata": {},
   "outputs": [],
   "source": [
    "#import libraries\n",
    "import os\n",
    "import cv2\n",
    "import json\n",
    "import re\n",
    "import datetime\n",
    "import time\n",
    "import numpy as np"
   ]
  },
  {
   "cell_type": "code",
   "execution_count": 2,
   "metadata": {},
   "outputs": [
    {
     "data": {
      "text/plain": [
       "'delete unwanted files'"
      ]
     },
     "execution_count": 2,
     "metadata": {},
     "output_type": "execute_result"
    }
   ],
   "source": [
    "\"\"\"delete unwanted files\"\"\"\n",
    "# desired_path = r\"D:\\Christian\\DI_centre_structured\\DI_THERMAL_FLIR\\3\\2 meters\\H\\WOB\\frames\"\n",
    "# os.chdir(desired_path)\n",
    "# copied_files = [bmp_files for bmp_files in os.listdir() if \"Copy\" in bmp_files]\n",
    "# copied_files"
   ]
  },
  {
   "cell_type": "code",
   "execution_count": 3,
   "metadata": {},
   "outputs": [],
   "source": [
    "# for copy_file in copied_files:\n",
    "#     os.remove(copy_file)"
   ]
  },
  {
   "cell_type": "code",
   "execution_count": 8,
   "metadata": {},
   "outputs": [],
   "source": [
    "def get_video_duration(video_path):\n",
    "    # Open the video file\n",
    "    video_capture = cv2.VideoCapture(video_path)\n",
    "\n",
    "    # Get the total number of frames in the video\n",
    "    total_frames = video_capture.get(cv2.CAP_PROP_FRAME_COUNT)\n",
    "\n",
    "    # Get the frames per second (fps) of the video\n",
    "    fps = video_capture.get(cv2.CAP_PROP_FPS)\n",
    "\n",
    "    # Calculate the duration in seconds\n",
    "    duration_seconds = round(total_frames / fps)\n",
    "\n",
    "    # Convert the duration to a human-readable format (HH:MM:SS)\n",
    "    video_time = datetime.timedelta(seconds=duration_seconds)\n",
    "\n",
    "    # Close the video capture object\n",
    "    video_capture.release()\n",
    "\n",
    "    return f\"duration in seconds: {duration_seconds}, video time: {video_time}\"\n"
   ]
  },
  {
   "cell_type": "code",
   "execution_count": 9,
   "metadata": {},
   "outputs": [
    {
     "name": "stdout",
     "output_type": "stream",
     "text": [
      "duration in seconds: 73, video time: 0:01:13\n"
     ]
    }
   ],
   "source": [
    "video_path = \"D:/Christian/DI_centre_structured/DI_CAMERA_P3225/Final/Arun/2 Meters/With Blankets/Hold Breath/Arun2.mp4\"\n",
    "duration = get_video_duration(video_path)\n",
    "print(duration)"
   ]
  }
 ],
 "metadata": {
  "kernelspec": {
   "display_name": "Python 3",
   "language": "python",
   "name": "python3"
  },
  "language_info": {
   "codemirror_mode": {
    "name": "ipython",
    "version": 3
   },
   "file_extension": ".py",
   "mimetype": "text/x-python",
   "name": "python",
   "nbconvert_exporter": "python",
   "pygments_lexer": "ipython3",
   "version": "3.11.3"
  },
  "orig_nbformat": 4
 },
 "nbformat": 4,
 "nbformat_minor": 2
}
