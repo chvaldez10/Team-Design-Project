{
 "cells": [
  {
   "cell_type": "markdown",
   "metadata": {},
   "source": [
    "# Video Processing for BT Lab\n",
    "Functions to check if run is good\n",
    "<br>\n",
    "<br>\n",
    "![UofC logo](./pictures/uofc_logo-black.jpg)"
   ]
  },
  {
   "cell_type": "code",
   "execution_count": null,
   "metadata": {},
   "outputs": [],
   "source": [
    "#import libraries\n",
    "import os\n",
    "import re\n",
    "import json\n",
    "from pathlib import Path\n",
    "import numpy as np\n",
    "import pandas as pd\n",
    "from timeit import default_timer as timer\n",
    "import cv2\n",
    "from PIL import Image\n",
    "from typing import List, Optional, Tuple\n",
    "import logging\n",
    "\n",
    "# plot\n",
    "from matplotlib import pyplot as plt\n",
    "import matplotlib.patches as patches"
   ]
  },
  {
   "cell_type": "code",
   "execution_count": null,
   "metadata": {},
   "outputs": [],
   "source": [
    "# faster r-cnn\n",
    "import torch\n",
    "import torchvision.transforms as T\n",
    "from torchvision.models.detection import fasterrcnn_resnet50_fpn"
   ]
  },
  {
   "cell_type": "code",
   "execution_count": null,
   "metadata": {},
   "outputs": [],
   "source": [
    "# import sk libraries\n",
    "from sklearn.model_selection import train_test_split"
   ]
  },
  {
   "cell_type": "code",
   "execution_count": null,
   "metadata": {},
   "outputs": [],
   "source": [
    "# make sure to update path\n",
    "user_drive = input(\"Enter user drive: \").upper()\n",
    "video_path = f\"{user_drive}:/Christian/DI_centre_structured\"\n",
    "input(f\"Is this the right directory - {video_path}?\")"
   ]
  },
  {
   "cell_type": "code",
   "execution_count": 124,
   "metadata": {},
   "outputs": [],
   "source": [
    "VIDEO_CHARACTERISTICS = {\n",
    "    \"With Blankets\" : \"WB\",\n",
    "    \"B\" : \"WB\",\n",
    "    \"Without Blankets\" : \"WOB\",\n",
    "    \"WOB\": \"WOB\",\n",
    "    \"3 Meters\" : \"3m\",\n",
    "    \"2 Meters\" : \"2m\",\n",
    "    \"Hold Breath\" : \"HB\",\n",
    "    \"Hold Breathe\" : \"HB\",\n",
    "    \"H\" : \"HB\",\n",
    "    \"Relaxed\" : \"rel\",\n",
    "    \"R\": \"rel\",\n",
    "}\n",
    "\n",
    "# for testing\n",
    "FRAME_LIMIT = 100\n",
    "\n",
    "# crop coordinates\n",
    "CROP_COORDINATES = [149.4695281982422, 339.5044250488281, 1638.6331787109375, 1006.5230102539062]"
   ]
  },
  {
   "cell_type": "code",
   "execution_count": null,
   "metadata": {},
   "outputs": [],
   "source": [
    "# local dirs\n",
    "repo_dir = os.getcwd()\n",
    "json_dir = repo_dir + \"/records/JSON\"\n",
    "log_dir = repo_dir + \"/records/logs\""
   ]
  },
  {
   "cell_type": "code",
   "execution_count": null,
   "metadata": {},
   "outputs": [],
   "source": [
    "def get_video_frame_paths(local_path: str, level: str) -> List[str]:\n",
    "    \"\"\"\n",
    "    Constructs and returns paths related to video frames.\n",
    "\n",
    "    Parameters:\n",
    "    local_path (str): The local file path of the video.\n",
    "    level (str): The detail level for the frames.\n",
    "\n",
    "    Returns:\n",
    "    List[str]: A list containing the folder path for frames and the video folder path.\n",
    "    \"\"\"\n",
    "    video_folder, video_filename_with_ext = os.path.split(local_path)\n",
    "    video_filename = os.path.splitext(video_filename_with_ext)[0]\n",
    "    folder_path = os.path.join(video_folder, f\"frames_{video_filename}_{level}\")\n",
    "    return [folder_path, video_folder]"
   ]
  },
  {
   "cell_type": "code",
   "execution_count": null,
   "metadata": {},
   "outputs": [],
   "source": [
    "def resample_frames(old_fps: int, new_fps: int, start: int) -> List[int]:\n",
    "    \"\"\"\n",
    "    Resamples the number of frames from an old frame rate to a new frame rate. \n",
    "    This function can handle both upsampling and downsampling.\n",
    "\n",
    "    Parameters:\n",
    "    old_fps (int): The original frames per second.\n",
    "    new_fps (int): The new frames per second to resample to.\n",
    "    start (int): The starting frame index.\n",
    "\n",
    "    Returns:\n",
    "    List[int]: A list of frame indices after resampling.\n",
    "\n",
    "    Raises:\n",
    "    ValueError: If old_fps or new_fps are non-positive integers.\n",
    "    \"\"\"\n",
    "    if old_fps <= 0 or new_fps <= 0:\n",
    "        raise ValueError(\"old_fps and new_fps must be positive integers.\")\n",
    "\n",
    "    original_frame_indices = np.arange(start, old_fps, dtype=int)\n",
    "    interpolated_frame_positions = np.linspace(start, old_fps - 1, new_fps)\n",
    "    nearest_frame_indices = np.round(interpolated_frame_positions).astype(int)\n",
    "    resampled_frame_indices = np.take(original_frame_indices, nearest_frame_indices, mode='wrap')\n",
    "\n",
    "    return resampled_frame_indices.tolist()"
   ]
  },
  {
   "cell_type": "code",
   "execution_count": null,
   "metadata": {},
   "outputs": [],
   "source": [
    "def create_patient_video_id(patient_data: dict, video_count: int) -> str:\n",
    "    \"\"\"\n",
    "    Creates a unique ID for a patient video scenario.\n",
    "\n",
    "    Parameters:\n",
    "    patient_data (dict): Dictionary containing patient information.\n",
    "    video_count (int): The count of videos for the patient.\n",
    "\n",
    "    Returns:\n",
    "    str: A unique ID string for the video.\n",
    "    \"\"\"\n",
    "    alias = patient_data.get(\"alias\", \"Unknown\")\n",
    "    blanket = VIDEO_CHARACTERISTICS.get(patient_data.get(\"blanket\", \"\"), \"?\")\n",
    "    distance = VIDEO_CHARACTERISTICS.get(patient_data.get(\"distance\", \"\").title(), \"?\")\n",
    "    breathing = VIDEO_CHARACTERISTICS.get(patient_data.get(\"breathing\", \"\"), \"?\")\n",
    "\n",
    "    return f\"{alias}_{video_count}-{distance}-{blanket}-{breathing}\""
   ]
  },
  {
   "cell_type": "code",
   "execution_count": 106,
   "metadata": {},
   "outputs": [],
   "source": [
    "def set_folder(save_folder: str) -> None:\n",
    "    \"\"\"\n",
    "    Ensures the specified folder exists and is empty.\n",
    "    If the folder doesn't exist, it is created. If it exists, its contents are removed.\n",
    "\n",
    "    Args:\n",
    "    save_folder (str): The path to the folder.\n",
    "    \"\"\"\n",
    "    folder_path = Path(save_folder)\n",
    "    if not folder_path.is_dir():\n",
    "        folder_path.mkdir(parents=True, exist_ok=True)\n",
    "    else:\n",
    "        try:\n",
    "            for file_name in folder_path.iterdir():\n",
    "                if file_name.is_file():\n",
    "                    file_name.unlink()\n",
    "        except OSError as e:\n",
    "            print(f\"Error: {e}\")"
   ]
  },
  {
   "cell_type": "code",
   "execution_count": null,
   "metadata": {},
   "outputs": [],
   "source": [
    "def folder_exists(folder_path: str) -> bool:\n",
    "    \"\"\"Checks if the specified folder exists.\"\"\"\n",
    "    return os.path.exists(folder_path)"
   ]
  },
  {
   "cell_type": "code",
   "execution_count": null,
   "metadata": {},
   "outputs": [],
   "source": [
    "def extract_video_metadata(video_path: str) -> Tuple[int, int]:\n",
    "    \"\"\"Extracts metadata from the video file.\"\"\"\n",
    "    video = cv2.VideoCapture(video_path)\n",
    "    if not video.isOpened():\n",
    "        raise RuntimeError(f\"Failed to open video file {video_path}\")\n",
    "\n",
    "    try:\n",
    "        vid_fps = int(video.get(cv2.CAP_PROP_FPS))\n",
    "        total_frames = int(video.get(cv2.CAP_PROP_FRAME_COUNT))\n",
    "    finally:\n",
    "        video.release()\n",
    "\n",
    "    return vid_fps, total_frames\n",
    "\n",
    "def calculate_expected_frame_count(vid_fps: int, total_frames: int, new_fps: int) -> int:\n",
    "    \"\"\"Calculates the expected number of frames.\"\"\"\n",
    "    vid_duration = total_frames // vid_fps\n",
    "    return new_fps * vid_duration\n",
    "\n",
    "def count_frames_in_folder(folder_path: str) -> int:\n",
    "    \"\"\"Counts the number of frames (files) in the given folder.\"\"\"\n",
    "    return len(os.listdir(folder_path))\n",
    "\n",
    "def run_folder_check(video_path: str, save_folder: str, new_fps: int) -> Optional[str]:\n",
    "    \"\"\"\n",
    "    Checks if the specified folder has the correct number of frames extracted from a video.\n",
    "    Returns the folder path if the frame count does not match.\n",
    "    \"\"\"\n",
    "    try:\n",
    "        vid_fps, total_frames = extract_video_metadata(video_path)\n",
    "        expected_frame_count = calculate_expected_frame_count(vid_fps, total_frames, new_fps)\n",
    "        actual_frame_count = count_frames_in_folder(save_folder)\n",
    "\n",
    "        if actual_frame_count != expected_frame_count:\n",
    "            print(f\"{save_folder} - Incorrect frame count. Found {actual_frame_count}, expected {expected_frame_count}.\\n\")\n",
    "            return save_folder\n",
    "    except RuntimeError as e:\n",
    "        print(str(e))\n",
    "        return None\n",
    "\n",
    "    return None\n"
   ]
  },
  {
   "cell_type": "code",
   "execution_count": null,
   "metadata": {},
   "outputs": [],
   "source": [
    "def check_and_report_folder_existence(folder_path: str) -> bool:\n",
    "    \"\"\"\n",
    "    Check if a folder exists and report if it doesn't.\n",
    "\n",
    "    Args:\n",
    "    folder_path (str): The path to the folder to check.\n",
    "\n",
    "    Returns:\n",
    "    bool: True if the folder exists, False otherwise. Prints a message if the folder doesn't exist.\n",
    "    \"\"\"\n",
    "    if not folder_exists(folder_path):\n",
    "        print(f\"{folder_path} does not exist.\")\n",
    "        return False\n",
    "    return True\n",
    "\n",
    "def process_patient_folder(patient_info: dict, new_fps: int, level: str) -> Tuple[Optional[str], str]:\n",
    "    \"\"\"\n",
    "    Process a patient's folder to determine if it needs rerunning and return its frame path.\n",
    "\n",
    "    Args:\n",
    "    patient_info (dict): Information about the patient.\n",
    "    new_fps (int): The new frames per second value to check against.\n",
    "    level (str): The processing level.\n",
    "\n",
    "    Returns:\n",
    "    Tuple[Optional[str], str]: A tuple containing the folder to rerun (if any), and the frame folder path.\n",
    "    \"\"\"\n",
    "    video_path = patient_info[\"local path\"]\n",
    "    frames_folder, _ = get_video_frame_paths(video_path, level)\n",
    "\n",
    "    if not check_and_report_folder_existence(frames_folder):\n",
    "        return None, frames_folder\n",
    "\n",
    "    rerun_folder = run_folder_check(video_path, frames_folder, new_fps)\n",
    "\n",
    "    return rerun_folder, frames_folder\n",
    "\n",
    "def validate_run(all_patients: dict, level: str, new_fps: int) -> Tuple[List[str], List[str]]:\n",
    "    \"\"\"\n",
    "    Validate the run for all patients and determine if any folders need rerunning.\n",
    "\n",
    "    Args:\n",
    "    all_patients (dict): A dictionary containing information about all patients.\n",
    "    level (str): The processing level.\n",
    "    new_fps (int): The new frames per second value to check against.\n",
    "\n",
    "    Returns:\n",
    "    Tuple[List[str], List[str]]: A tuple containing two lists: folders to rerun and frame folders.\n",
    "    \"\"\"\n",
    "    rerun_folders = []\n",
    "    frames_folders = []\n",
    "\n",
    "    for patient_id, patient_info in all_patients.items():\n",
    "        try:\n",
    "            rerun_folder, frames_folder = process_patient_folder(patient_info, new_fps, level)\n",
    "            frames_folders.append(frames_folder)\n",
    "            if rerun_folder:\n",
    "                rerun_folders.append(rerun_folder)\n",
    "        except Exception as e:\n",
    "            print(f\"Error processing patient {patient_id}: {e}\")\n",
    "\n",
    "    return rerun_folders, frames_folders"
   ]
  },
  {
   "cell_type": "code",
   "execution_count": null,
   "metadata": {},
   "outputs": [],
   "source": [
    "# export to json\n",
    "\n",
    "def export_to_json(filename: str, all_patient_info: dict) -> None:\n",
    "    patient_json = json.dumps(all_patient_info, indent=2)\n",
    "\n",
    "    with open(filename, \"w\") as json_data:\n",
    "        json_data.write(patient_json)"
   ]
  },
  {
   "cell_type": "code",
   "execution_count": null,
   "metadata": {},
   "outputs": [],
   "source": [
    "def load_json(json_dir: str, filename: str) -> dict:\n",
    "    # Remove leading slash if present in filename\n",
    "    if filename.startswith(\"/\"):\n",
    "        filename = filename[1:]\n",
    "\n",
    "    full_path = os.path.join(json_dir, filename)\n",
    "\n",
    "    try:\n",
    "        with open(full_path, \"r\") as json_data:\n",
    "            return json.load(json_data)\n",
    "    except FileNotFoundError:\n",
    "        print(f\"Error: The file {full_path} does not exist.\")\n",
    "        return {}\n",
    "    except json.JSONDecodeError:\n",
    "        print(f\"Error: The file {full_path} is not a valid JSON.\")\n",
    "        return {} "
   ]
  },
  {
   "cell_type": "markdown",
   "metadata": {},
   "source": [
    "# Run tests"
   ]
  },
  {
   "cell_type": "code",
   "execution_count": null,
   "metadata": {},
   "outputs": [],
   "source": [
    "\"\"\" local vars\"\"\"\n",
    "\n",
    "rgb_fps = {\n",
    "    \"lower_bound\": 10,\n",
    "    \"upper_bound\": 20\n",
    "}\n",
    "\n",
    "thermal_fps = {\n",
    "    \"lower_bound\": 5,\n",
    "    \"upper_bound\": 10\n",
    "}"
   ]
  },
  {
   "cell_type": "code",
   "execution_count": null,
   "metadata": {},
   "outputs": [],
   "source": [
    "\"\"\" load JSON files \"\"\"\n",
    "\n",
    "metadata_rgb = load_json(json_dir, \"/rgb_complete.json\")\n",
    "metadata_thermal = load_json(json_dir, \"/thermal_complete.json\")"
   ]
  },
  {
   "cell_type": "code",
   "execution_count": null,
   "metadata": {},
   "outputs": [],
   "source": [
    "\"\"\" check videos (rgb) \"\"\"\n",
    "all_rgb_folders = []\n",
    "all_rgb_rerun_folders = []\n",
    "\n",
    "for level, new_fps in rgb_fps.items():\n",
    "    print(f\"\\nAdjusting FPS to {new_fps}\\n\" + \"=\"*50)\n",
    "    rerun_folders, visited_folders = validate_run(metadata_rgb, level, new_fps)\n",
    "    all_rgb_rerun_folders.append(rerun_folders)\n",
    "    all_rgb_folders.append(visited_folders)"
   ]
  },
  {
   "cell_type": "code",
   "execution_count": null,
   "metadata": {},
   "outputs": [],
   "source": [
    "\"\"\" check videos (thermal) \"\"\"\n",
    "# all_thermal_folders = []\n",
    "# all_thermal_rerun_folders = []\n",
    "\n",
    "# for level, new_fps in thermal_fps.items():\n",
    "#     print(f\"\\nAdjusting FPS to {new_fps}\\n\" + \"=\"*50)\n",
    "#     rerun_folders, visited_folders = check_if_empty_folders(metadata_thermal, level, new_fps, user_drive)\n",
    "#     all_thermal_folders.append(visited_folders)\n",
    "#     all_thermal_rerun_folders.append(rerun_folders)"
   ]
  },
  {
   "cell_type": "markdown",
   "metadata": {},
   "source": [
    "# Crop Image"
   ]
  },
  {
   "cell_type": "code",
   "execution_count": null,
   "metadata": {},
   "outputs": [],
   "source": [
    "def detect_objects(img, model, threshold=0.5):\n",
    "    # Convert the image to RGB and then to a tensor\n",
    "    img_rgb = cv2.cvtColor(img, cv2.COLOR_BGR2RGB)\n",
    "    transform = T.Compose([T.ToTensor()])\n",
    "    img_tensor = transform(img_rgb)\n",
    "\n",
    "    # Put the model in evaluation mode and apply to the image\n",
    "    model.eval()\n",
    "    with torch.no_grad():\n",
    "        prediction = model([img_tensor])\n",
    "\n",
    "    # Collect bounding boxes\n",
    "    bboxes = []\n",
    "    for element in range(len(prediction[0]['boxes'])):\n",
    "        if prediction[0]['scores'][element] > threshold:\n",
    "            box = prediction[0]['boxes'][element].cpu().numpy()\n",
    "            label = prediction[0]['labels'][element].cpu().numpy()\n",
    "            \n",
    "            if label == 1:  # COCO Dataset label for 'person'\n",
    "                bboxes.append(box)\n",
    "\n",
    "    return bboxes"
   ]
  },
  {
   "cell_type": "code",
   "execution_count": null,
   "metadata": {},
   "outputs": [],
   "source": [
    "def extract_folder_details(path):\n",
    "    \"\"\"\n",
    "    Extracts the folder name and its direct parent folder path from a given file path.\n",
    "    \n",
    "    Parameters:\n",
    "    path (str): The file path from which the folder name and parent path are to be extracted.\n",
    "    \n",
    "    Returns:\n",
    "    tuple: A tuple containing two elements:\n",
    "           - The name of the folder (str)\n",
    "           - The path to its direct parent folder (str)\n",
    "    \"\"\"\n",
    "    normalized_path = os.path.normpath(path)\n",
    "    folder_name = os.path.basename(normalized_path)\n",
    "    parent_path = os.path.dirname(normalized_path)\n",
    "\n",
    "    return folder_name, parent_path"
   ]
  },
  {
   "cell_type": "code",
   "execution_count": 99,
   "metadata": {},
   "outputs": [],
   "source": [
    "def crop_and_save_image(input_image_path, coordinates, output_image_path):\n",
    "    \"\"\"\n",
    "    Crops an image based on the given coordinates and saves the cropped image to a specified path.\n",
    "\n",
    "    Parameters:\n",
    "    input_image_path (str): The path to the input image to be cropped.\n",
    "    coordinates (list): A list of coordinates in the format [x_min, y_min, x_max, y_max].\n",
    "    output_image_path (str): The path where the cropped image will be saved.\n",
    "\n",
    "    Returns:\n",
    "    None: The function saves the cropped image to the specified path and does not return anything.\n",
    "    \"\"\"\n",
    "    with Image.open(input_image_path) as img:\n",
    "        cropped_image = img.crop(coordinates)\n",
    "        cropped_image.save(output_image_path)"
   ]
  },
  {
   "cell_type": "code",
   "execution_count": 115,
   "metadata": {},
   "outputs": [],
   "source": [
    "def get_first_image_bounding_boxes(folders, model):\n",
    "    \"\"\"\n",
    "    Extracts bounding box data for the first image in each provided folder.\n",
    "    Uses a user-defined function 'detect_objects' for object detection.\n",
    "\n",
    "    Args:\n",
    "        folders (list of str): Paths to folders containing images.\n",
    "        model (object): The object detection model.\n",
    "\n",
    "    Returns:\n",
    "        dict: A mapping from folder paths to the first image's bounding box data.\n",
    "    \n",
    "    Raises:\n",
    "        IOError: If an image cannot be read from a folder.\n",
    "        Exception: For other errors during processing.\n",
    "    \"\"\"\n",
    "    bounding_boxes_by_folder = {}\n",
    "\n",
    "    for folder in folders:\n",
    "        first_image_path = os.path.join(folder, os.listdir(folder)[0])\n",
    "        image = cv2.imread(first_image_path)\n",
    "\n",
    "        if image is not None:\n",
    "            try:\n",
    "                detection_result = detect_objects(image, model)\n",
    "                # Assuming detect_objects returns a list or None\n",
    "                bounding_box = detection_result[0].tolist() if detection_result else None\n",
    "                bounding_boxes_by_folder[folder] = bounding_box\n",
    "            except Exception as error:\n",
    "                print(f\"Error during bounding box detection in {folder}: {error}\")\n",
    "        else:\n",
    "            raise IOError(f\"Could not read the image at {first_image_path}\")\n",
    "\n",
    "    return bounding_boxes_by_folder\n"
   ]
  },
  {
   "cell_type": "code",
   "execution_count": 123,
   "metadata": {},
   "outputs": [],
   "source": [
    "def crop_first_image_in_folders(folders, crop_coordinates):\n",
    "    \"\"\"\n",
    "    Crops the first image in each provided folder based on the given crop coordinates.\n",
    "\n",
    "    Args:\n",
    "        folders (list of str): A list of folder paths containing images.\n",
    "        crop_coordinates (list): A list of coordinates [x_min, y_min, x_max, y_max] for cropping.\n",
    "\n",
    "    Note:\n",
    "        set_folder and crop_and_save_image should be defined in the scope where this function is called.\n",
    "    \"\"\"\n",
    "    for folder in folders:\n",
    "        folder_name, parent_path = extract_folder_details(folder)\n",
    "        cropped_path = os.path.join(parent_path, f\"{folder_name}-cropped\")\n",
    "        all_images = os.listdir(folder)\n",
    "\n",
    "        set_folder(cropped_path)\n",
    "\n",
    "        if all_images:\n",
    "            input_image_name = os.path.join(folder, all_images[0])\n",
    "            cropped_image_name = os.path.join(cropped_path, all_images[0])\n",
    "            crop_and_save_image(input_image_name, crop_coordinates, cropped_image_name)"
   ]
  },
  {
   "cell_type": "code",
   "execution_count": 116,
   "metadata": {},
   "outputs": [
    {
     "name": "stderr",
     "output_type": "stream",
     "text": [
      "c:\\Users\\chris\\AppData\\Local\\Programs\\Python\\Python311\\Lib\\site-packages\\torchvision\\models\\_utils.py:208: UserWarning: The parameter 'pretrained' is deprecated since 0.13 and may be removed in the future, please use 'weights' instead.\n",
      "  warnings.warn(\n",
      "c:\\Users\\chris\\AppData\\Local\\Programs\\Python\\Python311\\Lib\\site-packages\\torchvision\\models\\_utils.py:223: UserWarning: Arguments other than a weight enum or `None` for 'weights' are deprecated since 0.13 and may be removed in the future. The current behavior is equivalent to passing `weights=FasterRCNN_ResNet50_FPN_Weights.COCO_V1`. You can also use `weights=FasterRCNN_ResNet50_FPN_Weights.DEFAULT` to get the most up-to-date weights.\n",
      "  warnings.warn(msg)\n"
     ]
    }
   ],
   "source": [
    "person_detection_model = fasterrcnn_resnet50_fpn(pretrained=True)"
   ]
  },
  {
   "cell_type": "code",
   "execution_count": null,
   "metadata": {},
   "outputs": [],
   "source": [
    "all_rgb_lower_bound, all_rgb_upper_bound = all_rgb_folders"
   ]
  },
  {
   "cell_type": "code",
   "execution_count": 117,
   "metadata": {},
   "outputs": [],
   "source": [
    "\"\"\"\n",
    "    Aggregating bb box data\n",
    "    [x_min, y_min, x_max, y_max]\n",
    "    (x_min, y_min) is the top-left corner\n",
    "    (x_max, y_max) is the bottom-right corner of the bounding box.\n",
    "\"\"\"\n",
    "\n",
    "bounding_box_data = get_first_image_bounding_boxes(all_rgb_lower_bound, person_detection_model)"
   ]
  },
  {
   "cell_type": "code",
   "execution_count": 118,
   "metadata": {},
   "outputs": [
    {
     "data": {
      "image/png": "[encoded data removed]",
      "text/plain": [
       "<Figure size 1920x1080 with 1 Axes>"
      ]
     },
     "metadata": {},
     "output_type": "display_data"
    }
   ],
   "source": [
    "# Initialize lists to store x and y coordinates\n",
    "x_coords = []\n",
    "y_coords = []\n",
    "\n",
    "# Iterate through the dictionary to extract all corners\n",
    "for coords in bounding_box_data.values():\n",
    "    x_min, y_min, x_max, y_max = coords\n",
    "\n",
    "    # Add the corners to the lists\n",
    "    x_coords.extend([x_min, x_max, x_min, x_max])\n",
    "    y_coords.extend([y_min, y_min, y_max, y_max])\n",
    "\n",
    "# Create a scatter plot\n",
    "plt.figure(figsize=(19.20, 10.80))  # Size in inches to mimic 1920x1080\n",
    "plt.scatter(x_coords, y_coords)\n",
    "plt.xlim(0, 1920)\n",
    "plt.ylim(0, 1080)\n",
    "plt.gca().invert_yaxis()  # Invert y-axis to match image coordinates\n",
    "plt.xlabel('X Coordinate')\n",
    "plt.ylabel('Y Coordinate')\n",
    "plt.title('Scatter Plot of Rectangle Corners in 1920x1080 Image')\n",
    "plt.show()"
   ]
  },
  {
   "cell_type": "code",
   "execution_count": 127,
   "metadata": {},
   "outputs": [],
   "source": [
    "crop_first_image_in_folders(all_rgb_lower_bound, CROP_COORDINATES)"
   ]
  },
  {
   "cell_type": "markdown",
   "metadata": {},
   "source": [
    "# Getting labels"
   ]
  },
  {
   "cell_type": "code",
   "execution_count": null,
   "metadata": {},
   "outputs": [],
   "source": [
    "# gets labels based on breathing\n",
    "\n",
    "def get_label_breathing(visited_folders: list[str]) -> [list, list]:\n",
    "    all_frames_path = []\n",
    "    all_labels = []\n",
    "\n",
    "    hold_breath_pattern = r\"/Hold Breath/|/Hold Breathe/|/H/\"\n",
    "    relaxed_pattern = r\"/Relaxed/|/R/\"\n",
    "\n",
    "    for visited_folder in visited_folders:\n",
    "        if re.search(relaxed_pattern, visited_folder):\n",
    "            all_labels.append(0) # 0 for relaxed pattern\n",
    "        elif re.search(hold_breath_pattern, visited_folder):\n",
    "            all_labels.append(1) # 1 for hold breath pattern\n",
    "        else:\n",
    "            print(f\"Warning: No matching breathing pattern for {visited_folder}\")\n",
    "            continue\n",
    "\n",
    "        all_frames_path.append(visited_folder)\n",
    "\n",
    "    return [all_frames_path, all_labels]"
   ]
  },
  {
   "cell_type": "code",
   "execution_count": null,
   "metadata": {},
   "outputs": [],
   "source": [
    "# get labels for rgb\n",
    "\n",
    "# all_rgb_frames_path = []\n",
    "# all_rgb_labels = []\n",
    "# save_data = {}\n",
    "\n",
    "# for fps_bound in all_rgb_folders:\n",
    "#     tmp_path_list, tmp_labels_list = get_label_breathing(fps_bound)\n",
    "#     all_rgb_frames_path += tmp_path_list\n",
    "#     all_rgb_labels += tmp_labels_list\n",
    "\n",
    "# save_data[\"frames_path\"] = all_rgb_frames_path\n",
    "# save_data[\"labels_path\"] = all_rgb_labels"
   ]
  },
  {
   "cell_type": "code",
   "execution_count": null,
   "metadata": {},
   "outputs": [],
   "source": [
    "# save test train split in json data (rgb)\n",
    "# save_rgb_filename = json_dir + \"/training_test_split/rgb_labels.json\"\n",
    "# export_to_json(save_rgb_filename, save_data)"
   ]
  },
  {
   "cell_type": "markdown",
   "metadata": {},
   "source": [
    "# Splitting the data into training and testing"
   ]
  },
  {
   "cell_type": "code",
   "execution_count": null,
   "metadata": {},
   "outputs": [],
   "source": [
    "# data splitting\n",
    "\n",
    "def split_data(all_videos: list[str], all_labels: list[int]):\n",
    "    train_videos, test_videos, train_labels, test_labels = train_test_split(\n",
    "        all_videos, all_labels, test_size=0.2, random_state=42)\n",
    "    return train_videos, test_videos, train_labels, test_labels\n"
   ]
  },
  {
   "cell_type": "code",
   "execution_count": null,
   "metadata": {},
   "outputs": [],
   "source": [
    "# split data (rgb)\n",
    "# train_rgb_frames, test_rgb_frames, train_rgb_labels, test_rgb_labels = train_test_split(\n",
    "#     all_rgb_frames_path, all_rgb_labels, test_size=0.2, random_state=42\n",
    "# )"
   ]
  }
 ],
 "metadata": {
  "kernelspec": {
   "display_name": "Python 3.11.4 64-bit",
   "language": "python",
   "name": "python3"
  },
  "language_info": {
   "codemirror_mode": {
    "name": "ipython",
    "version": 3
   },
   "file_extension": ".py",
   "mimetype": "text/x-python",
   "name": "python",
   "nbconvert_exporter": "python",
   "pygments_lexer": "ipython3",
   "version": "3.11.4"
  },
  "orig_nbformat": 4,
  "vscode": {
   "interpreter": {
    "hash": "e7228a7137a92e95012bf2be7e7bd4e027e828c700167ca5a0671652a2d91aff"
   }
  }
 },
 "nbformat": 4,
 "nbformat_minor": 2
}
