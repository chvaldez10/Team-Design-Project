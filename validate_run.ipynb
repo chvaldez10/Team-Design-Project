{
 "cells": [
  {
   "cell_type": "markdown",
   "metadata": {},
   "source": [
    "# Video Processing for BT Lab\n",
    "Functions to check if run is good\n",
    "<br>\n",
    "<br>\n",
    "![UofC logo](./pictures/uofc_logo-black.jpg)"
   ]
  },
  {
   "cell_type": "code",
   "execution_count": 1,
   "metadata": {},
   "outputs": [],
   "source": [
    "#import libraries\n",
    "import os\n",
    "import json\n",
    "import datetime\n",
    "import numpy as np\n",
    "import pandas as pd\n",
    "import traceback\n",
    "import cv2"
   ]
  },
  {
   "cell_type": "code",
   "execution_count": 2,
   "metadata": {},
   "outputs": [
    {
     "data": {
      "text/plain": [
       "''"
      ]
     },
     "execution_count": 2,
     "metadata": {},
     "output_type": "execute_result"
    }
   ],
   "source": [
    "# make sure to update path\n",
    "user_drive = input(\"Enter user drive: \").upper()\n",
    "video_path = f\"{user_drive}:/Christian/DI_centre_structured\"\n",
    "input(f\"Is this the right directory - {video_path}?\")"
   ]
  },
  {
   "cell_type": "code",
   "execution_count": 3,
   "metadata": {},
   "outputs": [],
   "source": [
    "VIDEO_CHARACTERISTICS = {\n",
    "    \"With Blankets\" : \"WB\",\n",
    "    \"B\" : \"WB\",\n",
    "    \"Without Blankets\" : \"WOB\",\n",
    "    \"WOB\": \"WOB\",\n",
    "    \"3 Meters\" : \"3m\",\n",
    "    \"2 Meters\" : \"2m\",\n",
    "    \"Hold Breath\" : \"HB\",\n",
    "    \"Hold Breathe\" : \"HB\",\n",
    "    \"H\" : \"HB\",\n",
    "    \"Relaxed\" : \"rel\",\n",
    "    \"R\": \"rel\",\n",
    "}"
   ]
  },
  {
   "cell_type": "code",
   "execution_count": 4,
   "metadata": {},
   "outputs": [],
   "source": [
    "# local dirs\n",
    "repo_dir = os.getcwd()\n",
    "json_dir = repo_dir + \"/records/JSON\"\n",
    "log_dir = repo_dir + \"/records/logs\""
   ]
  },
  {
   "cell_type": "code",
   "execution_count": 5,
   "metadata": {},
   "outputs": [],
   "source": [
    "# gets folder paths\n",
    "def get_frames_path(local_path: str, level:str) -> list[\"str\"]:\n",
    "    fixed_path = local_path.replace(\"\\\\\", \"/\")\n",
    "    fixed_path_split = fixed_path.split(\"/\")\n",
    "    video_folder = \"/\".join(fixed_path_split[:-1])\n",
    "    video_filename = fixed_path_split[-1].split(\".\")[0]\n",
    "    folder_path = video_folder + f\"/frames_{video_filename}_{level}\"\n",
    "    return [folder_path, video_folder]"
   ]
  },
  {
   "cell_type": "code",
   "execution_count": 6,
   "metadata": {},
   "outputs": [],
   "source": [
    "# reads JSON file\n",
    "def load_json(json_dir:str, filename:str) -> dict:\n",
    "    full_path = json_dir + \"/\" + filename\n",
    "\n",
    "    with open(full_path, \"r\") as json_data:\n",
    "        data = json.load(json_data)\n",
    "\n",
    "    return(data)"
   ]
  },
  {
   "cell_type": "code",
   "execution_count": 7,
   "metadata": {},
   "outputs": [],
   "source": [
    "# re samples number of frames\n",
    "def up_sample(old_fps: int, new_fps: int, start:int) -> list[int]:\n",
    "    frames_arr = np.arange(start, old_fps, dtype=int)\n",
    "    frames_interp = np.linspace(start, old_fps-1, new_fps)\n",
    "    nearest_indices = np.round(frames_interp).astype(int)\n",
    "    up_sampled_list = np.take(frames_arr, nearest_indices, mode='wrap')\n",
    "\n",
    "    return up_sampled_list.tolist()"
   ]
  },
  {
   "cell_type": "code",
   "execution_count": 8,
   "metadata": {},
   "outputs": [],
   "source": [
    "# gets patient id\n",
    "def get_id(patient_data: dict, video_count:int) -> str:\n",
    "    alias = patient_data[\"alias\"]\n",
    "    blanket = VIDEO_CHARACTERISTICS.get(patient_data[\"blanket\"], \"?\")\n",
    "    distance = VIDEO_CHARACTERISTICS.get(patient_data[\"distance\"].title(), \"?\")\n",
    "    breathing = VIDEO_CHARACTERISTICS.get(patient_data[\"breathing\"], \"?\")\n",
    "    id = alias + \"-\" + distance + \"-\" + blanket + \"-\" + breathing\n",
    "    id = f\"{alias}_{video_count}-{distance}-{blanket}-{breathing}\"\n",
    "    return id"
   ]
  },
  {
   "cell_type": "code",
   "execution_count": 9,
   "metadata": {},
   "outputs": [],
   "source": [
    "# checks if folders have the correct number ofr frames\n",
    "def run_folder_check(video_path:str , save_folder:str, frame_frequency: dict, new_fps:int) -> None:\n",
    "    # open video file\n",
    "    video = cv2.VideoCapture(video_path)\n",
    "    assert video.isOpened()\n",
    "\n",
    "    # unpack metadata\n",
    "    vid_fps = int(video.get(cv2.CAP_PROP_FPS))\n",
    "    number_of_frames = int(video.get(cv2.CAP_PROP_FRAME_COUNT))\n",
    "    vid_length_floored = number_of_frames // vid_fps\n",
    "\n",
    "    # local variables\n",
    "    expected_frames = int(new_fps*vid_length_floored)\n",
    "    number_of_files_in_folder = int(len(os.listdir(save_folder)))\n",
    "\n",
    "    if not os.path.exists(save_folder):\n",
    "        print(f\"{save_folder} does not exists.\")\n",
    "        return save_folder\n",
    "\n",
    "    if number_of_files_in_folder != expected_frames:\n",
    "        print(f\"{save_folder} - Not enough frames in folder. Only found {number_of_files_in_folder} files. Expecting {expected_frames}.\")\n",
    "        return save_folder\n",
    "\n",
    "    video.release()"
   ]
  },
  {
   "cell_type": "code",
   "execution_count": 10,
   "metadata": {},
   "outputs": [],
   "source": [
    "# driver code for checking empty folders\n",
    "def check_if_empty_folders(all_patients:dict, level: str, new_fps:int, user_drive:str) -> list:\n",
    "    visited_folders = {}    \n",
    "    rerun_folders = []\n",
    "    frames_folders = []\n",
    "\n",
    "    for json_index, patient_info in all_patients.items():\n",
    "        try:\n",
    "            video_path = patient_info[\"local path\"]\n",
    "            old_fps = int(patient_info[\"old fps\"])\n",
    "\n",
    "            frames_folder, video_folder = get_frames_path(video_path, level)\n",
    "            visited_folders[video_folder] = visited_folders.get(video_folder, 0) + 1\n",
    "            frames_folders.append(frames_folder)\n",
    "            video_count = visited_folders[video_folder]\n",
    "\n",
    "            frames_to_pick = up_sample(old_fps, new_fps, 1)\n",
    "            frames_idx = pd.Index(frames_to_pick, name=\"frames\")\n",
    "            frame_frequency = frames_idx.value_counts()\n",
    "\n",
    "            if len(frames_to_pick) != new_fps:\n",
    "                raise ValueError(\"Number of frames to pick is not equal to new fps\")\n",
    "\n",
    "            # get id\n",
    "            patient_id = get_id(patient_info, video_count)\n",
    "\n",
    "            # run video to frames\n",
    "            rerun_folder = run_folder_check(video_path, frames_folder, frame_frequency, new_fps)\n",
    "            \n",
    "            if rerun_folder != None:\n",
    "                rerun_folders.append(rerun_folder)\n",
    "\n",
    "        except Exception as e:\n",
    "            traceback.print_exc()\n",
    "            print(f'''{type(e)}: {e} for video {patient_info[\"filename\"]}''')\n",
    "\n",
    "    return [rerun_folders, frames_folders]"
   ]
  },
  {
   "cell_type": "markdown",
   "metadata": {},
   "source": [
    "# Run tests"
   ]
  },
  {
   "cell_type": "code",
   "execution_count": 11,
   "metadata": {},
   "outputs": [],
   "source": [
    "\"\"\" local vars\"\"\"\n",
    "\n",
    "rgb_fps = {\n",
    "    \"lower_bound\": 10,\n",
    "    \"upper_bound\": 20\n",
    "}\n",
    "\n",
    "thermal_fps = {\n",
    "    \"lower_bound\": 5,\n",
    "    \"upper_bound\": 10\n",
    "}"
   ]
  },
  {
   "cell_type": "code",
   "execution_count": 12,
   "metadata": {},
   "outputs": [],
   "source": [
    "\"\"\" load JSON files \"\"\"\n",
    "\n",
    "metadata_rgb = load_json(json_dir, \"/rgb_complete.json\")\n",
    "metadata_thermal = load_json(json_dir, \"/thermal_complete.json\")"
   ]
  },
  {
   "cell_type": "code",
   "execution_count": 13,
   "metadata": {},
   "outputs": [
    {
     "name": "stdout",
     "output_type": "stream",
     "text": [
      "\n",
      "Adjusting FPS to 10\n",
      "==================================================\n",
      "\n",
      "Adjusting FPS to 20\n",
      "==================================================\n",
      "E:/Christian/DI_centre_structured/DI_CAMERA_P3225/Final/Arun/2 Meters/With Blankets/Relaxed/frames_Arun2_upper_bound - Not enough frames in folder. Only found 119 files. Expecting 140.\n"
     ]
    }
   ],
   "source": [
    "\"\"\" check videos (rgb) \"\"\"\n",
    "all_rgb_folders = []\n",
    "all_rgb_rerun_folders = []\n",
    "\n",
    "for level, new_fps in rgb_fps.items():\n",
    "    print(f\"\\nAdjusting FPS to {new_fps}\\n\" + \"=\"*50)\n",
    "    rerun_folders, visited_folders = check_if_empty_folders(metadata_rgb, level, new_fps, user_drive)\n",
    "    all_rgb_rerun_folders.append(rerun_folders)\n",
    "    all_rgb_folders.append(visited_folders)\n",
    "\n"
   ]
  },
  {
   "cell_type": "code",
   "execution_count": 16,
   "metadata": {},
   "outputs": [
    {
     "data": {
      "text/plain": [
       "['E:/Christian/DI_centre_structured/DI_CAMERA_P3225/Final/Arun/2 Meters/With Blankets/Hold Breath/frames_Arun2_upper_bound',\n",
       " 'E:/Christian/DI_centre_structured/DI_CAMERA_P3225/Final/Arun/2 Meters/With Blankets/Hold Breath/frames_Arun2_2_upper_bound',\n",
       " 'E:/Christian/DI_centre_structured/DI_CAMERA_P3225/Final/Arun/2 Meters/With Blankets/Relaxed/frames_Arun2_upper_bound',\n",
       " 'E:/Christian/DI_centre_structured/DI_CAMERA_P3225/Final/Arun/2 Meters/With Blankets/Relaxed/frames_Arun2_2_upper_bound',\n",
       " 'E:/Christian/DI_centre_structured/DI_CAMERA_P3225/Final/Arun/2 Meters/Without Blankets/Hold Breath/frames_short_upper_bound',\n",
       " 'E:/Christian/DI_centre_structured/DI_CAMERA_P3225/Final/Arun/2 Meters/Without Blankets/Relaxed/frames_relax 2meter short_upper_bound',\n",
       " 'E:/Christian/DI_centre_structured/DI_CAMERA_P3225/Final/Arun/3 Meters/With Blankets/Hold Breath/frames_Arun3_upper_bound',\n",
       " 'E:/Christian/DI_centre_structured/DI_CAMERA_P3225/Final/Arun/3 Meters/With Blankets/Relaxed/frames_Arun3_upper_bound',\n",
       " 'E:/Christian/DI_centre_structured/DI_CAMERA_P3225/Final/Arun/3 Meters/Without Blankets/Hold Breath/frames_Arun3_upper_bound',\n",
       " 'E:/Christian/DI_centre_structured/DI_CAMERA_P3225/Final/Arun/3 Meters/Without Blankets/Relaxed/frames_Arun3_upper_bound',\n",
       " 'E:/Christian/DI_centre_structured/DI_CAMERA_P3225/Final/Illia/2 Meters/With Blankets/Hold Breath/frames_Illia HB_upper_bound',\n",
       " 'E:/Christian/DI_centre_structured/DI_CAMERA_P3225/Final/Illia/2 Meters/With Blankets/Relaxed/frames_Illia_upper_bound',\n",
       " 'E:/Christian/DI_centre_structured/DI_CAMERA_P3225/Final/Illia/2 Meters/Without Blankets/Hold Breath/frames_Illia HB_upper_bound',\n",
       " 'E:/Christian/DI_centre_structured/DI_CAMERA_P3225/Final/Illia/2 Meters/Without Blankets/Relaxed/frames_Illia_upper_bound',\n",
       " 'E:/Christian/DI_centre_structured/DI_CAMERA_P3225/Final/Illia/3 Meters/With Blankets/Hold Breath/frames_Illia HB_upper_bound',\n",
       " 'E:/Christian/DI_centre_structured/DI_CAMERA_P3225/Final/Illia/3 Meters/With Blankets/Hold Breath/frames_Illia HB2_upper_bound',\n",
       " 'E:/Christian/DI_centre_structured/DI_CAMERA_P3225/Final/Illia/3 Meters/With Blankets/Relaxed/frames_Illia_upper_bound',\n",
       " 'E:/Christian/DI_centre_structured/DI_CAMERA_P3225/Final/Illia/3 Meters/Without Blankets/Hold Breath/frames_Illia HB_upper_bound',\n",
       " 'E:/Christian/DI_centre_structured/DI_CAMERA_P3225/Final/Illia/3 Meters/Without Blankets/Hold Breath/frames_Illia HB1_upper_bound',\n",
       " 'E:/Christian/DI_centre_structured/DI_CAMERA_P3225/Final/Illia/3 Meters/Without Blankets/Relaxed/frames_Illia_upper_bound']"
      ]
     },
     "execution_count": 16,
     "metadata": {},
     "output_type": "execute_result"
    }
   ],
   "source": [
    "visited_folders"
   ]
  },
  {
   "cell_type": "code",
   "execution_count": 15,
   "metadata": {},
   "outputs": [
    {
     "data": {
      "text/plain": [
       "' check videos (thermal) '"
      ]
     },
     "execution_count": 15,
     "metadata": {},
     "output_type": "execute_result"
    }
   ],
   "source": [
    "\"\"\" check videos (thermal) \"\"\"\n",
    "# all_thermal_folders = []\n",
    "\n",
    "# for level, new_fps in rgb_fps.items():\n",
    "#     print(f\"\\nAdjusting FPS to {new_fps}\\n\" + \"=\"*50)\n",
    "#     rerun_folders = check_if_empty_folders(metadata_thermal, level, new_fps, user_drive)\n",
    "#     all_thermal_folders.append(rerun_folders)"
   ]
  }
 ],
 "metadata": {
  "kernelspec": {
   "display_name": "Python 3.11.4 64-bit",
   "language": "python",
   "name": "python3"
  },
  "language_info": {
   "codemirror_mode": {
    "name": "ipython",
    "version": 3
   },
   "file_extension": ".py",
   "mimetype": "text/x-python",
   "name": "python",
   "nbconvert_exporter": "python",
   "pygments_lexer": "ipython3",
   "version": "3.10.11"
  },
  "orig_nbformat": 4,
  "vscode": {
   "interpreter": {
    "hash": "e7228a7137a92e95012bf2be7e7bd4e027e828c700167ca5a0671652a2d91aff"
   }
  }
 },
 "nbformat": 4,
 "nbformat_minor": 2
}
