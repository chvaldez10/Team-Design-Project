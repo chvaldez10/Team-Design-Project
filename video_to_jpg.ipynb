{
 "cells": [
  {
   "attachments": {},
   "cell_type": "markdown",
   "metadata": {},
   "source": [
    "# Video Processing for BT Lab\n",
    "Converts a video into png files. \n",
    "<br>\n",
    "<br>\n",
    "Usage: run notebook \n",
    "<br>\n",
    "<br>\n",
    "Notes: looks for a couple of JSON files to find video data.\n",
    "<br>\n",
    "<br>\n",
    "![UofC logo](./pictures/uofc_logo-black.jpg)"
   ]
  },
  {
   "cell_type": "code",
   "execution_count": 86,
   "metadata": {},
   "outputs": [],
   "source": [
    "#import libraries\n",
    "import os\n",
    "import re\n",
    "import cv2\n",
    "import json\n",
    "import pandas as pd\n",
    "import numpy as np\n",
    "from timeit import default_timer as timer"
   ]
  },
  {
   "cell_type": "code",
   "execution_count": 87,
   "metadata": {},
   "outputs": [],
   "source": [
    "user_drive = input(\"Enter user drive: \")\n",
    "video_path = f\"{user_drive}:/Christian/DI_centre_structured\"\n",
    "repo_dir = os.getcwd()\n",
    "json_dir = repo_dir + \"/records/JSON\""
   ]
  },
  {
   "cell_type": "code",
   "execution_count": 88,
   "metadata": {},
   "outputs": [],
   "source": [
    "def run_video_to_frame(video_path:str , save_folder:str, frame_frequency: dict, new_fps:int) -> None:\n",
    "    video = cv2.VideoCapture(video_path)\n",
    "    assert video.isOpened()\n",
    "    vid_fps = int(video.get(cv2.CAP_PROP_FPS))\n",
    "    number_of_frames = int(video.get(cv2.CAP_PROP_FRAME_COUNT))\n",
    "    vid_length_floored = number_of_frames // vid_fps\n",
    "\n",
    "    pick_counter, save_counter, set_counter, true_frames = [0, 0, 0, 0]\n",
    "    list_of_frames = [frame for frame, frequency in frame_frequency.items()]\n",
    "    expected_frames = new_fps * vid_length_floored\n",
    "    success = True\n",
    "    frame_limit = 100\n",
    "\n",
    "    if not os.path.isdir(save_folder):\n",
    "        os.mkdir(save_folder)\n",
    "    else:\n",
    "        for files in os.listdir(save_folder):\n",
    "            os.remove(os.path.join(save_folder, files))\n",
    "    \n",
    "    print(f\"\\nSaving frames to: {save_folder}\\nPicking frames: {list_of_frames} per set\\nExpected number of frames: {expected_frames} ({new_fps}FPS * {vid_length_floored}s).\")\n",
    "    start_time  = timer()\n",
    "\n",
    "    while success and set_counter < vid_length_floored:\n",
    "        success, frame = video.read()\n",
    "\n",
    "        if not success:\n",
    "            break\n",
    "\n",
    "        if pick_counter in list_of_frames:\n",
    "            frame_name = \"frame_%d.png\" % true_frames\n",
    "            frame_path = os.path.join(save_folder, frame_name)\n",
    "            num_of_save = frame_frequency.get(pick_counter)\n",
    "            \n",
    "            for _ in range(num_of_save):\n",
    "                pass\n",
    "                # print(f\"Saving frame: {frame_name}\")\n",
    "                # cv2.imwrite(frame_path, frame) \n",
    "            \n",
    "            save_counter += 1\n",
    "\n",
    "        pick_counter += 1\n",
    "        true_frames += 1\n",
    "\n",
    "        if (pick_counter == vid_fps):\n",
    "            set_counter += 1\n",
    "            pick_counter = 0\n",
    "\n",
    "        # for testing\n",
    "        if true_frames > frame_limit:\n",
    "            print(f\"\\nLimit set to {frame_limit} frames for testing purposes.\")\n",
    "            break\n",
    "    \n",
    "    end_time  = timer()\n",
    "    time_delta = end_time - start_time\n",
    "    print(f\"\\nDone in {time_delta} seconds.\")\n",
    "    video.release()\n",
    "\n",
    "    if save_counter != expected_frames:\n",
    "        raise ValueError(f\"Expected {expected_frames} frames, but got {save_counter} frames\")\n",
    "\n",
    "    return [set_counter, save_counter, true_frames]"
   ]
  },
  {
   "cell_type": "code",
   "execution_count": 89,
   "metadata": {},
   "outputs": [],
   "source": [
    "def get_frames_path(local_path: str, level:str) -> str:\n",
    "    fixed_path = local_path.replace(\"\\\\\", \"/\")\n",
    "    fixed_path_split = fixed_path.split(\"/\")\n",
    "    video_folder = \"/\".join(fixed_path_split[:-1])\n",
    "    video_filename = fixed_path_split[-1].split(\".\")[0]\n",
    "    folder_path = video_folder + f\"/frames_{video_filename}_{level}\"\n",
    "    return folder_path"
   ]
  },
  {
   "cell_type": "code",
   "execution_count": 90,
   "metadata": {},
   "outputs": [],
   "source": [
    "def down_sample(old_fps: int, new_fps: int) -> list[int]:\n",
    "    down_sampled_list = []\n",
    "    user_frames = np.arange(0, old_fps, dtype=int)\n",
    "    step = old_fps / new_fps\n",
    "\n",
    "    for fps in range(new_fps):\n",
    "        start = int(fps * step)\n",
    "        end = int((fps + 1) * step)\n",
    "        \n",
    "        if fps == new_fps - 1:\n",
    "            end = old_fps # ensures that the last element is included\n",
    "        \n",
    "\n",
    "        # [0 1] 1 2 0\n",
    "        # [2 3 4] 9 3 3\n",
    "        # [5 6 7] 18 3 6\n",
    "        avg = sum(user_frames[start:end]) // (end - start)\n",
    "        print(\"array[star:end] =\", user_frames[start:end], \", start =\", start, \", end =\", end,\", step =\", step, \", avg =\", avg)\n",
    "        down_sampled_list.append(avg)\n",
    "\n",
    "    return down_sampled_list"
   ]
  },
  {
   "cell_type": "code",
   "execution_count": 91,
   "metadata": {},
   "outputs": [],
   "source": [
    "def get_frequency(list_item: list) -> dict:\n",
    "    frequency = {}\n",
    "    for item in list_item:\n",
    "        frequency[item] = frequency.get(item, 0) + 1\n",
    "    return frequency"
   ]
  },
  {
   "cell_type": "code",
   "execution_count": 92,
   "metadata": {},
   "outputs": [],
   "source": [
    "def up_sample(old_fps: int, new_fps: int) -> list[int]:\n",
    "    frames_arr = np.arange(0, old_fps, dtype=int)\n",
    "    frames_interp = np.linspace(0, old_fps - 1, new_fps)\n",
    "    up_sampled_list = np.interp(frames_interp, frames_arr, frames_arr)\n",
    "    rounded_up_sampled_list = up_sampled_list.astype(int)\n",
    "\n",
    "    return rounded_up_sampled_list.tolist()"
   ]
  },
  {
   "cell_type": "code",
   "execution_count": 93,
   "metadata": {},
   "outputs": [],
   "source": [
    "def convert_video_to_frame(all_patients:dict, level: str, new_fps:int) -> None:\n",
    "    for json_index, patient_info in all_patients.items():\n",
    "        try:\n",
    "            video_path = patient_info[\"local path\"]\n",
    "            old_fps = int(patient_info[\"old fps\"])\n",
    "\n",
    "            frames_folder = get_frames_path(video_path, level)\n",
    "            \n",
    "            if old_fps <= new_fps:\n",
    "                frames_to_pick = up_sample(old_fps, new_fps)\n",
    "            else:\n",
    "                frames_to_pick = down_sample(old_fps, new_fps)\n",
    "            \n",
    "            if len(frames_to_pick) != new_fps:\n",
    "                raise ValueError(\"Number of frames to pick is not equal to new fps\")\n",
    "\n",
    "            frame_frequency = get_frequency(frames_to_pick)\n",
    "            set_counter, save_counter, true_frames = run_video_to_frame(video_path, frames_folder, frame_frequency, new_fps)\n",
    "            print(f\"\\nSet counter: {set_counter}, save counter: {save_counter}, frame counter: {true_frames}\\n\\n\"+ \"-\"*50)\n",
    "        except Exception as e:\n",
    "            print(f'''{type(e)}: {e} for video {patient_info[\"filename\"]}''')\n",
    "\n",
    "        break"
   ]
  },
  {
   "cell_type": "code",
   "execution_count": 94,
   "metadata": {},
   "outputs": [],
   "source": [
    "def load_json(json_dir:str, filename:str) -> dict:\n",
    "    full_path = json_dir + \"/\" + filename\n",
    "\n",
    "    with open(full_path, \"r\") as json_data:\n",
    "        data = json.load(json_data)\n",
    "\n",
    "    return(data)"
   ]
  },
  {
   "attachments": {},
   "cell_type": "markdown",
   "metadata": {},
   "source": [
    "## Video to frames (stage 3.1)\n",
    "\n",
    "Based on the desired fps, turn videos into frames"
   ]
  },
  {
   "cell_type": "code",
   "execution_count": 95,
   "metadata": {},
   "outputs": [],
   "source": [
    "\"\"\" local vals\"\"\"\n",
    "\n",
    "rgb_fps = {\n",
    "    \"lower_bound\": 10,\n",
    "    \"upper_bound\": 20\n",
    "}\n",
    "\n",
    "thermal_fps = {\n",
    "    \"lower_bound\": 5,\n",
    "    \"upper_bound\": 10\n",
    "}"
   ]
  },
  {
   "cell_type": "code",
   "execution_count": 96,
   "metadata": {},
   "outputs": [],
   "source": [
    "\"\"\" load JSON files \"\"\"\n",
    "\n",
    "metadata_rgb = load_json(json_dir, \"rgb_test.json\")\n",
    "metadata_thermal = load_json(json_dir, \"thermal_test.json\")"
   ]
  },
  {
   "cell_type": "code",
   "execution_count": 97,
   "metadata": {},
   "outputs": [
    {
     "name": "stdout",
     "output_type": "stream",
     "text": [
      "\n",
      "Adjusting FPS to 10\n",
      "==================================================\n",
      "array[star:end] = [0 1] , start = 0 , end = 2 , step = 2.9 , avg = 0\n",
      "array[star:end] = [2 3 4] , start = 2 , end = 5 , step = 2.9 , avg = 3\n",
      "array[star:end] = [5 6 7] , start = 5 , end = 8 , step = 2.9 , avg = 6\n",
      "array[star:end] = [ 8  9 10] , start = 8 , end = 11 , step = 2.9 , avg = 9\n",
      "array[star:end] = [11 12 13] , start = 11 , end = 14 , step = 2.9 , avg = 12\n",
      "array[star:end] = [14 15 16] , start = 14 , end = 17 , step = 2.9 , avg = 15\n",
      "array[star:end] = [17 18 19] , start = 17 , end = 20 , step = 2.9 , avg = 18\n",
      "array[star:end] = [20 21 22] , start = 20 , end = 23 , step = 2.9 , avg = 21\n",
      "array[star:end] = [23 24 25] , start = 23 , end = 26 , step = 2.9 , avg = 24\n",
      "array[star:end] = [26 27 28] , start = 26 , end = 29 , step = 2.9 , avg = 27\n",
      "\n",
      "Saving frames to: D:/Christian/DI_centre_structured/DI_CAMERA_P3225/Final/Arun/2 Meters/With Blankets/Hold Breath/frames_Arun2_lower_bound\n",
      "Picking frames: [0, 3, 6, 9, 12, 15, 18, 21, 24, 27] per set\n",
      "Expected number of frames: 740 (10FPS * 74s).\n",
      "\n",
      "Limit set to 100 frames for testing purposes.\n",
      "\n",
      "Done in 0.6803816000028746 seconds.\n",
      "<class 'ValueError'>: Expected 740 frames, but got 35 frames for video Arun2.mp4\n"
     ]
    }
   ],
   "source": [
    "\"\"\" convert video to png (rgb) \"\"\"\n",
    "\n",
    "for level, new_fps in rgb_fps.items():\n",
    "    print(f\"\\nAdjusting FPS to {new_fps}\\n\" + \"=\"*50)\n",
    "    convert_video_to_frame(metadata_rgb, level, new_fps)\n",
    "    break"
   ]
  },
  {
   "attachments": {},
   "cell_type": "markdown",
   "metadata": {},
   "source": []
  }
 ],
 "metadata": {
  "kernelspec": {
   "display_name": "Python 3",
   "language": "python",
   "name": "python3"
  },
  "language_info": {
   "codemirror_mode": {
    "name": "ipython",
    "version": 3
   },
   "file_extension": ".py",
   "mimetype": "text/x-python",
   "name": "python",
   "nbconvert_exporter": "python",
   "pygments_lexer": "ipython3",
   "version": "3.11.3"
  },
  "orig_nbformat": 4
 },
 "nbformat": 4,
 "nbformat_minor": 2
}
