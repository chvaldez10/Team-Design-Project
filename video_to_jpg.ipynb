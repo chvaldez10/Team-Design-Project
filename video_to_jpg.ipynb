{
 "cells": [
  {
   "attachments": {},
   "cell_type": "markdown",
   "metadata": {},
   "source": [
    "# Video Processing for BT Lab\n",
    "Video files to png\n",
    "<br>\n",
    "<br>\n",
    "![UofC logo](./pictures/uofc_logo-black.jpg)"
   ]
  },
  {
   "cell_type": "code",
   "execution_count": 49,
   "metadata": {},
   "outputs": [],
   "source": [
    "#import libraries\n",
    "import os\n",
    "import re\n",
    "import cv2\n",
    "import json\n",
    "import pandas as pd"
   ]
  },
  {
   "cell_type": "code",
   "execution_count": 50,
   "metadata": {},
   "outputs": [],
   "source": [
    "video_path = \"D:/Christian/DI_centre_structured\"\n",
    "repo_dir = os.getcwd()\n",
    "json_dir = repo_dir + \"/records/JSON\""
   ]
  },
  {
   "cell_type": "code",
   "execution_count": 51,
   "metadata": {},
   "outputs": [],
   "source": [
    "def run_video_to_frame(video_path:str , save_folder:str , step: int):\n",
    "    video = cv2.VideoCapture(video_path)\n",
    "    assert video.isOpened()\n",
    "\n",
    "    frame_count = 0\n",
    "    saved_count = 0\n",
    "    still_has_frames = True\n",
    "\n",
    "    while still_has_frames:\n",
    "        still_has_frames, frame = video.read()\n",
    "        frame_name = \"frame_%d.png\" % saved_count\n",
    "        frame_folder = save_folder + \"/\" + frame_name\n",
    "        cv2.imwrite(frame_folder, frame)\n",
    "        frame_count += step\n",
    "        video.set(cv2.CAP_PROP_POS_FRAMES, frame_count)\n",
    "        saved_count += 1\n",
    "\n",
    "    video.release()"
   ]
  },
  {
   "cell_type": "code",
   "execution_count": 52,
   "metadata": {},
   "outputs": [],
   "source": [
    "def get_frames_path(local_path: str):\n",
    "    new_path = local_path.replace(\"\\\\\", \"/\")\n",
    "    new_path = new_path.split(\"/\")[:-1]\n",
    "    new_path = \"/\".join(new_path[:-1]) + \"/frames\"\n",
    "    return new_path"
   ]
  },
  {
   "cell_type": "code",
   "execution_count": 53,
   "metadata": {},
   "outputs": [],
   "source": [
    "def convert_video_to_frame(all_patients:dict, target_fps):\n",
    "    new_patient_info = {}\n",
    "\n",
    "    for patient_id, patient_info in all_patients.items():\n",
    "        try:\n",
    "            video_path = patient_info[\"local path\"]\n",
    "            # frames_folder = get_frames_path(video_path)\n",
    "            # new_fps = int(patient_info[\"old fps\"]/target_fps)\n",
    "\n",
    "            # if new_fps == 0:\n",
    "            #     raise ValueError()\n",
    "            print(video_path)\n",
    "            print(patient_info[\"old fps\"])\n",
    "\n",
    "            # run_video_to_frame(video_path, frames_folder, new_fps)\n",
    "        except Exception as e:\n",
    "            print(f\"{type(e)} - choose lower bound fps for {video_path}\")\n",
    "        break;"
   ]
  },
  {
   "cell_type": "code",
   "execution_count": 54,
   "metadata": {},
   "outputs": [],
   "source": [
    "def load_json(json_dir:str, filename:str) -> dict:\n",
    "    full_path = json_dir + \"/\" + filename\n",
    "\n",
    "    with open(full_path, \"r\") as json_data:\n",
    "        data = json.load(json_data)\n",
    "\n",
    "    return(data)"
   ]
  },
  {
   "attachments": {},
   "cell_type": "markdown",
   "metadata": {},
   "source": [
    "## Video to frames (stage 3.1)\n",
    "\n",
    "Based on the desired fps, turn videos into frames"
   ]
  },
  {
   "cell_type": "code",
   "execution_count": 55,
   "metadata": {},
   "outputs": [],
   "source": [
    "\"\"\" local vals\"\"\"\n",
    "\n",
    "target_rgb_fps_lower = 10\n",
    "target_rgb_fps_upper = 20\n",
    "target_thermal_fps_lower = 5\n",
    "target_thermal_fps_upper = 210"
   ]
  },
  {
   "cell_type": "code",
   "execution_count": 56,
   "metadata": {},
   "outputs": [],
   "source": [
    "\"\"\" read dfs \"\"\"\n",
    "rgb_xlsx = repo_dir + \"/records/xlsx/rgb.xlsx\"\n",
    "thermal_xlsx = repo_dir + \"/records/xlsx/thermal.xlsx\"\n",
    "\n",
    "new_rgb_df = pd.read_excel(rgb_xlsx)\n",
    "new_thermal_df = pd.read_excel(thermal_xlsx)"
   ]
  },
  {
   "cell_type": "code",
   "execution_count": null,
   "metadata": {},
   "outputs": [],
   "source": [
    "new_rgb_df"
   ]
  },
  {
   "cell_type": "code",
   "execution_count": 57,
   "metadata": {},
   "outputs": [
    {
     "data": {
      "text/plain": [
       "' convert video to png (rgb) '"
      ]
     },
     "execution_count": 57,
     "metadata": {},
     "output_type": "execute_result"
    }
   ],
   "source": [
    "\"\"\" convert video to png (rgb) \"\"\"\n",
    "# convert_video_to_frame(metadata_rgb, target_rgb_fps_lower)"
   ]
  }
 ],
 "metadata": {
  "kernelspec": {
   "display_name": "Python 3",
   "language": "python",
   "name": "python3"
  },
  "language_info": {
   "codemirror_mode": {
    "name": "ipython",
    "version": 3
   },
   "file_extension": ".py",
   "mimetype": "text/x-python",
   "name": "python",
   "nbconvert_exporter": "python",
   "pygments_lexer": "ipython3",
   "version": "3.11.3"
  },
  "orig_nbformat": 4
 },
 "nbformat": 4,
 "nbformat_minor": 2
}
