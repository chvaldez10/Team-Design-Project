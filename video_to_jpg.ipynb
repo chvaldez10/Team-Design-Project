{
 "cells": [
  {
   "attachments": {},
   "cell_type": "markdown",
   "metadata": {},
   "source": [
    "# Video Processing for BT Lab\n",
    "Video files to png\n",
    "<br>\n",
    "<br>\n",
    "![UofC logo](./pictures/uofc_logo-black.jpg)"
   ]
  },
  {
   "cell_type": "code",
   "execution_count": 55,
   "metadata": {},
   "outputs": [],
   "source": [
    "#import libraries\n",
    "import os\n",
    "import re\n",
    "import cv2\n",
    "import json\n",
    "import pandas as pd\n",
    "import numpy as np"
   ]
  },
  {
   "cell_type": "code",
   "execution_count": 35,
   "metadata": {},
   "outputs": [],
   "source": [
    "user_drive = input(\"Enter user drive: \")\n",
    "video_path = f\"{user_drive}:/Christian/DI_centre_structured\"\n",
    "repo_dir = os.getcwd()\n",
    "json_dir = repo_dir + \"/records/JSON\""
   ]
  },
  {
   "cell_type": "code",
   "execution_count": 36,
   "metadata": {},
   "outputs": [],
   "source": [
    "def run_video_to_frame(video_path:str , save_folder:str , step: int):\n",
    "    video = cv2.VideoCapture(video_path)\n",
    "    assert video.isOpened()\n",
    "    video.release()"
   ]
  },
  {
   "cell_type": "code",
   "execution_count": 37,
   "metadata": {},
   "outputs": [],
   "source": [
    "def get_frames_path(local_path: str, level:str) -> str:\n",
    "    fixed_path = local_path.replace(\"\\\\\", \"/\")\n",
    "    fixed_path_split = fixed_path.split(\"/\")\n",
    "    video_folder = \"/\".join(fixed_path_split[:-1])\n",
    "    video_filename = fixed_path_split[-1].split(\".\")[0]\n",
    "    folder_path = video_folder + f\"/frames_{video_filename}_{level}\"\n",
    "    return folder_path"
   ]
  },
  {
   "cell_type": "code",
   "execution_count": 58,
   "metadata": {},
   "outputs": [],
   "source": [
    "def down_sample(old_fps, new_fps):\n",
    "    down_sampled_list = []\n",
    "    user_frames = np.arange(0, old_fps, dtype=int)\n",
    "    step = old_fps / new_fps\n",
    "\n",
    "    for fps in range(new_fps):\n",
    "        start = int(fps * step)\n",
    "        end = int((fps + 1) * step)\n",
    "        \n",
    "        if fps == new_fps - 1:\n",
    "            end = old_fps # ensures that the last element is included\n",
    "        \n",
    "        avg = sum(user_frames[start:end]) // (end - start)\n",
    "        down_sampled_list.append(avg)\n",
    "\n",
    "    return down_sampled_list"
   ]
  },
  {
   "cell_type": "code",
   "execution_count": 39,
   "metadata": {},
   "outputs": [],
   "source": [
    "def up_sample(old_fps, new_fps):\n",
    "    pass"
   ]
  },
  {
   "cell_type": "code",
   "execution_count": 60,
   "metadata": {},
   "outputs": [],
   "source": [
    "def convert_video_to_frame(all_patients:dict, rgb_fps: dict):\n",
    "    for patient_id, patient_info in all_patients.items():\n",
    "        try:\n",
    "            video_path = patient_info[\"local path\"]\n",
    "            old_fps = int(patient_info[\"old fps\"])\n",
    "\n",
    "            for level, new_fps in rgb_fps.items():\n",
    "                frames_folder = get_frames_path(video_path, level)\n",
    "\n",
    "                if old_fps <= new_fps:\n",
    "                    frames_to_pick = up_sample(old_fps, new_fps)\n",
    "                else:\n",
    "                    frames_to_pick = down_sample(old_fps, new_fps)\n",
    "                \n",
    "                if len(frames_to_pick) != new_fps:\n",
    "                    raise ValueError(\"Number of frames to pick is not equal to new fps\")\n",
    "        except Exception as e:\n",
    "            print(f\"type error: {e} for patient {video_path}\")\n",
    "\n",
    "        # run_video_to_frame(video_path, frames_folder, new_fps)\n",
    "        break;"
   ]
  },
  {
   "cell_type": "code",
   "execution_count": 41,
   "metadata": {},
   "outputs": [],
   "source": [
    "def load_json(json_dir:str, filename:str) -> dict:\n",
    "    full_path = json_dir + \"/\" + filename\n",
    "\n",
    "    with open(full_path, \"r\") as json_data:\n",
    "        data = json.load(json_data)\n",
    "\n",
    "    return(data)"
   ]
  },
  {
   "attachments": {},
   "cell_type": "markdown",
   "metadata": {},
   "source": [
    "## Video to frames (stage 3.1)\n",
    "\n",
    "Based on the desired fps, turn videos into frames"
   ]
  },
  {
   "cell_type": "code",
   "execution_count": 42,
   "metadata": {},
   "outputs": [],
   "source": [
    "\"\"\" local vals\"\"\"\n",
    "\n",
    "rgb_fps = {\n",
    "    \"lower_bound\": 10,\n",
    "    \"upper_bound\": 20\n",
    "}\n",
    "\n",
    "thermal_fps = {\n",
    "    \"lower_bound\": 5,\n",
    "    \"upper_bound\": 10\n",
    "}"
   ]
  },
  {
   "cell_type": "code",
   "execution_count": 48,
   "metadata": {},
   "outputs": [],
   "source": [
    "\"\"\" load JSON files \"\"\"\n",
    "\n",
    "metadata_rgb = load_json(json_dir, \"rgb_complete.json\")\n",
    "metadata_thermal = load_json(json_dir, \"thermal_complete.json\")"
   ]
  },
  {
   "cell_type": "code",
   "execution_count": 61,
   "metadata": {},
   "outputs": [],
   "source": [
    "\"\"\" convert video to png (rgb) \"\"\"\n",
    "convert_video_to_frame(metadata_rgb, rgb_fps)"
   ]
  },
  {
   "attachments": {},
   "cell_type": "markdown",
   "metadata": {},
   "source": []
  }
 ],
 "metadata": {
  "kernelspec": {
   "display_name": "Python 3",
   "language": "python",
   "name": "python3"
  },
  "language_info": {
   "codemirror_mode": {
    "name": "ipython",
    "version": 3
   },
   "file_extension": ".py",
   "mimetype": "text/x-python",
   "name": "python",
   "nbconvert_exporter": "python",
   "pygments_lexer": "ipython3",
   "version": "3.11.3"
  },
  "orig_nbformat": 4
 },
 "nbformat": 4,
 "nbformat_minor": 2
}
