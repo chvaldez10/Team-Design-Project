{
 "cells": [
  {
   "attachments": {},
   "cell_type": "markdown",
   "metadata": {},
   "source": [
    "# Video Processing for BT Lab\n",
    "Video files to png\n",
    "<br>\n",
    "<br>\n",
    "![UofC logo](./pictures/uofc_logo-black.jpg)"
   ]
  },
  {
   "cell_type": "code",
   "execution_count": 2,
   "metadata": {},
   "outputs": [],
   "source": [
    "#import libraries\n",
    "import os\n",
    "import re\n",
    "import cv2\n",
    "import json\n",
    "import pandas as pd"
   ]
  },
  {
   "cell_type": "code",
   "execution_count": 3,
   "metadata": {},
   "outputs": [],
   "source": [
    "video_path = \"D:/Christian/DI_centre_structured\"\n",
    "repo_dir = os.getcwd()\n",
    "json_dir = repo_dir + \"/records/JSON\""
   ]
  },
  {
   "cell_type": "code",
   "execution_count": 19,
   "metadata": {},
   "outputs": [
    {
     "name": "stdout",
     "output_type": "stream",
     "text": [
      "error: OpenCV(4.7.0) D:\\a\\opencv-python\\opencv-python\\opencv\\modules\\imgcodecs\\src\\loadsave.cpp:783: error: (-215:Assertion failed) !_img.empty() in function 'cv::imwrite'\n",
      ", frame_count: 0, saved_count: 0\n"
     ]
    }
   ],
   "source": [
    "def run_video_to_frame(video_path:str , save_folder:str , step: int):\n",
    "    video = cv2.VideoCapture(video_path)\n",
    "    assert video.isOpened()\n",
    "\n",
    "    frame_count = 0\n",
    "    saved_count = 0\n",
    "    still_has_frames = True\n",
    "\n",
    "    try:\n",
    "        while still_has_frames:\n",
    "            still_has_frames, frame = video.read()\n",
    "            frame_name = \"frame_%d.png\" % saved_count\n",
    "            frame_folder = save_folder + \"/\" + frame_name\n",
    "            cv2.imwrite(frame_folder, frame)\n",
    "            frame_count += step\n",
    "            video.set(cv2.CAP_PROP_POS_FRAMES, frame_count)\n",
    "            saved_count += 1\n",
    "    except Exception as e:\n",
    "        print(f\"{type(e).__name__}: {e}, frame_count: {frame_count}, saved_count: {saved_count}\")\n",
    "\n",
    "    video.set(cv2.CAP_PROP_POS_FRAMES, 0)\n",
    "    video.release()\n",
    "\n",
    "video_file = \"D:/Christian/DI_centre_structured/DI_CAMERA_P3225/Final/Arun/2 Meters/With Blankets/Hold Breath/Arun2.mp4\"\n",
    "save_folder = \"D:/Christian/DI_centre_structured/DI_CAMERA_P3225/Final/Arun/2 Meters/With Blankets/Hold Breath/frames\"\n",
    "run_video_to_frame(video_path, save_folder, 2)"
   ]
  },
  {
   "cell_type": "code",
   "execution_count": 17,
   "metadata": {},
   "outputs": [],
   "source": [
    "video = cv2.VideoCapture(video_file)\n",
    "video.release()"
   ]
  },
  {
   "cell_type": "code",
   "execution_count": 13,
   "metadata": {},
   "outputs": [],
   "source": [
    "def get_frames_path(local_path: str):\n",
    "    new_path = local_path.replace(\"\\\\\", \"/\")\n",
    "    new_path = new_path.split(\"/\")[:-1]\n",
    "    new_path = \"/\".join(new_path) + \"/frames\"\n",
    "    return new_path"
   ]
  },
  {
   "cell_type": "code",
   "execution_count": 6,
   "metadata": {},
   "outputs": [],
   "source": [
    "def convert_video_to_frame(all_patients:dict, target_fps):\n",
    "    for patient_id, patient_info in all_patients.items():\n",
    "        try:\n",
    "            video_path = patient_info[\"local path\"]\n",
    "            frames_folder = get_frames_path(video_path)\n",
    "            new_fps = int(patient_info[\"old fps\"]/target_fps)\n",
    "            print(frames_folder)\n",
    "            if new_fps == 0:\n",
    "                raise ValueError()\n",
    "\n",
    "            run_video_to_frame(video_path, frames_folder, new_fps)\n",
    "        except Exception as e:\n",
    "            print(f\"{type(e)} - choose lower bound fps for {video_path}\")\n",
    "        break;"
   ]
  },
  {
   "cell_type": "code",
   "execution_count": 7,
   "metadata": {},
   "outputs": [],
   "source": [
    "def load_json(json_dir:str, filename:str) -> dict:\n",
    "    full_path = json_dir + \"/\" + filename\n",
    "\n",
    "    with open(full_path, \"r\") as json_data:\n",
    "        data = json.load(json_data)\n",
    "\n",
    "    return(data)"
   ]
  },
  {
   "attachments": {},
   "cell_type": "markdown",
   "metadata": {},
   "source": [
    "## Video to frames (stage 3.1)\n",
    "\n",
    "Based on the desired fps, turn videos into frames"
   ]
  },
  {
   "cell_type": "code",
   "execution_count": 8,
   "metadata": {},
   "outputs": [],
   "source": [
    "\"\"\" local vals\"\"\"\n",
    "\n",
    "target_rgb_fps_lower = 10\n",
    "target_rgb_fps_upper = 20\n",
    "target_thermal_fps_lower = 5\n",
    "target_thermal_fps_upper = 210"
   ]
  },
  {
   "cell_type": "code",
   "execution_count": 9,
   "metadata": {},
   "outputs": [],
   "source": [
    "\"\"\" load JSON files \"\"\"\n",
    "\n",
    "metadata_rgb = load_json(json_dir, \"rgb_complete.json\")\n",
    "metadata_thermal = load_json(json_dir, \"thermal_complete.json\")"
   ]
  },
  {
   "cell_type": "code",
   "execution_count": 14,
   "metadata": {},
   "outputs": [
    {
     "name": "stdout",
     "output_type": "stream",
     "text": [
      "D:/Christian/DI_centre_structured/DI_CAMERA_P3225/Final/Arun/2 Meters/With Blankets/Hold Breath/frames\n",
      "error: OpenCV(4.7.0) D:\\a\\opencv-python\\opencv-python\\opencv\\modules\\imgcodecs\\src\\loadsave.cpp:783: error: (-215:Assertion failed) !_img.empty() in function 'cv::imwrite'\n",
      ", frame_count: 10, saved_count: 5\n"
     ]
    }
   ],
   "source": [
    "\"\"\" convert video to png (rgb) \"\"\"\n",
    "convert_video_to_frame(metadata_rgb, target_rgb_fps_lower)"
   ]
  },
  {
   "attachments": {},
   "cell_type": "markdown",
   "metadata": {},
   "source": []
  }
 ],
 "metadata": {
  "kernelspec": {
   "display_name": "Python 3",
   "language": "python",
   "name": "python3"
  },
  "language_info": {
   "codemirror_mode": {
    "name": "ipython",
    "version": 3
   },
   "file_extension": ".py",
   "mimetype": "text/x-python",
   "name": "python",
   "nbconvert_exporter": "python",
   "pygments_lexer": "ipython3",
   "version": "3.11.3"
  },
  "orig_nbformat": 4
 },
 "nbformat": 4,
 "nbformat_minor": 2
}
