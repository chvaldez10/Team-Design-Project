{
 "cells": [
  {
   "attachments": {},
   "cell_type": "markdown",
   "metadata": {},
   "source": [
    "# DI Pre Processing\n",
    "This notebook extracts metadata from video files \n",
    "\n",
    "<br>\n",
    "\n",
    "![UofC logo](./pictures/uofc_logo-black.jpg)"
   ]
  },
  {
   "cell_type": "code",
   "execution_count": 19,
   "metadata": {},
   "outputs": [],
   "source": [
    "#import libraries\n",
    "import os\n",
    "import cv2\n",
    "import json\n",
    "import pandas as pd"
   ]
  },
  {
   "cell_type": "code",
   "execution_count": 20,
   "metadata": {},
   "outputs": [],
   "source": [
    "repo_dir = os.getcwd()\n",
    "json_dir = repo_dir + \"/records/JSON\""
   ]
  },
  {
   "cell_type": "code",
   "execution_count": 21,
   "metadata": {},
   "outputs": [],
   "source": [
    "# patient alias id\n",
    "ALIAS_ID = {\n",
    "  \"Rachael B\" : \"1\",\n",
    "  \"Sara\" : \"2\",\n",
    "  \"Kate\" : \"3\",\n",
    "  \"Nick\" : \"4\",\n",
    "  \"Daniel\" : \"5\",\n",
    "  \"Illia\" : \"6\",\n",
    "  \"Melissa\" : \"7\",\n",
    "  \"Karlii\" : \"8\",\n",
    "  \"Eddy\" : \"9\",\n",
    "  \"John McNeil\" : \"10\",\n",
    "  \"Farooq\" : \"11\",\n",
    "  \"Krystyn\" : \"12\",\n",
    "  \"Jay\" : \"13\",\n",
    "  \"Frank\" : \"14\",\n",
    "  \"Arun\" : \"15\",\n",
    "  \"Riyan\" : \"16\",\n",
    "  \"Joseph\" : \"17\",\n",
    "  \"John Brunton\" : \"18\",\n",
    "  \"Illia2\" : \"19\",\n",
    "  \"Frank2\" : \"20\"\n",
    "}"
   ]
  },
  {
   "cell_type": "code",
   "execution_count": 22,
   "metadata": {},
   "outputs": [],
   "source": [
    "def get_video_properties(mp4_file: str) -> list:\n",
    "    try:\n",
    "        video_properties = []\n",
    "        video = cv2.VideoCapture(mp4_file)\n",
    "        old_fps = video.get(cv2.CAP_PROP_FPS)\n",
    "        number_of_frames = video.get(cv2.CAP_PROP_FRAME_COUNT)\n",
    "        length = number_of_frames / old_fps\n",
    "        video_properties.append(number_of_frames)\n",
    "        video_properties.append(old_fps)\n",
    "        video_properties.append(length)\n",
    "        video.release()\n",
    "    except Exception as e:\n",
    "        print(f\"{type(e)} - from {mp4_file}\")\n",
    "    \n",
    "    return video_properties"
   ]
  },
  {
   "cell_type": "code",
   "execution_count": 23,
   "metadata": {},
   "outputs": [],
   "source": [
    "def get_alias(patient_info:dict, camera:str) -> str:\n",
    "    if camera == \"rgb\":\n",
    "        return ALIAS_ID.get(patient_info[\"ID\"], \"?\")\n",
    "    \n",
    "    if camera == \"thermal\":\n",
    "        return patient_info[\"ID\"]"
   ]
  },
  {
   "cell_type": "code",
   "execution_count": 24,
   "metadata": {},
   "outputs": [],
   "source": [
    "def add_video_properties(metadata:dict, camera:str) -> dict:\n",
    "    new_patient_info = {}\n",
    "    \n",
    "    for patient_id, patient_info in metadata.items():\n",
    "        try:\n",
    "            video_path = patient_info[\"local path\"]\n",
    "            frames, fps, length_in_seconds = get_video_properties(video_path)\n",
    "            patient_info[\"frames\"] = frames\n",
    "            patient_info[\"old fps\"] = fps\n",
    "            patient_info[\"length\"] = length_in_seconds\n",
    "            patient_info[\"alias\"] = get_alias(patient_info, camera)\n",
    "            new_patient_info[patient_id] = patient_info\n",
    "        except Exception as e:\n",
    "            print(f\"{type(e)} - {patient_info['ID']}\")\n",
    "\n",
    "    return new_patient_info "
   ]
  },
  {
   "cell_type": "code",
   "execution_count": 25,
   "metadata": {},
   "outputs": [],
   "source": [
    "def load_json(json_dir:str, filename:str) -> dict:\n",
    "    full_path = json_dir + \"/\" + filename\n",
    "\n",
    "    with open(full_path, \"r\") as json_data:\n",
    "        data = json.load(json_data)\n",
    "\n",
    "    return(data)"
   ]
  },
  {
   "cell_type": "code",
   "execution_count": 26,
   "metadata": {},
   "outputs": [],
   "source": [
    "def export_to_excel(patient_info:dict, filename: str) -> None:\n",
    "    patient_df = pd.DataFrame.from_dict(patient_info).transpose()\n",
    "    patient_df = patient_df.drop(columns=[\"local path\"])\n",
    "    new_df = patient_df.set_index([\"ID\", \"distance\", \"breathing\", \"blanket\", \"filename\"])\n",
    "    new_df.to_excel(filename)\n",
    "    return new_df"
   ]
  },
  {
   "cell_type": "code",
   "execution_count": 27,
   "metadata": {},
   "outputs": [],
   "source": [
    "def export_to_json(filename: str, all_patient_info: dict) -> None:\n",
    "    patient_json = json.dumps(all_patient_info, indent=2)\n",
    "\n",
    "    with open(filename, \"w\") as json_data:\n",
    "        json_data.write(patient_json)"
   ]
  },
  {
   "attachments": {},
   "cell_type": "markdown",
   "metadata": {},
   "source": [
    "## Get video metadata and export to xlsx file (stage 2.1)"
   ]
  },
  {
   "cell_type": "code",
   "execution_count": 28,
   "metadata": {},
   "outputs": [],
   "source": [
    "\"\"\" load JSON files \"\"\"\n",
    "\n",
    "metadata_rgb = load_json(json_dir, \"rgb.json\")\n",
    "metadata_thermal = load_json(json_dir, \"thermal.json\")"
   ]
  },
  {
   "cell_type": "code",
   "execution_count": 29,
   "metadata": {},
   "outputs": [],
   "source": [
    "\"\"\" extract metadata from video (rgb) \"\"\"\n",
    "complete_metadata_rgb = add_video_properties(metadata_rgb, \"rgb\")"
   ]
  },
  {
   "cell_type": "code",
   "execution_count": 30,
   "metadata": {},
   "outputs": [],
   "source": [
    "\"\"\" save to json (rgb) \"\"\"\n",
    "json_rgb_filename = repo_dir + \"/records/JSON/rgb_complete.json\"\n",
    "export_to_json(json_rgb_filename, complete_metadata_rgb)"
   ]
  },
  {
   "cell_type": "code",
   "execution_count": 31,
   "metadata": {},
   "outputs": [],
   "source": [
    "\"\"\" patient info to pandas DataFrame (rgb)\"\"\"\n",
    "rgb_xlsx = repo_dir + \"/records/xlsx/rgb.xlsx\"\n",
    "rgb_df = export_to_excel(complete_metadata_rgb, rgb_xlsx)"
   ]
  },
  {
   "cell_type": "code",
   "execution_count": 32,
   "metadata": {},
   "outputs": [],
   "source": [
    "# \"\"\" extract metadata from video (thermal) \"\"\"\n",
    "# complete_metadata_thermal = add_video_properties(metadata_thermal, \"thermal\")"
   ]
  },
  {
   "cell_type": "code",
   "execution_count": 33,
   "metadata": {},
   "outputs": [],
   "source": [
    "\"\"\" save to json (thermal) \"\"\"\n",
    "json_thermal_filename = repo_dir + \"/records/JSON/thermal_complete.json\"\n",
    "export_to_json(json_thermal_filename, complete_metadata_thermal)"
   ]
  },
  {
   "cell_type": "code",
   "execution_count": 34,
   "metadata": {},
   "outputs": [],
   "source": [
    "# \"\"\" patient info to pandas DataFrame (thermal)\"\"\"\n",
    "# thermal_xlsx = repo_dir + \"/records/xlsx/thermal.xlsx\"\n",
    "# thermal_df = export_to_excel(complete_metadata_thermal, thermal_xlsx)"
   ]
  },
  {
   "cell_type": "code",
   "execution_count": 35,
   "metadata": {},
   "outputs": [
    {
     "data": {
      "text/html": [
       "<div>\n",
       "<style scoped>\n",
       "    .dataframe tbody tr th:only-of-type {\n",
       "        vertical-align: middle;\n",
       "    }\n",
       "\n",
       "    .dataframe tbody tr th {\n",
       "        vertical-align: top;\n",
       "    }\n",
       "\n",
       "    .dataframe thead th {\n",
       "        text-align: right;\n",
       "    }\n",
       "</style>\n",
       "<table border=\"1\" class=\"dataframe\">\n",
       "  <thead>\n",
       "    <tr style=\"text-align: right;\">\n",
       "      <th></th>\n",
       "      <th>frames</th>\n",
       "      <th>length</th>\n",
       "      <th>old fps</th>\n",
       "      <th>alias</th>\n",
       "    </tr>\n",
       "  </thead>\n",
       "  <tbody>\n",
       "    <tr>\n",
       "      <th>count</th>\n",
       "      <td>6.000000</td>\n",
       "      <td>6.000000</td>\n",
       "      <td>6.0</td>\n",
       "      <td>6.0</td>\n",
       "    </tr>\n",
       "    <tr>\n",
       "      <th>mean</th>\n",
       "      <td>1704.333333</td>\n",
       "      <td>28.405556</td>\n",
       "      <td>60.0</td>\n",
       "      <td>15.0</td>\n",
       "    </tr>\n",
       "    <tr>\n",
       "      <th>std</th>\n",
       "      <td>1263.451569</td>\n",
       "      <td>21.057526</td>\n",
       "      <td>0.0</td>\n",
       "      <td>0.0</td>\n",
       "    </tr>\n",
       "    <tr>\n",
       "      <th>min</th>\n",
       "      <td>143.000000</td>\n",
       "      <td>2.383333</td>\n",
       "      <td>60.0</td>\n",
       "      <td>15.0</td>\n",
       "    </tr>\n",
       "    <tr>\n",
       "      <th>25%</th>\n",
       "      <td>1137.250000</td>\n",
       "      <td>18.954167</td>\n",
       "      <td>60.0</td>\n",
       "      <td>15.0</td>\n",
       "    </tr>\n",
       "    <tr>\n",
       "      <th>50%</th>\n",
       "      <td>1464.000000</td>\n",
       "      <td>24.400000</td>\n",
       "      <td>60.0</td>\n",
       "      <td>15.0</td>\n",
       "    </tr>\n",
       "    <tr>\n",
       "      <th>75%</th>\n",
       "      <td>2057.000000</td>\n",
       "      <td>34.283333</td>\n",
       "      <td>60.0</td>\n",
       "      <td>15.0</td>\n",
       "    </tr>\n",
       "    <tr>\n",
       "      <th>max</th>\n",
       "      <td>3872.000000</td>\n",
       "      <td>64.533333</td>\n",
       "      <td>60.0</td>\n",
       "      <td>15.0</td>\n",
       "    </tr>\n",
       "  </tbody>\n",
       "</table>\n",
       "</div>"
      ],
      "text/plain": [
       "            frames     length  old fps  alias\n",
       "count     6.000000   6.000000      6.0    6.0\n",
       "mean   1704.333333  28.405556     60.0   15.0\n",
       "std    1263.451569  21.057526      0.0    0.0\n",
       "min     143.000000   2.383333     60.0   15.0\n",
       "25%    1137.250000  18.954167     60.0   15.0\n",
       "50%    1464.000000  24.400000     60.0   15.0\n",
       "75%    2057.000000  34.283333     60.0   15.0\n",
       "max    3872.000000  64.533333     60.0   15.0"
      ]
     },
     "execution_count": 35,
     "metadata": {},
     "output_type": "execute_result"
    }
   ],
   "source": [
    "\"\"\" read exported excel (rgb) \"\"\"\n",
    "new_rgb_df = pd.read_excel(rgb_xlsx)\n",
    "new_rgb_df.describe()"
   ]
  },
  {
   "cell_type": "code",
   "execution_count": 36,
   "metadata": {},
   "outputs": [
    {
     "ename": "NameError",
     "evalue": "name 'thermal_xlsx' is not defined",
     "output_type": "error",
     "traceback": [
      "\u001b[1;31m---------------------------------------------------------------------------\u001b[0m",
      "\u001b[1;31mNameError\u001b[0m                                 Traceback (most recent call last)",
      "\u001b[1;32mc:\\Users\\chris\\Documents\\Projects Outside of School\\DI-Automated-Scripts\\get_metadata.ipynb Cell 20\u001b[0m line \u001b[0;36m2\n\u001b[0;32m      <a href='vscode-notebook-cell:/c%3A/Users/chris/Documents/Projects%20Outside%20of%20School/DI-Automated-Scripts/get_metadata.ipynb#X25sZmlsZQ%3D%3D?line=0'>1</a>\u001b[0m \u001b[39m\"\"\" read exported excel (thermal) \"\"\"\u001b[39;00m\n\u001b[1;32m----> <a href='vscode-notebook-cell:/c%3A/Users/chris/Documents/Projects%20Outside%20of%20School/DI-Automated-Scripts/get_metadata.ipynb#X25sZmlsZQ%3D%3D?line=1'>2</a>\u001b[0m new_thermal_df \u001b[39m=\u001b[39m pd\u001b[39m.\u001b[39mread_excel(thermal_xlsx)\n\u001b[0;32m      <a href='vscode-notebook-cell:/c%3A/Users/chris/Documents/Projects%20Outside%20of%20School/DI-Automated-Scripts/get_metadata.ipynb#X25sZmlsZQ%3D%3D?line=2'>3</a>\u001b[0m new_thermal_df\u001b[39m.\u001b[39mdescribe()\n",
      "\u001b[1;31mNameError\u001b[0m: name 'thermal_xlsx' is not defined"
     ]
    }
   ],
   "source": [
    "\"\"\" read exported excel (thermal) \"\"\"\n",
    "new_thermal_df = pd.read_excel(thermal_xlsx)\n",
    "new_thermal_df.describe()"
   ]
  }
 ],
 "metadata": {
  "kernelspec": {
   "display_name": "Python 3.11.4 64-bit",
   "language": "python",
   "name": "python3"
  },
  "language_info": {
   "codemirror_mode": {
    "name": "ipython",
    "version": 3
   },
   "file_extension": ".py",
   "mimetype": "text/x-python",
   "name": "python",
   "nbconvert_exporter": "python",
   "pygments_lexer": "ipython3",
   "version": "3.11.4"
  },
  "orig_nbformat": 4,
  "vscode": {
   "interpreter": {
    "hash": "e7228a7137a92e95012bf2be7e7bd4e027e828c700167ca5a0671652a2d91aff"
   }
  }
 },
 "nbformat": 4,
 "nbformat_minor": 2
}
