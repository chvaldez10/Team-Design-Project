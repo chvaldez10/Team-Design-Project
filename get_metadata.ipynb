{
 "cells": [
  {
   "attachments": {},
   "cell_type": "markdown",
   "metadata": {},
   "source": [
    "# Video Processing for BT Lab\n",
    "This notebook extracts metadata from video files \n",
    "\n",
    "<br>\n",
    "\n",
    "![UofC logo](./pictures/uofc_logo-black.jpg)"
   ]
  },
  {
   "cell_type": "code",
   "execution_count": 1,
   "metadata": {},
   "outputs": [],
   "source": [
    "#import libraries\n",
    "import os\n",
    "import cv2\n",
    "import json\n",
    "import pandas as pd"
   ]
  },
  {
   "cell_type": "code",
   "execution_count": 2,
   "metadata": {},
   "outputs": [],
   "source": [
    "repo_dir = os.getcwd()\n",
    "json_dir = repo_dir + \"/records/JSON\""
   ]
  },
  {
   "cell_type": "code",
   "execution_count": 3,
   "metadata": {},
   "outputs": [],
   "source": [
    "# patient alias id\n",
    "ALIAS_ID = {\n",
    "  \"Rachael B\" : \"1\",\n",
    "  \"Sara\" : \"2\",\n",
    "  \"Kate\" : \"3\",\n",
    "  \"Nick\" : \"4\",\n",
    "  \"Daniel\" : \"5\",\n",
    "  \"Illia\" : \"6\",\n",
    "  \"Melissa\" : \"7\",\n",
    "  \"Karlii\" : \"8\",\n",
    "  \"Eddy\" : \"9\",\n",
    "  \"John McNeil\" : \"10\",\n",
    "  \"Farooq\" : \"11\",\n",
    "  \"Krystyn\" : \"12\",\n",
    "  \"Jay\" : \"13\",\n",
    "  \"Frank\" : \"14\",\n",
    "  \"Arun\" : \"15\",\n",
    "  \"Riyan\" : \"16\",\n",
    "  \"Joseph\" : \"17\",\n",
    "  \"John Brunton\" : \"18\",\n",
    "  \"Illia2\" : \"19\",\n",
    "  \"Frank2\" : \"20\"\n",
    "}"
   ]
  },
  {
   "cell_type": "code",
   "execution_count": 4,
   "metadata": {},
   "outputs": [],
   "source": [
    "def get_video_properties(mp4_file: str) -> list:\n",
    "    try:\n",
    "        video_properties = []\n",
    "        video = cv2.VideoCapture(mp4_file)\n",
    "        old_fps = video.get(cv2.CAP_PROP_FPS)\n",
    "        number_of_frames = video.get(cv2.CAP_PROP_FRAME_COUNT)\n",
    "        length = number_of_frames / old_fps\n",
    "        video_properties.append(number_of_frames)\n",
    "        video_properties.append(old_fps)\n",
    "        video_properties.append(length)\n",
    "        video.release()\n",
    "    except Exception as e:\n",
    "        print(f\"{type(e)} - from {mp4_file}\")\n",
    "    \n",
    "    return video_properties"
   ]
  },
  {
   "cell_type": "code",
   "execution_count": 5,
   "metadata": {},
   "outputs": [],
   "source": [
    "def get_alias(patient_info:dict, camera:str) -> str:\n",
    "    if camera == \"rgb\":\n",
    "        return ALIAS_ID.get(patient_info[\"ID\"], \"?\")\n",
    "    \n",
    "    if camera == \"thermal\":\n",
    "        return patient_info[\"ID\"]"
   ]
  },
  {
   "cell_type": "code",
   "execution_count": 6,
   "metadata": {},
   "outputs": [],
   "source": [
    "def add_video_properties(metadata:dict, camera:str) -> dict:\n",
    "    new_patient_info = {}\n",
    "    \n",
    "    for patient_id, patient_info in metadata.items():\n",
    "        try:\n",
    "            video_path = patient_info[\"local path\"]\n",
    "            frames, fps, length_in_seconds = get_video_properties(video_path)\n",
    "            patient_info[\"frames\"] = frames\n",
    "            patient_info[\"old fps\"] = fps\n",
    "            patient_info[\"length\"] = length_in_seconds\n",
    "            patient_info[\"alias\"] = get_alias(patient_info, camera)\n",
    "            new_patient_info[patient_id] = patient_info\n",
    "        except Exception as e:\n",
    "            print(f\"{type(e)} - {patient_info['ID']}\")\n",
    "\n",
    "    return new_patient_info "
   ]
  },
  {
   "cell_type": "code",
   "execution_count": 7,
   "metadata": {},
   "outputs": [],
   "source": [
    "def load_json(json_dir:str, filename:str) -> dict:\n",
    "    full_path = json_dir + \"/\" + filename\n",
    "\n",
    "    with open(full_path, \"r\") as json_data:\n",
    "        data = json.load(json_data)\n",
    "\n",
    "    return(data)"
   ]
  },
  {
   "cell_type": "code",
   "execution_count": 8,
   "metadata": {},
   "outputs": [],
   "source": [
    "def export_to_excel(patient_info:dict, filename: str) -> None:\n",
    "    patient_df = pd.DataFrame.from_dict(patient_info).transpose()\n",
    "    patient_df = patient_df.drop(columns=[\"local path\"])\n",
    "    new_df = patient_df.set_index([\"ID\", \"distance\", \"breathing\", \"blanket\", \"filename\"])\n",
    "    new_df.to_excel(filename)\n",
    "    return new_df"
   ]
  },
  {
   "cell_type": "code",
   "execution_count": 9,
   "metadata": {},
   "outputs": [],
   "source": [
    "def export_to_json(filename: str, all_patient_info: dict) -> None:\n",
    "    patient_json = json.dumps(all_patient_info, indent=2)\n",
    "\n",
    "    with open(filename, \"w\") as json_data:\n",
    "        json_data.write(patient_json)"
   ]
  },
  {
   "attachments": {},
   "cell_type": "markdown",
   "metadata": {},
   "source": [
    "## Get video metadata and export to xlsx file (stage 2.1)"
   ]
  },
  {
   "cell_type": "code",
   "execution_count": 10,
   "metadata": {},
   "outputs": [],
   "source": [
    "\"\"\" load JSON files \"\"\"\n",
    "\n",
    "metadata_rgb = load_json(json_dir, \"rgb.json\")\n",
    "metadata_thermal = load_json(json_dir, \"thermal.json\")"
   ]
  },
  {
   "cell_type": "code",
   "execution_count": 11,
   "metadata": {},
   "outputs": [],
   "source": [
    "\"\"\" extract metadata from video (rgb) \"\"\"\n",
    "complete_metadata_rgb = add_video_properties(metadata_rgb, \"rgb\")"
   ]
  },
  {
   "cell_type": "code",
   "execution_count": 12,
   "metadata": {},
   "outputs": [],
   "source": [
    "\"\"\" save to json (rgb) \"\"\"\n",
    "json_rgb_complete = repo_dir + \"/records/JSON/rgb_complete.json\"\n",
    "export_to_json(json_rgb_complete, complete_metadata_rgb)"
   ]
  },
  {
   "cell_type": "code",
   "execution_count": 13,
   "metadata": {},
   "outputs": [],
   "source": [
    "\"\"\" patient info to pandas DataFrame (rgb)\"\"\"\n",
    "rgb_xlsx = repo_dir + \"/records/xlsx/rgb.xlsx\"\n",
    "rgb_df = export_to_excel(complete_metadata_rgb, rgb_xlsx)"
   ]
  },
  {
   "cell_type": "code",
   "execution_count": 14,
   "metadata": {},
   "outputs": [],
   "source": [
    "\"\"\" extract metadata from video (thermal) \"\"\"\n",
    "complete_metadata_thermal = add_video_properties(metadata_thermal, \"thermal\")"
   ]
  },
  {
   "cell_type": "code",
   "execution_count": 15,
   "metadata": {},
   "outputs": [],
   "source": [
    "\"\"\" save to json (thermal) \"\"\"\n",
    "json_thermal_complete = repo_dir + \"/records/JSON/thermal_complete.json\"\n",
    "export_to_json(json_thermal_complete, complete_metadata_thermal)"
   ]
  },
  {
   "cell_type": "code",
   "execution_count": 16,
   "metadata": {},
   "outputs": [],
   "source": [
    "\"\"\" patient info to pandas DataFrame (thermal)\"\"\"\n",
    "thermal_xlsx = repo_dir + \"/records/xlsx/thermal.xlsx\"\n",
    "thermal_df = export_to_excel(complete_metadata_thermal, thermal_xlsx)"
   ]
  },
  {
   "cell_type": "code",
   "execution_count": 17,
   "metadata": {},
   "outputs": [
    {
     "data": {
      "text/html": [
       "<div>\n",
       "<style scoped>\n",
       "    .dataframe tbody tr th:only-of-type {\n",
       "        vertical-align: middle;\n",
       "    }\n",
       "\n",
       "    .dataframe tbody tr th {\n",
       "        vertical-align: top;\n",
       "    }\n",
       "\n",
       "    .dataframe thead th {\n",
       "        text-align: right;\n",
       "    }\n",
       "</style>\n",
       "<table border=\"1\" class=\"dataframe\">\n",
       "  <thead>\n",
       "    <tr style=\"text-align: right;\">\n",
       "      <th></th>\n",
       "      <th>frames</th>\n",
       "      <th>length</th>\n",
       "      <th>old fps</th>\n",
       "      <th>alias</th>\n",
       "    </tr>\n",
       "  </thead>\n",
       "  <tbody>\n",
       "    <tr>\n",
       "      <th>count</th>\n",
       "      <td>137.000000</td>\n",
       "      <td>137.000000</td>\n",
       "      <td>137.000000</td>\n",
       "      <td>137.000000</td>\n",
       "    </tr>\n",
       "    <tr>\n",
       "      <th>mean</th>\n",
       "      <td>1833.284672</td>\n",
       "      <td>37.508788</td>\n",
       "      <td>49.660760</td>\n",
       "      <td>9.678832</td>\n",
       "    </tr>\n",
       "    <tr>\n",
       "      <th>std</th>\n",
       "      <td>902.684933</td>\n",
       "      <td>18.801801</td>\n",
       "      <td>7.451798</td>\n",
       "      <td>5.372772</td>\n",
       "    </tr>\n",
       "    <tr>\n",
       "      <th>min</th>\n",
       "      <td>143.000000</td>\n",
       "      <td>4.113682</td>\n",
       "      <td>18.563774</td>\n",
       "      <td>1.000000</td>\n",
       "    </tr>\n",
       "    <tr>\n",
       "      <th>25%</th>\n",
       "      <td>1398.000000</td>\n",
       "      <td>26.896963</td>\n",
       "      <td>44.783596</td>\n",
       "      <td>5.000000</td>\n",
       "    </tr>\n",
       "    <tr>\n",
       "      <th>50%</th>\n",
       "      <td>1555.000000</td>\n",
       "      <td>32.738973</td>\n",
       "      <td>50.544559</td>\n",
       "      <td>9.000000</td>\n",
       "    </tr>\n",
       "    <tr>\n",
       "      <th>75%</th>\n",
       "      <td>2229.000000</td>\n",
       "      <td>46.704064</td>\n",
       "      <td>54.651671</td>\n",
       "      <td>14.000000</td>\n",
       "    </tr>\n",
       "    <tr>\n",
       "      <th>max</th>\n",
       "      <td>8111.000000</td>\n",
       "      <td>161.407619</td>\n",
       "      <td>60.460675</td>\n",
       "      <td>20.000000</td>\n",
       "    </tr>\n",
       "  </tbody>\n",
       "</table>\n",
       "</div>"
      ],
      "text/plain": [
       "            frames      length     old fps       alias\n",
       "count   137.000000  137.000000  137.000000  137.000000\n",
       "mean   1833.284672   37.508788   49.660760    9.678832\n",
       "std     902.684933   18.801801    7.451798    5.372772\n",
       "min     143.000000    4.113682   18.563774    1.000000\n",
       "25%    1398.000000   26.896963   44.783596    5.000000\n",
       "50%    1555.000000   32.738973   50.544559    9.000000\n",
       "75%    2229.000000   46.704064   54.651671   14.000000\n",
       "max    8111.000000  161.407619   60.460675   20.000000"
      ]
     },
     "execution_count": 17,
     "metadata": {},
     "output_type": "execute_result"
    }
   ],
   "source": [
    "\"\"\" read exported excel (rgb) \"\"\"\n",
    "new_rgb_df = pd.read_excel(rgb_xlsx)\n",
    "new_rgb_df.describe()"
   ]
  },
  {
   "cell_type": "code",
   "execution_count": 18,
   "metadata": {},
   "outputs": [
    {
     "data": {
      "text/html": [
       "<div>\n",
       "<style scoped>\n",
       "    .dataframe tbody tr th:only-of-type {\n",
       "        vertical-align: middle;\n",
       "    }\n",
       "\n",
       "    .dataframe tbody tr th {\n",
       "        vertical-align: top;\n",
       "    }\n",
       "\n",
       "    .dataframe thead th {\n",
       "        text-align: right;\n",
       "    }\n",
       "</style>\n",
       "<table border=\"1\" class=\"dataframe\">\n",
       "  <thead>\n",
       "    <tr style=\"text-align: right;\">\n",
       "      <th></th>\n",
       "      <th>ID</th>\n",
       "      <th>frames</th>\n",
       "      <th>length</th>\n",
       "      <th>old fps</th>\n",
       "      <th>alias</th>\n",
       "    </tr>\n",
       "  </thead>\n",
       "  <tbody>\n",
       "    <tr>\n",
       "      <th>count</th>\n",
       "      <td>15.000000</td>\n",
       "      <td>138.000000</td>\n",
       "      <td>138.000000</td>\n",
       "      <td>138.000000</td>\n",
       "      <td>138.000000</td>\n",
       "    </tr>\n",
       "    <tr>\n",
       "      <th>mean</th>\n",
       "      <td>8.000000</td>\n",
       "      <td>2272.442029</td>\n",
       "      <td>168.742995</td>\n",
       "      <td>15.000002</td>\n",
       "      <td>9.079710</td>\n",
       "    </tr>\n",
       "    <tr>\n",
       "      <th>std</th>\n",
       "      <td>4.472136</td>\n",
       "      <td>1466.445740</td>\n",
       "      <td>117.011025</td>\n",
       "      <td>9.001220</td>\n",
       "      <td>4.366531</td>\n",
       "    </tr>\n",
       "    <tr>\n",
       "      <th>min</th>\n",
       "      <td>1.000000</td>\n",
       "      <td>0.000000</td>\n",
       "      <td>0.000000</td>\n",
       "      <td>5.000000</td>\n",
       "      <td>1.000000</td>\n",
       "    </tr>\n",
       "    <tr>\n",
       "      <th>25%</th>\n",
       "      <td>4.500000</td>\n",
       "      <td>1499.750000</td>\n",
       "      <td>86.708333</td>\n",
       "      <td>10.000000</td>\n",
       "      <td>6.000000</td>\n",
       "    </tr>\n",
       "    <tr>\n",
       "      <th>50%</th>\n",
       "      <td>8.000000</td>\n",
       "      <td>2018.000000</td>\n",
       "      <td>175.550000</td>\n",
       "      <td>10.000000</td>\n",
       "      <td>9.000000</td>\n",
       "    </tr>\n",
       "    <tr>\n",
       "      <th>75%</th>\n",
       "      <td>11.500000</td>\n",
       "      <td>3565.750000</td>\n",
       "      <td>207.650000</td>\n",
       "      <td>30.000000</td>\n",
       "      <td>13.000000</td>\n",
       "    </tr>\n",
       "    <tr>\n",
       "      <th>max</th>\n",
       "      <td>15.000000</td>\n",
       "      <td>6450.000000</td>\n",
       "      <td>504.800000</td>\n",
       "      <td>30.000300</td>\n",
       "      <td>15.000000</td>\n",
       "    </tr>\n",
       "  </tbody>\n",
       "</table>\n",
       "</div>"
      ],
      "text/plain": [
       "              ID       frames      length     old fps       alias\n",
       "count  15.000000   138.000000  138.000000  138.000000  138.000000\n",
       "mean    8.000000  2272.442029  168.742995   15.000002    9.079710\n",
       "std     4.472136  1466.445740  117.011025    9.001220    4.366531\n",
       "min     1.000000     0.000000    0.000000    5.000000    1.000000\n",
       "25%     4.500000  1499.750000   86.708333   10.000000    6.000000\n",
       "50%     8.000000  2018.000000  175.550000   10.000000    9.000000\n",
       "75%    11.500000  3565.750000  207.650000   30.000000   13.000000\n",
       "max    15.000000  6450.000000  504.800000   30.000300   15.000000"
      ]
     },
     "execution_count": 18,
     "metadata": {},
     "output_type": "execute_result"
    }
   ],
   "source": [
    "\"\"\" read exported excel (thermal) \"\"\"\n",
    "new_thermal_df = pd.read_excel(thermal_xlsx)\n",
    "new_thermal_df.describe()"
   ]
  }
 ],
 "metadata": {
  "kernelspec": {
   "display_name": "Python 3.11.4 64-bit",
   "language": "python",
   "name": "python3"
  },
  "language_info": {
   "codemirror_mode": {
    "name": "ipython",
    "version": 3
   },
   "file_extension": ".py",
   "mimetype": "text/x-python",
   "name": "python",
   "nbconvert_exporter": "python",
   "pygments_lexer": "ipython3",
   "version": "3.11.4"
  },
  "orig_nbformat": 4,
  "vscode": {
   "interpreter": {
    "hash": "e7228a7137a92e95012bf2be7e7bd4e027e828c700167ca5a0671652a2d91aff"
   }
  }
 },
 "nbformat": 4,
 "nbformat_minor": 2
}
