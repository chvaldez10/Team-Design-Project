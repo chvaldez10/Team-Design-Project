{
 "cells": [
  {
   "attachments": {},
   "cell_type": "markdown",
   "metadata": {},
   "source": [
    "# Video Processing for BT Lab\n",
    "![UofC logo](./pictures/uofc_logo-black.jpg)"
   ]
  },
  {
   "cell_type": "code",
   "execution_count": 4,
   "metadata": {},
   "outputs": [],
   "source": [
    "#import libraries\n",
    "import os\n",
    "import cv2\n",
    "import json\n",
    "import re"
   ]
  },
  {
   "cell_type": "code",
   "execution_count": 5,
   "metadata": {},
   "outputs": [],
   "source": [
    "repo_dir = os.getcwd()"
   ]
  },
  {
   "cell_type": "code",
   "execution_count": 18,
   "metadata": {},
   "outputs": [],
   "source": [
    "def extract_info_from_filepath(filepaths:list[str]) -> list[dict]:\n",
    "    all_videos = []\n",
    "    file_info_from_path = {\n",
    "        0 : \"ID\",\n",
    "        1 : \"distance\",\n",
    "        2 : \"blanket\",\n",
    "        3 : \"breathing\",\n",
    "        4 : \"filename\"\n",
    "    }\n",
    "\n",
    "    splice_stop = 5\n",
    "\n",
    "    for filepath in filepaths:\n",
    "        filepath_no_backslash = filepath.replace(\"\\\\\", \"/\")\n",
    "        filepath_to_list = filepath_no_backslash.split(\"/\")\n",
    "        filepath_to_list = filepath_to_list[-splice_stop:]\n",
    "        patient_info = {tag:filepath_to_list[key] for key, tag in file_info_from_path.items() if key<splice_stop}\n",
    "        all_videos.append(patient_info)\n",
    "\n",
    "    return all_videos"
   ]
  },
  {
   "cell_type": "code",
   "execution_count": 7,
   "metadata": {},
   "outputs": [],
   "source": [
    "def read_log_files(log_directory:str) -> list[str]:\n",
    "    try:\n",
    "        os.chdir(log_directory)\n",
    "    except Exception as e:\n",
    "        print(type(e))\n",
    "        return []\n",
    "\n",
    "    log_files = [dir_file for dir_file in os.listdir() if dir_file.endswith(\".log\")]\n",
    "    video_files = []\n",
    "\n",
    "    for log_file in log_files:\n",
    "        try:\n",
    "            with open(log_file, \"r\") as log_file_data:\n",
    "                log_read = log_file_data.read().split(\"\\n\")\n",
    "                video_files.append(log_read)\n",
    "        except FileNotFoundError as e:\n",
    "            print(type(e))\n",
    "\n",
    "    return video_files"
   ]
  },
  {
   "cell_type": "code",
   "execution_count": 25,
   "metadata": {},
   "outputs": [],
   "source": [
    "def switch_dictionary_values(key1:str, key2:str, patient_information:dict):\n",
    "    new_list = []\n",
    "    for patient in patient_information:\n",
    "        saved_val = patient[key1]\n",
    "        patient[key1] = patient[key2]\n",
    "        patient[key2] = saved_val\n",
    "        new_list.append(patient)\n"
   ]
  },
  {
   "attachments": {},
   "cell_type": "markdown",
   "metadata": {},
   "source": [
    "## Extract information from the exported log files and create containers for the metadata (stage 1.2)"
   ]
  },
  {
   "cell_type": "code",
   "execution_count": 8,
   "metadata": {},
   "outputs": [],
   "source": [
    "records_folder = repo_dir + \"/record\" "
   ]
  },
  {
   "cell_type": "code",
   "execution_count": 16,
   "metadata": {},
   "outputs": [
    {
     "data": {
      "text/plain": [
       "'E:/Christian/DI_centre_structured/DI_CAMERA_P3225/Final/Arun\\\\2 Meters\\\\With Blankets\\\\Hold Breath\\\\Arun2.mp4'"
      ]
     },
     "execution_count": 16,
     "metadata": {},
     "output_type": "execute_result"
    }
   ],
   "source": [
    "\"\"\"\n",
    "    Read log files\n",
    "\"\"\"\n",
    "\n",
    "video_files = read_log_files(records_folder)\n",
    "video_files[0][0]"
   ]
  },
  {
   "cell_type": "code",
   "execution_count": 19,
   "metadata": {},
   "outputs": [
    {
     "data": {
      "text/plain": [
       "[{'ID': 'Arun',\n",
       "  'distance': '2 Meters',\n",
       "  'blanket': 'With Blankets',\n",
       "  'breathing': 'Hold Breath',\n",
       "  'filename': 'Arun2.mp4'}]"
      ]
     },
     "execution_count": 19,
     "metadata": {},
     "output_type": "execute_result"
    }
   ],
   "source": [
    "\"\"\"\n",
    "    make dictionary out of filenames (rgb)\n",
    "\"\"\"\n",
    "test_list = [video_files[0][0]]\n",
    "metadata_rgb = extract_info_from_filepath(test_list)\n",
    "metadata_rgb"
   ]
  },
  {
   "cell_type": "code",
   "execution_count": 26,
   "metadata": {},
   "outputs": [
    {
     "data": {
      "text/plain": [
       "[{'ID': '1',\n",
       "  'distance': '2 meters',\n",
       "  'blanket': 'WOB',\n",
       "  'breathing': 'H',\n",
       "  'filename': '1_H_WOB_2m.avi'}]"
      ]
     },
     "execution_count": 26,
     "metadata": {},
     "output_type": "execute_result"
    }
   ],
   "source": [
    "\"\"\"\n",
    "    make dictionary out of filenames(thermal)\n",
    "\"\"\"\n",
    "test_list = [video_files[1][0]]\n",
    "metadata_thermal = extract_info_from_filepath(test_list)\n",
    "metadata_thermal_flipped = switch_dictionary_values(\"blanket\", \"breathing\", metadata_thermal)\n",
    "metadata_thermal"
   ]
  }
 ],
 "metadata": {
  "kernelspec": {
   "display_name": "Python 3",
   "language": "python",
   "name": "python3"
  },
  "language_info": {
   "codemirror_mode": {
    "name": "ipython",
    "version": 3
   },
   "file_extension": ".py",
   "mimetype": "text/x-python",
   "name": "python",
   "nbconvert_exporter": "python",
   "pygments_lexer": "ipython3",
   "version": "3.10.9"
  },
  "orig_nbformat": 4
 },
 "nbformat": 4,
 "nbformat_minor": 2
}
