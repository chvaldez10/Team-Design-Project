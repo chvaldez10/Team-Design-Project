{
 "cells": [
  {
   "attachments": {},
   "cell_type": "markdown",
   "metadata": {},
   "source": [
    "# DI Pre Processing\n",
    "This notebook extracts metadata from video files \n",
    "\n",
    "<br>\n",
    "\n",
    "![UofC logo](./pictures/uofc_logo-black.jpg)"
   ]
  },
  {
   "cell_type": "code",
   "execution_count": 1,
   "metadata": {},
   "outputs": [],
   "source": [
    "#import libraries\n",
    "import os\n",
    "import cv2\n",
    "import json\n",
    "import pandas as pd"
   ]
  },
  {
   "cell_type": "code",
   "execution_count": 2,
   "metadata": {},
   "outputs": [],
   "source": [
    "repo_dir = os.getcwd()\n",
    "json_dir = repo_dir + \"/records/JSON\""
   ]
  },
  {
   "cell_type": "code",
   "execution_count": 3,
   "metadata": {},
   "outputs": [],
   "source": [
    "# patient alias id\n",
    "ALIAS_ID = {\n",
    "  \"Rachael B\" : \"1\",\n",
    "  \"Sara\" : \"2\",\n",
    "  \"Kate\" : \"3\",\n",
    "  \"Nick\" : \"4\",\n",
    "  \"Daniel\" : \"5\",\n",
    "  \"Illia\" : \"6\",\n",
    "  \"Melissa\" : \"7\",\n",
    "  \"Karlii\" : \"8\",\n",
    "  \"Eddy\" : \"9\",\n",
    "  \"John McNeil\" : \"10\",\n",
    "  \"Farooq\" : \"11\",\n",
    "  \"Krystyn\" : \"12\",\n",
    "  \"Jay\" : \"13\",\n",
    "  \"Frank\" : \"14\",\n",
    "  \"Arun\" : \"15\",\n",
    "  \"Riyan\" : \"16\",\n",
    "  \"Joseph\" : \"17\",\n",
    "  \"John Brunton\" : \"18\",\n",
    "  \"Illia2\" : \"19\",\n",
    "  \"Frank2\" : \"20\"\n",
    "}"
   ]
  },
  {
   "cell_type": "code",
   "execution_count": 4,
   "metadata": {},
   "outputs": [],
   "source": [
    "def get_video_properties(mp4_file: str) -> list:\n",
    "    try:\n",
    "        video_properties = []\n",
    "        video = cv2.VideoCapture(mp4_file)\n",
    "        old_fps = video.get(cv2.CAP_PROP_FPS)\n",
    "        number_of_frames = video.get(cv2.CAP_PROP_FRAME_COUNT)\n",
    "        length = number_of_frames / old_fps\n",
    "        video_properties.append(number_of_frames)\n",
    "        video_properties.append(old_fps)\n",
    "        video_properties.append(length)\n",
    "        video.release()\n",
    "    except Exception as e:\n",
    "        print(f\"{type(e)} - from {mp4_file}\")\n",
    "    \n",
    "    return video_properties"
   ]
  },
  {
   "cell_type": "code",
   "execution_count": 5,
   "metadata": {},
   "outputs": [],
   "source": [
    "def get_alias(patient_info:dict, camera:str) -> str:\n",
    "    if camera == \"rgb\":\n",
    "        return ALIAS_ID.get(patient_info[\"ID\"], \"?\")\n",
    "    \n",
    "    if camera == \"thermal\":\n",
    "        return patient_info[\"ID\"]"
   ]
  },
  {
   "cell_type": "code",
   "execution_count": 6,
   "metadata": {},
   "outputs": [],
   "source": [
    "def add_video_properties(metadata:dict, camera:str) -> dict:\n",
    "    new_patient_info = {}\n",
    "    \n",
    "    for patient_id, patient_info in metadata.items():\n",
    "        try:\n",
    "            video_path = patient_info[\"local path\"]\n",
    "            frames, fps, length_in_seconds = get_video_properties(video_path)\n",
    "            patient_info[\"frames\"] = frames\n",
    "            patient_info[\"old fps\"] = fps\n",
    "            patient_info[\"length\"] = length_in_seconds\n",
    "            patient_info[\"alias\"] = get_alias(patient_info, camera)\n",
    "            new_patient_info[patient_id] = patient_info\n",
    "        except Exception as e:\n",
    "            print(f\"{type(e)} - {patient_info['ID']}\")\n",
    "\n",
    "    return new_patient_info "
   ]
  },
  {
   "cell_type": "code",
   "execution_count": 7,
   "metadata": {},
   "outputs": [],
   "source": [
    "def load_json(json_dir:str, filename:str) -> dict:\n",
    "    full_path = json_dir + \"/\" + filename\n",
    "\n",
    "    with open(full_path, \"r\") as json_data:\n",
    "        data = json.load(json_data)\n",
    "\n",
    "    return(data)"
   ]
  },
  {
   "cell_type": "code",
   "execution_count": 8,
   "metadata": {},
   "outputs": [],
   "source": [
    "def export_to_excel(patient_info:dict, filename: str) -> None:\n",
    "    patient_df = pd.DataFrame.from_dict(patient_info).transpose()\n",
    "    patient_df = patient_df.drop(columns=[\"local path\"])\n",
    "    new_df = patient_df.set_index([\"ID\", \"distance\", \"breathing\", \"blanket\", \"filename\"])\n",
    "    new_df.to_excel(filename)\n",
    "    return new_df"
   ]
  },
  {
   "cell_type": "code",
   "execution_count": 9,
   "metadata": {},
   "outputs": [],
   "source": [
    "def export_to_json(filename: str, all_patient_info: dict) -> None:\n",
    "    patient_json = json.dumps(all_patient_info, indent=2)\n",
    "\n",
    "    with open(filename, \"w\") as json_data:\n",
    "        json_data.write(patient_json)"
   ]
  },
  {
   "attachments": {},
   "cell_type": "markdown",
   "metadata": {},
   "source": [
    "## Get video metadata and export to xlsx file (stage 2.1)"
   ]
  },
  {
   "cell_type": "code",
   "execution_count": 10,
   "metadata": {},
   "outputs": [],
   "source": [
    "\"\"\" load JSON files \"\"\"\n",
    "\n",
    "metadata_rgb = load_json(json_dir, \"rgb.json\")\n",
    "metadata_thermal = load_json(json_dir, \"thermal.json\")"
   ]
  },
  {
   "cell_type": "code",
   "execution_count": 11,
   "metadata": {},
   "outputs": [],
   "source": [
    "\"\"\" extract metadata from video (rgb) \"\"\"\n",
    "complete_metadata_rgb = add_video_properties(metadata_rgb, \"rgb\")"
   ]
  },
  {
   "cell_type": "code",
   "execution_count": 12,
   "metadata": {},
   "outputs": [],
   "source": [
    "\"\"\" save to json (rgb) \"\"\"\n",
    "json_rgb_filename = repo_dir + \"/records/JSON/rgb_complete.json\"\n",
    "export_to_json(json_rgb_filename, complete_metadata_rgb)"
   ]
  },
  {
   "cell_type": "code",
   "execution_count": 13,
   "metadata": {},
   "outputs": [],
   "source": [
    "\"\"\" patient info to pandas DataFrame (rgb)\"\"\"\n",
    "rgb_xlsx = repo_dir + \"/records/xlsx/rgb.xlsx\"\n",
    "rgb_df = export_to_excel(complete_metadata_rgb, rgb_xlsx)"
   ]
  },
  {
   "cell_type": "code",
   "execution_count": 14,
   "metadata": {},
   "outputs": [
    {
     "name": "stdout",
     "output_type": "stream",
     "text": [
      "<class 'ZeroDivisionError'> - from E:/Christian/DI_centre_structured/DI_THERMAL_FLIR//15\\2 meters\\H\\B\\15_holdingbreath_blanket_2me-12232022092537.avi\n",
      "<class 'ValueError'> - 15\n",
      "<class 'ZeroDivisionError'> - from E:/Christian/DI_centre_structured/DI_THERMAL_FLIR//15\\2 meters\\H\\B\\15_holdingbreath_blanket_2me-12232022092548.avi\n",
      "<class 'ValueError'> - 15\n",
      "<class 'ZeroDivisionError'> - from E:/Christian/DI_centre_structured/DI_THERMAL_FLIR//15\\2 meters\\H\\B\\15_holdingbreath_blanket_2me-12232022092600.avi\n",
      "<class 'ValueError'> - 15\n",
      "<class 'ZeroDivisionError'> - from E:/Christian/DI_centre_structured/DI_THERMAL_FLIR//15\\2 meters\\H\\B\\15_holdingbreath_blanket_2me-12232022092720-0000.avi\n",
      "<class 'ValueError'> - 15\n",
      "<class 'ZeroDivisionError'> - from E:/Christian/DI_centre_structured/DI_THERMAL_FLIR//15\\2 meters\\H\\B\\15_holdingbreath_blanket_2me-12232022092843-0000.avi\n",
      "<class 'ValueError'> - 15\n",
      "<class 'ZeroDivisionError'> - from E:/Christian/DI_centre_structured/DI_THERMAL_FLIR//15\\2 meters\\H\\B\\15_holdingbreath_blanket_2me-12232022092857-0000.avi\n",
      "<class 'ValueError'> - 15\n",
      "<class 'ZeroDivisionError'> - from E:/Christian/DI_centre_structured/DI_THERMAL_FLIR//15\\2 meters\\H\\B\\15_holdingbreath_blanket_2me-12232022092924-0000.avi\n",
      "<class 'ValueError'> - 15\n",
      "<class 'ZeroDivisionError'> - from E:/Christian/DI_centre_structured/DI_THERMAL_FLIR//15\\2 meters\\H\\WOB\\15_holdbreath_wob_2meters-12232022090750.avi\n",
      "<class 'ValueError'> - 15\n",
      "<class 'ZeroDivisionError'> - from E:/Christian/DI_centre_structured/DI_THERMAL_FLIR//15\\2 meters\\H\\WOB\\15_holdbreath_wob_2meters-12232022090832.avi\n",
      "<class 'ValueError'> - 15\n",
      "<class 'ZeroDivisionError'> - from E:/Christian/DI_centre_structured/DI_THERMAL_FLIR//15\\2 meters\\H\\WOB\\15_holdbreath_wob_2meters-12232022090914.avi\n",
      "<class 'ValueError'> - 15\n",
      "<class 'ZeroDivisionError'> - from E:/Christian/DI_centre_structured/DI_THERMAL_FLIR//15\\2 meters\\H\\WOB\\15_test_wob_2meters-12232022090012.avi\n",
      "<class 'ValueError'> - 15\n",
      "<class 'ZeroDivisionError'> - from E:/Christian/DI_centre_structured/DI_THERMAL_FLIR//15\\2 meters\\H\\WOB\\15_test_wob_2meters-12232022090456.avi\n",
      "<class 'ValueError'> - 15\n",
      "<class 'ZeroDivisionError'> - from E:/Christian/DI_centre_structured/DI_THERMAL_FLIR//15\\2 meters\\R\\B\\15_relaxed_blanket_2me-12232022091943.avi\n",
      "<class 'ValueError'> - 15\n",
      "<class 'ZeroDivisionError'> - from E:/Christian/DI_centre_structured/DI_THERMAL_FLIR//15\\2 meters\\R\\B\\15_relaxed_blanket_2me-12232022092035.avi\n",
      "<class 'ValueError'> - 15\n",
      "<class 'ZeroDivisionError'> - from E:/Christian/DI_centre_structured/DI_THERMAL_FLIR//15\\2 meters\\R\\B\\15_relaxed_blanket_2me-12232022092305.avi\n",
      "<class 'ValueError'> - 15\n",
      "<class 'ZeroDivisionError'> - from E:/Christian/DI_centre_structured/DI_THERMAL_FLIR//15\\2 meters\\R\\B\\15_relaxed_blanket_2me-12232022092332.avi\n",
      "<class 'ValueError'> - 15\n",
      "<class 'ZeroDivisionError'> - from E:/Christian/DI_centre_structured/DI_THERMAL_FLIR//15\\2 meters\\R\\WOB\\15_relaxed_wob_2meters-12232022085117.avi\n",
      "<class 'ValueError'> - 15\n",
      "<class 'ZeroDivisionError'> - from E:/Christian/DI_centre_structured/DI_THERMAL_FLIR//15\\2 meters\\R\\WOB\\15_relaxed_wob_2meters-12232022085205.avi\n",
      "<class 'ValueError'> - 15\n",
      "<class 'ZeroDivisionError'> - from E:/Christian/DI_centre_structured/DI_THERMAL_FLIR//15\\2 meters\\R\\WOB\\15_relaxed_wob_2meters-12232022085212.avi\n",
      "<class 'ValueError'> - 15\n",
      "<class 'ZeroDivisionError'> - from E:/Christian/DI_centre_structured/DI_THERMAL_FLIR//15\\2 meters\\R\\WOB\\15_relaxed_wob_2meters-12232022085224.avi\n",
      "<class 'ValueError'> - 15\n",
      "<class 'ZeroDivisionError'> - from E:/Christian/DI_centre_structured/DI_THERMAL_FLIR//15\\2 meters\\R\\WOB\\15_relaxed_wob_2meters-12232022085242.avi\n",
      "<class 'ValueError'> - 15\n",
      "<class 'ZeroDivisionError'> - from E:/Christian/DI_centre_structured/DI_THERMAL_FLIR//15\\2 meters\\R\\WOB\\15_relaxed_wob_2meters-12232022085306.avi\n",
      "<class 'ValueError'> - 15\n",
      "<class 'ZeroDivisionError'> - from E:/Christian/DI_centre_structured/DI_THERMAL_FLIR//15\\2 meters\\R\\WOB\\15_relaxed_wob_2meters-12232022085332.avi\n",
      "<class 'ValueError'> - 15\n",
      "<class 'ZeroDivisionError'> - from E:/Christian/DI_centre_structured/DI_THERMAL_FLIR//15\\2 meters\\R\\WOB\\15_relaxed_wob_2meters-12232022085344.avi\n",
      "<class 'ValueError'> - 15\n",
      "<class 'ZeroDivisionError'> - from E:/Christian/DI_centre_structured/DI_THERMAL_FLIR//15\\2 meters\\R\\WOB\\15_relaxed_wob_2meters-12232022085400.avi\n",
      "<class 'ValueError'> - 15\n"
     ]
    }
   ],
   "source": [
    "\"\"\" extract metadata from video (thermal) \"\"\"\n",
    "complete_metadata_thermal = add_video_properties(metadata_thermal, \"thermal\")"
   ]
  },
  {
   "cell_type": "code",
   "execution_count": 15,
   "metadata": {},
   "outputs": [],
   "source": [
    "\"\"\" save to json (thermal) \"\"\"\n",
    "json_thermal_filename = repo_dir + \"/records/JSON/thermal_complete.json\"\n",
    "export_to_json(json_thermal_filename, complete_metadata_thermal)"
   ]
  },
  {
   "cell_type": "code",
   "execution_count": 16,
   "metadata": {},
   "outputs": [
    {
     "ename": "KeyError",
     "evalue": "\"['local path'] not found in axis\"",
     "output_type": "error",
     "traceback": [
      "\u001b[1;31m---------------------------------------------------------------------------\u001b[0m",
      "\u001b[1;31mKeyError\u001b[0m                                  Traceback (most recent call last)",
      "\u001b[1;32mc:\\Users\\chris\\Documents\\Projects Outside of School\\DI-Automated-Scripts\\get_metadata.ipynb Cell 18\u001b[0m line \u001b[0;36m3\n\u001b[0;32m      <a href='vscode-notebook-cell:/c%3A/Users/chris/Documents/Projects%20Outside%20of%20School/DI-Automated-Scripts/get_metadata.ipynb#X23sZmlsZQ%3D%3D?line=0'>1</a>\u001b[0m \u001b[39m\"\"\" patient info to pandas DataFrame (thermal)\"\"\"\u001b[39;00m\n\u001b[0;32m      <a href='vscode-notebook-cell:/c%3A/Users/chris/Documents/Projects%20Outside%20of%20School/DI-Automated-Scripts/get_metadata.ipynb#X23sZmlsZQ%3D%3D?line=1'>2</a>\u001b[0m thermal_xlsx \u001b[39m=\u001b[39m repo_dir \u001b[39m+\u001b[39m \u001b[39m\"\u001b[39m\u001b[39m/records/xlsx/thermal.xlsx\u001b[39m\u001b[39m\"\u001b[39m\n\u001b[1;32m----> <a href='vscode-notebook-cell:/c%3A/Users/chris/Documents/Projects%20Outside%20of%20School/DI-Automated-Scripts/get_metadata.ipynb#X23sZmlsZQ%3D%3D?line=2'>3</a>\u001b[0m thermal_df \u001b[39m=\u001b[39m export_to_excel(complete_metadata_thermal, thermal_xlsx)\n",
      "\u001b[1;32mc:\\Users\\chris\\Documents\\Projects Outside of School\\DI-Automated-Scripts\\get_metadata.ipynb Cell 18\u001b[0m line \u001b[0;36m3\n\u001b[0;32m      <a href='vscode-notebook-cell:/c%3A/Users/chris/Documents/Projects%20Outside%20of%20School/DI-Automated-Scripts/get_metadata.ipynb#X23sZmlsZQ%3D%3D?line=0'>1</a>\u001b[0m \u001b[39mdef\u001b[39;00m \u001b[39mexport_to_excel\u001b[39m(patient_info:\u001b[39mdict\u001b[39m, filename: \u001b[39mstr\u001b[39m) \u001b[39m-\u001b[39m\u001b[39m>\u001b[39m \u001b[39mNone\u001b[39;00m:\n\u001b[0;32m      <a href='vscode-notebook-cell:/c%3A/Users/chris/Documents/Projects%20Outside%20of%20School/DI-Automated-Scripts/get_metadata.ipynb#X23sZmlsZQ%3D%3D?line=1'>2</a>\u001b[0m     patient_df \u001b[39m=\u001b[39m pd\u001b[39m.\u001b[39mDataFrame\u001b[39m.\u001b[39mfrom_dict(patient_info)\u001b[39m.\u001b[39mtranspose()\n\u001b[1;32m----> <a href='vscode-notebook-cell:/c%3A/Users/chris/Documents/Projects%20Outside%20of%20School/DI-Automated-Scripts/get_metadata.ipynb#X23sZmlsZQ%3D%3D?line=2'>3</a>\u001b[0m     patient_df \u001b[39m=\u001b[39m patient_df\u001b[39m.\u001b[39;49mdrop(columns\u001b[39m=\u001b[39;49m[\u001b[39m\"\u001b[39;49m\u001b[39mlocal path\u001b[39;49m\u001b[39m\"\u001b[39;49m])\n\u001b[0;32m      <a href='vscode-notebook-cell:/c%3A/Users/chris/Documents/Projects%20Outside%20of%20School/DI-Automated-Scripts/get_metadata.ipynb#X23sZmlsZQ%3D%3D?line=3'>4</a>\u001b[0m     new_df \u001b[39m=\u001b[39m patient_df\u001b[39m.\u001b[39mset_index([\u001b[39m\"\u001b[39m\u001b[39mID\u001b[39m\u001b[39m\"\u001b[39m, \u001b[39m\"\u001b[39m\u001b[39mdistance\u001b[39m\u001b[39m\"\u001b[39m, \u001b[39m\"\u001b[39m\u001b[39mbreathing\u001b[39m\u001b[39m\"\u001b[39m, \u001b[39m\"\u001b[39m\u001b[39mblanket\u001b[39m\u001b[39m\"\u001b[39m, \u001b[39m\"\u001b[39m\u001b[39mfilename\u001b[39m\u001b[39m\"\u001b[39m])\n\u001b[0;32m      <a href='vscode-notebook-cell:/c%3A/Users/chris/Documents/Projects%20Outside%20of%20School/DI-Automated-Scripts/get_metadata.ipynb#X23sZmlsZQ%3D%3D?line=4'>5</a>\u001b[0m     new_df\u001b[39m.\u001b[39mto_excel(filename)\n",
      "File \u001b[1;32mc:\\Users\\chris\\AppData\\Local\\Programs\\Python\\Python311\\Lib\\site-packages\\pandas\\util\\_decorators.py:331\u001b[0m, in \u001b[0;36mdeprecate_nonkeyword_arguments.<locals>.decorate.<locals>.wrapper\u001b[1;34m(*args, **kwargs)\u001b[0m\n\u001b[0;32m    325\u001b[0m \u001b[39mif\u001b[39;00m \u001b[39mlen\u001b[39m(args) \u001b[39m>\u001b[39m num_allow_args:\n\u001b[0;32m    326\u001b[0m     warnings\u001b[39m.\u001b[39mwarn(\n\u001b[0;32m    327\u001b[0m         msg\u001b[39m.\u001b[39mformat(arguments\u001b[39m=\u001b[39m_format_argument_list(allow_args)),\n\u001b[0;32m    328\u001b[0m         \u001b[39mFutureWarning\u001b[39;00m,\n\u001b[0;32m    329\u001b[0m         stacklevel\u001b[39m=\u001b[39mfind_stack_level(),\n\u001b[0;32m    330\u001b[0m     )\n\u001b[1;32m--> 331\u001b[0m \u001b[39mreturn\u001b[39;00m func(\u001b[39m*\u001b[39;49margs, \u001b[39m*\u001b[39;49m\u001b[39m*\u001b[39;49mkwargs)\n",
      "File \u001b[1;32mc:\\Users\\chris\\AppData\\Local\\Programs\\Python\\Python311\\Lib\\site-packages\\pandas\\core\\frame.py:5396\u001b[0m, in \u001b[0;36mDataFrame.drop\u001b[1;34m(self, labels, axis, index, columns, level, inplace, errors)\u001b[0m\n\u001b[0;32m   5248\u001b[0m \u001b[39m@deprecate_nonkeyword_arguments\u001b[39m(version\u001b[39m=\u001b[39m\u001b[39mNone\u001b[39;00m, allowed_args\u001b[39m=\u001b[39m[\u001b[39m\"\u001b[39m\u001b[39mself\u001b[39m\u001b[39m\"\u001b[39m, \u001b[39m\"\u001b[39m\u001b[39mlabels\u001b[39m\u001b[39m\"\u001b[39m])\n\u001b[0;32m   5249\u001b[0m \u001b[39mdef\u001b[39;00m \u001b[39mdrop\u001b[39m(  \u001b[39m# type: ignore[override]\u001b[39;00m\n\u001b[0;32m   5250\u001b[0m     \u001b[39mself\u001b[39m,\n\u001b[1;32m   (...)\u001b[0m\n\u001b[0;32m   5257\u001b[0m     errors: IgnoreRaise \u001b[39m=\u001b[39m \u001b[39m\"\u001b[39m\u001b[39mraise\u001b[39m\u001b[39m\"\u001b[39m,\n\u001b[0;32m   5258\u001b[0m ) \u001b[39m-\u001b[39m\u001b[39m>\u001b[39m DataFrame \u001b[39m|\u001b[39m \u001b[39mNone\u001b[39;00m:\n\u001b[0;32m   5259\u001b[0m \u001b[39m    \u001b[39m\u001b[39m\"\"\"\u001b[39;00m\n\u001b[0;32m   5260\u001b[0m \u001b[39m    Drop specified labels from rows or columns.\u001b[39;00m\n\u001b[0;32m   5261\u001b[0m \n\u001b[1;32m   (...)\u001b[0m\n\u001b[0;32m   5394\u001b[0m \u001b[39m            weight  1.0     0.8\u001b[39;00m\n\u001b[0;32m   5395\u001b[0m \u001b[39m    \"\"\"\u001b[39;00m\n\u001b[1;32m-> 5396\u001b[0m     \u001b[39mreturn\u001b[39;00m \u001b[39msuper\u001b[39;49m()\u001b[39m.\u001b[39;49mdrop(\n\u001b[0;32m   5397\u001b[0m         labels\u001b[39m=\u001b[39;49mlabels,\n\u001b[0;32m   5398\u001b[0m         axis\u001b[39m=\u001b[39;49maxis,\n\u001b[0;32m   5399\u001b[0m         index\u001b[39m=\u001b[39;49mindex,\n\u001b[0;32m   5400\u001b[0m         columns\u001b[39m=\u001b[39;49mcolumns,\n\u001b[0;32m   5401\u001b[0m         level\u001b[39m=\u001b[39;49mlevel,\n\u001b[0;32m   5402\u001b[0m         inplace\u001b[39m=\u001b[39;49minplace,\n\u001b[0;32m   5403\u001b[0m         errors\u001b[39m=\u001b[39;49merrors,\n\u001b[0;32m   5404\u001b[0m     )\n",
      "File \u001b[1;32mc:\\Users\\chris\\AppData\\Local\\Programs\\Python\\Python311\\Lib\\site-packages\\pandas\\util\\_decorators.py:331\u001b[0m, in \u001b[0;36mdeprecate_nonkeyword_arguments.<locals>.decorate.<locals>.wrapper\u001b[1;34m(*args, **kwargs)\u001b[0m\n\u001b[0;32m    325\u001b[0m \u001b[39mif\u001b[39;00m \u001b[39mlen\u001b[39m(args) \u001b[39m>\u001b[39m num_allow_args:\n\u001b[0;32m    326\u001b[0m     warnings\u001b[39m.\u001b[39mwarn(\n\u001b[0;32m    327\u001b[0m         msg\u001b[39m.\u001b[39mformat(arguments\u001b[39m=\u001b[39m_format_argument_list(allow_args)),\n\u001b[0;32m    328\u001b[0m         \u001b[39mFutureWarning\u001b[39;00m,\n\u001b[0;32m    329\u001b[0m         stacklevel\u001b[39m=\u001b[39mfind_stack_level(),\n\u001b[0;32m    330\u001b[0m     )\n\u001b[1;32m--> 331\u001b[0m \u001b[39mreturn\u001b[39;00m func(\u001b[39m*\u001b[39;49margs, \u001b[39m*\u001b[39;49m\u001b[39m*\u001b[39;49mkwargs)\n",
      "File \u001b[1;32mc:\\Users\\chris\\AppData\\Local\\Programs\\Python\\Python311\\Lib\\site-packages\\pandas\\core\\generic.py:4505\u001b[0m, in \u001b[0;36mNDFrame.drop\u001b[1;34m(self, labels, axis, index, columns, level, inplace, errors)\u001b[0m\n\u001b[0;32m   4503\u001b[0m \u001b[39mfor\u001b[39;00m axis, labels \u001b[39min\u001b[39;00m axes\u001b[39m.\u001b[39mitems():\n\u001b[0;32m   4504\u001b[0m     \u001b[39mif\u001b[39;00m labels \u001b[39mis\u001b[39;00m \u001b[39mnot\u001b[39;00m \u001b[39mNone\u001b[39;00m:\n\u001b[1;32m-> 4505\u001b[0m         obj \u001b[39m=\u001b[39m obj\u001b[39m.\u001b[39;49m_drop_axis(labels, axis, level\u001b[39m=\u001b[39;49mlevel, errors\u001b[39m=\u001b[39;49merrors)\n\u001b[0;32m   4507\u001b[0m \u001b[39mif\u001b[39;00m inplace:\n\u001b[0;32m   4508\u001b[0m     \u001b[39mself\u001b[39m\u001b[39m.\u001b[39m_update_inplace(obj)\n",
      "File \u001b[1;32mc:\\Users\\chris\\AppData\\Local\\Programs\\Python\\Python311\\Lib\\site-packages\\pandas\\core\\generic.py:4546\u001b[0m, in \u001b[0;36mNDFrame._drop_axis\u001b[1;34m(self, labels, axis, level, errors, only_slice)\u001b[0m\n\u001b[0;32m   4544\u001b[0m         new_axis \u001b[39m=\u001b[39m axis\u001b[39m.\u001b[39mdrop(labels, level\u001b[39m=\u001b[39mlevel, errors\u001b[39m=\u001b[39merrors)\n\u001b[0;32m   4545\u001b[0m     \u001b[39melse\u001b[39;00m:\n\u001b[1;32m-> 4546\u001b[0m         new_axis \u001b[39m=\u001b[39m axis\u001b[39m.\u001b[39;49mdrop(labels, errors\u001b[39m=\u001b[39;49merrors)\n\u001b[0;32m   4547\u001b[0m     indexer \u001b[39m=\u001b[39m axis\u001b[39m.\u001b[39mget_indexer(new_axis)\n\u001b[0;32m   4549\u001b[0m \u001b[39m# Case for non-unique axis\u001b[39;00m\n\u001b[0;32m   4550\u001b[0m \u001b[39melse\u001b[39;00m:\n",
      "File \u001b[1;32mc:\\Users\\chris\\AppData\\Local\\Programs\\Python\\Python311\\Lib\\site-packages\\pandas\\core\\indexes\\base.py:6977\u001b[0m, in \u001b[0;36mIndex.drop\u001b[1;34m(self, labels, errors)\u001b[0m\n\u001b[0;32m   6975\u001b[0m \u001b[39mif\u001b[39;00m mask\u001b[39m.\u001b[39many():\n\u001b[0;32m   6976\u001b[0m     \u001b[39mif\u001b[39;00m errors \u001b[39m!=\u001b[39m \u001b[39m\"\u001b[39m\u001b[39mignore\u001b[39m\u001b[39m\"\u001b[39m:\n\u001b[1;32m-> 6977\u001b[0m         \u001b[39mraise\u001b[39;00m \u001b[39mKeyError\u001b[39;00m(\u001b[39mf\u001b[39m\u001b[39m\"\u001b[39m\u001b[39m{\u001b[39;00m\u001b[39mlist\u001b[39m(labels[mask])\u001b[39m}\u001b[39;00m\u001b[39m not found in axis\u001b[39m\u001b[39m\"\u001b[39m)\n\u001b[0;32m   6978\u001b[0m     indexer \u001b[39m=\u001b[39m indexer[\u001b[39m~\u001b[39mmask]\n\u001b[0;32m   6979\u001b[0m \u001b[39mreturn\u001b[39;00m \u001b[39mself\u001b[39m\u001b[39m.\u001b[39mdelete(indexer)\n",
      "\u001b[1;31mKeyError\u001b[0m: \"['local path'] not found in axis\""
     ]
    }
   ],
   "source": [
    "\"\"\" patient info to pandas DataFrame (thermal)\"\"\"\n",
    "thermal_xlsx = repo_dir + \"/records/xlsx/thermal.xlsx\"\n",
    "thermal_df = export_to_excel(complete_metadata_thermal, thermal_xlsx)"
   ]
  },
  {
   "cell_type": "code",
   "execution_count": null,
   "metadata": {},
   "outputs": [
    {
     "data": {
      "text/html": [
       "<div>\n",
       "<style scoped>\n",
       "    .dataframe tbody tr th:only-of-type {\n",
       "        vertical-align: middle;\n",
       "    }\n",
       "\n",
       "    .dataframe tbody tr th {\n",
       "        vertical-align: top;\n",
       "    }\n",
       "\n",
       "    .dataframe thead th {\n",
       "        text-align: right;\n",
       "    }\n",
       "</style>\n",
       "<table border=\"1\" class=\"dataframe\">\n",
       "  <thead>\n",
       "    <tr style=\"text-align: right;\">\n",
       "      <th></th>\n",
       "      <th>frames</th>\n",
       "      <th>length</th>\n",
       "      <th>old fps</th>\n",
       "      <th>alias</th>\n",
       "    </tr>\n",
       "  </thead>\n",
       "  <tbody>\n",
       "    <tr>\n",
       "      <th>count</th>\n",
       "      <td>20.000000</td>\n",
       "      <td>20.000000</td>\n",
       "      <td>20.000000</td>\n",
       "      <td>20.000000</td>\n",
       "    </tr>\n",
       "    <tr>\n",
       "      <th>mean</th>\n",
       "      <td>2136.400000</td>\n",
       "      <td>48.200281</td>\n",
       "      <td>43.217580</td>\n",
       "      <td>10.500000</td>\n",
       "    </tr>\n",
       "    <tr>\n",
       "      <th>std</th>\n",
       "      <td>1025.411209</td>\n",
       "      <td>19.694601</td>\n",
       "      <td>10.273462</td>\n",
       "      <td>4.616903</td>\n",
       "    </tr>\n",
       "    <tr>\n",
       "      <th>min</th>\n",
       "      <td>143.000000</td>\n",
       "      <td>7.703175</td>\n",
       "      <td>18.563774</td>\n",
       "      <td>6.000000</td>\n",
       "    </tr>\n",
       "    <tr>\n",
       "      <th>25%</th>\n",
       "      <td>1428.000000</td>\n",
       "      <td>37.907856</td>\n",
       "      <td>35.578929</td>\n",
       "      <td>6.000000</td>\n",
       "    </tr>\n",
       "    <tr>\n",
       "      <th>50%</th>\n",
       "      <td>2071.500000</td>\n",
       "      <td>42.003652</td>\n",
       "      <td>45.997558</td>\n",
       "      <td>10.500000</td>\n",
       "    </tr>\n",
       "    <tr>\n",
       "      <th>75%</th>\n",
       "      <td>2533.500000</td>\n",
       "      <td>60.308435</td>\n",
       "      <td>49.586773</td>\n",
       "      <td>15.000000</td>\n",
       "    </tr>\n",
       "    <tr>\n",
       "      <th>max</th>\n",
       "      <td>4088.000000</td>\n",
       "      <td>82.335533</td>\n",
       "      <td>55.389976</td>\n",
       "      <td>15.000000</td>\n",
       "    </tr>\n",
       "  </tbody>\n",
       "</table>\n",
       "</div>"
      ],
      "text/plain": [
       "            frames     length    old fps      alias\n",
       "count    20.000000  20.000000  20.000000  20.000000\n",
       "mean   2136.400000  48.200281  43.217580  10.500000\n",
       "std    1025.411209  19.694601  10.273462   4.616903\n",
       "min     143.000000   7.703175  18.563774   6.000000\n",
       "25%    1428.000000  37.907856  35.578929   6.000000\n",
       "50%    2071.500000  42.003652  45.997558  10.500000\n",
       "75%    2533.500000  60.308435  49.586773  15.000000\n",
       "max    4088.000000  82.335533  55.389976  15.000000"
      ]
     },
     "execution_count": 17,
     "metadata": {},
     "output_type": "execute_result"
    }
   ],
   "source": [
    "\"\"\" read exported excel (rgb) \"\"\"\n",
    "new_rgb_df = pd.read_excel(rgb_xlsx)\n",
    "new_rgb_df.describe()"
   ]
  },
  {
   "cell_type": "code",
   "execution_count": null,
   "metadata": {},
   "outputs": [
    {
     "data": {
      "text/html": [
       "<div>\n",
       "<style scoped>\n",
       "    .dataframe tbody tr th:only-of-type {\n",
       "        vertical-align: middle;\n",
       "    }\n",
       "\n",
       "    .dataframe tbody tr th {\n",
       "        vertical-align: top;\n",
       "    }\n",
       "\n",
       "    .dataframe thead th {\n",
       "        text-align: right;\n",
       "    }\n",
       "</style>\n",
       "<table border=\"1\" class=\"dataframe\">\n",
       "  <thead>\n",
       "    <tr style=\"text-align: right;\">\n",
       "      <th></th>\n",
       "      <th>ID</th>\n",
       "      <th>frames</th>\n",
       "      <th>length</th>\n",
       "      <th>old fps</th>\n",
       "      <th>alias</th>\n",
       "    </tr>\n",
       "  </thead>\n",
       "  <tbody>\n",
       "    <tr>\n",
       "      <th>count</th>\n",
       "      <td>1.0</td>\n",
       "      <td>25.000000</td>\n",
       "      <td>25.000000</td>\n",
       "      <td>25.000000</td>\n",
       "      <td>25.0</td>\n",
       "    </tr>\n",
       "    <tr>\n",
       "      <th>mean</th>\n",
       "      <td>15.0</td>\n",
       "      <td>160.520000</td>\n",
       "      <td>18.464000</td>\n",
       "      <td>8.800000</td>\n",
       "      <td>15.0</td>\n",
       "    </tr>\n",
       "    <tr>\n",
       "      <th>std</th>\n",
       "      <td>NaN</td>\n",
       "      <td>238.582816</td>\n",
       "      <td>26.321377</td>\n",
       "      <td>2.179449</td>\n",
       "      <td>0.0</td>\n",
       "    </tr>\n",
       "    <tr>\n",
       "      <th>min</th>\n",
       "      <td>15.0</td>\n",
       "      <td>1.000000</td>\n",
       "      <td>0.100000</td>\n",
       "      <td>5.000000</td>\n",
       "      <td>15.0</td>\n",
       "    </tr>\n",
       "    <tr>\n",
       "      <th>25%</th>\n",
       "      <td>15.0</td>\n",
       "      <td>28.000000</td>\n",
       "      <td>2.900000</td>\n",
       "      <td>10.000000</td>\n",
       "      <td>15.0</td>\n",
       "    </tr>\n",
       "    <tr>\n",
       "      <th>50%</th>\n",
       "      <td>15.0</td>\n",
       "      <td>66.000000</td>\n",
       "      <td>6.600000</td>\n",
       "      <td>10.000000</td>\n",
       "      <td>15.0</td>\n",
       "    </tr>\n",
       "    <tr>\n",
       "      <th>75%</th>\n",
       "      <td>15.0</td>\n",
       "      <td>160.000000</td>\n",
       "      <td>17.600000</td>\n",
       "      <td>10.000000</td>\n",
       "      <td>15.0</td>\n",
       "    </tr>\n",
       "    <tr>\n",
       "      <th>max</th>\n",
       "      <td>15.0</td>\n",
       "      <td>995.000000</td>\n",
       "      <td>99.500000</td>\n",
       "      <td>10.000000</td>\n",
       "      <td>15.0</td>\n",
       "    </tr>\n",
       "  </tbody>\n",
       "</table>\n",
       "</div>"
      ],
      "text/plain": [
       "         ID      frames     length    old fps  alias\n",
       "count   1.0   25.000000  25.000000  25.000000   25.0\n",
       "mean   15.0  160.520000  18.464000   8.800000   15.0\n",
       "std     NaN  238.582816  26.321377   2.179449    0.0\n",
       "min    15.0    1.000000   0.100000   5.000000   15.0\n",
       "25%    15.0   28.000000   2.900000  10.000000   15.0\n",
       "50%    15.0   66.000000   6.600000  10.000000   15.0\n",
       "75%    15.0  160.000000  17.600000  10.000000   15.0\n",
       "max    15.0  995.000000  99.500000  10.000000   15.0"
      ]
     },
     "execution_count": 18,
     "metadata": {},
     "output_type": "execute_result"
    }
   ],
   "source": [
    "\"\"\" read exported excel (thermal) \"\"\"\n",
    "new_thermal_df = pd.read_excel(thermal_xlsx)\n",
    "new_thermal_df.describe()"
   ]
  }
 ],
 "metadata": {
  "kernelspec": {
   "display_name": "Python 3.11.4 64-bit",
   "language": "python",
   "name": "python3"
  },
  "language_info": {
   "codemirror_mode": {
    "name": "ipython",
    "version": 3
   },
   "file_extension": ".py",
   "mimetype": "text/x-python",
   "name": "python",
   "nbconvert_exporter": "python",
   "pygments_lexer": "ipython3",
   "version": "3.11.4"
  },
  "orig_nbformat": 4,
  "vscode": {
   "interpreter": {
    "hash": "e7228a7137a92e95012bf2be7e7bd4e027e828c700167ca5a0671652a2d91aff"
   }
  }
 },
 "nbformat": 4,
 "nbformat_minor": 2
}
