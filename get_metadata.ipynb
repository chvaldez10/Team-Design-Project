{
 "cells": [
  {
   "attachments": {},
   "cell_type": "markdown",
   "metadata": {},
   "source": [
    "# Video Processing for BT Lab\n",
    "This notebook extracts metadata from video files \n",
    "\n",
    "<br>\n",
    "\n",
    "![UofC logo](./pictures/uofc_logo-black.jpg)"
   ]
  },
  {
   "cell_type": "code",
   "execution_count": 15,
   "metadata": {},
   "outputs": [],
   "source": [
    "#import libraries\n",
    "import os\n",
    "import cv2\n",
    "import json\n",
    "import json\n",
    "import datetime\n",
    "import pandas as pd\n",
    "import numpy as np"
   ]
  },
  {
   "cell_type": "code",
   "execution_count": 2,
   "metadata": {},
   "outputs": [],
   "source": [
    "repo_dir = os.getcwd()\n",
    "json_dir = repo_dir + \"/records/JSON\""
   ]
  },
  {
   "cell_type": "code",
   "execution_count": 3,
   "metadata": {},
   "outputs": [],
   "source": [
    "def get_video_properties(mp4_file: str) -> list:\n",
    "    try:\n",
    "        video_properties = []\n",
    "        video = cv2.VideoCapture(mp4_file)\n",
    "        old_fps = video.get(cv2.CAP_PROP_FPS)\n",
    "        number_of_frames = video.get(cv2.CAP_PROP_FRAME_COUNT)\n",
    "        length = number_of_frames / old_fps\n",
    "        video_time = datetime.timedelta(seconds=length)\n",
    "        video_properties.append(number_of_frames)\n",
    "        video_properties.append(old_fps)\n",
    "        video_properties.append(length)\n",
    "        video_properties.append(video_time)\n",
    "    except Exception as e:\n",
    "        print(f\"{type(e)} - from {mp4_file}\")\n",
    "    \n",
    "    return video_properties"
   ]
  },
  {
   "cell_type": "code",
   "execution_count": 4,
   "metadata": {},
   "outputs": [],
   "source": [
    "def add_video_properties(metadata:dict) -> dict:\n",
    "    new_patient_info = {}\n",
    "\n",
    "    for patient_id, patient_info in metadata.items():\n",
    "        try:\n",
    "            video_path = patient_info[\"local path\"]\n",
    "            frames, fps, length_in_seconds, length_in_datetime = get_video_properties(video_path)\n",
    "            patient_info[\"frames\"] = frames\n",
    "            patient_info[\"old fps\"] = fps\n",
    "            patient_info[\"length\"] = length_in_seconds\n",
    "            patient_info[\"length (datetime)\"] = length_in_datetime\n",
    "            new_patient_info[patient_id] = patient_info\n",
    "        except Exception as e:\n",
    "            print(f\"{type(e)} - {patient_info['ID']}\")\n",
    "\n",
    "    return new_patient_info "
   ]
  },
  {
   "cell_type": "code",
   "execution_count": 5,
   "metadata": {},
   "outputs": [],
   "source": [
    "def load_json(json_dir:str, filename:str) -> dict:\n",
    "    full_path = json_dir + \"/\" + filename\n",
    "\n",
    "    with open(full_path, \"r\") as json_data:\n",
    "        data = json.load(json_data)\n",
    "\n",
    "    return(data)"
   ]
  },
  {
   "cell_type": "code",
   "execution_count": 6,
   "metadata": {},
   "outputs": [],
   "source": [
    "def export_to_excel(patient_info:dict, filename: str):\n",
    "    patient_df = pd.DataFrame.from_dict(patient_info).transpose()\n",
    "    patient_df = patient_df.drop(columns=[\"local path\"])\n",
    "    new_df = patient_df.set_index([\"ID\", \"distance\", \"breathing\", \"blanket\", \"filename\"])\n",
    "    new_df.to_excel(filename)\n",
    "    return new_df"
   ]
  },
  {
   "cell_type": "code",
   "execution_count": null,
   "metadata": {},
   "outputs": [],
   "source": [
    "def print_aggregate_stats(patient_df):\n",
    "    patient_df"
   ]
  },
  {
   "attachments": {},
   "cell_type": "markdown",
   "metadata": {},
   "source": [
    "## Get video metadata and export to xlsx file (stage 2.1)"
   ]
  },
  {
   "cell_type": "code",
   "execution_count": 7,
   "metadata": {},
   "outputs": [],
   "source": [
    "\"\"\" load JSON files \"\"\"\n",
    "\n",
    "metadata_rgb = load_json(json_dir, \"rgb.json\")\n",
    "metadata_thermal = load_json(json_dir, \"thermal.json\")"
   ]
  },
  {
   "cell_type": "code",
   "execution_count": 8,
   "metadata": {},
   "outputs": [],
   "source": [
    "\"\"\" extract metadata from video (rgb) \"\"\"\n",
    "\n",
    "complete_metadata_rgb = add_video_properties(metadata_rgb)"
   ]
  },
  {
   "cell_type": "code",
   "execution_count": 9,
   "metadata": {},
   "outputs": [],
   "source": [
    "\"\"\" patient info to pandas DataFrame (rgb)\"\"\"\n",
    "rgb_xlsx = repo_dir + \"/records/xlsx/rgb.xlsx\"\n",
    "rgb_df = export_to_excel(complete_metadata_rgb, rgb_xlsx)"
   ]
  },
  {
   "cell_type": "code",
   "execution_count": 10,
   "metadata": {},
   "outputs": [],
   "source": [
    "\"\"\" extract metadata from video (thermal) \"\"\"\n",
    "\n",
    "complete_metadata_thermal = add_video_properties(metadata_thermal)"
   ]
  },
  {
   "cell_type": "code",
   "execution_count": 11,
   "metadata": {},
   "outputs": [],
   "source": [
    "\"\"\" patient info to pandas DataFrame (thermal)\"\"\"\n",
    "thermal_xlsx = repo_dir + \"/records/xlsx/thermal.xlsx\"\n",
    "thermal_df = export_to_excel(complete_metadata_thermal, thermal_xlsx)"
   ]
  }
 ],
 "metadata": {
  "kernelspec": {
   "display_name": "Python 3",
   "language": "python",
   "name": "python3"
  },
  "language_info": {
   "codemirror_mode": {
    "name": "ipython",
    "version": 3
   },
   "file_extension": ".py",
   "mimetype": "text/x-python",
   "name": "python",
   "nbconvert_exporter": "python",
   "pygments_lexer": "ipython3",
   "version": "3.10.9"
  },
  "orig_nbformat": 4
 },
 "nbformat": 4,
 "nbformat_minor": 2
}
