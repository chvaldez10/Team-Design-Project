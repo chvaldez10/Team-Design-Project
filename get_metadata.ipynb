{
 "cells": [
  {
   "attachments": {},
   "cell_type": "markdown",
   "metadata": {},
   "source": [
    "# Video Processing for BT Lab\n",
    "![UofC logo](./pictures/uofc_logo-black.jpg)"
   ]
  },
  {
   "cell_type": "code",
   "execution_count": 1,
   "metadata": {},
   "outputs": [],
   "source": [
    "#import libraries\n",
    "import os\n",
    "import cv2\n",
    "import json\n",
    "import re"
   ]
  },
  {
   "cell_type": "code",
   "execution_count": 2,
   "metadata": {},
   "outputs": [],
   "source": [
    "repo_dir = os.getcwd()"
   ]
  },
  {
   "cell_type": "code",
   "execution_count": 3,
   "metadata": {},
   "outputs": [],
   "source": [
    "def extract_info_from_filepath(filepaths:list[str]) -> list[dict]:\n",
    "    all_videos = []\n",
    "    file_info_from_path = {\n",
    "        0 : \"patient id\",\n",
    "        1 : \"distance\",\n",
    "        2 : \"blanket\",\n",
    "        3 : \"breathing\",\n",
    "        4 : \"filename\"\n",
    "    }\n",
    "\n",
    "    splice_stop = 5\n",
    "\n",
    "    for filepath in filepaths:\n",
    "        filepath_no_backslash = filepath.replace(\"\\\\\", \"/\")\n",
    "        filepath_to_list = filepath_no_backslash.split(\"/\")\n",
    "        filepath_to_list = filepath_to_list[-splice_stop:]\n",
    "        patient_info = {tag:filepath_to_list[key] for key, tag in file_info_from_path.items() if key<splice_stop}\n",
    "        all_videos.append(patient_info)\n",
    "\n",
    "    return all_videos"
   ]
  },
  {
   "attachments": {},
   "cell_type": "markdown",
   "metadata": {},
   "source": [
    "## Extract information from the exported log files and create containers for the metadata (stage 1.2)"
   ]
  },
  {
   "cell_type": "code",
   "execution_count": 4,
   "metadata": {},
   "outputs": [],
   "source": [
    "records_folder = repo_dir + \"/record\" "
   ]
  },
  {
   "cell_type": "code",
   "execution_count": 5,
   "metadata": {},
   "outputs": [],
   "source": [
    "\"\"\"\n",
    "    Read log files\n",
    "\"\"\"\n",
    "\n",
    "os.chdir(records_folder)\n",
    "log_files = [dir_file for dir_file in os.listdir() if dir_file.endswith(\".log\")]\n",
    "video_files = []\n",
    "\n",
    "for log_file in log_files:\n",
    "    try:\n",
    "        with open(log_file, \"r\") as log_file_data:\n",
    "            log_read = log_file_data.read().split(\"\\n\")\n",
    "            video_files.append(log_read)\n",
    "    except FileNotFoundError as e:\n",
    "        print(type(e))"
   ]
  },
  {
   "cell_type": "code",
   "execution_count": 6,
   "metadata": {},
   "outputs": [
    {
     "data": {
      "text/plain": [
       "[{'patient id': 'Arun',\n",
       "  'distance': '2 Meters',\n",
       "  'blanket': 'With Blankets',\n",
       "  'breathing': 'Hold Breath',\n",
       "  'filename': 'Arun2.mp4'}]"
      ]
     },
     "execution_count": 6,
     "metadata": {},
     "output_type": "execute_result"
    }
   ],
   "source": [
    "\"\"\"\n",
    "    make dictionary out of filenames (rgb)\n",
    "\"\"\"\n",
    "test_list = [video_files[0][0]]\n",
    "metadata_rgb = extract_info_from_filepath(test_list)\n",
    "metadata_rgb"
   ]
  },
  {
   "cell_type": "code",
   "execution_count": 7,
   "metadata": {},
   "outputs": [
    {
     "data": {
      "text/plain": [
       "[{'patient id': '',\n",
       "  'distance': '1',\n",
       "  'blanket': '2 meters',\n",
       "  'breathing': 'H',\n",
       "  'filename': '1_H_WOB_2m_2.avi'}]"
      ]
     },
     "execution_count": 7,
     "metadata": {},
     "output_type": "execute_result"
    }
   ],
   "source": [
    "\"\"\"\n",
    "    make dictionary out of filenames(thermal)\n",
    "\"\"\"\n",
    "test_list = [video_files[1][0]]\n",
    "metadata_thermal = extract_info_from_filepath(test_list)\n",
    "metadata_thermal"
   ]
  },
  {
   "cell_type": "code",
   "execution_count": 9,
   "metadata": {},
   "outputs": [
    {
     "data": {
      "text/plain": [
       "['E:/Christian/DI_centre_structured/DI_THERMAL_FLIR//1\\\\2 meters\\\\H\\\\1_H_WOB_2m_2.avi']"
      ]
     },
     "execution_count": 9,
     "metadata": {},
     "output_type": "execute_result"
    }
   ],
   "source": [
    "test_list = [video_files[1][0]]\n",
    "test_list"
   ]
  }
 ],
 "metadata": {
  "kernelspec": {
   "display_name": "Python 3",
   "language": "python",
   "name": "python3"
  },
  "language_info": {
   "codemirror_mode": {
    "name": "ipython",
    "version": 3
   },
   "file_extension": ".py",
   "mimetype": "text/x-python",
   "name": "python",
   "nbconvert_exporter": "python",
   "pygments_lexer": "ipython3",
   "version": "3.10.9"
  },
  "orig_nbformat": 4
 },
 "nbformat": 4,
 "nbformat_minor": 2
}
