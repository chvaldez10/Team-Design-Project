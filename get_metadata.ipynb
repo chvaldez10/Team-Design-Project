{
 "cells": [
  {
   "attachments": {},
   "cell_type": "markdown",
   "metadata": {},
   "source": [
    "# Video Processing for BT Lab\n",
    "This notebook extracts metadata from video files \n",
    "\n",
    "<br>\n",
    "\n",
    "![UofC logo](./pictures/uofc_logo-black.jpg)"
   ]
  },
  {
   "cell_type": "code",
   "execution_count": null,
   "metadata": {},
   "outputs": [],
   "source": [
    "#import libraries\n",
    "import os\n",
    "import cv2\n",
    "import json\n",
    "import pandas as pd"
   ]
  },
  {
   "cell_type": "code",
   "execution_count": null,
   "metadata": {},
   "outputs": [],
   "source": [
    "repo_dir = os.getcwd()\n",
    "json_dir = repo_dir + \"/records/JSON\""
   ]
  },
  {
   "cell_type": "code",
   "execution_count": null,
   "metadata": {},
   "outputs": [],
   "source": [
    "# patient alias id\n",
    "ALIAS_ID = {\n",
    "  \"Rachael B\" : \"1\",\n",
    "  \"Sara\" : \"2\",\n",
    "  \"Kate\" : \"3\",\n",
    "  \"Nick\" : \"4\",\n",
    "  \"Daniel\" : \"5\",\n",
    "  \"Illia\" : \"6\",\n",
    "  \"Melissa\" : \"7\",\n",
    "  \"Karlii\" : \"8\",\n",
    "  \"Eddy\" : \"9\",\n",
    "  \"John McNeil\" : \"10\",\n",
    "  \"Farooq\" : \"11\",\n",
    "  \"Krystyn\" : \"12\",\n",
    "  \"Jay\" : \"13\",\n",
    "  \"Frank\" : \"14\",\n",
    "  \"Arun\" : \"15\",\n",
    "  \"Riyan\" : \"16\",\n",
    "  \"Joseph\" : \"17\",\n",
    "  \"John Brunton\" : \"18\",\n",
    "  \"Illia2\" : \"19\",\n",
    "  \"Frank2\" : \"20\"\n",
    "}"
   ]
  },
  {
   "cell_type": "code",
   "execution_count": null,
   "metadata": {},
   "outputs": [],
   "source": [
    "def get_video_properties(mp4_file: str) -> list:\n",
    "    try:\n",
    "        video_properties = []\n",
    "        video = cv2.VideoCapture(mp4_file)\n",
    "        old_fps = video.get(cv2.CAP_PROP_FPS)\n",
    "        number_of_frames = video.get(cv2.CAP_PROP_FRAME_COUNT)\n",
    "        length = number_of_frames / old_fps\n",
    "        video_properties.append(number_of_frames)\n",
    "        video_properties.append(old_fps)\n",
    "        video_properties.append(length)\n",
    "        video.release()\n",
    "    except Exception as e:\n",
    "        print(f\"{type(e)} - from {mp4_file}\")\n",
    "    \n",
    "    return video_properties"
   ]
  },
  {
   "cell_type": "code",
   "execution_count": null,
   "metadata": {},
   "outputs": [],
   "source": [
    "def get_alias(patient_info:dict, camera:str) -> str:\n",
    "    if camera == \"rgb\":\n",
    "        return ALIAS_ID.get(patient_info[\"ID\"], \"?\")\n",
    "    \n",
    "    if camera == \"thermal\":\n",
    "        return patient_info[\"ID\"]"
   ]
  },
  {
   "cell_type": "code",
   "execution_count": null,
   "metadata": {},
   "outputs": [],
   "source": [
    "def add_video_properties(metadata:dict, camera:str) -> dict:\n",
    "    new_patient_info = {}\n",
    "    \n",
    "    for patient_id, patient_info in metadata.items():\n",
    "        try:\n",
    "            video_path = patient_info[\"local path\"]\n",
    "            frames, fps, length_in_seconds = get_video_properties(video_path)\n",
    "            patient_info[\"frames\"] = frames\n",
    "            patient_info[\"old fps\"] = fps\n",
    "            patient_info[\"length\"] = length_in_seconds\n",
    "            patient_info[\"alias\"] = get_alias(patient_info, camera)\n",
    "            new_patient_info[patient_id] = patient_info\n",
    "        except Exception as e:\n",
    "            print(f\"{type(e)} - {patient_info['ID']}\")\n",
    "\n",
    "    return new_patient_info "
   ]
  },
  {
   "cell_type": "code",
   "execution_count": null,
   "metadata": {},
   "outputs": [],
   "source": [
    "def load_json(json_dir:str, filename:str) -> dict:\n",
    "    full_path = json_dir + \"/\" + filename\n",
    "\n",
    "    with open(full_path, \"r\") as json_data:\n",
    "        data = json.load(json_data)\n",
    "\n",
    "    return(data)"
   ]
  },
  {
   "cell_type": "code",
   "execution_count": null,
   "metadata": {},
   "outputs": [],
   "source": [
    "def export_to_excel(patient_info:dict, filename: str) -> None:\n",
    "    patient_df = pd.DataFrame.from_dict(patient_info).transpose()\n",
    "    patient_df = patient_df.drop(columns=[\"local path\"])\n",
    "    new_df = patient_df.set_index([\"ID\", \"distance\", \"breathing\", \"blanket\", \"filename\"])\n",
    "    new_df.to_excel(filename)\n",
    "    return new_df"
   ]
  },
  {
   "cell_type": "code",
   "execution_count": null,
   "metadata": {},
   "outputs": [],
   "source": [
    "def export_to_json(filename: str, all_patient_info: dict) -> None:\n",
    "    patient_json = json.dumps(all_patient_info, indent=2)\n",
    "\n",
    "    with open(filename, \"w\") as json_data:\n",
    "        json_data.write(patient_json)"
   ]
  },
  {
   "attachments": {},
   "cell_type": "markdown",
   "metadata": {},
   "source": [
    "## Get video metadata and export to xlsx file (stage 2.1)"
   ]
  },
  {
   "cell_type": "code",
   "execution_count": null,
   "metadata": {},
   "outputs": [],
   "source": [
    "\"\"\" load JSON files \"\"\"\n",
    "\n",
    "metadata_rgb = load_json(json_dir, \"rgb.json\")\n",
    "metadata_thermal = load_json(json_dir, \"thermal.json\")"
   ]
  },
  {
   "cell_type": "code",
   "execution_count": null,
   "metadata": {},
   "outputs": [],
   "source": [
    "\"\"\" extract metadata from video (rgb) \"\"\"\n",
    "complete_metadata_rgb = add_video_properties(metadata_rgb, \"rgb\")"
   ]
  },
  {
   "cell_type": "code",
   "execution_count": null,
   "metadata": {},
   "outputs": [],
   "source": [
    "\"\"\" save to json (rgb) \"\"\"\n",
    "json_rgb_complete = repo_dir + \"/records/JSON/rgb_complete.json\"\n",
    "export_to_json(json_rgb_complete, complete_metadata_rgb)"
   ]
  },
  {
   "cell_type": "code",
   "execution_count": null,
   "metadata": {},
   "outputs": [],
   "source": [
    "\"\"\" patient info to pandas DataFrame (rgb)\"\"\"\n",
    "rgb_xlsx = repo_dir + \"/records/xlsx/rgb.xlsx\"\n",
    "rgb_df = export_to_excel(complete_metadata_rgb, rgb_xlsx)"
   ]
  },
  {
   "cell_type": "code",
   "execution_count": null,
   "metadata": {},
   "outputs": [],
   "source": [
    "\"\"\" extract metadata from video (thermal) \"\"\"\n",
    "complete_metadata_thermal = add_video_properties(metadata_thermal, \"thermal\")"
   ]
  },
  {
   "cell_type": "code",
   "execution_count": null,
   "metadata": {},
   "outputs": [],
   "source": [
    "\"\"\" save to json (thermal) \"\"\"\n",
    "json_thermal_complete = repo_dir + \"/records/JSON/thermal_complete.json\"\n",
    "export_to_json(json_thermal_complete, complete_metadata_thermal)"
   ]
  },
  {
   "cell_type": "code",
   "execution_count": null,
   "metadata": {},
   "outputs": [],
   "source": [
    "\"\"\" patient info to pandas DataFrame (thermal)\"\"\"\n",
    "thermal_xlsx = repo_dir + \"/records/xlsx/thermal.xlsx\"\n",
    "thermal_df = export_to_excel(complete_metadata_thermal, thermal_xlsx)"
   ]
  },
  {
   "cell_type": "code",
   "execution_count": null,
   "metadata": {},
   "outputs": [],
   "source": [
    "\"\"\" read exported excel (rgb) \"\"\"\n",
    "new_rgb_df = pd.read_excel(rgb_xlsx)\n",
    "new_rgb_df.describe()"
   ]
  },
  {
   "cell_type": "code",
   "execution_count": null,
   "metadata": {},
   "outputs": [],
   "source": [
    "\"\"\" read exported excel (thermal) \"\"\"\n",
    "new_thermal_df = pd.read_excel(thermal_xlsx)\n",
    "new_thermal_df.describe()"
   ]
  }
 ],
 "metadata": {
  "kernelspec": {
   "display_name": "Python 3.11.4 64-bit",
   "language": "python",
   "name": "python3"
  },
  "language_info": {
   "codemirror_mode": {
    "name": "ipython",
    "version": 3
   },
   "file_extension": ".py",
   "mimetype": "text/x-python",
   "name": "python",
   "nbconvert_exporter": "python",
   "pygments_lexer": "ipython3",
   "version": "3.11.4"
  },
  "orig_nbformat": 4,
  "vscode": {
   "interpreter": {
    "hash": "e7228a7137a92e95012bf2be7e7bd4e027e828c700167ca5a0671652a2d91aff"
   }
  }
 },
 "nbformat": 4,
 "nbformat_minor": 2
}
