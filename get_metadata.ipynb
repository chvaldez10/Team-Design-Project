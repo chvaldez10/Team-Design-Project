{
 "cells": [
  {
   "attachments": {},
   "cell_type": "markdown",
   "metadata": {},
   "source": [
    "# Video Processing for BT Lab\n",
    "This notebook extracts metadata from video files \n",
    "\n",
    "<br>\n",
    "\n",
    "![UofC logo](./pictures/uofc_logo-black.jpg)"
   ]
  },
  {
   "cell_type": "code",
   "execution_count": 24,
   "metadata": {},
   "outputs": [],
   "source": [
    "#import libraries\n",
    "import os\n",
    "import cv2\n",
    "import json\n",
    "import re\n",
    "import json\n",
    "import datetime"
   ]
  },
  {
   "cell_type": "code",
   "execution_count": null,
   "metadata": {},
   "outputs": [],
   "source": [
    "repo_dir = os.getcwd()\n",
    "json_dir = repo_dir + \"/record/JSON\""
   ]
  },
  {
   "cell_type": "code",
   "execution_count": 28,
   "metadata": {},
   "outputs": [],
   "source": [
    "def get_video_properties(mp4_file: str) -> list:\n",
    "    video_properties = []\n",
    "    video = cv2.VideoCapture(mp4_file)\n",
    "    old_fps = video.get(cv2.CAP_PROP_FPS)\n",
    "    number_of_frames = video.get(cv2.CAP_PROP_FRAME_COUNT)\n",
    "    length = number_of_frames / old_fps\n",
    "    video_time = datetime.timedelta(seconds=length)\n",
    "\n",
    "    video_properties.append(number_of_frames)\n",
    "    video_properties.append(old_fps)\n",
    "    video_properties.append(length)\n",
    "    video_properties.append(video_time)\n",
    "    \n",
    "    return video_properties"
   ]
  },
  {
   "cell_type": "code",
   "execution_count": null,
   "metadata": {},
   "outputs": [],
   "source": [
    "def load_json(json_dir:str, filename:str) -> dict:\n",
    "    full_path = json_dir + \"/\" + filename\n",
    "\n",
    "    with open(full_path, \"r\") as json_data:\n",
    "        data = json.load(json_data)\n",
    "\n",
    "    return(data)"
   ]
  },
  {
   "cell_type": "code",
   "execution_count": 14,
   "metadata": {},
   "outputs": [],
   "source": [
    "\"\"\"load JSON file \"\"\"\n",
    "\n",
    "metadata_rgb = load_json(json_dir, \"rgb.json\")\n",
    "metadata_thermal = load_json(json_dir, \"thermal.json\")"
   ]
  },
  {
   "cell_type": "code",
   "execution_count": 29,
   "metadata": {},
   "outputs": [
    {
     "name": "stdout",
     "output_type": "stream",
     "text": [
      "{'ID': 'Arun', 'distance': '2 Meters', 'blanket': 'With Blankets', 'breathing': 'Hold Breath', 'filename': 'Arun2.mp4', 'frames': None, 'length': None, 'old fps': None, 'local path': 'E:/Christian/DI_centre_structured/DI_CAMERA_P3225/Final/Arun\\\\2 Meters\\\\With Blankets\\\\Hold Breath\\\\Arun2.mp4'}\n",
      "video time: 0:01:13.054497\n"
     ]
    },
    {
     "data": {
      "text/plain": [
       "[2146.0,\n",
       " 29.375330583687408,\n",
       " 73.054497,\n",
       " datetime.timedelta(seconds=73, microseconds=54497)]"
      ]
     },
     "execution_count": 29,
     "metadata": {},
     "output_type": "execute_result"
    }
   ],
   "source": [
    "test_data = metadata_rgb[\"0\"]\n",
    "print(test_data)\n",
    "vid_path = test_data[\"local path\"]\n",
    "vid_properties = get_video_properties(vid_path)\n",
    "vid_properties"
   ]
  }
 ],
 "metadata": {
  "language_info": {
   "name": "python"
  },
  "orig_nbformat": 4
 },
 "nbformat": 4,
 "nbformat_minor": 2
}
