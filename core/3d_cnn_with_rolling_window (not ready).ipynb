{
 "cells": [
  {
   "cell_type": "markdown",
   "metadata": {},
   "source": [
    "# DI Pre Processing\n",
    "This notebook converts a video into frames. \n",
    "<br>\n",
    "<br>\n",
    "![UofC logo](../assets/images/uofc_logo-black.jpg)"
   ]
  },
  {
   "cell_type": "code",
   "execution_count": null,
   "metadata": {},
   "outputs": [],
   "source": [
    "#import libraries\n",
    "import os\n",
    "from dotenv import load_dotenv\n",
    "import torch\n",
    "from torch.utils.data import DataLoader"
   ]
  },
  {
   "cell_type": "code",
   "execution_count": null,
   "metadata": {},
   "outputs": [],
   "source": [
    "# reload for module caching\n",
    "from importlib import reload\n",
    "import src.dataset.breathing_dataset\n",
    "reload(src.dataset.breathing_dataset)\n",
    "import src.transforms.breathing_transforms\n",
    "reload(src.transforms.breathing_transforms)\n",
    "import src.deep_learning_models.three_d_cnn\n",
    "reload(src.deep_learning_models.three_d_cnn)\n",
    "import src.utilities.train_utilities\n",
    "reload(src.utilities.train_utilities)\n",
    "\n",
    "from src.dataset.breathing_dataset import BreathingDataset\n",
    "from src.dataset.breathing_dataset_config import BreathingDatasetConfig\n",
    "from src.transforms.breathing_transforms import train_transform\n",
    "from src.deep_learning_models.three_d_cnn import Basic3DCNN\n",
    "from src.utilities.train_utilities import train_validate"
   ]
  },
  {
   "cell_type": "code",
   "execution_count": null,
   "metadata": {},
   "outputs": [],
   "source": [
    "curr_dir = os.getcwd()"
   ]
  },
  {
   "cell_type": "code",
   "execution_count": null,
   "metadata": {},
   "outputs": [],
   "source": [
    "# load root directory\n",
    "dotenv_path = os.path.join(curr_dir, \".env\")\n",
    "load_dotenv(dotenv_path)\n",
    "root_path = os.getenv(\"ROOT_FOLDER\")\n",
    "\n",
    "# load user drive\n",
    "user_drive = os.getenv(\"EXPORT_DRIVE\")\n",
    "local_export_path = os.getenv(\"EXPORT_PATH_LOCAL\")\n",
    "remote_export_path = os.getenv(\"EXPORT_PATH_REMOTE\")\n",
    "best_model_path = os.getenv(\"BEST_MODEL_PATH\")"
   ]
  },
  {
   "cell_type": "markdown",
   "metadata": {},
   "source": [
    "## Run functions"
   ]
  },
  {
   "cell_type": "code",
   "execution_count": null,
   "metadata": {},
   "outputs": [],
   "source": [
    "# load data\n",
    "train_path = local_export_path + \"/Train\"\n",
    "validation_path = local_export_path + \"/Test\"\n",
    "\n",
    "train_dataset_config = BreathingDatasetConfig(train_path, \"Without Blankets\", None, train_transform, 100)\n",
    "val_dataset_config = BreathingDatasetConfig(validation_path, \"Without Blankets\", None, train_transform, 100)"
   ]
  },
  {
   "cell_type": "code",
   "execution_count": null,
   "metadata": {},
   "outputs": [],
   "source": [
    "# Dataset\n",
    "train_dataset_without_blankets = BreathingDataset(train_dataset_config)\n",
    "val_train_dataset_without_blankets = BreathingDataset(val_dataset_config)"
   ]
  },
  {
   "cell_type": "code",
   "execution_count": null,
   "metadata": {},
   "outputs": [],
   "source": [
    "# DataLoader\n",
    "train_loader = DataLoader(train_dataset_without_blankets, batch_size=2, shuffle=True) \n",
    "val_loader = DataLoader(val_train_dataset_without_blankets, batch_size=2, shuffle=True) "
   ]
  },
  {
   "cell_type": "code",
   "execution_count": null,
   "metadata": {},
   "outputs": [],
   "source": [
    "# Parameters\n",
    "epochs = 1\n",
    "learning_rate = 0.001\n",
    "device = torch.device('cuda' if torch.cuda.is_available() else 'cpu')\n",
    "train_batch_size = 64\n",
    "val_batch_size = 64\n",
    "patience = 5\n",
    "verbose = True"
   ]
  },
  {
   "cell_type": "code",
   "execution_count": null,
   "metadata": {},
   "outputs": [],
   "source": [
    "# Model Instance\n",
    "model = Basic3DCNN()"
   ]
  },
  {
   "cell_type": "code",
   "execution_count": null,
   "metadata": {},
   "outputs": [],
   "source": [
    "# \"\"\" Train and Validate\"\"\"\n",
    "# train_validate(\n",
    "#     model=model,\n",
    "#     train_loader=train_loader,\n",
    "#     val_loader=val_loader,\n",
    "#     epochs=epochs,\n",
    "#     learning_rate=learning_rate,\n",
    "#     best_model_path=best_model_path,\n",
    "#     device=device,\n",
    "#     patience=patience,\n",
    "#     verbose=verbose\n",
    "# )"
   ]
  }
 ],
 "metadata": {
  "kernelspec": {
   "display_name": "calgary_di",
   "language": "python",
   "name": "python3"
  },
  "language_info": {
   "codemirror_mode": {
    "name": "ipython",
    "version": 3
   },
   "file_extension": ".py",
   "mimetype": "text/x-python",
   "name": "python",
   "nbconvert_exporter": "python",
   "pygments_lexer": "ipython3",
   "version": "3.11.7"
  }
 },
 "nbformat": 4,
 "nbformat_minor": 2
}
