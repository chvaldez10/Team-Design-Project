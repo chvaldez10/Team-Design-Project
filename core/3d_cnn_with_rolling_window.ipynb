{
 "cells": [
  {
   "cell_type": "markdown",
   "metadata": {},
   "source": [
    "# DI Pre Processing\n",
    "This notebook converts a video into frames. \n",
    "<br>\n",
    "<br>\n",
    "![UofC logo](../assets/images/uofc_logo-black.jpg)"
   ]
  },
  {
   "cell_type": "code",
   "execution_count": 1,
   "metadata": {},
   "outputs": [],
   "source": [
    "#import libraries\n",
    "import os\n",
    "from dotenv import load_dotenv"
   ]
  },
  {
   "cell_type": "code",
   "execution_count": 2,
   "metadata": {},
   "outputs": [],
   "source": [
    "# reload for module caching\n",
    "from importlib import reload\n",
    "import src.dataset.breathing_dataset\n",
    "reload(src.dataset.breathing_dataset)\n",
    "import src.transforms.breathing_transforms\n",
    "reload(src.transforms.breathing_transforms)\n",
    "\n",
    "from src.dataset.breathing_dataset import BreathingDataset\n",
    "from src.dataset.breathing_dataset_config import BreathingDatasetConfig\n",
    "from src.transforms.breathing_transforms import train_transform"
   ]
  },
  {
   "cell_type": "code",
   "execution_count": 3,
   "metadata": {},
   "outputs": [],
   "source": [
    "curr_dir = os.getcwd()"
   ]
  },
  {
   "cell_type": "code",
   "execution_count": 4,
   "metadata": {},
   "outputs": [],
   "source": [
    "# load root directory\n",
    "dotenv_path = os.path.join(curr_dir, \".env\")\n",
    "load_dotenv(dotenv_path)\n",
    "root_path = os.getenv(\"ROOT_FOLDER\")\n",
    "input(f\"Is this the right directory - {root_path}?\")\n",
    "\n",
    "# load user drive\n",
    "user_drive = os.getenv(\"EXPORT_DRIVE\")\n",
    "local_export_path = os.getenv(\"EXPORT_PATH_LOCAL\")\n",
    "remote_export_path = os.getenv(\"EXPORT_PATH_REMOTE\")"
   ]
  },
  {
   "cell_type": "code",
   "execution_count": 5,
   "metadata": {},
   "outputs": [
    {
     "data": {
      "text/plain": [
       "'E:/rgb'"
      ]
     },
     "execution_count": 5,
     "metadata": {},
     "output_type": "execute_result"
    }
   ],
   "source": [
    "local_export_path"
   ]
  },
  {
   "cell_type": "markdown",
   "metadata": {},
   "source": [
    "## Run functions"
   ]
  },
  {
   "cell_type": "code",
   "execution_count": 6,
   "metadata": {},
   "outputs": [],
   "source": [
    "# load data\n",
    "train_path = local_export_path + \"/Train\"\n",
    "train_dataset_config = BreathingDatasetConfig(train_path, \"Without Blankets\", None, train_transform, 100)"
   ]
  },
  {
   "cell_type": "code",
   "execution_count": 7,
   "metadata": {},
   "outputs": [],
   "source": [
    "train_dataset_without_blankets = BreathingDataset(train_dataset_config)"
   ]
  },
  {
   "cell_type": "code",
   "execution_count": 8,
   "metadata": {},
   "outputs": [
    {
     "data": {
      "text/plain": [
       "(['E:/rgb/Train\\\\Without Blankets\\\\2 Meters\\\\Hold Breath\\\\15_5-WOB-2M-HB\\\\0.jpg',\n",
       "  'E:/rgb/Train\\\\Without Blankets\\\\2 Meters\\\\Hold Breath\\\\15_5-WOB-2M-HB\\\\1.jpg',\n",
       "  'E:/rgb/Train\\\\Without Blankets\\\\2 Meters\\\\Hold Breath\\\\15_5-WOB-2M-HB\\\\2.jpg',\n",
       "  'E:/rgb/Train\\\\Without Blankets\\\\2 Meters\\\\Hold Breath\\\\15_5-WOB-2M-HB\\\\3.jpg',\n",
       "  'E:/rgb/Train\\\\Without Blankets\\\\2 Meters\\\\Hold Breath\\\\15_5-WOB-2M-HB\\\\4.jpg',\n",
       "  'E:/rgb/Train\\\\Without Blankets\\\\2 Meters\\\\Hold Breath\\\\15_5-WOB-2M-HB\\\\5.jpg',\n",
       "  'E:/rgb/Train\\\\Without Blankets\\\\2 Meters\\\\Hold Breath\\\\15_5-WOB-2M-HB\\\\6.jpg',\n",
       "  'E:/rgb/Train\\\\Without Blankets\\\\2 Meters\\\\Hold Breath\\\\15_5-WOB-2M-HB\\\\7.jpg',\n",
       "  'E:/rgb/Train\\\\Without Blankets\\\\2 Meters\\\\Hold Breath\\\\15_5-WOB-2M-HB\\\\8.jpg',\n",
       "  'E:/rgb/Train\\\\Without Blankets\\\\2 Meters\\\\Hold Breath\\\\15_5-WOB-2M-HB\\\\9.jpg',\n",
       "  'E:/rgb/Train\\\\Without Blankets\\\\2 Meters\\\\Hold Breath\\\\15_5-WOB-2M-HB\\\\10.jpg',\n",
       "  'E:/rgb/Train\\\\Without Blankets\\\\2 Meters\\\\Hold Breath\\\\15_5-WOB-2M-HB\\\\11.jpg',\n",
       "  'E:/rgb/Train\\\\Without Blankets\\\\2 Meters\\\\Hold Breath\\\\15_5-WOB-2M-HB\\\\12.jpg',\n",
       "  'E:/rgb/Train\\\\Without Blankets\\\\2 Meters\\\\Hold Breath\\\\15_5-WOB-2M-HB\\\\13.jpg',\n",
       "  'E:/rgb/Train\\\\Without Blankets\\\\2 Meters\\\\Hold Breath\\\\15_5-WOB-2M-HB\\\\14.jpg',\n",
       "  'E:/rgb/Train\\\\Without Blankets\\\\2 Meters\\\\Hold Breath\\\\15_5-WOB-2M-HB\\\\15.jpg',\n",
       "  'E:/rgb/Train\\\\Without Blankets\\\\2 Meters\\\\Hold Breath\\\\15_5-WOB-2M-HB\\\\16.jpg',\n",
       "  'E:/rgb/Train\\\\Without Blankets\\\\2 Meters\\\\Hold Breath\\\\15_5-WOB-2M-HB\\\\17.jpg',\n",
       "  'E:/rgb/Train\\\\Without Blankets\\\\2 Meters\\\\Hold Breath\\\\15_5-WOB-2M-HB\\\\18.jpg',\n",
       "  'E:/rgb/Train\\\\Without Blankets\\\\2 Meters\\\\Hold Breath\\\\15_5-WOB-2M-HB\\\\19.jpg',\n",
       "  'E:/rgb/Train\\\\Without Blankets\\\\2 Meters\\\\Hold Breath\\\\15_5-WOB-2M-HB\\\\20.jpg',\n",
       "  'E:/rgb/Train\\\\Without Blankets\\\\2 Meters\\\\Hold Breath\\\\15_5-WOB-2M-HB\\\\21.jpg',\n",
       "  'E:/rgb/Train\\\\Without Blankets\\\\2 Meters\\\\Hold Breath\\\\15_5-WOB-2M-HB\\\\22.jpg',\n",
       "  'E:/rgb/Train\\\\Without Blankets\\\\2 Meters\\\\Hold Breath\\\\15_5-WOB-2M-HB\\\\23.jpg',\n",
       "  'E:/rgb/Train\\\\Without Blankets\\\\2 Meters\\\\Hold Breath\\\\15_5-WOB-2M-HB\\\\24.jpg',\n",
       "  'E:/rgb/Train\\\\Without Blankets\\\\2 Meters\\\\Hold Breath\\\\15_5-WOB-2M-HB\\\\25.jpg',\n",
       "  'E:/rgb/Train\\\\Without Blankets\\\\2 Meters\\\\Hold Breath\\\\15_5-WOB-2M-HB\\\\26.jpg',\n",
       "  'E:/rgb/Train\\\\Without Blankets\\\\2 Meters\\\\Hold Breath\\\\15_5-WOB-2M-HB\\\\27.jpg',\n",
       "  'E:/rgb/Train\\\\Without Blankets\\\\2 Meters\\\\Hold Breath\\\\15_5-WOB-2M-HB\\\\28.jpg',\n",
       "  'E:/rgb/Train\\\\Without Blankets\\\\2 Meters\\\\Hold Breath\\\\15_5-WOB-2M-HB\\\\29.jpg',\n",
       "  'E:/rgb/Train\\\\Without Blankets\\\\2 Meters\\\\Hold Breath\\\\15_5-WOB-2M-HB\\\\30.jpg',\n",
       "  'E:/rgb/Train\\\\Without Blankets\\\\2 Meters\\\\Hold Breath\\\\15_5-WOB-2M-HB\\\\31.jpg',\n",
       "  'E:/rgb/Train\\\\Without Blankets\\\\2 Meters\\\\Hold Breath\\\\15_5-WOB-2M-HB\\\\32.jpg',\n",
       "  'E:/rgb/Train\\\\Without Blankets\\\\2 Meters\\\\Hold Breath\\\\15_5-WOB-2M-HB\\\\33.jpg',\n",
       "  'E:/rgb/Train\\\\Without Blankets\\\\2 Meters\\\\Hold Breath\\\\15_5-WOB-2M-HB\\\\34.jpg',\n",
       "  'E:/rgb/Train\\\\Without Blankets\\\\2 Meters\\\\Hold Breath\\\\15_5-WOB-2M-HB\\\\35.jpg',\n",
       "  'E:/rgb/Train\\\\Without Blankets\\\\2 Meters\\\\Hold Breath\\\\15_5-WOB-2M-HB\\\\36.jpg',\n",
       "  'E:/rgb/Train\\\\Without Blankets\\\\2 Meters\\\\Hold Breath\\\\15_5-WOB-2M-HB\\\\37.jpg',\n",
       "  'E:/rgb/Train\\\\Without Blankets\\\\2 Meters\\\\Hold Breath\\\\15_5-WOB-2M-HB\\\\38.jpg',\n",
       "  'E:/rgb/Train\\\\Without Blankets\\\\2 Meters\\\\Hold Breath\\\\15_5-WOB-2M-HB\\\\39.jpg',\n",
       "  'E:/rgb/Train\\\\Without Blankets\\\\2 Meters\\\\Hold Breath\\\\15_5-WOB-2M-HB\\\\40.jpg',\n",
       "  'E:/rgb/Train\\\\Without Blankets\\\\2 Meters\\\\Hold Breath\\\\15_5-WOB-2M-HB\\\\41.jpg',\n",
       "  'E:/rgb/Train\\\\Without Blankets\\\\2 Meters\\\\Hold Breath\\\\15_5-WOB-2M-HB\\\\42.jpg',\n",
       "  'E:/rgb/Train\\\\Without Blankets\\\\2 Meters\\\\Hold Breath\\\\15_5-WOB-2M-HB\\\\43.jpg',\n",
       "  'E:/rgb/Train\\\\Without Blankets\\\\2 Meters\\\\Hold Breath\\\\15_5-WOB-2M-HB\\\\44.jpg',\n",
       "  'E:/rgb/Train\\\\Without Blankets\\\\2 Meters\\\\Hold Breath\\\\15_5-WOB-2M-HB\\\\45.jpg',\n",
       "  'E:/rgb/Train\\\\Without Blankets\\\\2 Meters\\\\Hold Breath\\\\15_5-WOB-2M-HB\\\\46.jpg',\n",
       "  'E:/rgb/Train\\\\Without Blankets\\\\2 Meters\\\\Hold Breath\\\\15_5-WOB-2M-HB\\\\47.jpg',\n",
       "  'E:/rgb/Train\\\\Without Blankets\\\\2 Meters\\\\Hold Breath\\\\15_5-WOB-2M-HB\\\\48.jpg',\n",
       "  'E:/rgb/Train\\\\Without Blankets\\\\2 Meters\\\\Hold Breath\\\\15_5-WOB-2M-HB\\\\49.jpg',\n",
       "  'E:/rgb/Train\\\\Without Blankets\\\\2 Meters\\\\Hold Breath\\\\15_5-WOB-2M-HB\\\\50.jpg',\n",
       "  'E:/rgb/Train\\\\Without Blankets\\\\2 Meters\\\\Hold Breath\\\\15_5-WOB-2M-HB\\\\51.jpg',\n",
       "  'E:/rgb/Train\\\\Without Blankets\\\\2 Meters\\\\Hold Breath\\\\15_5-WOB-2M-HB\\\\52.jpg',\n",
       "  'E:/rgb/Train\\\\Without Blankets\\\\2 Meters\\\\Hold Breath\\\\15_5-WOB-2M-HB\\\\53.jpg',\n",
       "  'E:/rgb/Train\\\\Without Blankets\\\\2 Meters\\\\Hold Breath\\\\15_5-WOB-2M-HB\\\\54.jpg',\n",
       "  'E:/rgb/Train\\\\Without Blankets\\\\2 Meters\\\\Hold Breath\\\\15_5-WOB-2M-HB\\\\55.jpg',\n",
       "  'E:/rgb/Train\\\\Without Blankets\\\\2 Meters\\\\Hold Breath\\\\15_5-WOB-2M-HB\\\\56.jpg',\n",
       "  'E:/rgb/Train\\\\Without Blankets\\\\2 Meters\\\\Hold Breath\\\\15_5-WOB-2M-HB\\\\57.jpg',\n",
       "  'E:/rgb/Train\\\\Without Blankets\\\\2 Meters\\\\Hold Breath\\\\15_5-WOB-2M-HB\\\\58.jpg',\n",
       "  'E:/rgb/Train\\\\Without Blankets\\\\2 Meters\\\\Hold Breath\\\\15_5-WOB-2M-HB\\\\59.jpg',\n",
       "  'E:/rgb/Train\\\\Without Blankets\\\\2 Meters\\\\Hold Breath\\\\15_5-WOB-2M-HB\\\\60.jpg',\n",
       "  'E:/rgb/Train\\\\Without Blankets\\\\2 Meters\\\\Hold Breath\\\\15_5-WOB-2M-HB\\\\61.jpg',\n",
       "  'E:/rgb/Train\\\\Without Blankets\\\\2 Meters\\\\Hold Breath\\\\15_5-WOB-2M-HB\\\\62.jpg',\n",
       "  'E:/rgb/Train\\\\Without Blankets\\\\2 Meters\\\\Hold Breath\\\\15_5-WOB-2M-HB\\\\63.jpg',\n",
       "  'E:/rgb/Train\\\\Without Blankets\\\\2 Meters\\\\Hold Breath\\\\15_5-WOB-2M-HB\\\\64.jpg',\n",
       "  'E:/rgb/Train\\\\Without Blankets\\\\2 Meters\\\\Hold Breath\\\\15_5-WOB-2M-HB\\\\65.jpg',\n",
       "  'E:/rgb/Train\\\\Without Blankets\\\\2 Meters\\\\Hold Breath\\\\15_5-WOB-2M-HB\\\\66.jpg',\n",
       "  'E:/rgb/Train\\\\Without Blankets\\\\2 Meters\\\\Hold Breath\\\\15_5-WOB-2M-HB\\\\67.jpg',\n",
       "  'E:/rgb/Train\\\\Without Blankets\\\\2 Meters\\\\Hold Breath\\\\15_5-WOB-2M-HB\\\\68.jpg',\n",
       "  'E:/rgb/Train\\\\Without Blankets\\\\2 Meters\\\\Hold Breath\\\\15_5-WOB-2M-HB\\\\69.jpg',\n",
       "  'E:/rgb/Train\\\\Without Blankets\\\\2 Meters\\\\Hold Breath\\\\15_5-WOB-2M-HB\\\\70.jpg',\n",
       "  'E:/rgb/Train\\\\Without Blankets\\\\2 Meters\\\\Hold Breath\\\\15_5-WOB-2M-HB\\\\71.jpg',\n",
       "  'E:/rgb/Train\\\\Without Blankets\\\\2 Meters\\\\Hold Breath\\\\15_5-WOB-2M-HB\\\\72.jpg',\n",
       "  'E:/rgb/Train\\\\Without Blankets\\\\2 Meters\\\\Hold Breath\\\\15_5-WOB-2M-HB\\\\73.jpg',\n",
       "  'E:/rgb/Train\\\\Without Blankets\\\\2 Meters\\\\Hold Breath\\\\15_5-WOB-2M-HB\\\\74.jpg',\n",
       "  'E:/rgb/Train\\\\Without Blankets\\\\2 Meters\\\\Hold Breath\\\\15_5-WOB-2M-HB\\\\75.jpg',\n",
       "  'E:/rgb/Train\\\\Without Blankets\\\\2 Meters\\\\Hold Breath\\\\15_5-WOB-2M-HB\\\\76.jpg',\n",
       "  'E:/rgb/Train\\\\Without Blankets\\\\2 Meters\\\\Hold Breath\\\\15_5-WOB-2M-HB\\\\77.jpg',\n",
       "  'E:/rgb/Train\\\\Without Blankets\\\\2 Meters\\\\Hold Breath\\\\15_5-WOB-2M-HB\\\\78.jpg',\n",
       "  'E:/rgb/Train\\\\Without Blankets\\\\2 Meters\\\\Hold Breath\\\\15_5-WOB-2M-HB\\\\79.jpg',\n",
       "  'E:/rgb/Train\\\\Without Blankets\\\\2 Meters\\\\Hold Breath\\\\15_5-WOB-2M-HB\\\\80.jpg',\n",
       "  'E:/rgb/Train\\\\Without Blankets\\\\2 Meters\\\\Hold Breath\\\\15_5-WOB-2M-HB\\\\81.jpg',\n",
       "  'E:/rgb/Train\\\\Without Blankets\\\\2 Meters\\\\Hold Breath\\\\15_5-WOB-2M-HB\\\\82.jpg',\n",
       "  'E:/rgb/Train\\\\Without Blankets\\\\2 Meters\\\\Hold Breath\\\\15_5-WOB-2M-HB\\\\83.jpg',\n",
       "  'E:/rgb/Train\\\\Without Blankets\\\\2 Meters\\\\Hold Breath\\\\15_5-WOB-2M-HB\\\\84.jpg',\n",
       "  'E:/rgb/Train\\\\Without Blankets\\\\2 Meters\\\\Hold Breath\\\\15_5-WOB-2M-HB\\\\85.jpg',\n",
       "  'E:/rgb/Train\\\\Without Blankets\\\\2 Meters\\\\Hold Breath\\\\15_5-WOB-2M-HB\\\\86.jpg',\n",
       "  'E:/rgb/Train\\\\Without Blankets\\\\2 Meters\\\\Hold Breath\\\\15_5-WOB-2M-HB\\\\87.jpg',\n",
       "  'E:/rgb/Train\\\\Without Blankets\\\\2 Meters\\\\Hold Breath\\\\15_5-WOB-2M-HB\\\\88.jpg',\n",
       "  'E:/rgb/Train\\\\Without Blankets\\\\2 Meters\\\\Hold Breath\\\\15_5-WOB-2M-HB\\\\89.jpg',\n",
       "  'E:/rgb/Train\\\\Without Blankets\\\\2 Meters\\\\Hold Breath\\\\15_5-WOB-2M-HB\\\\90.jpg',\n",
       "  'E:/rgb/Train\\\\Without Blankets\\\\2 Meters\\\\Hold Breath\\\\15_5-WOB-2M-HB\\\\91.jpg',\n",
       "  'E:/rgb/Train\\\\Without Blankets\\\\2 Meters\\\\Hold Breath\\\\15_5-WOB-2M-HB\\\\92.jpg',\n",
       "  'E:/rgb/Train\\\\Without Blankets\\\\2 Meters\\\\Hold Breath\\\\15_5-WOB-2M-HB\\\\93.jpg',\n",
       "  'E:/rgb/Train\\\\Without Blankets\\\\2 Meters\\\\Hold Breath\\\\15_5-WOB-2M-HB\\\\94.jpg',\n",
       "  'E:/rgb/Train\\\\Without Blankets\\\\2 Meters\\\\Hold Breath\\\\15_5-WOB-2M-HB\\\\95.jpg',\n",
       "  'E:/rgb/Train\\\\Without Blankets\\\\2 Meters\\\\Hold Breath\\\\15_5-WOB-2M-HB\\\\96.jpg',\n",
       "  'E:/rgb/Train\\\\Without Blankets\\\\2 Meters\\\\Hold Breath\\\\15_5-WOB-2M-HB\\\\97.jpg',\n",
       "  'E:/rgb/Train\\\\Without Blankets\\\\2 Meters\\\\Hold Breath\\\\15_5-WOB-2M-HB\\\\98.jpg',\n",
       "  'E:/rgb/Train\\\\Without Blankets\\\\2 Meters\\\\Hold Breath\\\\15_5-WOB-2M-HB\\\\99.jpg'],\n",
       " 0)"
      ]
     },
     "execution_count": 8,
     "metadata": {},
     "output_type": "execute_result"
    }
   ],
   "source": [
    "train_dataset_without_blankets.samples[0]"
   ]
  }
 ],
 "metadata": {
  "kernelspec": {
   "display_name": "calgary_di",
   "language": "python",
   "name": "python3"
  },
  "language_info": {
   "codemirror_mode": {
    "name": "ipython",
    "version": 3
   },
   "file_extension": ".py",
   "mimetype": "text/x-python",
   "name": "python",
   "nbconvert_exporter": "python",
   "pygments_lexer": "ipython3",
   "version": "3.11.7"
  }
 },
 "nbformat": 4,
 "nbformat_minor": 2
}
