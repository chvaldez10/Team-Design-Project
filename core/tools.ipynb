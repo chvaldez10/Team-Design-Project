{
 "cells": [
  {
   "cell_type": "markdown",
   "metadata": {},
   "source": [
    "## Call util functions ⚒️\n",
    "![UofC logo](../assets/images/uofc_logo-black.jpg)"
   ]
  },
  {
   "cell_type": "code",
   "execution_count": 1,
   "metadata": {
    "execution": {
     "iopub.execute_input": "2024-02-24T16:00:27.414630Z",
     "iopub.status.busy": "2024-02-24T16:00:27.414630Z",
     "iopub.status.idle": "2024-02-24T16:00:27.428393Z",
     "shell.execute_reply": "2024-02-24T16:00:27.428393Z"
    }
   },
   "outputs": [],
   "source": [
    "# import libraries\n",
    "import os\n",
    "from dotenv import load_dotenv"
   ]
  },
  {
   "cell_type": "code",
   "execution_count": 2,
   "metadata": {
    "execution": {
     "iopub.execute_input": "2024-02-24T16:00:27.431400Z",
     "iopub.status.busy": "2024-02-24T16:00:27.431400Z",
     "iopub.status.idle": "2024-02-24T16:00:27.539586Z",
     "shell.execute_reply": "2024-02-24T16:00:27.539586Z"
    }
   },
   "outputs": [],
   "source": [
    "from importlib import reload\n",
    "import src.utilities.video_utilities\n",
    "reload(src.utilities.video_utilities)\n",
    "import src.utilities.reader_utilities\n",
    "reload(src.utilities.reader_utilities)\n",
    "import src.utilities.folder_utilities\n",
    "reload(src.utilities.folder_utilities)\n",
    "\n",
    "# udf\n",
    "from src.utilities.video_utilities import create_video_from_jpg\n",
    "from src.utilities.reader_utilities import load_json\n",
    "from src.utilities.folder_utilities import create_folders_from_schema"
   ]
  },
  {
   "cell_type": "code",
   "execution_count": 3,
   "metadata": {
    "execution": {
     "iopub.execute_input": "2024-02-24T16:00:27.542592Z",
     "iopub.status.busy": "2024-02-24T16:00:27.542592Z",
     "iopub.status.idle": "2024-02-24T16:00:27.545005Z",
     "shell.execute_reply": "2024-02-24T16:00:27.545005Z"
    }
   },
   "outputs": [],
   "source": [
    "json_dir = \"../records/JSON/\"\n",
    "schema_dir = json_dir + \"/schema\"\n",
    "curr_dir = os.getcwd()"
   ]
  },
  {
   "cell_type": "code",
   "execution_count": 4,
   "metadata": {
    "execution": {
     "iopub.execute_input": "2024-02-24T16:00:27.547016Z",
     "iopub.status.busy": "2024-02-24T16:00:27.546019Z",
     "iopub.status.idle": "2024-02-24T16:00:27.550041Z",
     "shell.execute_reply": "2024-02-24T16:00:27.550041Z"
    }
   },
   "outputs": [],
   "source": [
    "# load root directory\n",
    "dotenv_path = os.path.join(curr_dir, \".env\")\n",
    "load_dotenv(dotenv_path)\n",
    "root_path = os.getenv(\"ROOT_FOLDER\")\n",
    "# input(f\"Is this the right directory - {root_path}?\")\n",
    "\n",
    "# load export path\n",
    "export_path = os.getenv(\"EXPORT_PATH_LOCAL\")"
   ]
  },
  {
   "cell_type": "code",
   "execution_count": 5,
   "metadata": {
    "execution": {
     "iopub.execute_input": "2024-02-24T16:00:27.552046Z",
     "iopub.status.busy": "2024-02-24T16:00:27.552046Z",
     "iopub.status.idle": "2024-02-24T16:00:27.554642Z",
     "shell.execute_reply": "2024-02-24T16:00:27.554642Z"
    }
   },
   "outputs": [],
   "source": [
    "client_schema = load_json(schema_dir, \"client_schema.json\")"
   ]
  },
  {
   "cell_type": "markdown",
   "metadata": {},
   "source": [
    "### Run functions"
   ]
  },
  {
   "cell_type": "code",
   "execution_count": 6,
   "metadata": {
    "execution": {
     "iopub.execute_input": "2024-02-24T16:00:27.556648Z",
     "iopub.status.busy": "2024-02-24T16:00:27.556648Z",
     "iopub.status.idle": "2024-02-24T16:00:27.560797Z",
     "shell.execute_reply": "2024-02-24T16:00:27.560797Z"
    }
   },
   "outputs": [
    {
     "name": "stdout",
     "output_type": "stream",
     "text": [
      "config: fps = 5, number of frames = 195\n",
      "Video successfully created at 'E:/temp_195_rel/vid.mp4'.\n"
     ]
    }
   ],
   "source": [
    "\"\"\" Generate video from standardized frames \"\"\"\n",
    "frame_folder = \"E:/temp_195_rel\"\n",
    "output_video_path = frame_folder + \"/vid.mp4\"\n",
    "create_video_from_jpg(frame_folder, output_video_path, 5)"
   ]
  },
  {
   "cell_type": "code",
   "execution_count": 7,
   "metadata": {
    "execution": {
     "iopub.execute_input": "2024-02-24T16:00:27.591803Z",
     "iopub.status.busy": "2024-02-24T16:00:27.591803Z",
     "iopub.status.idle": "2024-02-24T16:00:27.811538Z",
     "shell.execute_reply": "2024-02-24T16:00:27.811538Z"
    }
   },
   "outputs": [],
   "source": [
    "# set_folders = [\"/Train\", \"/Test\", \"/Validation\"]\n",
    "\n",
    "# for set_folder in set_folders:\n",
    "#     set_path = os.path.normpath(export_path + set_folder)\n",
    "#     create_folders_from_schema(client_schema, set_path)"
   ]
  }
 ],
 "metadata": {
  "kernelspec": {
   "display_name": "Python 3.11.4 64-bit",
   "language": "python",
   "name": "python3"
  },
  "language_info": {
   "codemirror_mode": {
    "name": "ipython",
    "version": 3
   },
   "file_extension": ".py",
   "mimetype": "text/x-python",
   "name": "python",
   "nbconvert_exporter": "python",
   "pygments_lexer": "ipython3",
   "version": "3.11.7"
  },
  "vscode": {
   "interpreter": {
    "hash": "e7228a7137a92e95012bf2be7e7bd4e027e828c700167ca5a0671652a2d91aff"
   }
  }
 },
 "nbformat": 4,
 "nbformat_minor": 2
}
