{
 "cells": [
  {
   "cell_type": "markdown",
   "metadata": {},
   "source": [
    "## Call util functions ⚒️\n",
    "![UofC logo](../assets/images/uofc_logo-black.jpg)"
   ]
  },
  {
   "cell_type": "code",
   "execution_count": 39,
   "metadata": {
    "execution": {
     "iopub.execute_input": "2024-02-24T16:00:27.414630Z",
     "iopub.status.busy": "2024-02-24T16:00:27.414630Z",
     "iopub.status.idle": "2024-02-24T16:00:27.428393Z",
     "shell.execute_reply": "2024-02-24T16:00:27.428393Z"
    }
   },
   "outputs": [],
   "source": [
    "# import libraries\n",
    "import os\n",
    "from dotenv import load_dotenv"
   ]
  },
  {
   "cell_type": "code",
   "execution_count": 40,
   "metadata": {
    "execution": {
     "iopub.execute_input": "2024-02-24T16:00:27.431400Z",
     "iopub.status.busy": "2024-02-24T16:00:27.431400Z",
     "iopub.status.idle": "2024-02-24T16:00:27.539586Z",
     "shell.execute_reply": "2024-02-24T16:00:27.539586Z"
    }
   },
   "outputs": [],
   "source": [
    "from importlib import reload\n",
    "import src.utilities.video_utilities\n",
    "reload(src.utilities.video_utilities)\n",
    "import src.utilities.reader_utilities\n",
    "reload(src.utilities.reader_utilities)\n",
    "import src.utilities.folder_utilities\n",
    "reload(src.utilities.folder_utilities)\n",
    "\n",
    "# udf\n",
    "from src.utilities.video_utilities import create_video_from_jpg\n",
    "from src.utilities.reader_utilities import load_json\n",
    "from src.utilities.folder_utilities import create_folders_from_schema"
   ]
  },
  {
   "cell_type": "code",
   "execution_count": 41,
   "metadata": {
    "execution": {
     "iopub.execute_input": "2024-02-24T16:00:27.542592Z",
     "iopub.status.busy": "2024-02-24T16:00:27.542592Z",
     "iopub.status.idle": "2024-02-24T16:00:27.545005Z",
     "shell.execute_reply": "2024-02-24T16:00:27.545005Z"
    }
   },
   "outputs": [],
   "source": [
    "json_dir = \"../records/JSON/\"\n",
    "schema_dir = json_dir + \"/schema\"\n",
    "curr_dir = os.getcwd()"
   ]
  },
  {
   "cell_type": "code",
   "execution_count": 42,
   "metadata": {
    "execution": {
     "iopub.execute_input": "2024-02-24T16:00:27.547016Z",
     "iopub.status.busy": "2024-02-24T16:00:27.546019Z",
     "iopub.status.idle": "2024-02-24T16:00:27.550041Z",
     "shell.execute_reply": "2024-02-24T16:00:27.550041Z"
    }
   },
   "outputs": [],
   "source": [
    "# load root directory\n",
    "dotenv_path = os.path.join(curr_dir, \".env\")\n",
    "load_dotenv(dotenv_path)\n",
    "root_path = os.getenv(\"ROOT_FOLDER\")\n",
    "# input(f\"Is this the right directory - {root_path}?\")\n",
    "\n",
    "# load export path\n",
    "export_path = os.getenv(\"EXPORT_PATH_LOCAL\")"
   ]
  },
  {
   "cell_type": "code",
   "execution_count": 43,
   "metadata": {
    "execution": {
     "iopub.execute_input": "2024-02-24T16:00:27.552046Z",
     "iopub.status.busy": "2024-02-24T16:00:27.552046Z",
     "iopub.status.idle": "2024-02-24T16:00:27.554642Z",
     "shell.execute_reply": "2024-02-24T16:00:27.554642Z"
    }
   },
   "outputs": [],
   "source": [
    "client_schema = load_json(schema_dir, \"client_schema.json\")"
   ]
  },
  {
   "cell_type": "markdown",
   "metadata": {},
   "source": [
    "### Run functions"
   ]
  },
  {
   "cell_type": "code",
   "execution_count": 44,
   "metadata": {
    "execution": {
     "iopub.execute_input": "2024-02-24T16:00:27.556648Z",
     "iopub.status.busy": "2024-02-24T16:00:27.556648Z",
     "iopub.status.idle": "2024-02-24T16:00:27.560797Z",
     "shell.execute_reply": "2024-02-24T16:00:27.560797Z"
    }
   },
   "outputs": [
    {
     "name": "stdout",
     "output_type": "stream",
     "text": [
      "['0.jpg', '1.jpg', '2.jpg', '3.jpg', '4.jpg', '5.jpg', '6.jpg', '7.jpg', '8.jpg', '9.jpg', '10.jpg', '11.jpg', '12.jpg', '13.jpg', '14.jpg', '15.jpg', '16.jpg', '17.jpg', '18.jpg', '19.jpg', '20.jpg', '21.jpg', '22.jpg', '23.jpg', '24.jpg', '25.jpg', '26.jpg', '27.jpg', '28.jpg', '29.jpg', '30.jpg', '31.jpg', '32.jpg', '33.jpg', '34.jpg', '35.jpg', '36.jpg', '37.jpg', '38.jpg', '39.jpg', '40.jpg', '41.jpg', '42.jpg', '43.jpg', '44.jpg', '45.jpg', '46.jpg', '47.jpg', '48.jpg', '49.jpg', '50.jpg', '51.jpg', '52.jpg', '53.jpg', '54.jpg', '55.jpg', '56.jpg', '57.jpg', '58.jpg', '59.jpg', '60.jpg', '61.jpg', '62.jpg', '63.jpg', '64.jpg', '65.jpg', '66.jpg', '67.jpg', '68.jpg', '69.jpg', '70.jpg', '71.jpg', '72.jpg', '73.jpg', '74.jpg', '75.jpg', '76.jpg', '77.jpg', '78.jpg', '79.jpg', '80.jpg', '81.jpg', '82.jpg', '83.jpg', '84.jpg', '85.jpg', '86.jpg', '87.jpg', '88.jpg', '89.jpg', '90.jpg', '91.jpg', '92.jpg', '93.jpg', '94.jpg', '95.jpg', '96.jpg', '97.jpg', '98.jpg', '99.jpg', '100.jpg', '101.jpg', '102.jpg', '103.jpg', '104.jpg', '105.jpg', '106.jpg', '107.jpg', '108.jpg', '109.jpg', '110.jpg', '111.jpg', '112.jpg', '113.jpg', '114.jpg', '115.jpg', '116.jpg', '117.jpg', '118.jpg', '119.jpg', '120.jpg', '121.jpg', '122.jpg', '123.jpg', '124.jpg', '125.jpg', '126.jpg', '127.jpg', '128.jpg', '129.jpg', '130.jpg', '131.jpg', '132.jpg', '133.jpg', '134.jpg', '135.jpg', '136.jpg', '137.jpg', '138.jpg', '139.jpg', '140.jpg', '141.jpg', '142.jpg', '143.jpg', '144.jpg', '145.jpg', '146.jpg', '147.jpg', '148.jpg', '149.jpg', '150.jpg', '151.jpg', '152.jpg', '153.jpg', '154.jpg', '155.jpg', '156.jpg', '157.jpg', '158.jpg', '159.jpg', '160.jpg', '161.jpg', '162.jpg', '163.jpg', '164.jpg', '165.jpg', '166.jpg', '167.jpg', '168.jpg', '169.jpg', '170.jpg', '171.jpg', '172.jpg', '173.jpg', '174.jpg', '175.jpg', '176.jpg', '177.jpg', '178.jpg', '179.jpg', '180.jpg', '181.jpg', '182.jpg', '183.jpg', '184.jpg', '185.jpg', '186.jpg', '187.jpg', '188.jpg', '189.jpg', '190.jpg', '191.jpg', '192.jpg', '193.jpg', '194.jpg']\n",
      "Video successfully created at 'E:/temp_195/vid.mp4'.\n"
     ]
    }
   ],
   "source": [
    "\"\"\" Generate video from standardized frames \"\"\"\n",
    "frame_folder = \"E:/temp_370_hb\"\n",
    "output_video_path = frame_folder + \"/vid.mp4\"\n",
    "create_video_from_jpg(frame_folder, output_video_path)"
   ]
  },
  {
   "cell_type": "code",
   "execution_count": 45,
   "metadata": {
    "execution": {
     "iopub.execute_input": "2024-02-24T16:00:27.591803Z",
     "iopub.status.busy": "2024-02-24T16:00:27.591803Z",
     "iopub.status.idle": "2024-02-24T16:00:27.811538Z",
     "shell.execute_reply": "2024-02-24T16:00:27.811538Z"
    }
   },
   "outputs": [],
   "source": [
    "# set_folders = [\"/Train\", \"/Test\", \"/Validation\"]\n",
    "\n",
    "# for set_folder in set_folders:\n",
    "#     set_path = os.path.normpath(export_path + set_folder)\n",
    "#     create_folders_from_schema(client_schema, set_path)"
   ]
  },
  {
   "cell_type": "markdown",
   "metadata": {},
   "source": [
    "### Refactor Folder Structure when Time Permits\n",
    "\n",
    "```bash\n",
    "my_ml_project/\n",
    "│\n",
    "├── notebooks/          # Jupyter notebooks for exploration and presentation\n",
    "│   └── explore_data.ipynb\n",
    "│\n",
    "├── src/                # Source code for use in this project\n",
    "│   ├── __init__.py     # Makes src a Python module\n",
    "│   ├── data/           # Scripts to download or generate data\n",
    "│   │   ├── __init__.py\n",
    "│   │   └── data_loader.py\n",
    "│   ├── features/       # Scripts to turn raw data into features for modeling\n",
    "│   │   ├── __init__.py\n",
    "│   │   └── build_features.py\n",
    "│   ├── models/         # Scripts to train models and then use trained models to make predictions\n",
    "│   │   ├── __init__.py\n",
    "│   │   ├── model.py\n",
    "│   │   └── predict.py\n",
    "│   └── visualization/  # Scripts to create exploratory and results oriented visualizations\n",
    "│       ├── __init__.py\n",
    "│       └── visualize.py\n",
    "│\n",
    "├── scripts/            # Standalone scripts for training models, etc.\n",
    "│   └── train_model.py\n",
    "│\n",
    "├── tests/              # Test cases for your project\n",
    "│   ├── __init__.py\n",
    "│   └── test_data_loader.py\n",
    "│\n",
    "├── .env                # Environment variables, not to be committed to git\n",
    "├── requirements.txt    # The dependencies file for reproducing the analysis environment\n",
    "└── README.md           # The top-level README for developers using this project"
   ]
  }
 ],
 "metadata": {
  "kernelspec": {
   "display_name": "Python 3.11.4 64-bit",
   "language": "python",
   "name": "python3"
  },
  "language_info": {
   "codemirror_mode": {
    "name": "ipython",
    "version": 3
   },
   "file_extension": ".py",
   "mimetype": "text/x-python",
   "name": "python",
   "nbconvert_exporter": "python",
   "pygments_lexer": "ipython3",
   "version": "3.11.7"
  },
  "vscode": {
   "interpreter": {
    "hash": "e7228a7137a92e95012bf2be7e7bd4e027e828c700167ca5a0671652a2d91aff"
   }
  }
 },
 "nbformat": 4,
 "nbformat_minor": 2
}
