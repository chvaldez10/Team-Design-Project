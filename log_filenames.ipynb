{
 "cells": [
  {
   "attachments": {},
   "cell_type": "markdown",
   "metadata": {},
   "source": [
    "# Video Processing for BT Lab\n",
    "Get desired filenames and store them in log files\n",
    "<br>\n",
    "<br>\n",
    "Notes:\n",
    "1) looking for a specific path \n",
    "2) need to enter drive name\n",
    "<br>\n",
    "<br>\n",
    "![UofC logo](./pictures/uofc_logo-black.jpg)"
   ]
  },
  {
   "cell_type": "code",
   "execution_count": 1,
   "metadata": {},
   "outputs": [],
   "source": [
    "#import libraries\n",
    "import os\n",
    "import re"
   ]
  },
  {
   "cell_type": "code",
   "execution_count": 2,
   "metadata": {},
   "outputs": [
    {
     "data": {
      "text/plain": [
       "''"
      ]
     },
     "execution_count": 2,
     "metadata": {},
     "output_type": "execute_result"
    }
   ],
   "source": [
    "# make sure to update path\n",
    "root_path = f\"E:/Christian/DI_centre_structured\"\n",
    "input(f\"Is this the right directory - {root_path}?\")"
   ]
  },
  {
   "cell_type": "code",
   "execution_count": 3,
   "metadata": {},
   "outputs": [],
   "source": [
    "# get file directory\n",
    "repo_dir = os.getcwd()"
   ]
  },
  {
   "cell_type": "code",
   "execution_count": 4,
   "metadata": {},
   "outputs": [],
   "source": [
    "p3225_file_path = {\n",
    "    \"video folder\" : \"DI_CAMERA_P3225\",\n",
    "    \"1st level\" : [\"Final\"],\n",
    "    \"2nd level\" : \"Patient Name\",\n",
    "    \"3rd level\" : [2, 3],\n",
    "    \"4th level\" : { \"B\": \"With Blankets\",\n",
    "                        \"WOB\": \"Without Blankets\"}, \n",
    "    \"5th level\" : {\"H\" : \"Hold Breath\",\n",
    "                    \"R\": \"Relaxed\"} \n",
    "}\n",
    "\n",
    "fur_file_path = {\n",
    "    \"video folder\" : \"DI_THERMAL_FLIR\",\n",
    "    \"1st level\" : [\"\"],\n",
    "    \"2nd level\" : \"Patient Number\",\n",
    "    \"3rd level\" : [2, 3],\n",
    "    \"4th level\" : { \"H\": \"Hold Breath\",\n",
    "                        \"R\": \"Relaxed\"}, \n",
    "    \"5th level\" : { \"B\": \"With Blankets\",\n",
    "                        \"WOB\": \"Without Blankets\"} \n",
    "}"
   ]
  },
  {
   "cell_type": "code",
   "execution_count": 5,
   "metadata": {},
   "outputs": [],
   "source": [
    "def get_video_filenames(patient_path:str, start_level=0, max_level=4) -> None:\n",
    "    file_paths = []\n",
    "\n",
    "    os.chdir(patient_path)\n",
    "    if start_level < max_level:\n",
    "        for entry in os.scandir(patient_path):\n",
    "            if entry.is_file():\n",
    "                file_paths.append(entry.path)\n",
    "            elif entry.is_dir():\n",
    "                file_paths.extend(get_video_filenames(entry.path, start_level+1))\n",
    "\n",
    "    return file_paths"
   ]
  },
  {
   "cell_type": "code",
   "execution_count": 6,
   "metadata": {},
   "outputs": [],
   "source": [
    "def get_patient_id(curr_dir:str) -> None:\n",
    "    os.chdir(curr_dir)\n",
    "    patient_names = [folder_content for folder_content in os.listdir() if os.path.isdir(folder_content)]\n",
    "    return patient_names"
   ]
  },
  {
   "cell_type": "code",
   "execution_count": 7,
   "metadata": {},
   "outputs": [],
   "source": [
    "def filter_filenames(video_filenames:list[str], keyword:str) -> list[str]:\n",
    "    filtered_filenames = []\n",
    "    for filename in video_filenames:\n",
    "        if not re.search(r\"\\b{}\\b\".format(keyword), filename, flags=re.IGNORECASE):\n",
    "            filtered_filenames.append(filename)\n",
    "    return filtered_filenames"
   ]
  },
  {
   "cell_type": "code",
   "execution_count": 8,
   "metadata": {},
   "outputs": [],
   "source": [
    "def save_filenames(root_dir:str, save_dir:str, video_name:str, keywords:list[str], patient_list:list[str]) -> None:\n",
    "    log_file = f\"{save_dir}/{video_name}.log\"\n",
    "    log_file = log_file.replace(\"\\\\\", \"/\")\n",
    "\n",
    "    if os.path.exists(log_file):\n",
    "        os.remove(log_file)\n",
    "\n",
    "    for patient_count, patient_name in enumerate(patient_list):\n",
    "        patient_folder = root_dir + \"/\" + patient_name\n",
    "        all_patient_mp4_files = get_video_filenames(patient_folder)\n",
    "        filtered_filenames = all_patient_mp4_files\n",
    "\n",
    "        for word in keywords:\n",
    "            filtered_filenames = filter_filenames(filtered_filenames, word)\n",
    "\n",
    "        with open(log_file, \"a\") as mp4_data:\n",
    "            for mp4_file in filtered_filenames:\n",
    "                mp4_data.write(f\"{mp4_file}\\n\")"
   ]
  },
  {
   "attachments": {},
   "cell_type": "markdown",
   "metadata": {},
   "source": [
    "## Retrieve all videos (stage 1.1)\n",
    "\n",
    "Filter out unwanted filenames and save them in log files"
   ]
  },
  {
   "cell_type": "code",
   "execution_count": 9,
   "metadata": {},
   "outputs": [
    {
     "data": {
      "text/plain": [
       "['Arun',\n",
       " 'Daniel',\n",
       " 'Eddy',\n",
       " 'Farooq',\n",
       " 'Frank',\n",
       " 'Frank2',\n",
       " 'Illia',\n",
       " 'Illia2',\n",
       " 'Jay',\n",
       " 'John Brunton',\n",
       " 'John McNeil',\n",
       " 'Joseph',\n",
       " 'Karlii',\n",
       " 'Kate',\n",
       " 'Krystyn',\n",
       " 'Melissa',\n",
       " 'Nick',\n",
       " 'Rachael B',\n",
       " 'Riyan',\n",
       " 'Sara']"
      ]
     },
     "execution_count": 9,
     "metadata": {},
     "output_type": "execute_result"
    }
   ],
   "source": [
    "\"\"\" \n",
    "    get filenames for rgb camera\n",
    "\"\"\"\n",
    "\n",
    "video_folder = p3225_file_path[\"video folder\"]\n",
    "all_videos_folder = root_path + \"/\" + video_folder + \"/\" + p3225_file_path[\"1st level\"][0]\n",
    "patient_names = get_patient_id(all_videos_folder)\n",
    "patient_names"
   ]
  },
  {
   "cell_type": "code",
   "execution_count": 10,
   "metadata": {},
   "outputs": [],
   "source": [
    "records_folder = repo_dir + \"/records/logs\"\n",
    "keywords = [\"media_media.amp-.mp4\"]\n",
    "save_filenames(all_videos_folder, records_folder, video_folder, keywords, patient_names)"
   ]
  },
  {
   "cell_type": "code",
   "execution_count": 11,
   "metadata": {},
   "outputs": [
    {
     "data": {
      "text/plain": [
       "['1',\n",
       " '10',\n",
       " '11',\n",
       " '12',\n",
       " '13',\n",
       " '14',\n",
       " '14_1',\n",
       " '15',\n",
       " '16',\n",
       " '17',\n",
       " '18',\n",
       " '2',\n",
       " '3',\n",
       " '4',\n",
       " '5',\n",
       " '6',\n",
       " '7',\n",
       " '8',\n",
       " '9']"
      ]
     },
     "execution_count": 11,
     "metadata": {},
     "output_type": "execute_result"
    }
   ],
   "source": [
    "\"\"\" \n",
    "    get filenames for thermal camera\n",
    "\"\"\"\n",
    "\n",
    "video_folder = fur_file_path[\"video folder\"]\n",
    "all_videos_folder = root_path + \"/\" + video_folder + \"/\" + fur_file_path[\"1st level\"][0]\n",
    "patient_names = get_patient_id(all_videos_folder)\n",
    "patient_names"
   ]
  },
  {
   "cell_type": "code",
   "execution_count": 12,
   "metadata": {},
   "outputs": [],
   "source": [
    "records_folder = repo_dir + \"/records/logs\"\n",
    "# keywords = [\".Bmp\", \".png\"]\n",
    "keywords = [\".Bmp\"]\n",
    "save_filenames(all_videos_folder, records_folder, video_folder, keywords, patient_names)"
   ]
  }
 ],
 "metadata": {
  "kernelspec": {
   "display_name": "Python 3.11.4 64-bit",
   "language": "python",
   "name": "python3"
  },
  "language_info": {
   "codemirror_mode": {
    "name": "ipython",
    "version": 3
   },
   "file_extension": ".py",
   "mimetype": "text/x-python",
   "name": "python",
   "nbconvert_exporter": "python",
   "pygments_lexer": "ipython3",
   "version": "3.10.9"
  },
  "orig_nbformat": 4,
  "vscode": {
   "interpreter": {
    "hash": "e7228a7137a92e95012bf2be7e7bd4e027e828c700167ca5a0671652a2d91aff"
   }
  }
 },
 "nbformat": 4,
 "nbformat_minor": 2
}
