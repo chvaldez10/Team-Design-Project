{
 "cells": [
  {
   "cell_type": "code",
   "execution_count": null,
   "metadata": {},
   "outputs": [],
   "source": [
    "#import libraries\n",
    "import os\n",
    "import cv2\n",
    "import json\n",
    "import re"
   ]
  },
  {
   "cell_type": "code",
   "execution_count": null,
   "metadata": {},
   "outputs": [],
   "source": [
    "# local variables\n",
    "\n",
    "p3225_file_path = {\n",
    "    \"video folder\" : \"DI_CAMERA_P3225\",\n",
    "    \"1st level\" : [\"Final\"],\n",
    "    \"2nd level\" : \"Patient Name\",\n",
    "    \"3rd level\" : [2, 3],\n",
    "    \"4th level\" : { \"B\": \"With Blankets\",\n",
    "                        \"WOB\": \"Without Blankets\"}, \n",
    "    \"5th level\" : {\"H\" : \"Hold Breath\",\n",
    "                    \"R\": \"Relaxed\"} \n",
    "}\n",
    "\n",
    "fur_file_path = {\n",
    "    \"video folder\" : \"DI_THERMAL_FLIR\",\n",
    "    \"1st level\" : [\"\"],\n",
    "    \"2nd level\" : \"Patient Number\",\n",
    "    \"3rd level\" : [2, 3],\n",
    "    \"4th level\" : { \"H\": \"Hold Breath\",\n",
    "                        \"R\": \"Relaxed\"}, \n",
    "    \"5th level\" : { \"B\": \"With Blankets\",\n",
    "                        \"WOB\": \"Without Blankets\"} \n",
    "}\n",
    "\n",
    "root_path = \"E:/Christian/DI_centre_structured\"\n",
    "repo_dir = os.getcwd()"
   ]
  },
  {
   "attachments": {},
   "cell_type": "markdown",
   "metadata": {},
   "source": [
    "1st stage:\n",
    "1) get mp4/avi filenames and store results in xlsx file\n",
    "2) rename mp4/avi filenames to a common convention\n",
    "\n",
    "Workflows:\n",
    "- Get all mp4/avi filenames in the folder (ignore filenames that ends with amp-.mp4)\n",
    "- Record and keep track of all filenames \n",
    "- Manually check ambiguous cases\n",
    "\n",
    "2nd stage:\n",
    "1) extract metadata\n",
    "2) edit videos so that frame rates are a decimal value\n",
    "\n",
    "Workflows:\n",
    "- extract and record metadata\n",
    "- interpolate and extrapolate data\n",
    "- decide on a common frame\n",
    "\n",
    "3nd stage:\n",
    "1) turn all mp4/avi files to jpg using opencv\n",
    "2) pick out an \"even x\" amount of jpg files in the folder\n",
    "\n",
    "Workflows:\n",
    "- convert all mp4 files into frames\n",
    "- Pick out desired frames\n",
    "- avoid any memory allocation issues\n",
    "\n",
    "4th stage:\n",
    "1) automate manual tasks\n",
    "\n",
    "Workflows:\n",
    "- track changes in metadata\n",
    "\n",
    "Notes:\n",
    "- metadata manually recorded for now and will automate later\n",
    "\n",
    "Questions:\n",
    "- metadata don't match"
   ]
  },
  {
   "cell_type": "code",
   "execution_count": null,
   "metadata": {},
   "outputs": [],
   "source": [
    "def get_video_filenames(patient_path:str, level=0) -> None:\n",
    "    file_paths = []\n",
    "\n",
    "    os.chdir(patient_path)\n",
    "    if level < 4:\n",
    "        for entry in os.scandir(patient_path):\n",
    "            if entry.is_file():\n",
    "                file_paths.append(entry.path)\n",
    "            elif entry.is_dir():\n",
    "                file_paths.extend(get_video_filenames(entry.path, level+1))\n",
    "\n",
    "    return file_paths"
   ]
  },
  {
   "cell_type": "code",
   "execution_count": null,
   "metadata": {},
   "outputs": [],
   "source": [
    "def get_patient_id(curr_dir:str) -> None:\n",
    "    os.chdir(curr_dir)\n",
    "    patient_names = [folder_content for folder_content in os.listdir() if not folder_content.endswith(\".mp4\")]\n",
    "    return patient_names"
   ]
  },
  {
   "cell_type": "code",
   "execution_count": null,
   "metadata": {},
   "outputs": [],
   "source": [
    "def filter_filenames(video_filenames:list[str], keyword:str) -> list[str]:\n",
    "    filtered_filenames = []\n",
    "    for filename in video_filenames:\n",
    "        if not re.search(r\"\\b{}\\b\".format(keyword), filename, flags=re.IGNORECASE):\n",
    "            filtered_filenames.append(filename)\n",
    "    return filtered_filenames"
   ]
  },
  {
   "cell_type": "code",
   "execution_count": null,
   "metadata": {},
   "outputs": [],
   "source": [
    "def save_filenames(root_dir:str, save_dir:str, video_name:str, patient_list:list[str]) -> None:\n",
    "    log_file = f\"{save_dir}/{video_name}.log\"\n",
    "    log_file = log_file.replace(\"\\\\\", \"/\")\n",
    "\n",
    "    if os.path.exists(log_file):\n",
    "        os.remove(log_file)\n",
    "\n",
    "    for patient_count, patient_name in enumerate(patient_list):\n",
    "        patient_folder = root_dir + \"/\" + patient_name\n",
    "        all_patient_mp4_files = get_video_filenames(patient_folder)\n",
    "        filtered_filenames = filter_filenames(all_patient_mp4_files, \"media_media.amp-.mp4\")\n",
    "\n",
    "        with open(log_file, \"a\") as mp4_data:\n",
    "            for mp4_file in filtered_filenames:\n",
    "                mp4_data.write(f\"{mp4_file}\\n\")\n",
    "\n",
    "        if patient_count == 1:\n",
    "            break"
   ]
  },
  {
   "cell_type": "code",
   "execution_count": null,
   "metadata": {},
   "outputs": [],
   "source": [
    "\"\"\" \n",
    "    get filenames for rgb camera\n",
    "\"\"\"\n",
    "\n",
    "video_folder = p3225_file_path[\"video folder\"]\n",
    "all_videos_folder = root_path + \"/\" + video_folder + \"/\" + p3225_file_path[\"1st level\"][0]\n",
    "patient_names = get_patient_id(all_videos_folder)\n",
    "patient_names"
   ]
  },
  {
   "cell_type": "code",
   "execution_count": null,
   "metadata": {},
   "outputs": [],
   "source": [
    "records_folder = repo_dir + \"/record\"\n",
    "save_filenames(all_videos_folder, records_folder, video_folder, patient_names)"
   ]
  },
  {
   "attachments": {},
   "cell_type": "markdown",
   "metadata": {},
   "source": [
    "# FLIR mp4 files"
   ]
  },
  {
   "cell_type": "code",
   "execution_count": null,
   "metadata": {},
   "outputs": [],
   "source": [
    "root_path = \"C:/Users/chris/Documents/Projects Outside of School/Research w Dr S and Illia/DI_centre_structured/DI_THERMAL_FLIR\"\n",
    "\n",
    "patient_numbers = [str(i) for i in range(1, 19)]\n",
    "patient_numbers"
   ]
  },
  {
   "cell_type": "code",
   "execution_count": null,
   "metadata": {},
   "outputs": [],
   "source": [
    "\"\"\"\n",
    "    TODO: combine this function with save_mp4\n",
    "\"\"\"\n",
    "\n",
    "def save_avi_filenames_to_txt_file(root_dir, save_dir, patient_list):\n",
    "    txt_file = save_dir + \"/avi_filenames.txt\"\n",
    "    txt_file = txt_file.replace(\"\\\\\", \"/\")\n",
    "\n",
    "    for patient_count, patient_name in enumerate(patient_list):\n",
    "        patient_folder = root_dir + \"/\" + patient_name\n",
    "        all_patient_mp4_files = get_patient_mp4_files(patient_folder)\n",
    "        wanted_patient_mp4_files = [mp4_file for mp4_file in all_patient_mp4_files if not mp4_file.replace(\" \", \"\").endswith(\".Bmp\") and not mp4_file.replace(\" \", \"\").endswith(\".png\") ]\n",
    "\n",
    "        with open(txt_file, \"a\") as mp4_data:\n",
    "            for mp4_file in wanted_patient_mp4_files:\n",
    "                mp4_data.write(f\"{mp4_file}\\n\")"
   ]
  },
  {
   "cell_type": "code",
   "execution_count": null,
   "metadata": {},
   "outputs": [],
   "source": [
    "save_avi_filenames_to_txt_file(root_path, records_folder, patient_numbers)"
   ]
  },
  {
   "cell_type": "code",
   "execution_count": null,
   "metadata": {},
   "outputs": [],
   "source": [
    "\"\"\"\n",
    "    A function to convert mp4 files to frames\n",
    "\"\"\"\n",
    "\n",
    "def convert_mp4_to_frames(mp4_file:str, output_dir:str):\n",
    "    video = cv2.VideoCapture(mp4_file)\n",
    "    os.makedirs(output_dir, exist_ok=True)\n",
    "    frame_count = 0\n",
    "    not_end_of_vid = True\n",
    "\n",
    "    while not_end_of_vid:\n",
    "        ret, frame = video.read()\n",
    "        \n",
    "        if not ret:\n",
    "            not_end_of_vid = False\n",
    "            break\n",
    "\n",
    "        frame_file = os.path.join(output_dir, f\"frame{frame_count:05d}.jpg\")\n",
    "        cv2.imwrite(frame_file, frame)\n",
    "        frame_count += 1\n",
    "\n",
    "    video.release()\n",
    "\n",
    "    print(f\"Conversion complete: {frame_count} frames saved in {output_dir}\")"
   ]
  },
  {
   "cell_type": "code",
   "execution_count": null,
   "metadata": {},
   "outputs": [],
   "source": [
    "\"\"\"\n",
    "    display video properties using opencv\n",
    "\"\"\"\n",
    "\n",
    "def get_video_properties(mp4_file: str) -> dict:\n",
    "    video_properties = {}\n",
    "    video = cv2.VideoCapture(mp4_file)\n",
    "    old_fps = int(video.get(cv2.CAP_PROP_FPS))\n",
    "    number_of_frames = int(video.get(cv2.CAP_PROP_FRAME_COUNT))\n",
    "\n",
    "    video_properties[\"old fps\"] = old_fps\n",
    "    video_properties[\"frames\"] = number_of_frames\n",
    "\n",
    "\n",
    "    return video_properties"
   ]
  },
  {
   "cell_type": "code",
   "execution_count": null,
   "metadata": {},
   "outputs": [],
   "source": [
    "\"\"\" testing the function convert_mp4_to_frames(mp4_file:str, output_dir:str)\"\"\"\n",
    "mp4_file = repo_dir + \"/sample/Arun2.mp4\"\n",
    "output_directory = repo_dir + \"/sample/frames\"\n",
    "\n",
    "# convert_mp4_to_frames(mp4_file, output_directory)"
   ]
  },
  {
   "cell_type": "code",
   "execution_count": null,
   "metadata": {},
   "outputs": [],
   "source": [
    "\"\"\" testing the function convert_mp4_to_frames(mp4_file:str, output_dir:str)\"\"\"\n",
    "avi_file = repo_dir + \"/sample/15.avi\"\n",
    "output_directory = repo_dir + \"/sample/15_frames\"\n",
    "\n",
    "convert_mp4_to_frames(avi_file, output_directory)"
   ]
  },
  {
   "cell_type": "code",
   "execution_count": null,
   "metadata": {},
   "outputs": [],
   "source": [
    "\"\"\" testing the function get_video_properties(mp4_file: str)\"\"\"\n",
    "video_properties = get_video_properties(mp4_file)\n",
    "video_properties_json = json.dumps(video_properties, indent=2)\n",
    "print(video_properties_json)"
   ]
  }
 ],
 "metadata": {
  "kernelspec": {
   "display_name": "Python 3",
   "language": "python",
   "name": "python3"
  },
  "language_info": {
   "codemirror_mode": {
    "name": "ipython",
    "version": 3
   },
   "file_extension": ".py",
   "mimetype": "text/x-python",
   "name": "python",
   "nbconvert_exporter": "python",
   "pygments_lexer": "ipython3",
   "version": "3.10.9"
  },
  "orig_nbformat": 4
 },
 "nbformat": 4,
 "nbformat_minor": 2
}
