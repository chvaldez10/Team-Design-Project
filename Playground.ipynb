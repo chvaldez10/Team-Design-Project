{
 "cells": [
  {
   "attachments": {},
   "cell_type": "markdown",
   "metadata": {},
   "source": [
    "# Video Processing for BT Lab\n",
    "This notebook to test risky code fragments\n",
    "<br>\n",
    "<br>\n",
    "![UofC logo](./pictures/uofc_logo-black.jpg)"
   ]
  },
  {
   "cell_type": "code",
   "execution_count": 18,
   "metadata": {},
   "outputs": [],
   "source": [
    "#import libraries\n",
    "import os\n",
    "import cv2\n",
    "import json\n",
    "import re\n",
    "import datetime\n",
    "import time\n",
    "import numpy as np"
   ]
  },
  {
   "cell_type": "code",
   "execution_count": 19,
   "metadata": {},
   "outputs": [
    {
     "data": {
      "text/plain": [
       "'delete unwanted files'"
      ]
     },
     "execution_count": 19,
     "metadata": {},
     "output_type": "execute_result"
    }
   ],
   "source": [
    "\"\"\"delete unwanted files\"\"\"\n",
    "# desired_path = r\"D:\\Christian\\DI_centre_structured\\DI_THERMAL_FLIR\\3\\2 meters\\H\\WOB\\frames\"\n",
    "# os.chdir(desired_path)\n",
    "# copied_files = [bmp_files for bmp_files in os.listdir() if \"Copy\" in bmp_files]\n",
    "# copied_files"
   ]
  },
  {
   "cell_type": "code",
   "execution_count": 20,
   "metadata": {},
   "outputs": [],
   "source": [
    "# for copy_file in copied_files:\n",
    "#     os.remove(copy_file)"
   ]
  },
  {
   "cell_type": "code",
   "execution_count": 21,
   "metadata": {},
   "outputs": [],
   "source": [
    "def convert_mp4_to_frames(mp4_file:str, output_dir:str):\n",
    "    video = cv2.VideoCapture(mp4_file)\n",
    "    os.makedirs(output_dir, exist_ok=True)\n",
    "    frame_count = 0\n",
    "    not_end_of_vid = True\n",
    "\n",
    "    while not_end_of_vid:\n",
    "        ret, frame = video.read()\n",
    "        \n",
    "        if not ret:\n",
    "            not_end_of_vid = False\n",
    "            break\n",
    "\n",
    "        frame_file = os.path.join(output_dir, f\"frame{frame_count:05d}.jpg\")\n",
    "        cv2.imwrite(frame_file, frame)\n",
    "        frame_count += 1\n",
    "\n",
    "        # if frame_count > 20:\n",
    "        #     break\n",
    "\n",
    "    video.release()\n",
    "\n",
    "    print(f\"Conversion complete: {frame_count} frames saved in {output_dir}\")"
   ]
  },
  {
   "cell_type": "code",
   "execution_count": 22,
   "metadata": {},
   "outputs": [],
   "source": [
    "def count_frames(video_path: str) -> int:\n",
    "    frame_count = 0\n",
    "    still_has_frames = True\n",
    "    video = cv2.VideoCapture(video_path)\n",
    "\n",
    "    if not video.isOpened():\n",
    "        print(\"Error opening video file\")\n",
    "        return 2\n",
    "    \n",
    "    while still_has_frames:\n",
    "        ret, frame = video.read()\n",
    "        if not ret:\n",
    "            still_has_frames = False\n",
    "        else:\n",
    "            frame_count += 1\n",
    "    \n",
    "    video.release()\n",
    "    return frame_count"
   ]
  },
  {
   "cell_type": "code",
   "execution_count": 23,
   "metadata": {},
   "outputs": [],
   "source": [
    "def get_video_properties(mp4_file: str, is_real=True) -> list:\n",
    "    try:\n",
    "        video_properties = []\n",
    "        video = cv2.VideoCapture(mp4_file)\n",
    "        \n",
    "        if is_real:\n",
    "            number_of_frames = count_frames(mp4_file)\n",
    "            old_fps = video.get(cv2.CAP_PROP_FPS)\n",
    "        else:\n",
    "            number_of_frames = video.get(cv2.CAP_PROP_FRAME_COUNT)\n",
    "            old_fps = video.get(cv2.CAP_PROP_FPS)\n",
    "        \n",
    "        length = number_of_frames / old_fps\n",
    "        video_time = datetime.timedelta(seconds=length)\n",
    "        video.release()\n",
    "    except Exception as e:\n",
    "        print(f\"{type(e)} - from {mp4_file}\")\n",
    "    else:\n",
    "        video_properties.append(number_of_frames)\n",
    "        video_properties.append(old_fps)\n",
    "        video_properties.append(length)\n",
    "        video_properties.append(video_time)\n",
    "    \n",
    "    return video_properties"
   ]
  },
  {
   "cell_type": "code",
   "execution_count": 93,
   "metadata": {},
   "outputs": [],
   "source": [
    "def down_sample_frames(frames, new_fps):\n",
    "    if len(frames) <= new_fps:\n",
    "        #need to \"up sample\"\n",
    "        return frames\n",
    "\n",
    "    down_sampled_list = []\n",
    "    step = len(frames) / new_fps\n",
    "\n",
    "    for fps in range(new_fps):\n",
    "        start = int(fps * step)\n",
    "        end = int((fps + 1) * step)\n",
    "        \n",
    "        if fps == new_fps - 1:\n",
    "            # ensures that the last element includes any remaining elements\n",
    "            end = len(frames)\n",
    "        \n",
    "        avg = sum(frames[start:end]) // (end - start)\n",
    "        print(end, start, sum(frames[start:end]), avg)\n",
    "        down_sampled_list.append(avg)\n",
    "\n",
    "    return down_sampled_list"
   ]
  },
  {
   "cell_type": "code",
   "execution_count": 94,
   "metadata": {},
   "outputs": [
    {
     "name": "stdout",
     "output_type": "stream",
     "text": [
      "1 0 0 0\n",
      "2 1 1 1\n",
      "4 2 5 2\n",
      "5 4 4 4\n",
      "7 5 11 5\n",
      "8 7 7 7\n",
      "10 8 17 8\n",
      "11 10 10 10\n",
      "13 11 23 11\n",
      "14 13 13 13\n",
      "15 14 14 14\n",
      "17 15 31 15\n",
      "18 17 17 17\n",
      "20 18 37 18\n",
      "21 20 20 20\n",
      "23 21 43 21\n",
      "24 23 23 23\n",
      "26 24 49 24\n",
      "27 26 26 26\n",
      "29 27 55 27\n"
     ]
    }
   ],
   "source": [
    "old_fps = 29\n",
    "new_fps_lower = 10\n",
    "new_fps_upper = 20\n",
    "my_frames = np.arange(0, old_fps, dtype=int)\n",
    "\n",
    "downsampled_list = down_sample_frames(my_frames, new_fps_upper)"
   ]
  },
  {
   "cell_type": "code",
   "execution_count": 95,
   "metadata": {},
   "outputs": [
    {
     "name": "stdout",
     "output_type": "stream",
     "text": [
      "[3, 6, 9, 12, 16, 19, 22, 25, 28] 9\n",
      "[0, 1, 2, 4, 5, 7, 8, 10, 11, 13, 14, 15, 17, 18, 20, 21, 23, 24, 26, 27]\n"
     ]
    }
   ],
   "source": [
    "missing_frames = []\n",
    "for sample in my_frames:\n",
    "    if sample not in downsampled_list:\n",
    "        missing_frames.append(sample)\n",
    "\n",
    "print(missing_frames, len(missing_frames))\n",
    "print(downsampled_list)"
   ]
  },
  {
   "cell_type": "code",
   "execution_count": 108,
   "metadata": {},
   "outputs": [],
   "source": [
    "def up_sample_list(frames, new_fps):\n",
    "    if new_fps <= len(frames):\n",
    "        raise ValueError(\"Target length must be greater than the current list length.\")\n",
    "\n",
    "    frames_arr = frames\n",
    "    frames_interp = np.linspace(0, len(frames) - 1, new_fps)\n",
    "    up_sampled_list = np.interp(frames_interp, frames_arr, frames)\n",
    "    rounded_up_sampled_list = up_sampled_list.astype(int)\n",
    "\n",
    "    return rounded_up_sampled_list.tolist()\n"
   ]
  },
  {
   "cell_type": "code",
   "execution_count": 109,
   "metadata": {},
   "outputs": [
    {
     "name": "stdout",
     "output_type": "stream",
     "text": [
      "[0, 0, 1, 2, 3, 4, 5, 6, 7, 8, 8, 9, 10, 11, 12, 13, 14, 15, 16, 17]\n"
     ]
    }
   ],
   "source": [
    "# Example usage:\n",
    "old_fps = 18\n",
    "new_fps_lower = 10\n",
    "new_fps_upper = 20\n",
    "my_frames = np.arange(0, old_fps, dtype=int)\n",
    "upsampled_result = upsample_list(my_frames, new_fps_upper)\n",
    "print(upsampled_result)"
   ]
  }
 ],
 "metadata": {
  "kernelspec": {
   "display_name": "Python 3",
   "language": "python",
   "name": "python3"
  },
  "language_info": {
   "codemirror_mode": {
    "name": "ipython",
    "version": 3
   },
   "file_extension": ".py",
   "mimetype": "text/x-python",
   "name": "python",
   "nbconvert_exporter": "python",
   "pygments_lexer": "ipython3",
   "version": "3.11.3"
  },
  "orig_nbformat": 4
 },
 "nbformat": 4,
 "nbformat_minor": 2
}
