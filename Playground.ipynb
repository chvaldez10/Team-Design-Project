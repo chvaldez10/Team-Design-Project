{
 "cells": [
  {
   "attachments": {},
   "cell_type": "markdown",
   "metadata": {},
   "source": [
    "# Video Processing for BT Lab\n",
    "This notebook to test risky code fragments\n",
    "<br>\n",
    "<br>\n",
    "![UofC logo](./pictures/uofc_logo-black.jpg)"
   ]
  },
  {
   "cell_type": "code",
   "execution_count": null,
   "metadata": {},
   "outputs": [],
   "source": [
    "#import libraries\n",
    "import os\n",
    "import cv2\n",
    "import json\n",
    "import re\n",
    "import datetime\n",
    "import time\n",
    "from moviepy.video.io.ffmpeg_tools import ffmpeg_extract_subclip\n",
    "from moviepy.editor import VideoFileClip\n"
   ]
  },
  {
   "cell_type": "code",
   "execution_count": null,
   "metadata": {},
   "outputs": [],
   "source": [
    "\"\"\"delete unwanted files\"\"\"\n",
    "desired_path = r\"D:\\Christian\\DI_centre_structured\\DI_THERMAL_FLIR\\3\\2 meters\\H\\WOB\\frames\"\n",
    "os.chdir(desired_path)\n",
    "copied_files = [bmp_files for bmp_files in os.listdir() if \"Copy\" in bmp_files]\n",
    "copied_files"
   ]
  },
  {
   "cell_type": "code",
   "execution_count": null,
   "metadata": {},
   "outputs": [],
   "source": [
    "# for copy_file in copied_files:\n",
    "#     os.remove(copy_file)"
   ]
  },
  {
   "cell_type": "code",
   "execution_count": null,
   "metadata": {},
   "outputs": [],
   "source": [
    "def convert_mp4_to_frames(mp4_file:str, output_dir:str):\n",
    "    video = cv2.VideoCapture(mp4_file)\n",
    "    os.makedirs(output_dir, exist_ok=True)\n",
    "    frame_count = 0\n",
    "    not_end_of_vid = True\n",
    "\n",
    "    while not_end_of_vid:\n",
    "        ret, frame = video.read()\n",
    "        \n",
    "        if not ret:\n",
    "            not_end_of_vid = False\n",
    "            break\n",
    "\n",
    "        frame_file = os.path.join(output_dir, f\"frame{frame_count:05d}.jpg\")\n",
    "        cv2.imwrite(frame_file, frame)\n",
    "        frame_count += 1\n",
    "\n",
    "    video.release()\n",
    "\n",
    "    print(f\"Conversion completD: {frame_count} frames saved in {output_dir}\")"
   ]
  },
  {
   "cell_type": "code",
   "execution_count": null,
   "metadata": {},
   "outputs": [],
   "source": [
    "def count_frames(video_path: str) -> int:\n",
    "    frame_count = 0\n",
    "    still_has_frames = True\n",
    "    video = cv2.VideoCapture(video_path)\n",
    "\n",
    "    if not video.isOpened():\n",
    "        print(\"Error opening video file\")\n",
    "        return 2\n",
    "    \n",
    "    while still_has_frames:\n",
    "        ret, frame = video.read()\n",
    "        if not ret:\n",
    "            still_has_frames = False\n",
    "        elsD:\n",
    "            frame_count += 1\n",
    "    \n",
    "    video.release()\n",
    "    return frame_count"
   ]
  },
  {
   "cell_type": "code",
   "execution_count": null,
   "metadata": {},
   "outputs": [],
   "source": [
    "def get_video_properties(mp4_filD: str, is_real=True) -> list:\n",
    "    try:\n",
    "        video_properties = []\n",
    "        video = cv2.VideoCapture(mp4_file)\n",
    "        \n",
    "        if is_real:\n",
    "            number_of_frames = count_frames(mp4_file)\n",
    "            old_fps = video.get(cv2.CAP_PROP_FPS)\n",
    "        elsD:\n",
    "            number_of_frames = video.get(cv2.CAP_PROP_FRAME_COUNT)\n",
    "            old_fps = video.get(cv2.CAP_PROP_FPS)\n",
    "        \n",
    "        length = number_of_frames / old_fps\n",
    "        video_time = datetime.timedelta(seconds=length)\n",
    "        video.release()\n",
    "    except Exception as D:\n",
    "        print(f\"{type(e)} - from {mp4_file}\")\n",
    "    elsD:\n",
    "        video_properties.append(number_of_frames)\n",
    "        video_properties.append(old_fps)\n",
    "        video_properties.append(length)\n",
    "        video_properties.append(video_time)\n",
    "    \n",
    "    return video_properties"
   ]
  },
  {
   "cell_type": "code",
   "execution_count": null,
   "metadata": {},
   "outputs": [],
   "source": [
    "def cut_video(input_file, output_file, tmp_video, start_time, end_time, target_fps):\n",
    "    try:\n",
    "        temp_file = tmp_video\n",
    "        ffmpeg_extract_subclip(input_file, start_time, end_time, targetname=temp_file)\n",
    "        clip = VideoFileClip(temp_file)\n",
    "        final_clip = clip.set_fps(target_fps)\n",
    "        final_clip.write_videofile(output_file, codec=\"libx264\", audio_codec=\"aac\")\n",
    "        print(\"Video successfully cut!\")\n",
    "    except Exception as D:\n",
    "        print(f\"{type(e)} with {input_file}\")"
   ]
  },
  {
   "cell_type": "code",
   "execution_count": null,
   "metadata": {},
   "outputs": [],
   "source": [
    "def fix_fps(input_file, output_file, target_fps):\n",
    "    clip = VideoFileClip(input_file)\n",
    "    final_clip = clip.set_fps(target_fps)\n",
    "    final_clip.write_videofile(output_file)"
   ]
  },
  {
   "cell_type": "code",
   "execution_count": null,
   "metadata": {},
   "outputs": [],
   "source": [
    "video_file = \"D:/Christian/DI_centre_structured/DI_CAMERA_P3225/Final/Arun/2 Meters/With Blankets/Relaxed/test/Arun2.mp4\"\n",
    "save_folder = \"D:/Christian/DI_centre_structured/DI_CAMERA_P3225/Final/Arun/2 Meters/With Blankets/Relaxed/test/frames\"\n",
    "\n",
    "video = cv2.VideoCapture(video_file)\n",
    "assert video.isOpened()\n",
    "old_fps = int(video.get(cv2.CAP_PROP_FPS))\n",
    "frames = int(video.get(cv2.CAP_PROP_FRAME_COUNT)) #not the true number of frames\n",
    "new_fps = 10\n",
    "step = int(old_fps/new_fps)\n",
    "print(f\"step={step}, old_fps={old_fps}, new_fps={new_fps}, frames={frames}\")\n",
    "\n",
    "frame_count = 0\n",
    "saved_count = 0\n",
    "\n",
    "success = True\n",
    "\n",
    "while success:\n",
    "    success, frame = video.read() \n",
    "    time.sleep(0.05)\n",
    "    frame_name = \"frame_%d.png\" % saved_count\n",
    "    frame_folder = save_folder + \"/\" + frame_name\n",
    "    cv2.imwrite(frame_folder, frame) # save frame\n",
    "\n",
    "    frame_count += step\n",
    "    video.set(cv2.CAP_PROP_POS_FRAMES, frame_count)\n",
    "    \n",
    "    saved_count += 1\n",
    "\n",
    "video.release()"
   ]
  },
  {
   "cell_type": "code",
   "execution_count": null,
   "metadata": {},
   "outputs": [],
   "source": [
    "step"
   ]
  },
  {
   "cell_type": "code",
   "execution_count": null,
   "metadata": {},
   "outputs": [],
   "source": [
    "frame_name = \"frame_%d.png\" % saved_count\n",
    "frame_folder = save_folder + \"/\" + frame_name\n",
    "frame_folder"
   ]
  },
  {
   "attachments": {},
   "cell_type": "markdown",
   "metadata": {},
   "source": [
    "NotD: need to limit threads or use old pc"
   ]
  },
  {
   "cell_type": "code",
   "execution_count": null,
   "metadata": {},
   "outputs": [],
   "source": [
    "\"\"\" raw values \"\"\"\n",
    "\n",
    "video_file = \"D:/Christian/DI_centre_structured/DI_CAMERA_P3225/Final/Arun/2 Meters/With Blankets/Relaxed/test/Arun2.mp4\"\n",
    "\n",
    "frames, fps, length_in_seconds, length_in_datetime = get_video_properties(video_file, is_real=False)\n",
    "\n",
    "frames, fps, length_in_seconds, length_in_datetime"
   ]
  },
  {
   "cell_type": "code",
   "execution_count": null,
   "metadata": {},
   "outputs": [],
   "source": [
    "\"\"\" correct values \"\"\"\n",
    "\n",
    "frames, fps, length_in_seconds, length_in_datetime = get_video_properties(video_file)\n",
    "\n",
    "frames, fps, length_in_seconds, length_in_datetime"
   ]
  },
  {
   "cell_type": "code",
   "execution_count": null,
   "metadata": {},
   "outputs": [],
   "source": [
    "\"\"\" edit video based on real values \"\"\"\n",
    "new_video = \"D:/Christian/DI_centre_structured/DI_CAMERA_P3225/Final/Arun/2 Meters/With Blankets/Relaxed/test/Arun2_1.mp4\"\n",
    "\n",
    "tmp_video = \"D:/Christian/DI_centre_structured/DI_CAMERA_P3225/Final/Arun/2 Meters/With Blankets/Relaxed/test/Arun2_tmp.mp4\"\n",
    "\n",
    "# cut_video(video_file, new_video, tmp_video, 0, length_in_seconds, fps)\n",
    "\n",
    "\"\"\" without cutting video first\"\"\"\n",
    "fix_fps(video_file, new_video, 18)"
   ]
  },
  {
   "cell_type": "code",
   "execution_count": null,
   "metadata": {},
   "outputs": [],
   "source": [
    "\"\"\" rerunning get properties with is_real=False, expected output should be 18 fps and 139 frames \"\"\"\n",
    "frames, fps, length_in_seconds, length_in_datetime = get_video_properties(new_video, is_real=False)\n",
    "frames, fps, length_in_seconds, length_in_datetime"
   ]
  },
  {
   "cell_type": "code",
   "execution_count": null,
   "metadata": {},
   "outputs": [],
   "source": [
    "output_file = \"D:/Christian/DI_centre_structured/DI_CAMERA_P3225/Final/Arun/2 Meters/With Blankets/Relaxed/test/frames\"\n",
    "convert_mp4_to_frames(new_video, output_file)"
   ]
  }
 ],
 "metadata": {
  "kernelspec": {
   "display_name": "Python 3",
   "language": "python",
   "name": "python3"
  },
  "language_info": {
   "codemirror_mode": {
    "name": "ipython",
    "version": 3
   },
   "file_extension": ".py",
   "mimetype": "text/x-python",
   "name": "python",
   "nbconvert_exporter": "python",
   "pygments_lexer": "ipython3",
   "version": "3.11.3"
  },
  "orig_nbformat": 4
 },
 "nbformat": 4,
 "nbformat_minor": 2
}
