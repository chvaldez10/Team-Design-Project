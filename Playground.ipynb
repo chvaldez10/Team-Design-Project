{
 "cells": [
  {
   "attachments": {},
   "cell_type": "markdown",
   "metadata": {},
   "source": [
    "# Folder Structure\n",
    "DI_centre_structured\\\n",
    "\n",
    ".\\DI_CAMERA_P3225 -> Final -> [Patient Name] -> [2/3] Meters -> With Blankets | Without Blankets -> Hold Breath | Relaxed -> [Name][distance number].mp4\n",
    "\n",
    ".\\DI_THERMAL_FUR -> [patient number] -> [distance] -> H|R -> B | WOB -> [patient number]_[H/R]_[distance]m.mp4"
   ]
  },
  {
   "cell_type": "code",
   "execution_count": 19,
   "metadata": {},
   "outputs": [],
   "source": [
    "import os\n",
    "import cv2\n",
    "import json"
   ]
  },
  {
   "cell_type": "code",
   "execution_count": 20,
   "metadata": {},
   "outputs": [],
   "source": [
    "# local variables\n",
    "\n",
    "p3225_file_path = {\n",
    "    \"1st level\" : [\"Final\"],\n",
    "    \"2nd level\" : [\"Arun\"],\n",
    "    \"3rd level\" : [2, 3],\n",
    "    \"4th level\" : { \"B\": \"With Blankets\",\n",
    "                        \"WOB\": \"Without Blankets\"}, \n",
    "    \"5th level\" : {\"H\" : \"Hold Breath\",\n",
    "                    \"R\": \"Relaxed\"} \n",
    "}\n",
    "\n",
    "fur_file_path = {\n",
    "    \"1st level\" : None,\n",
    "    \"2nd level\" : [1],\n",
    "    \"3rd level\" : [2, 3],\n",
    "    \"4th level\" : { \"H\": \"Hold Breath\",\n",
    "                        \"R\": \"Relaxed\"}, \n",
    "    \"5th level\" : { \"B\": \"With Blankets\",\n",
    "                        \"WOB\": \"Without Blankets\"} \n",
    "}"
   ]
  },
  {
   "attachments": {},
   "cell_type": "markdown",
   "metadata": {},
   "source": [
    "1st stage:\n",
    "1) concatenate all possible filepaths\n",
    "2) get all mp4 files and filter out unwanted files using regex\n",
    "\n",
    "Workflows:\n",
    "- Create function to list all possible filepaths\n",
    "- A function to check for folder structure\n",
    "- Manually check each folder for missing videos, keep record of results\n",
    "- One function to find all mp4 files\n",
    "- One function to check to convert all mp4 files into frames (linspace to pick out frames)\n",
    "- zip frames folder to save space\n",
    "\n",
    "Notes:\n",
    "- checked the file you sent and it looks like you did something similar"
   ]
  },
  {
   "cell_type": "code",
   "execution_count": 31,
   "metadata": {},
   "outputs": [],
   "source": [
    "def get_patient_mp4_files(patient_path:str, level=0):\n",
    "    file_paths = []\n",
    "\n",
    "    os.chdir(patient_path)\n",
    "    if level < 3:\n",
    "        for entry in os.scandir(patient_path):\n",
    "            if entry.is_file():\n",
    "                file_paths.append(entry.path)\n",
    "            elif entry.is_dir():\n",
    "                file_paths.extend(get_patient_mp4_files(entry.path, level+1))\n",
    "\n",
    "    return file_paths"
   ]
  },
  {
   "cell_type": "code",
   "execution_count": 21,
   "metadata": {},
   "outputs": [],
   "source": [
    "def set_patient_names(curr_dir:str):\n",
    "    os.chdir(curr_dir)\n",
    "    patient_names = [folder_content for folder_content in os.listdir() if not folder_content.endswith(\".mp4\")]\n",
    "    p3225_file_path[\"second level\"] = patient_names"
   ]
  },
  {
   "cell_type": "code",
   "execution_count": 22,
   "metadata": {},
   "outputs": [],
   "source": [
    "\"\"\"\n",
    "    Create a list of all possible file path based on patient\n",
    "\"\"\"\n",
    "def get_possible_patient_file_paths(patient_name:str, third_level:str, fourth_level:str, fifth_level:str):\n",
    "    pass"
   ]
  },
  {
   "cell_type": "code",
   "execution_count": 23,
   "metadata": {},
   "outputs": [],
   "source": [
    "# local vars\n",
    "root_path = \"C:/Users/chris/Documents/Projects Outside of School/Research w Dr S and Illia/DI_centre_structured/\"\n",
    "video_folder = \"DI_CAMERA_P3225/\"\n",
    "all_videos_folder = root_path + video_folder + p3225_file_path[\"1st level\"][0]"
   ]
  },
  {
   "cell_type": "code",
   "execution_count": 24,
   "metadata": {},
   "outputs": [
    {
     "data": {
      "text/plain": [
       "['Arun',\n",
       " 'Daniel',\n",
       " 'Eddy',\n",
       " 'Farooq',\n",
       " 'Frank',\n",
       " 'Frank2',\n",
       " 'Illia',\n",
       " 'Illia - 2',\n",
       " 'Jay',\n",
       " 'John Brunton',\n",
       " 'John McNeil',\n",
       " 'Joseph',\n",
       " 'Karlii',\n",
       " 'Kate',\n",
       " 'Krystyn',\n",
       " 'Melissa',\n",
       " 'Nick',\n",
       " 'Rachael B',\n",
       " 'Riyan',\n",
       " 'Sara']"
      ]
     },
     "execution_count": 24,
     "metadata": {},
     "output_type": "execute_result"
    }
   ],
   "source": [
    "set_patient_names(all_videos_folder)\n",
    "patient_names = p3225_file_path[\"2nd level\"]\n",
    "patient_names"
   ]
  },
  {
   "cell_type": "code",
   "execution_count": null,
   "metadata": {},
   "outputs": [],
   "source": [
    "for patient_count, patient_name in enumerate(patient_names):\n",
    "    patient_folder = all_videos_folder + \"/\" + patient_name\n",
    "    patient_mp4_files = get_patient_mp4_files(patient_folder)\n",
    "    if patient_count == 1:\n",
    "        break"
   ]
  },
  {
   "cell_type": "code",
   "execution_count": 30,
   "metadata": {},
   "outputs": [],
   "source": []
  },
  {
   "attachments": {},
   "cell_type": "markdown",
   "metadata": {},
   "source": [
    "Questions:\n",
    "- Some properties don't match?"
   ]
  },
  {
   "cell_type": "code",
   "execution_count": 25,
   "metadata": {},
   "outputs": [],
   "source": [
    "\"\"\"\n",
    "    A function to convert mp4 files to frames\n",
    "\"\"\"\n",
    "\n",
    "def convert_mp4_to_frames(mp4_file:str, output_dir:str):\n",
    "    video = cv2.VideoCapture(mp4_file)\n",
    "    os.makedirs(output_dir, exist_ok=True)\n",
    "    frame_count = 0\n",
    "    not_end_of_vid = True\n",
    "\n",
    "    while not_end_of_vid:\n",
    "        ret, frame = video.read()\n",
    "        \n",
    "        if not ret:\n",
    "            not_end_of_vid = False\n",
    "            break\n",
    "\n",
    "        frame_file = os.path.join(output_dir, f\"frame{frame_count:05d}.jpg\")\n",
    "        cv2.imwrite(frame_file, frame)\n",
    "        frame_count += 1\n",
    "\n",
    "    video.release()\n",
    "\n",
    "    print(f\"Conversion complete: {frame_count} frames saved in {output_dir}\")"
   ]
  },
  {
   "cell_type": "code",
   "execution_count": 26,
   "metadata": {},
   "outputs": [],
   "source": [
    "\"\"\"\n",
    "    display video properties using opencv\n",
    "\"\"\"\n",
    "\n",
    "def get_video_properties(mp4_file: str) -> dict:\n",
    "    video_properties = {}\n",
    "    video = cv2.VideoCapture(mp4_file)\n",
    "    old_fps = int(video.get(cv2.CAP_PROP_FPS))\n",
    "    number_of_frames = int(video.get(cv2.CAP_PROP_FRAME_COUNT))\n",
    "\n",
    "    video_properties[\"old fps\"] = old_fps\n",
    "    video_properties[\"frames\"] = number_of_frames\n",
    "\n",
    "\n",
    "    return video_properties"
   ]
  },
  {
   "cell_type": "code",
   "execution_count": null,
   "metadata": {},
   "outputs": [],
   "source": []
  },
  {
   "cell_type": "code",
   "execution_count": 27,
   "metadata": {},
   "outputs": [
    {
     "data": {
      "text/plain": [
       "' testing the function get_video_properties(mp4_file: str)'"
      ]
     },
     "execution_count": 27,
     "metadata": {},
     "output_type": "execute_result"
    }
   ],
   "source": [
    "\"\"\" testing the function convert_mp4_to_frames(mp4_file:str, output_dir:str)\"\"\"\n",
    "mp4_file = \"./DI_CAMERA_P3225/Final/Arun/2 Meters/With Blankets/Breathed/Arun2.mp4\"\n",
    "output_directory = \"./DI_CAMERA_P3225/Final/Arun/2 Meters/With Blankets/Breathed/frames\"\n",
    "\n",
    "# convert_mp4_to_frames(input_file, output_directory)\n",
    "\n",
    "\"\"\" testing the function get_video_properties(mp4_file: str)\"\"\"\n",
    "# video_properties = get_video_properties(mp4_file)\n",
    "# video_properties_json = json.dumps(video_properties, indent=2)\n",
    "# print(video_properties_json)"
   ]
  }
 ],
 "metadata": {
  "kernelspec": {
   "display_name": "Python 3",
   "language": "python",
   "name": "python3"
  },
  "language_info": {
   "codemirror_mode": {
    "name": "ipython",
    "version": 3
   },
   "file_extension": ".py",
   "mimetype": "text/x-python",
   "name": "python",
   "nbconvert_exporter": "python",
   "pygments_lexer": "ipython3",
   "version": "3.10.9"
  },
  "orig_nbformat": 4
 },
 "nbformat": 4,
 "nbformat_minor": 2
}
