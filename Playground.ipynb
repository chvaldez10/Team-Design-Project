{
 "cells": [
  {
   "cell_type": "code",
   "execution_count": null,
   "metadata": {},
   "outputs": [],
   "source": [
    "#import libraries\n",
    "import os\n",
    "import cv2\n",
    "import json\n",
    "import re"
   ]
  },
  {
   "attachments": {},
   "cell_type": "markdown",
   "metadata": {},
   "source": [
    "1st stage:\n",
    "1) get mp4/avi filenames\n",
    "2) create container for \"metadata\"\n",
    "3) rename mp4/avi filenames to a common convention\n",
    "\n",
    "Workflows:\n",
    "- filter unwanted filenames\n",
    "- store information in log or JSON files\n",
    "- manually check ambiguous cases\n",
    "\n",
    "2nd stage:\n",
    "1) extract metadata\n",
    "2) export information in xls file\n",
    "3) edit videos so that frame rates are a decimal value\n",
    "\n",
    "Workflows:\n",
    "- ensure that tags represent the correct files\n",
    "- interpolate and extrapolate data\n",
    "- decide on a common frame\n",
    "\n",
    "3nd stage:\n",
    "1) turn all mp4/avi files to jpg using opencv\n",
    "2) pick out an \"even x\" amount of jpg files in the folder\n",
    "\n",
    "Workflows:\n",
    "- convert all mp4 files into frames\n",
    "- Pick out desired frames\n",
    "- avoid any memory allocation issues\n",
    "\n",
    "4th stage:\n",
    "1) automate manual tasks\n",
    "\n",
    "Workflows:\n",
    "- track changes in metadata\n",
    "\n",
    "Notes:\n",
    "- metadata manually recorded for now and will automate later\n",
    "\n",
    "Questions:\n",
    "- metadata don't match"
   ]
  },
  {
   "cell_type": "code",
   "execution_count": null,
   "metadata": {},
   "outputs": [],
   "source": [
    "\"\"\"\n",
    "    A function to convert mp4 files to frames\n",
    "\"\"\"\n",
    "\n",
    "def convert_mp4_to_frames(mp4_file:str, output_dir:str):\n",
    "    video = cv2.VideoCapture(mp4_file)\n",
    "    os.makedirs(output_dir, exist_ok=True)\n",
    "    frame_count = 0\n",
    "    not_end_of_vid = True\n",
    "\n",
    "    while not_end_of_vid:\n",
    "        ret, frame = video.read()\n",
    "        \n",
    "        if not ret:\n",
    "            not_end_of_vid = False\n",
    "            break\n",
    "\n",
    "        frame_file = os.path.join(output_dir, f\"frame{frame_count:05d}.jpg\")\n",
    "        cv2.imwrite(frame_file, frame)\n",
    "        frame_count += 1\n",
    "\n",
    "    video.release()\n",
    "\n",
    "    print(f\"Conversion complete: {frame_count} frames saved in {output_dir}\")"
   ]
  },
  {
   "cell_type": "code",
   "execution_count": null,
   "metadata": {},
   "outputs": [],
   "source": [
    "\"\"\"\n",
    "    display video properties using opencv\n",
    "\"\"\"\n",
    "\n",
    "def get_video_properties(mp4_file: str) -> dict:\n",
    "    video_properties = {}\n",
    "    video = cv2.VideoCapture(mp4_file)\n",
    "    old_fps = int(video.get(cv2.CAP_PROP_FPS))\n",
    "    number_of_frames = int(video.get(cv2.CAP_PROP_FRAME_COUNT))\n",
    "\n",
    "    video_properties[\"old fps\"] = old_fps\n",
    "    video_properties[\"frames\"] = number_of_frames\n",
    "\n",
    "\n",
    "    return video_properties"
   ]
  },
  {
   "cell_type": "code",
   "execution_count": null,
   "metadata": {},
   "outputs": [],
   "source": [
    "\"\"\" testing the function convert_mp4_to_frames(mp4_file:str, output_dir:str)\"\"\"\n",
    "mp4_file = repo_dir + \"/sample/Arun2.mp4\"\n",
    "output_directory = repo_dir + \"/sample/frames\"\n",
    "\n",
    "# convert_mp4_to_frames(mp4_file, output_directory)"
   ]
  },
  {
   "cell_type": "code",
   "execution_count": null,
   "metadata": {},
   "outputs": [],
   "source": [
    "\"\"\" testing the function convert_mp4_to_frames(mp4_file:str, output_dir:str)\"\"\"\n",
    "avi_file = repo_dir + \"/sample/15.avi\"\n",
    "output_directory = repo_dir + \"/sample/15_frames\"\n",
    "\n",
    "convert_mp4_to_frames(avi_file, output_directory)"
   ]
  },
  {
   "cell_type": "code",
   "execution_count": null,
   "metadata": {},
   "outputs": [],
   "source": [
    "\"\"\" testing the function get_video_properties(mp4_file: str)\"\"\"\n",
    "video_properties = get_video_properties(mp4_file)\n",
    "video_properties_json = json.dumps(video_properties, indent=2)\n",
    "print(video_properties_json)"
   ]
  }
 ],
 "metadata": {
  "kernelspec": {
   "display_name": "Python 3",
   "language": "python",
   "name": "python3"
  },
  "language_info": {
   "codemirror_mode": {
    "name": "ipython",
    "version": 3
   },
   "file_extension": ".py",
   "mimetype": "text/x-python",
   "name": "python",
   "nbconvert_exporter": "python",
   "pygments_lexer": "ipython3",
   "version": "3.10.9"
  },
  "orig_nbformat": 4
 },
 "nbformat": 4,
 "nbformat_minor": 2
}
