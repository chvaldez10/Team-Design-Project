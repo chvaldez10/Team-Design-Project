{
 "cells": [
  {
   "attachments": {},
   "cell_type": "markdown",
   "metadata": {},
   "source": [
    "# Folder Structure\n",
    "DI_centre_structured\\\n",
    "\n",
    ".\\DI_CAMERA_P3225 -> Final -> [Patient Name] -> [2/3] Meters -> With Blankets | Without Blankets -> Hold Breath | Relaxed -> [Name][distance number].mp4\n",
    "\n",
    ".\\DI_THERMAL_FUR -> [patient number] -> [distance] -> H|R -> B | WOB -> [patient number]_[H/R]_[distance]m.mp4"
   ]
  },
  {
   "cell_type": "code",
   "execution_count": 17,
   "metadata": {},
   "outputs": [],
   "source": [
    "import os\n",
    "import cv2\n",
    "import json"
   ]
  },
  {
   "cell_type": "code",
   "execution_count": 18,
   "metadata": {},
   "outputs": [],
   "source": [
    "p3225_file_path = {\n",
    "    \"first level\" : [\"Final\"],\n",
    "    \"second level\" : [\"Arun\"],\n",
    "    \"third level\" : [2, 3],\n",
    "    \"fourth level\" : { \"B\": \"With Blankets\",\n",
    "                        \"WOB\": \"Without Blankets\"}, \n",
    "    \"fifth level\" : {\"H\" : \"Hold Breath\",\n",
    "                    \"R\": \"Relaxed\"} \n",
    "}\n",
    "\n",
    "fur_file_path = {\n",
    "    \"first level\" : None,\n",
    "    \"second level\" : [1],\n",
    "    \"third level\" : [2, 3],\n",
    "    \"fourth level\" : { \"H\": \"Hold Breath\",\n",
    "                        \"R\": \"Relaxed\"}, \n",
    "    \"fifth level\" : { \"B\": \"With Blankets\",\n",
    "                        \"WOB\": \"Without Blankets\"} \n",
    "}"
   ]
  },
  {
   "attachments": {},
   "cell_type": "markdown",
   "metadata": {},
   "source": [
    "Solution:\n",
    "1) concatenate all possible filepaths\n",
    "2) get all mp4 files and filter out unwanted files using regex\n",
    "\n",
    "Workflows:\n",
    "<br>\n",
    "- A function to check for folder structure\n",
    "<br>\n",
    "- Manually check each folder for missing videos, keep record of results\n",
    "<br>\n",
    "- One function to find all mp4 files\n",
    "<br>\n",
    "- One function to check to convert all mp4 files into frames (linspace to pick out frames)\n",
    "<br>\n",
    "- zip frames folder to save space\n",
    "\n",
    "Notes:\n",
    "- checked the file you sent and it looks like you did something similar"
   ]
  },
  {
   "attachments": {},
   "cell_type": "markdown",
   "metadata": {},
   "source": [
    "Studying Video Properties:\n",
    "- using media play, video length = 7s and frame rate = 18.563"
   ]
  },
  {
   "cell_type": "code",
   "execution_count": 19,
   "metadata": {},
   "outputs": [],
   "source": [
    "\"\"\"\n",
    "    A function to convert mp4 files to frames\n",
    "    video length = 7s\n",
    "    frame rate = 18.563\n",
    "\"\"\"\n",
    "\n",
    "def convert_mp4_to_frames(mp4_file:str, output_dir:str):\n",
    "    video = cv2.VideoCapture(mp4_file)\n",
    "    os.makedirs(output_dir, exist_ok=True)\n",
    "    frame_count = 0\n",
    "    not_end_of_vid = True\n",
    "\n",
    "    while not_end_of_vid:\n",
    "        ret, frame = video.read()\n",
    "        \n",
    "        if not ret:\n",
    "            not_end_of_vid = False\n",
    "            break\n",
    "\n",
    "        frame_file = os.path.join(output_dir, f\"frame{frame_count:05d}.jpg\")\n",
    "        cv2.imwrite(frame_file, frame)\n",
    "        frame_count += 1\n",
    "\n",
    "    video.release()\n",
    "\n",
    "    print(f\"Conversion complete: {frame_count} frames saved in {output_dir}\")"
   ]
  },
  {
   "cell_type": "code",
   "execution_count": 22,
   "metadata": {},
   "outputs": [],
   "source": [
    "\"\"\"\n",
    "    display video properties using opencv\n",
    "\"\"\"\n",
    "\n",
    "def get_video_properties(mp4_file: str) -> dict:\n",
    "    video_properties = {}\n",
    "    video = cv2.VideoCapture(mp4_file)\n",
    "    old_fps = int(video.get(cv2.CAP_PROP_FPS))\n",
    "    number_of_frames = int(video.get(cv2.CAP_PROP_FRAME_COUNT))\n",
    "\n",
    "    video_properties[\"old fps\"] = old_fps\n",
    "    video_properties[\"frames\"] = number_of_frames\n",
    "\n",
    "\n",
    "    return video_properties"
   ]
  },
  {
   "cell_type": "code",
   "execution_count": 23,
   "metadata": {},
   "outputs": [
    {
     "name": "stdout",
     "output_type": "stream",
     "text": [
      "{\n",
      "  \"old fps\": 18,\n",
      "  \"frames\": 143\n",
      "}\n"
     ]
    }
   ],
   "source": [
    "\"\"\" Sample Usage of functions (main function) \"\"\"\n",
    "mp4_file = \"./DI_CAMERA_P3225/Final/Arun/2 Meters/With Blankets/Breathed/Arun2.mp4\"\n",
    "output_directory = \"./DI_CAMERA_P3225/Final/Arun/2 Meters/With Blankets/Breathed/frames\"\n",
    "\n",
    "# convert_mp4_to_frames(input_file, output_directory)\n",
    "video_properties = get_video_properties(mp4_file)\n",
    "video_properties_json = json.dumps(video_properties, indent=2)\n",
    "print(video_properties_json)"
   ]
  }
 ],
 "metadata": {
  "kernelspec": {
   "display_name": "Python 3",
   "language": "python",
   "name": "python3"
  },
  "language_info": {
   "codemirror_mode": {
    "name": "ipython",
    "version": 3
   },
   "file_extension": ".py",
   "mimetype": "text/x-python",
   "name": "python",
   "nbconvert_exporter": "python",
   "pygments_lexer": "ipython3",
   "version": "3.10.9"
  },
  "orig_nbformat": 4
 },
 "nbformat": 4,
 "nbformat_minor": 2
}
