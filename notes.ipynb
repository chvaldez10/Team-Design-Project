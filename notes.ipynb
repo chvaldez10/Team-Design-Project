{
 "cells": [
  {
   "attachments": {},
   "cell_type": "markdown",
   "metadata": {},
   "source": [
    "1st stage:\n",
    "1) get mp4/avi filenames and save in log files (done)\n",
    "2) create containers for \"metadata\" (done)\n",
    "3) rename mp4/avi filenames to a common convention (not a priority)\n",
    "4) track and cleanup png files (manual)\n",
    "\n",
    "Workflows:\n",
    "- filter unwanted filenames\n",
    "- store information in logs, JSON, xlsx files\n",
    "- manually check ambiguous cases\n",
    "- rename avi/mp4 files to desired convention\n",
    "- delete \"Copy\" files\n",
    "\n",
    "Notes:\n",
    "<br>\n",
    "RGB filename convention: <ins>DI_centre_structured\\DI_CAMERA_P3225\\Final\\[Patient Name]\\[distance]\\[blanket]\\[breathing]\\frames_[video name]</ins>\n",
    "<br>\n",
    "<br>\n",
    "Thermal filename convention : <ins>DI_centre_structured\\DI_THERMAL_FLIR\\[Patient Number]\\[distance]\\[breathing]\\[blanket]\\frames_[video name]</ins>"
   ]
  },
  {
   "attachments": {},
   "cell_type": "markdown",
   "metadata": {},
   "source": [
    "2nd stage:\n",
    "1) get metadata (done)\n",
    "2) export information in xlsx file (done) \n",
    "\n",
    "Workflows:\n",
    "- ensure that tags represent the correct files\n",
    "- interpolate and extrapolate data\n",
    "- decide on a common frame"
   ]
  },
  {
   "attachments": {},
   "cell_type": "markdown",
   "metadata": {},
   "source": [
    "3nd stage:\n",
    "1) video to frames (in progress)\n",
    "2) pick out an \"even x\" amount of jpg files in the folder (done)\n",
    "3) create synthetic frames or duplicate frames (in progress)\n",
    "\n",
    "Workflows:\n",
    "- convert all mp4 files into frames\n",
    "- pick out upper and lower frames\n",
    "- avoid any memory allocation issues\n",
    "- duplicate frames"
   ]
  },
  {
   "attachments": {},
   "cell_type": "markdown",
   "metadata": {},
   "source": [
    "4th stage:\n",
    "1) automate manual tasks\n",
    "\n",
    "Workflows:\n",
    "- track changes in metadata"
   ]
  },
  {
   "attachments": {},
   "cell_type": "markdown",
   "metadata": {},
   "source": [
    "Updates:\n",
    "    - code cleanup and bug fix\n",
    "\n",
    "Context:\n",
    "- If a video has a time of 7.7031548 seconds and 143 frames (where 138-143 corrupted), script, will look for missing frames.\n",
    "- There was a bug on my end where the script was not counting properly and so the script was looking for more frames than wanted.\n",
    "\n",
    "Extra notes:\n",
    "- If the script is going to look for more frames, then it might be better to re sample instead of changing metadata based on \"true frames\".\n",
    "  - For example, let's say we're sampling for frames [0, 1, 2, 3] but we only have frames [0, 1] because [2, 3] is corrupted and read the end of file. Then the script would sample sample for [0, 0, 1, 1] instead.\n",
    "- I can't think of a scenario where this would happen because the script only loops if there is a full set (7.7031548s gets floored to 7s)\n",
    "\n",
    "Questions:\n",
    "- I* am not too sure how to limit CPU usage. At times, it would use all 8 cores when reading a video file.\n",
    "- Do I need to check for corrupted frames?\n",
    "- Next steps"
   ]
  }
 ],
 "metadata": {
  "language_info": {
   "name": "python"
  },
  "orig_nbformat": 4
 },
 "nbformat": 4,
 "nbformat_minor": 2
}
