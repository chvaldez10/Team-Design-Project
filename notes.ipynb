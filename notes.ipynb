{
 "cells": [
  {
   "attachments": {},
   "cell_type": "markdown",
   "metadata": {},
   "source": [
    "1st stage:\n",
    "1) get mp4/avi filenames and save in log files (done)\n",
    "2) create containers for \"metadata\" (done)\n",
    "3) rename mp4/avi filenames to a common convention\n",
    "4) track and cleanup png files (manual)\n",
    "\n",
    "Workflows:\n",
    "- filter unwanted filenames\n",
    "- store information in log or JSON files\n",
    "- manually check ambiguous cases\n",
    "- rename avi/mp4 files to desired convention\n",
    "- delete \"Copy\" files\n",
    "\n",
    "Notes:\n",
    "<br>\n",
    "RGB filename convention : TBD\n",
    "<br>\n",
    "Thermal filename convention : TBD"
   ]
  },
  {
   "attachments": {},
   "cell_type": "markdown",
   "metadata": {},
   "source": [
    "2nd stage:\n",
    "1) get metadata (done)\n",
    "2) export information in xlsx file \n",
    "3) edit videos so that frame rates are a decimal value\n",
    "\n",
    "Workflows:\n",
    "- ensure that tags represent the correct files\n",
    "- interpolate and extrapolate data\n",
    "- decide on a common frame\n"
   ]
  },
  {
   "attachments": {},
   "cell_type": "markdown",
   "metadata": {},
   "source": [
    "3nd stage:\n",
    "1) turn all mp4/avi files to jpg using opencv\n",
    "2) pick out an \"even x\" amount of jpg files in the folder\n",
    "\n",
    "Workflows:\n",
    "- convert all mp4 files into frames\n",
    "- Pick out desired frames\n",
    "- avoid any memory allocation issues"
   ]
  },
  {
   "attachments": {},
   "cell_type": "markdown",
   "metadata": {},
   "source": [
    "4th stage:\n",
    "1) automate manual tasks\n",
    "\n",
    "Workflows:\n",
    "- track changes in metadata"
   ]
  },
  {
   "attachments": {},
   "cell_type": "markdown",
   "metadata": {},
   "source": [
    "Extra Notes:\n",
    "- metadata don't match, need to resolve this issue"
   ]
  }
 ],
 "metadata": {
  "language_info": {
   "name": "python"
  },
  "orig_nbformat": 4
 },
 "nbformat": 4,
 "nbformat_minor": 2
}
