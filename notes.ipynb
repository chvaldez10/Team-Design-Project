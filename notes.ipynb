{
 "cells": [
  {
   "attachments": {},
   "cell_type": "markdown",
   "metadata": {},
   "source": [
    "1st stage:\n",
    "1) get mp4/avi filenames and save in log files (done)\n",
    "2) create containers for \"metadata\" (done)\n",
    "3) rename mp4/avi filenames to a common convention (not a priority)\n",
    "4) track and cleanup png files (manual)\n",
    "\n",
    "Workflows:\n",
    "- filter unwanted filenames\n",
    "- store information in logs, JSON, xlsx files\n",
    "- manually check ambiguous cases\n",
    "- rename avi/mp4 files to desired convention\n",
    "- delete \"Copy\" files\n",
    "\n",
    "Notes:\n",
    "<br>\n",
    "RGB filename convention: <ins>DI_centre_structured\\DI_CAMERA_P3225\\Final\\[Patient Name]\\[distance]\\[blanket]\\[breathing]\\frames_[video name]</ins>\n",
    "<br>\n",
    "<br>\n",
    "Thermal filename convention : <ins>DI_centre_structured\\DI_THERMAL_FLIR\\[Patient Number]\\[distance]\\[breathing]\\[blanket]\\frames_[video name]</ins>"
   ]
  },
  {
   "attachments": {},
   "cell_type": "markdown",
   "metadata": {},
   "source": [
    "2nd stage:\n",
    "1) get metadata (done)\n",
    "2) export information in xlsx file (done) \n",
    "\n",
    "Workflows:\n",
    "- ensure that tags represent the correct files\n",
    "- interpolate and extrapolate data\n",
    "- decide on a common frame"
   ]
  },
  {
   "attachments": {},
   "cell_type": "markdown",
   "metadata": {},
   "source": [
    "3nd stage:\n",
    "1) video to frames (in progress)\n",
    "2) pick out an \"even x\" amount of jpg files in the folder (done)\n",
    "3) create synthetic frames or duplicate frames (in progress)\n",
    "\n",
    "Workflows:\n",
    "- convert all mp4 files into frames\n",
    "- pick out upper and lower frames\n",
    "- avoid any memory allocation issues\n",
    "- duplicate frames"
   ]
  },
  {
   "attachments": {},
   "cell_type": "markdown",
   "metadata": {},
   "source": [
    "4th stage:\n",
    "1) automate manual tasks\n",
    "\n",
    "Workflows:\n",
    "- track changes in metadata"
   ]
  },
  {
   "attachments": {},
   "cell_type": "markdown",
   "metadata": {},
   "source": [
    "Updates to files:\n",
    "- rgb: change to Illia2\n",
    "- moved the following files to parent parent folder 14\n",
    "  - E:/Christian/DI_centre_structured/DI_THERMAL_FLIR//14\\14_1\\2 meters\\R\\14_relaxed_blanked_2me-12222022162724.avi\n",
    "  - E:/Christian/DI_centre_structured/DI_THERMAL_FLIR//14\\14_1\\2 meters\\R\\14_relaxed_wob_2me-12222022162257.avi\n",
    "- uninstall newest version of opencv\n",
    "  - use pip install opencv-python==4.7.0.72  "
   ]
  }
 ],
 "metadata": {
  "kernelspec": {
   "display_name": "Python 3.11.4 64-bit",
   "language": "python",
   "name": "python3"
  },
  "language_info": {
   "name": "python",
   "version": "3.11.4"
  },
  "orig_nbformat": 4,
  "vscode": {
   "interpreter": {
    "hash": "e7228a7137a92e95012bf2be7e7bd4e027e828c700167ca5a0671652a2d91aff"
   }
  }
 },
 "nbformat": 4,
 "nbformat_minor": 2
}
